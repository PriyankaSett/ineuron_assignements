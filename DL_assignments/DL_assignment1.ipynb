{
 "cells": [
  {
   "cell_type": "markdown",
   "id": "776ea173",
   "metadata": {},
   "source": [
    "##  \n",
    "\n",
    "\n",
    "Objective: - Predict Next Sequence\n",
    "To start with deep learning, the very basic project that you can build is to\n",
    "predict the next digit in a sequence.\n",
    "\n",
    "Dataset: - Create a sequence like a list of odd numbers and then build a model\n",
    "and train it to predict the next digit in the sequence.\n",
    "\n",
    "Task: - A simple neural network with 2 layers would be sufficient to build the\n",
    "model.\n",
    "\n",
    "Assignment Submission: - Only submit the Google Colab/Github link.(Make the\n",
    "Link Public).\n",
    "\n"
   ]
  },
  {
   "cell_type": "code",
   "execution_count": 1,
   "id": "e506f736",
   "metadata": {},
   "outputs": [],
   "source": [
    "import numpy as np\n",
    "from tensorflow import keras\n",
    "from tensorflow.keras.models import Sequential\n",
    "from tensorflow.keras.layers import Dense"
   ]
  },
  {
   "cell_type": "code",
   "execution_count": 2,
   "id": "ad3107f2",
   "metadata": {},
   "outputs": [],
   "source": [
    "num_list = list()\n",
    "\n",
    "\n",
    "for i in range(1,10000): \n",
    "    if i%2 != 0: \n",
    "        num_list.append(i)\n",
    "#print(num_list)        "
   ]
  },
  {
   "cell_type": "code",
   "execution_count": 3,
   "id": "fc5d319a",
   "metadata": {},
   "outputs": [],
   "source": [
    "Num_list = np.array(num_list)"
   ]
  },
  {
   "cell_type": "code",
   "execution_count": 4,
   "id": "89568aa6",
   "metadata": {},
   "outputs": [
    {
     "name": "stdout",
     "output_type": "stream",
     "text": [
      "[   1    3    5 ... 9995 9997 9999]\n"
     ]
    }
   ],
   "source": [
    "print(Num_list)"
   ]
  },
  {
   "cell_type": "code",
   "execution_count": 5,
   "id": "17f1015a",
   "metadata": {},
   "outputs": [],
   "source": [
    "X = Num_list[:-1]\n",
    "y = Num_list[1:]"
   ]
  },
  {
   "cell_type": "code",
   "execution_count": 6,
   "id": "7ad06b56",
   "metadata": {},
   "outputs": [
    {
     "data": {
      "text/plain": [
       "4999"
      ]
     },
     "execution_count": 6,
     "metadata": {},
     "output_type": "execute_result"
    }
   ],
   "source": [
    "len(X)"
   ]
  },
  {
   "cell_type": "code",
   "execution_count": 7,
   "id": "dff0453a",
   "metadata": {},
   "outputs": [],
   "source": [
    "from sklearn.model_selection import train_test_split"
   ]
  },
  {
   "cell_type": "code",
   "execution_count": 8,
   "id": "0a6cafbe",
   "metadata": {},
   "outputs": [],
   "source": [
    "X_train, X_test, y_train, y_test = train_test_split(X,y, test_size=0.2, random_state=42)"
   ]
  },
  {
   "cell_type": "code",
   "execution_count": 9,
   "id": "9747eb68",
   "metadata": {},
   "outputs": [
    {
     "name": "stdout",
     "output_type": "stream",
     "text": [
      "3999\n",
      "1000\n"
     ]
    }
   ],
   "source": [
    "print(len(X_train))\n",
    "print(len(X_test))"
   ]
  },
  {
   "cell_type": "code",
   "execution_count": 10,
   "id": "0de932b1",
   "metadata": {},
   "outputs": [],
   "source": [
    "# Define the model\n",
    "\n",
    "model = Sequential()\n",
    "model.add(Dense(128, input_dim=1, activation = 'relu'))\n",
    "model.add(Dense(64, activation = 'relu'))\n",
    "model.add(Dense(1))\n",
    "model.compile(loss='mean_squared_error', \n",
    "              optimizer='adam')"
   ]
  },
  {
   "cell_type": "code",
   "execution_count": 11,
   "id": "dbbbca17",
   "metadata": {},
   "outputs": [
    {
     "name": "stdout",
     "output_type": "stream",
     "text": [
      "Model: \"sequential\"\n",
      "_________________________________________________________________\n",
      " Layer (type)                Output Shape              Param #   \n",
      "=================================================================\n",
      " dense (Dense)               (None, 128)               256       \n",
      "                                                                 \n",
      " dense_1 (Dense)             (None, 64)                8256      \n",
      "                                                                 \n",
      " dense_2 (Dense)             (None, 1)                 65        \n",
      "                                                                 \n",
      "=================================================================\n",
      "Total params: 8,577\n",
      "Trainable params: 8,577\n",
      "Non-trainable params: 0\n",
      "_________________________________________________________________\n"
     ]
    }
   ],
   "source": [
    "model.summary()"
   ]
  },
  {
   "cell_type": "code",
   "execution_count": 12,
   "id": "e35bcb0d",
   "metadata": {},
   "outputs": [
    {
     "data": {
      "text/plain": [
       "<keras.callbacks.History at 0x7f0c9c1b9d90>"
      ]
     },
     "execution_count": 12,
     "metadata": {},
     "output_type": "execute_result"
    }
   ],
   "source": [
    "# Fit the model to the data\n",
    "\n",
    "model.fit(X_train, y_train, epochs=1000, verbose=0, validation_data=(X_test, y_test))"
   ]
  },
  {
   "cell_type": "code",
   "execution_count": 13,
   "id": "89bec043",
   "metadata": {},
   "outputs": [],
   "source": [
    "def get_next_number(): \n",
    "    num = int(input())\n",
    "    x_test = np.array(num)\n",
    "    x_test = x_test.reshape((1, 1))\n",
    "    y_pred = model.predict(x_test)\n",
    "    y_pred = y_pred[0][0]\n",
    "    y_pred_r = np.round(y_pred, 3)\n",
    "    return np.round(y_pred_r,2)"
   ]
  },
  {
   "cell_type": "code",
   "execution_count": 14,
   "id": "c787d9ee",
   "metadata": {},
   "outputs": [
    {
     "name": "stdout",
     "output_type": "stream",
     "text": [
      "Enter the Number\n",
      "75\n",
      "1/1 [==============================] - 0s 82ms/step\n",
      "Next number in sequence is : 77.0\n"
     ]
    }
   ],
   "source": [
    "print('Enter the Number')\n",
    "\n",
    "print(f'Next number in sequence is : {get_next_number()}')"
   ]
  },
  {
   "cell_type": "code",
   "execution_count": 15,
   "id": "afbf764e",
   "metadata": {},
   "outputs": [
    {
     "name": "stdout",
     "output_type": "stream",
     "text": [
      "Enter the Number\n",
      "989\n",
      "1/1 [==============================] - 0s 20ms/step\n",
      "Next number in sequence is : 991.0\n"
     ]
    }
   ],
   "source": [
    "print('Enter the Number')\n",
    "\n",
    "print(f'Next number in sequence is : {get_next_number()}')"
   ]
  },
  {
   "cell_type": "code",
   "execution_count": 16,
   "id": "7ce8ca14",
   "metadata": {},
   "outputs": [
    {
     "name": "stdout",
     "output_type": "stream",
     "text": [
      "Enter the Number\n",
      "10235\n",
      "1/1 [==============================] - 0s 20ms/step\n",
      "Next number in sequence is : 10237.0\n"
     ]
    }
   ],
   "source": [
    "print('Enter the Number')\n",
    "\n",
    "print(f'Next number in sequence is : {get_next_number()}')"
   ]
  },
  {
   "cell_type": "code",
   "execution_count": 17,
   "id": "b4d912f7",
   "metadata": {},
   "outputs": [
    {
     "name": "stdout",
     "output_type": "stream",
     "text": [
      "Enter the Number\n",
      "237851\n",
      "1/1 [==============================] - 0s 19ms/step\n",
      "Next number in sequence is : 237853.0625\n"
     ]
    }
   ],
   "source": [
    "print('Enter the Number')\n",
    "\n",
    "print(f'Next number in sequence is : {get_next_number()}')"
   ]
  },
  {
   "cell_type": "code",
   "execution_count": 18,
   "id": "2499fd87",
   "metadata": {},
   "outputs": [
    {
     "name": "stdout",
     "output_type": "stream",
     "text": [
      "Enter the Number\n",
      "1789651\n",
      "1/1 [==============================] - 0s 19ms/step\n",
      "Next number in sequence is : 1789653.625\n"
     ]
    }
   ],
   "source": [
    "print('Enter the Number')\n",
    "\n",
    "print(f'Next number in sequence is : {get_next_number()}')"
   ]
  },
  {
   "cell_type": "markdown",
   "id": "d7d0444e",
   "metadata": {},
   "source": [
    "##  \n",
    "\n",
    "**Comments :** \n",
    "\n",
    "- The number of nodes for each layer is obtained by trial and error. \n",
    "\n",
    "- The number of epochs has been also found by trial and error. It was observed that if we train the model with more epochs, the prediction for numbers beyond 10000 is somewhat ok. Otherwise, if the testing data is chosen beyond the training sample, predictions are not good. One can do it on their own and check for themselves. \n",
    "\n",
    "- If anyone has a better solution, they are most welcome to share it with us. "
   ]
  },
  {
   "cell_type": "code",
   "execution_count": null,
   "id": "f1eeaec9",
   "metadata": {},
   "outputs": [],
   "source": []
  }
 ],
 "metadata": {
  "kernelspec": {
   "display_name": "Python 3",
   "language": "python",
   "name": "python3"
  },
  "language_info": {
   "codemirror_mode": {
    "name": "ipython",
    "version": 3
   },
   "file_extension": ".py",
   "mimetype": "text/x-python",
   "name": "python",
   "nbconvert_exporter": "python",
   "pygments_lexer": "ipython3",
   "version": "3.8.8"
  }
 },
 "nbformat": 4,
 "nbformat_minor": 5
}
