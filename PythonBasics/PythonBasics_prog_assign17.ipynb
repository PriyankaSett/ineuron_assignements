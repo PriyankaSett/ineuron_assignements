{
 "cells": [
  {
   "cell_type": "markdown",
   "id": "0aeb615d",
   "metadata": {},
   "source": [
    "## Python Basics - Programming Assignment 17"
   ]
  },
  {
   "cell_type": "markdown",
   "id": "f2a04e40",
   "metadata": {},
   "source": [
    "Question1. Create a function that takes three arguments a, b, c and returns the sum of the\n",
    "numbers that are evenly divided by c from the range a, b inclusive.\n",
    "Examples  \n",
    "evenly_divisible(1, 10, 20) ➞ 0  \n",
    " No number between 1 and 10 can be evenly divided by 20.  \n",
    "evenly_divisible(1, 10, 2) ➞ 30  \n",
    " 2 + 4 + 6 + 8 + 10 = 30  \n",
    "evenly_divisible(1, 10, 3) ➞ 18  \n",
    " 3 + 6 + 9 = 18  "
   ]
  },
  {
   "cell_type": "code",
   "execution_count": 1,
   "id": "f7f0b1a6",
   "metadata": {},
   "outputs": [
    {
     "name": "stdout",
     "output_type": "stream",
     "text": [
      "Enter the first number \"a\" : 1\n",
      "Enter the second number \"b\" :10\n",
      "Enter the third number \"c\" :2\n",
      "Sum of numbers in the range  1 - 10 which are divided by 2 : 30 \n"
     ]
    }
   ],
   "source": [
    "def evenly_divisible(a,b,c) :\n",
    "    \"\"\"\n",
    "    This function that takes three arguments a, b, c and returns the sum of the numbers that are evenly divided by c from the range a, b inclusive. Examples\n",
    "    evenly_divisible(1, 10, 2) ➞ 30\n",
    "    2 + 4 + 6 + 8 + 10 = 30\n",
    "    \n",
    "    \"\"\"\n",
    "    sum1 = 0\n",
    "    for i in range(a,b+1) :\n",
    "        if(i%c == 0) : \n",
    "            #print(i)\n",
    "            sum1 = sum1 + i\n",
    "    return sum1\n",
    "        \n",
    "    return 0\n",
    "\n",
    "\n",
    "a = int(input('Enter the first number \"a\" : '))\n",
    "b = int(input('Enter the second number \"b\" :'))\n",
    "c = int(input('Enter the third number \"c\" :'))\n",
    "\n",
    "evdiv = evenly_divisible(a,b,c)\n",
    "print(f'Sum of numbers in the range  {a} - {b} which are divided by {c} : {evdiv} ')"
   ]
  },
  {
   "cell_type": "markdown",
   "id": "ca44c04a",
   "metadata": {},
   "source": [
    "\n",
    "Question2. Create a function that returns True if a given inequality expression is correct and\n",
    "False otherwise.  \n",
    "Examples  \n",
    "correct_signs(&quot;3 &lt; 7 &lt; 11&quot;) ➞ True  \n",
    "correct_signs(&quot;13 &gt; 44 &gt; 33 &gt; 1&quot;) ➞ False  \n",
    "correct_signs(&quot;1 &lt; 2 &lt; 6 &lt; 9 &gt; 3&quot;) ➞ True  "
   ]
  },
  {
   "cell_type": "code",
   "execution_count": 2,
   "id": "a9cf65c8",
   "metadata": {},
   "outputs": [
    {
     "name": "stdout",
     "output_type": "stream",
     "text": [
      "The string 13>44>33>1 is False. \n"
     ]
    }
   ],
   "source": [
    "def eval_expression(instring): \n",
    "    ex = eval(instring)\n",
    "    return ex\n",
    "\n",
    "exstring = '13>44>33>1'\n",
    "print(f'The string {exstring} is {eval_expression(exstring)}. ')"
   ]
  },
  {
   "cell_type": "markdown",
   "id": "336f75aa",
   "metadata": {},
   "source": [
    "\n",
    "Question3. Create a function that replaces all the vowels in a string with a specified character.\n",
    "Examples  \n",
    "replace_vowels(&quot;the aardvark&quot;, &quot;#&quot;) ➞ &quot;th# ##rdv#rk&quot;  \n",
    "replace_vowels(&quot;minnie mouse&quot;, &quot;?&quot;) ➞ &quot;m?nn?? m??s?&quot;  \n",
    "replace_vowels(&quot;shakespeare&quot;, &quot;*&quot;) ➞ &quot; sh * k * sp * * r * &quot;  "
   ]
  },
  {
   "cell_type": "code",
   "execution_count": 3,
   "id": "9f908ca5",
   "metadata": {},
   "outputs": [
    {
     "name": "stdout",
     "output_type": "stream",
     "text": [
      "th# ##rdv#rk\n"
     ]
    }
   ],
   "source": [
    "def replace_vowels(str1, char1) :\n",
    "    \"\"\"\n",
    "    This function replaces vowels in a string. \n",
    "    \"\"\"\n",
    "    \n",
    "    vowels = 'aeiou'\n",
    "    for ele in vowels: \n",
    "        if ele in str1:\n",
    "            #print(ele)\n",
    "            str2 =  str1.replace(ele, char1)        \n",
    "            str1 = str2\n",
    "    return str2\n",
    "\n",
    "\n",
    "\n",
    "sent = 'the aardvark'\n",
    "print(replace_vowels(sent, '#'))"
   ]
  },
  {
   "cell_type": "markdown",
   "id": "66ce53a3",
   "metadata": {},
   "source": [
    "Question4. Write a function that calculates the factorial of a number recursively.\n",
    "Examples \n",
    "factorial(5) ➞ 120    \n",
    "factorial(3) ➞ 6  \n",
    "factorial(1) ➞ 1   \n",
    "factorial(0) ➞ 1   "
   ]
  },
  {
   "cell_type": "code",
   "execution_count": 4,
   "id": "2e76c8d5",
   "metadata": {},
   "outputs": [
    {
     "name": "stdout",
     "output_type": "stream",
     "text": [
      "Enter the number : 6\n",
      "Factorial of 6 : 720\n"
     ]
    }
   ],
   "source": [
    "def factorial_recursive(n) : \n",
    "    \"\"\"\n",
    "    Finding factorial using recursive method    \n",
    "    \"\"\"\n",
    "\n",
    "    if n == 0 or n == 1 : \n",
    "        return n\n",
    "        \n",
    "    else : \n",
    "        return n*factorial_recursive(n-1)    \n",
    "        \n",
    "        \n",
    "num1 = int(input('Enter the number : '))\n",
    "print(f'Factorial of {num1} : {factorial_recursive(num1)}')"
   ]
  },
  {
   "cell_type": "markdown",
   "id": "3a4866da",
   "metadata": {},
   "source": [
    "Question 5.\n",
    "Hamming distance is the number of characters that differ between two strings.\n",
    "To illustrate:  \n",
    "String1: &quot;abcbba&quot;  \n",
    "String2: &quot;abcbda&quot;    \n",
    "Hamming Distance: 1 - &quot;b&quot; vs. &quot;d&quot; is the only difference.  \n",
    "Create a function that computes the hamming distance between two strings.  \n",
    "Examples  \n",
    "hamming_distance(&quot;abcde&quot;, &quot;bcdef&quot;) ➞ 5  \n",
    "hamming_distance(&quot;abcde&quot;, &quot;abcde&quot;) ➞ 0  \n",
    "hamming_distance(&quot;strong&quot;,&quot;strung&quot;) ➞ 1  \n",
    "   "
   ]
  },
  {
   "cell_type": "code",
   "execution_count": 5,
   "id": "1bb1a93d",
   "metadata": {},
   "outputs": [
    {
     "name": "stdout",
     "output_type": "stream",
     "text": [
      "Hamming distance for the strings \"abcde\" and \"bcdef\" is : 5\n"
     ]
    }
   ],
   "source": [
    "def hamming_distance(str1, str2) : \n",
    "    \"\"\"\n",
    "    This function calculates hamming distance. \n",
    "    \"\"\"\n",
    "    \n",
    "    if len(str1)!=len(str2):\n",
    "        print('The strings have unequal length. Please enter strings of same length')\n",
    "    else :\n",
    "        countn = 0 \n",
    "\n",
    "        for i in range(0, len(str1)): \n",
    "            if str1[i] != str2[i] :\n",
    "                countn = countn + 1\n",
    "    return countn\n",
    "\n",
    "\n",
    "\n",
    "str1 = 'abcde'\n",
    "str2 = 'bcdef'\n",
    "\n",
    "print(f'Hamming distance for the strings \"{str1}\" and \"{str2}\" is : {hamming_distance(str1, str2)}')        \n",
    "\n"
   ]
  },
  {
   "cell_type": "markdown",
   "id": "078350a3",
   "metadata": {},
   "source": []
  },
  {
   "cell_type": "code",
   "execution_count": null,
   "id": "2fbfdfd5",
   "metadata": {},
   "outputs": [],
   "source": []
  }
 ],
 "metadata": {
  "kernelspec": {
   "display_name": "Python 3",
   "language": "python",
   "name": "python3"
  },
  "language_info": {
   "codemirror_mode": {
    "name": "ipython",
    "version": 3
   },
   "file_extension": ".py",
   "mimetype": "text/x-python",
   "name": "python",
   "nbconvert_exporter": "python",
   "pygments_lexer": "ipython3",
   "version": "3.8.8"
  }
 },
 "nbformat": 4,
 "nbformat_minor": 5
}
