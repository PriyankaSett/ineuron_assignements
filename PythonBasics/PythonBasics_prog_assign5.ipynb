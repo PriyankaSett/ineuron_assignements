{
 "cells": [
  {
   "cell_type": "markdown",
   "id": "8ab8d697",
   "metadata": {},
   "source": [
    "## Python Basics - Progamming Assignment 5"
   ]
  },
  {
   "cell_type": "markdown",
   "id": "1d0b6571",
   "metadata": {},
   "source": [
    "1. Write a Python Program to Find LCM?"
   ]
  },
  {
   "cell_type": "code",
   "execution_count": 1,
   "id": "f19bab08",
   "metadata": {},
   "outputs": [
    {
     "name": "stdout",
     "output_type": "stream",
     "text": [
      "For how many values you want to calculate the lcm?  3\n",
      "Enter the values one by one: 45\n",
      "Enter the values one by one: 90\n",
      "Enter the values one by one: 105\n",
      "LCM for [45, 90, 105] : 630.0\n"
     ]
    }
   ],
   "source": [
    "import math\n",
    "\n",
    "def hcf(lcmlist) : \n",
    "    divlist=list()\n",
    "    for num in range(1, lcmlist[0]+1) :\n",
    "        arr2 = [i%num for i in lcmlist]\n",
    "        if all(item == 0 for item in arr2):\n",
    "            divlist.append(num)\n",
    "            #print(divlist)\n",
    "            #print(f'HCF of {hcflist} : {divlist[-1]}')    \n",
    "      \n",
    "    return divlist[-1]\n",
    "#-------------------------------------------------------------------------------------------\n",
    "\n",
    "\n",
    "lcmlist = list()\n",
    "lcmin = int(input('For how many values you want to calculate the lcm?  '))\n",
    "\n",
    "for numb in range(0, lcmin) :\n",
    "    lcmin = int(input('Enter the values one by one: '))\n",
    "    lcmlist.append(lcmin)\n",
    "    \n",
    "lcmlist = sorted(lcmlist)    \n",
    "lenlcm = len(lcmlist)\n",
    "\n",
    "\n",
    "prod_arr1 = math.prod(lcmlist)\n",
    "#print(prod_arr1)\n",
    "\n",
    "prod2 = 1\n",
    "for i in range(0, len(lcmlist)) :\n",
    "    if i < (len(lcmlist) - 1 ):\n",
    "        prod2 = prod2 * hcf(lcmlist[i:i+2])\n",
    "        #print(lcmlist[i:i+2])\n",
    "        #print(f'prod2 :{prod2}')\n",
    "    else : \n",
    "        prod2 = prod2 * hcf([lcmlist[0], lcmlist[-1]])\n",
    "        #print([lcmlist[0], lcmlist[-1]])\n",
    "        #print(f'prod2 :{prod2}')\n",
    "\n",
    "        \n",
    "        \n",
    "hcf2 = hcf(lcmlist)\n",
    "#print(hcf2)\n",
    "        \n",
    "\n",
    "lcm = (prod_arr1 * hcf2)/(prod2)\n",
    "lcm\n",
    "\n",
    "print(f'LCM for {lcmlist} : {lcm}')\n",
    "#print('---------------')\n",
    "#print(prod_arr1, hcf2, prod2)"
   ]
  },
  {
   "cell_type": "markdown",
   "id": "92176aa4",
   "metadata": {},
   "source": [
    "2. Write a Python Program to Find HCF?"
   ]
  },
  {
   "cell_type": "code",
   "execution_count": 2,
   "id": "09b6f846",
   "metadata": {},
   "outputs": [
    {
     "name": "stdout",
     "output_type": "stream",
     "text": [
      "For how many values you want to calculate the hcf?  3\n",
      "Enter the values one by one: 45\n",
      "Enter the values one by one: 90\n",
      "Enter the values one by one: 105\n",
      "HCF of [45, 90, 105] : 15\n"
     ]
    }
   ],
   "source": [
    "hcflist = list()\n",
    "\n",
    "hn = int(input('For how many values you want to calculate the hcf?  '))\n",
    "\n",
    "for numb in range(0, hn) :\n",
    "    hcfin = int(input('Enter the values one by one: '))\n",
    "    hcflist.append(hcfin)\n",
    "    \n",
    "hcflist = sorted(hcflist)    \n",
    "\n",
    "len1 = len(hcflist)\n",
    "divlist=list()\n",
    "\n",
    "for num in range(1, hcflist[0]+1) :\n",
    "    arr2 = [i%num for i in hcflist]\n",
    "    if all(item == 0 for item in arr2):\n",
    "        divlist.append(num)\n",
    "\n",
    "#print(divlist)        \n",
    "print(f'HCF of {hcflist} : {divlist[-1]}')    "
   ]
  },
  {
   "cell_type": "markdown",
   "id": "eaa52213",
   "metadata": {},
   "source": [
    "3. Write a Python Program to Convert Decimal to Binary, Octal and Hexadecimal?\n"
   ]
  },
  {
   "cell_type": "code",
   "execution_count": 4,
   "id": "d0233fed",
   "metadata": {},
   "outputs": [
    {
     "name": "stdout",
     "output_type": "stream",
     "text": [
      "Enter decimal number : 45\n",
      "Converting decimal 45 to Binary : 0b101101\n",
      "Converting decimal 45 to Octal : 0o55\n",
      "Converting decimal 45 to Hexadecimal : 0x2d\n"
     ]
    }
   ],
   "source": [
    "deci_num = int(input('Enter decimal number : '))\n",
    "bin_num = bin(deci_num)\n",
    "print(f'Converting decimal {deci_num} to Binary : {bin_num}')\n",
    "octa_num = oct(deci_num)\n",
    "print(f'Converting decimal {deci_num} to Octal : {octa_num}')\n",
    "hex_num = hex(deci_num)\n",
    "print(f'Converting decimal {deci_num} to Hexadecimal : {hex_num}')\n"
   ]
  },
  {
   "cell_type": "markdown",
   "id": "1d86ec5d",
   "metadata": {},
   "source": [
    "4. Write a Python Program To Find ASCII value of a character?"
   ]
  },
  {
   "cell_type": "code",
   "execution_count": 5,
   "id": "51b28592",
   "metadata": {},
   "outputs": [
    {
     "name": "stdout",
     "output_type": "stream",
     "text": [
      "Enter a character : a\n",
      "The ascii value for a is : 97\n",
      "Enter a character : A\n",
      "The ascii value for A is : 65\n",
      "Enter a character : 5\n",
      "The ascii value for 5 is : 53\n"
     ]
    }
   ],
   "source": [
    "char_a = input('Enter a character : ')\n",
    "ascii_a = ord(char_a)\n",
    "print(f'The ascii value for {char_a} is : {ascii_a}')\n",
    "\n",
    "char_A = input('Enter a character : ')\n",
    "ascii_A = ord(char_A)\n",
    "print(f'The ascii value for {char_A} is : {ascii_A}')\n",
    "\n",
    "char_num = input('Enter a character : ')\n",
    "ascii_num = ord(char_num)\n",
    "print(f'The ascii value for {char_num} is : {ascii_num}')"
   ]
  },
  {
   "cell_type": "markdown",
   "id": "463a6c2a",
   "metadata": {},
   "source": [
    "5. Write a Python Program to Make a Simple Calculator with 4 basic mathematical operations?"
   ]
  },
  {
   "cell_type": "code",
   "execution_count": 6,
   "id": "57441862",
   "metadata": {},
   "outputs": [
    {
     "name": "stdout",
     "output_type": "stream",
     "text": [
      "Enter number : 4\n",
      "What you want to do ? +-*/ : +\n",
      "Enter number : 5\n",
      "Do you want to carry out any other calculation? : yes\n",
      "What you want to do ? +-*/ : *\n",
      "Enter number : 9\n",
      "Do you want to carry out any other calculation? : yes\n",
      "What you want to do ? +-*/ : /\n",
      "Enter number : 3\n",
      "Do you want to carry out any other calculation? : no\n",
      "Output is 81 / 3 = 27.0\n"
     ]
    }
   ],
   "source": [
    "def add(num1, num2) :\n",
    "    return num1+num2\n",
    "\n",
    "def sub(num1, num2) :\n",
    "    return num1-num2\n",
    "\n",
    "def mult(num1, num2) :\n",
    "    return num1*num2\n",
    "\n",
    "def divide(num1, num2) :\n",
    "    if num2 == 0 : \n",
    "        print('Please check your entry, divisor cannot be zero.')\n",
    "        return num1\n",
    "        \n",
    "    return num1/num2\n",
    "\n",
    "\n",
    "num1 = int(input('Enter number : '))\n",
    "op1 = input('What you want to do ? +-*/ : ')\n",
    "num2 = int(input('Enter number : '))\n",
    "\n",
    "decision = 'yes'\n",
    "\n",
    "while decision=='yes' : \n",
    "    if op1=='+' : \n",
    "        num3 = add(num1, num2)\n",
    "    elif op1=='-' : \n",
    "        num3 = sub(num1, num2)    \n",
    "    elif op1=='*' : \n",
    "        num3 = mult(num1, num2)\n",
    "    elif op1=='/' : \n",
    "        num3 = divide(num1, num2)\n",
    "\n",
    "    decision = input('Do you want to carry out any other calculation? : ')\n",
    "    if decision.lower()=='no' :\n",
    "        print(f'Output is {num1} {op1} {num2} = {num3}')\n",
    "        break\n",
    "       \n",
    "    else :\n",
    "        num1 = num3\n",
    "        op1 = input('What you want to do ? +-*/ : ')\n",
    "        num2 = int(input('Enter number : '))\n"
   ]
  },
  {
   "cell_type": "code",
   "execution_count": null,
   "id": "6fca081e",
   "metadata": {},
   "outputs": [],
   "source": []
  }
 ],
 "metadata": {
  "kernelspec": {
   "display_name": "Python 3",
   "language": "python",
   "name": "python3"
  },
  "language_info": {
   "codemirror_mode": {
    "name": "ipython",
    "version": 3
   },
   "file_extension": ".py",
   "mimetype": "text/x-python",
   "name": "python",
   "nbconvert_exporter": "python",
   "pygments_lexer": "ipython3",
   "version": "3.8.8"
  }
 },
 "nbformat": 4,
 "nbformat_minor": 5
}
