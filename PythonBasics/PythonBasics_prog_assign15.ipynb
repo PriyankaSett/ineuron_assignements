{
 "cells": [
  {
   "cell_type": "markdown",
   "id": "310b7f9f",
   "metadata": {},
   "source": [
    "## Python Basics - Programming Assignment 15"
   ]
  },
  {
   "cell_type": "markdown",
   "id": "241d3ed3",
   "metadata": {},
   "source": [
    "Question 1:\n",
    "Please write a program using generator to print the numbers which can be divisible by 5 and\n",
    "7 between 0 and n in comma separated form while n is input by console.\n",
    "Example:\n",
    "If the following n is given as input to the program:\n",
    "100\n",
    "Then, the output of the program should be:\n",
    "0,35,70"
   ]
  },
  {
   "cell_type": "code",
   "execution_count": 7,
   "id": "c29a3e27",
   "metadata": {},
   "outputs": [
    {
     "name": "stdout",
     "output_type": "stream",
     "text": [
      "Enter the range : 0, 100\n",
      "Numbers that are divisible by 7 in range: 0 to 100 is/are -[0, 35, 70]\n"
     ]
    }
   ],
   "source": [
    "class N_iterate_division : \n",
    "    \"\"\"\n",
    "    class with a generator which can iterate the numbers\n",
    "    which are divisible by 7 and 5, between a given range 0 and n    \n",
    "    \"\"\"\n",
    "    \n",
    "    def __init__(self, n2):\n",
    "        \"\"\"\n",
    "        initializing range\n",
    "        n2 --> end range\n",
    "        \"\"\"\n",
    "        self.n2 = n2\n",
    "        \n",
    "    \n",
    "    def checkdivby7and5(self): \n",
    "        \"\"\"\n",
    "        checking if the input number is divisible by 7 and 5\n",
    "        \"\"\"\n",
    "        divlist = list()\n",
    "        for i in range(0, self.n2) :\n",
    "            if i%7 == 0 and i%5 == 0:\n",
    "                divlist.append(i)\n",
    "        yield divlist\n",
    "\n",
    "                         \n",
    "                \n",
    "                \n",
    "num1 = int(input('Enter the range : 0, '))\n",
    "\n",
    "it_div = N_iterate_division(num1)\n",
    "\n",
    "for num in it_div.checkdivby7and5():\n",
    "    print(f'Numbers that are divisible by 7 in range: 0 to {num1} is/are -{num}')\n",
    "\n"
   ]
  },
  {
   "cell_type": "markdown",
   "id": "405d0d21",
   "metadata": {},
   "source": [
    "\n",
    "Question 2:\n",
    "Please write a program using generator to print the even numbers between 0 and n in comma\n",
    "separated form while n is input by console.\n",
    "Example:\n",
    "If the following n is given as input to the program:\n",
    "10\n",
    "Then, the output of the program should be:\n",
    "0,2,4,6,8,10"
   ]
  },
  {
   "cell_type": "code",
   "execution_count": 8,
   "id": "bfec6dc8",
   "metadata": {},
   "outputs": [
    {
     "name": "stdout",
     "output_type": "stream",
     "text": [
      "Enter end range :100\n",
      "Even numbers in range: 0 to 100 is/are -[0, 2, 4, 6, 8, 10, 12, 14, 16, 18, 20, 22, 24, 26, 28, 30, 32, 34, 36, 38, 40, 42, 44, 46, 48, 50, 52, 54, 56, 58, 60, 62, 64, 66, 68, 70, 72, 74, 76, 78, 80, 82, 84, 86, 88, 90, 92, 94, 96, 98, 100]\n"
     ]
    }
   ],
   "source": [
    "def geneven(n):\n",
    "    \"\"\"\n",
    "    generates even number between 0 and n. \n",
    "    \"\"\"\n",
    "    evlist = list()\n",
    "    for i in range(0, n+1) :\n",
    "        if i%2 == 0:\n",
    "            evlist.append(i)\n",
    "    yield evlist\n",
    "             \n",
    "                \n",
    "                \n",
    "num2 = int(input('Enter end range :'))\n",
    "\n",
    "for num in geneven(num2):\n",
    "    print(f'Even numbers in range: 0 to {num2} is/are -{num}')\n",
    "\n"
   ]
  },
  {
   "cell_type": "markdown",
   "id": "83f98dda",
   "metadata": {},
   "source": [
    "\n",
    "Question 3:\n",
    "The Fibonacci Sequence is computed based on the following formula:\n",
    "f(n)=0 if n=0\n",
    "f(n)=1 if n=1\n",
    "f(n)=f(n-1)+f(n-2) if n&gt;1\n",
    "Please write a program using list comprehension to print the Fibonacci Sequence in comma\n",
    "separated form with a given n input by console.\n",
    "Example:\n",
    "If the following n is given as input to the program:\n",
    "7\n",
    "\n",
    "Then, the output of the program should be:\n",
    "0,1,1,2,3,5,8,13"
   ]
  },
  {
   "cell_type": "code",
   "execution_count": 9,
   "id": "119fe2e3",
   "metadata": {},
   "outputs": [
    {
     "data": {
      "text/plain": [
       "[0, 1, 1, 2, 3, 5, 8]"
      ]
     },
     "execution_count": 9,
     "metadata": {},
     "output_type": "execute_result"
    }
   ],
   "source": [
    "def recursive_fibo(n) :\n",
    "    if n == 0 :\n",
    "        return 0\n",
    "    elif n == 1 :\n",
    "        return 1\n",
    "    else :\n",
    "        return recursive_fibo(n-1) + recursive_fibo(n-2)\n",
    "\n",
    "n = 7\n",
    "fibo_list = [recursive_fibo(i) for i in range(n)]\n",
    "\n",
    "fibo_list"
   ]
  },
  {
   "cell_type": "markdown",
   "id": "abbc1513",
   "metadata": {},
   "source": [
    "\n",
    "Question 4:\n",
    "Assuming that we have some email addresses in the &quot;username@companyname.com&quot; format,\n",
    "please write program to print the user name of a given email address. Both user names and\n",
    "company names are composed of letters only.\n",
    "Example:\n",
    "If the following email address is given as input to the program:\n",
    "john@google.com\n",
    "Then, the output of the program should be:\n",
    "john"
   ]
  },
  {
   "cell_type": "code",
   "execution_count": 10,
   "id": "4d83d9ae",
   "metadata": {},
   "outputs": [
    {
     "name": "stdout",
     "output_type": "stream",
     "text": [
      "Username : john\n"
     ]
    }
   ],
   "source": [
    "email = 'john@google.com'\n",
    "elist = email.split('@')\n",
    "print(f'Username : {elist[0]}')"
   ]
  },
  {
   "cell_type": "markdown",
   "id": "9a37440c",
   "metadata": {},
   "source": [
    "\n",
    "Question 5:\n",
    "Define a class named Shape and its subclass Square. The Square class has an init function\n",
    "which takes a length as argument. Both classes have a area function which can print the area\n",
    "of the shape where Shape&#39;s area is 0 by default."
   ]
  },
  {
   "cell_type": "code",
   "execution_count": 11,
   "id": "4193fb0f",
   "metadata": {},
   "outputs": [
    {
     "name": "stdout",
     "output_type": "stream",
     "text": [
      "Area of square with length 4 is - 16\n"
     ]
    }
   ],
   "source": [
    "class Shape(): \n",
    "    def __init__(self) : \n",
    "        pass \n",
    "    def area(self): \n",
    "        return 0       \n",
    "        \n",
    "class Square(Shape):\n",
    "    def __init__(self, l):\n",
    "        self.length = l\n",
    "\n",
    "    def area(self):\n",
    "        return self.length*self.length\n",
    "\n",
    "    \n",
    "l1 = 4   \n",
    "aSquare= Square(l1)\n",
    "print(f'Area of square with length {l1} is - {aSquare.area()}' )       "
   ]
  },
  {
   "cell_type": "code",
   "execution_count": null,
   "id": "f22c4f44",
   "metadata": {},
   "outputs": [],
   "source": []
  }
 ],
 "metadata": {
  "kernelspec": {
   "display_name": "Python 3",
   "language": "python",
   "name": "python3"
  },
  "language_info": {
   "codemirror_mode": {
    "name": "ipython",
    "version": 3
   },
   "file_extension": ".py",
   "mimetype": "text/x-python",
   "name": "python",
   "nbconvert_exporter": "python",
   "pygments_lexer": "ipython3",
   "version": "3.8.8"
  }
 },
 "nbformat": 4,
 "nbformat_minor": 5
}
