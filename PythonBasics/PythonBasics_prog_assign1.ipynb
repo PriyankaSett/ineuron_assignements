{
 "cells": [
  {
   "cell_type": "markdown",
   "id": "09bf3c2a",
   "metadata": {},
   "source": [
    "## Python Basics - Programming Assignment 1 "
   ]
  },
  {
   "cell_type": "markdown",
   "id": "59784f01",
   "metadata": {},
   "source": [
    "1. Write a Python program to print \"Hello Python\" ? "
   ]
  },
  {
   "cell_type": "code",
   "execution_count": 1,
   "id": "2f2774f4",
   "metadata": {},
   "outputs": [
    {
     "name": "stdout",
     "output_type": "stream",
     "text": [
      "Hello Python\n"
     ]
    }
   ],
   "source": [
    "print(\"Hello Python\")"
   ]
  },
  {
   "cell_type": "markdown",
   "id": "edddef17",
   "metadata": {},
   "source": [
    "2. Write a Python program to do arithmetical \n",
    "operations addition and division.?"
   ]
  },
  {
   "cell_type": "code",
   "execution_count": 2,
   "id": "f15c9653",
   "metadata": {},
   "outputs": [
    {
     "name": "stdout",
     "output_type": "stream",
     "text": [
      "3\n",
      "4\n",
      "Addition of two numbers 3 and 4 is : 7\n",
      "Division of 3 by 4 is : 0.75\n"
     ]
    }
   ],
   "source": [
    "a = int(input())\n",
    "b = int(input())\n",
    "\n",
    "print(f'Addition of two numbers {a} and {b} is : {a+b}')\n",
    "print(f'Division of {a} by {b} is : {a/b}')"
   ]
  },
  {
   "cell_type": "markdown",
   "id": "5f48aa32",
   "metadata": {},
   "source": [
    "3. Write a python program to find the area of a triangle ? "
   ]
  },
  {
   "cell_type": "code",
   "execution_count": 3,
   "id": "a4d901c2",
   "metadata": {},
   "outputs": [
    {
     "name": "stdout",
     "output_type": "stream",
     "text": [
      "5\n",
      "6\n",
      "7\n",
      "Enter : \n",
      "Side A : 5 cm, Side B : 6 cm, Side C : 7 cm\n",
      "Area of a triangle with given sides : 14.696938456699069 cm^2\n"
     ]
    }
   ],
   "source": [
    "import numpy as np  \n",
    "\n",
    "side_a = int(input()) \n",
    "side_b = int(input()) \n",
    "side_c = int(input()) \n",
    "\n",
    "s = (side_a + side_b + side_c)/2\n",
    " \n",
    "\n",
    "area = np.sqrt(s * (s - side_a) * (s - side_b) * (s - side_c))\n",
    "\n",
    "print('Enter : ')\n",
    "print(f'Side A : {side_a} cm, Side B : {side_b} cm, Side C : {side_c} cm')\n",
    "print(f'Area of a triangle with given sides : {area} cm^2')"
   ]
  },
  {
   "cell_type": "markdown",
   "id": "564086f8",
   "metadata": {},
   "source": [
    "4. Write a Python program to swap two variables?"
   ]
  },
  {
   "cell_type": "code",
   "execution_count": 4,
   "id": "2ba0676e",
   "metadata": {},
   "outputs": [
    {
     "name": "stdout",
     "output_type": "stream",
     "text": [
      "5\n",
      "7\n",
      "Initial values of a : 5 and b : 7\n",
      "Method 1\n",
      "Values after swapping- a : 7, b : 5 \n"
     ]
    }
   ],
   "source": [
    "a = int(input())\n",
    "b = int(input())\n",
    "print(f'Initial values of a : {a} and b : {b}')\n",
    "\n",
    "# Method 1\n",
    "t = b # temporary variable\n",
    "b = a\n",
    "a = t\n",
    "print(\"Method 1\")\n",
    "print(f'Values after swapping- a : {a}, b : {b} ')\n"
   ]
  },
  {
   "cell_type": "code",
   "execution_count": 5,
   "id": "9c3ab820",
   "metadata": {},
   "outputs": [
    {
     "name": "stdout",
     "output_type": "stream",
     "text": [
      "8\n",
      "5\n",
      "Initial values of a : 8 and b : 5\n",
      "Method 2\n",
      "Values after swapping- a : 5, b : 8 \n"
     ]
    }
   ],
   "source": [
    "# Method 2 \n",
    "a = int(input())\n",
    "b = int(input())\n",
    "print(f'Initial values of a : {a} and b : {b}')\n",
    "\n",
    "a, b = b, a\n",
    "print(\"Method 2\")\n",
    "print(f'Values after swapping- a : {a}, b : {b} ')\n"
   ]
  },
  {
   "cell_type": "markdown",
   "id": "87daad45",
   "metadata": {},
   "source": [
    "5. Write a Python program to generate a random number?"
   ]
  },
  {
   "cell_type": "code",
   "execution_count": 6,
   "id": "a6d2ef99",
   "metadata": {},
   "outputs": [
    {
     "name": "stdout",
     "output_type": "stream",
     "text": [
      "0.9679550453845488\n",
      "5\n"
     ]
    }
   ],
   "source": [
    "import random \n",
    "\n",
    "n = random.random()\n",
    "print(n)\n",
    "m = random.randint(2,6)\n",
    "print(m)"
   ]
  },
  {
   "cell_type": "code",
   "execution_count": null,
   "id": "2ceb5645",
   "metadata": {},
   "outputs": [],
   "source": []
  }
 ],
 "metadata": {
  "kernelspec": {
   "display_name": "Python 3",
   "language": "python",
   "name": "python3"
  },
  "language_info": {
   "codemirror_mode": {
    "name": "ipython",
    "version": 3
   },
   "file_extension": ".py",
   "mimetype": "text/x-python",
   "name": "python",
   "nbconvert_exporter": "python",
   "pygments_lexer": "ipython3",
   "version": "3.8.8"
  }
 },
 "nbformat": 4,
 "nbformat_minor": 5
}
