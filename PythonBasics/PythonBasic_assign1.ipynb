{
 "cells": [
  {
   "cell_type": "code",
   "execution_count": 1,
   "id": "458c678a",
   "metadata": {},
   "outputs": [
    {
     "data": {
      "text/plain": [
       "\"\\nAns : values are : 'hello', -87.8, 6\\n      expressions are : *, -, /, +\\n\\n\""
      ]
     },
     "execution_count": 1,
     "metadata": {},
     "output_type": "execute_result"
    }
   ],
   "source": [
    "\"\"\"\n",
    "1. 1. In the below elements which of them are values or an expression? eg:- values can be\n",
    "integer or string and expressions will be mathematical operators.\n",
    "*\n",
    "'hello'\n",
    "-87.8\n",
    "-\n",
    "/\n",
    "+\n",
    "6\n",
    "\"\"\"\n",
    "\n",
    "\"\"\"\n",
    "Ans : values are : 'hello', -87.8, 6\n",
    "      expressions are : *, -, /, +\n",
    "\n",
    "\"\"\"\n"
   ]
  },
  {
   "cell_type": "code",
   "execution_count": 2,
   "id": "48dc097e",
   "metadata": {},
   "outputs": [
    {
     "data": {
      "text/plain": [
       "'\\nAns : String is a datatype. \\n      Variable has a value. \\n\\n'"
      ]
     },
     "execution_count": 2,
     "metadata": {},
     "output_type": "execute_result"
    }
   ],
   "source": [
    "\"\"\"\n",
    "2. What is the difference between string and variable?\n",
    "\"\"\"\n",
    "\n",
    "\"\"\"\n",
    "Ans : String is a datatype. \n",
    "      Variable has a value. \n",
    "\n",
    "\"\"\"\n",
    "\n"
   ]
  },
  {
   "cell_type": "code",
   "execution_count": 3,
   "id": "960782d3",
   "metadata": {},
   "outputs": [
    {
     "data": {
      "text/plain": [
       "\"\\nAns : Integer : 5, 8, 99\\n      Float : 5.0, 8.0, 90.0\\n      Complex : 5+3j, 10+78j\\n      String : 'house', 'brown fox'\\n      boolean : True and False\\n      \\n      Apart from these, python in built data types are : \\n      list, tuple, dictionary, sets\\n      \\n\""
      ]
     },
     "execution_count": 3,
     "metadata": {},
     "output_type": "execute_result"
    }
   ],
   "source": [
    "\"\"\"\n",
    "3. Describe three different data types. \n",
    "\"\"\"\n",
    "\n",
    "\"\"\"\n",
    "Ans : Integer : 5, 8, 99\n",
    "      Float : 5.0, 8.0, 90.0\n",
    "      Complex : 5+3j, 10+78j\n",
    "      String : 'house', 'brown fox'\n",
    "      boolean : True and False\n",
    "      \n",
    "      Apart from these, python in built data types are : \n",
    "      list, tuple, dictionary, sets\n",
    "      \n",
    "\"\"\"\n",
    "\n"
   ]
  },
  {
   "cell_type": "code",
   "execution_count": 4,
   "id": "bd0b712a",
   "metadata": {},
   "outputs": [
    {
     "data": {
      "text/plain": [
       "'\\nAns : Expressions are made up of operators and operrand. \\n      All expressions are evaluated by the interpreter and the result is displayed.  \\n\\n'"
      ]
     },
     "execution_count": 4,
     "metadata": {},
     "output_type": "execute_result"
    }
   ],
   "source": [
    "\"\"\"\n",
    "4. What is an expression made up of? What do all expressions do?\n",
    "\n",
    "\"\"\"\n",
    "\n",
    "\"\"\"\n",
    "Ans : Expressions are made up of operators and operrand. \n",
    "      All expressions are evaluated by the interpreter and the result is displayed.  \n",
    "\n",
    "\"\"\"\n"
   ]
  },
  {
   "cell_type": "code",
   "execution_count": 5,
   "id": "9391ced7",
   "metadata": {},
   "outputs": [
    {
     "data": {
      "text/plain": [
       "'\\nAns : spam  = 10 is an assignement statement. The statements are kind of\\ninstructions for the interpreter. These are not evaluated but excecuted. \\nThe execution of a statement changes the state of a variable. \\n\\nOn the other hand expressions are evaluated by the interpreter yielding in results.\\n\\n'"
      ]
     },
     "execution_count": 5,
     "metadata": {},
     "output_type": "execute_result"
    }
   ],
   "source": [
    "\"\"\"\n",
    "5. This assignment statements, like spam = 10. What is \n",
    "the difference between an\n",
    "expression and a statement?\n",
    "\n",
    "\"\"\"\n",
    "\n",
    "\"\"\"\n",
    "Ans : spam  = 10 is an assignement statement. The statements are kind of\n",
    "instructions for the interpreter. These are not evaluated but excecuted. \n",
    "The execution of a statement changes the state of a variable. \n",
    "\n",
    "On the other hand expressions are evaluated by the interpreter yielding in results.\n",
    "\n",
    "\"\"\""
   ]
  },
  {
   "cell_type": "code",
   "execution_count": 6,
   "id": "999ccb43",
   "metadata": {},
   "outputs": [
    {
     "data": {
      "text/plain": [
       "23"
      ]
     },
     "execution_count": 6,
     "metadata": {},
     "output_type": "execute_result"
    }
   ],
   "source": [
    "\"\"\"\n",
    "6. After running the following code, what does the variable bacon contain?\n",
    "bacon = 22\n",
    "bacon + 1\n",
    "\"\"\"\n",
    "bacon = 22\n",
    "bacon + 1\n"
   ]
  },
  {
   "cell_type": "code",
   "execution_count": 7,
   "id": "dbcf7a61",
   "metadata": {},
   "outputs": [
    {
     "name": "stdout",
     "output_type": "stream",
     "text": [
      "spamspamspam\n",
      "spamspamspam\n"
     ]
    }
   ],
   "source": [
    "\"\"\"\n",
    "7. 7. What should the values of the following two terms be?\n",
    "'spam' + 'spamspam'\n",
    "'spam' * 3\n",
    "\"\"\"\n",
    "print('spam' + 'spamspam')\n",
    "print('spam' * 3)"
   ]
  },
  {
   "cell_type": "code",
   "execution_count": 8,
   "id": "233e84bc",
   "metadata": {},
   "outputs": [
    {
     "data": {
      "text/plain": [
       "'\\nAns : variable name should start with alphabet. \\n'"
      ]
     },
     "execution_count": 8,
     "metadata": {},
     "output_type": "execute_result"
    }
   ],
   "source": [
    "\"\"\"\n",
    "8. Why is eggs a valid variable while 100 is invaild.\n",
    "\"\"\"\n",
    "\n",
    "\"\"\"\n",
    "Ans : variable name should start with alphabet. \n",
    "\"\"\"\n"
   ]
  },
  {
   "cell_type": "code",
   "execution_count": 9,
   "id": "1c2810bb",
   "metadata": {},
   "outputs": [
    {
     "name": "stdout",
     "output_type": "stream",
     "text": [
      "5.0\n",
      "<class 'float'>\n",
      "5 <class 'int'>\n",
      "5.0 <class 'str'>\n"
     ]
    }
   ],
   "source": [
    "\"\"\"\n",
    "9. What three functions can be used to get the integer, floating-point number, or string\n",
    "version of a value?\n",
    "\"\"\"\n",
    "\n",
    "\"\"\"\n",
    "Ans : int, float, str\n",
    "\"\"\"\n",
    "print(5.0)\n",
    "print(type(5.0))\n",
    "print(int(5.0), type(int(5.0)))\n",
    "print(str(5.0), type(str(5.0)))"
   ]
  },
  {
   "cell_type": "code",
   "execution_count": 10,
   "id": "99894800",
   "metadata": {},
   "outputs": [
    {
     "ename": "TypeError",
     "evalue": "can only concatenate str (not \"int\") to str",
     "output_type": "error",
     "traceback": [
      "\u001b[0;31m---------------------------------------------------------------------------\u001b[0m",
      "\u001b[0;31mTypeError\u001b[0m                                 Traceback (most recent call last)",
      "\u001b[0;32m<ipython-input-10-29f3096c1f0d>\u001b[0m in \u001b[0;36m<module>\u001b[0;34m\u001b[0m\n\u001b[1;32m     11\u001b[0m \u001b[0mto\u001b[0m \u001b[0mstring\u001b[0m \u001b[0mtype\u001b[0m\u001b[0;34m\u001b[0m\u001b[0;34m\u001b[0m\u001b[0m\n\u001b[1;32m     12\u001b[0m \"\"\"\n\u001b[0;32m---> 13\u001b[0;31m \u001b[0mprint\u001b[0m\u001b[0;34m(\u001b[0m\u001b[0;34m'I have eaten '\u001b[0m\u001b[0;34m+\u001b[0m \u001b[0;36m99\u001b[0m \u001b[0;34m+\u001b[0m \u001b[0;34m'burritos.'\u001b[0m\u001b[0;34m)\u001b[0m\u001b[0;34m\u001b[0m\u001b[0;34m\u001b[0m\u001b[0m\n\u001b[0m",
      "\u001b[0;31mTypeError\u001b[0m: can only concatenate str (not \"int\") to str"
     ]
    }
   ],
   "source": [
    "\"\"\"\n",
    "10. Why does this expression cause an error? How can you fix it?\n",
    "'I have eaten '+ 99 +' burritos.'\n",
    "\n",
    "\"\"\"\n",
    "\n",
    "\"\"\"\n",
    "Ans : This will give error as 'I have eaten' and 'burritos' is of \n",
    "string type and '99' is of integer type. \n",
    "To do away with the error, we need to convert 99 from integer type\n",
    "to string type\n",
    "\"\"\"\n",
    "print('I have eaten '+ 99 + 'burritos.')"
   ]
  },
  {
   "cell_type": "code",
   "execution_count": 11,
   "id": "141cf104",
   "metadata": {},
   "outputs": [
    {
     "data": {
      "text/plain": [
       "'I have eaten 99 burritos.'"
      ]
     },
     "execution_count": 11,
     "metadata": {},
     "output_type": "execute_result"
    }
   ],
   "source": [
    "'I have eaten '+ str(99) + ' burritos.'"
   ]
  },
  {
   "cell_type": "code",
   "execution_count": null,
   "id": "3e2f6465",
   "metadata": {},
   "outputs": [],
   "source": []
  }
 ],
 "metadata": {
  "kernelspec": {
   "display_name": "Python 3",
   "language": "python",
   "name": "python3"
  },
  "language_info": {
   "codemirror_mode": {
    "name": "ipython",
    "version": 3
   },
   "file_extension": ".py",
   "mimetype": "text/x-python",
   "name": "python",
   "nbconvert_exporter": "python",
   "pygments_lexer": "ipython3",
   "version": "3.8.8"
  }
 },
 "nbformat": 4,
 "nbformat_minor": 5
}
