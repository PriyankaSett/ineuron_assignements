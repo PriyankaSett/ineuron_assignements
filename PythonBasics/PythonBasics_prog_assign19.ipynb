{
 "cells": [
  {
   "cell_type": "markdown",
   "id": "cc049025",
   "metadata": {},
   "source": [
    "## Python Basics - Programming Assignment 19"
   ]
  },
  {
   "cell_type": "markdown",
   "id": "6dd65175",
   "metadata": {},
   "source": [
    "Question1.\n",
    "Create a function that takes a string and returns a string in which each character is repeated\n",
    "once.  \n",
    "Examples  \n",
    "double_char(&quot;String&quot;) ➞ &quot;SSttrriinngg&quot;  \n",
    "double_char(&quot;Hello World!&quot;) ➞ &quot;HHeelllloo WWoorrlldd!!&quot;  \n",
    "double_char(&quot;1234!_ &quot;) ➞ &quot;11223344!!__ &quot;  "
   ]
  },
  {
   "cell_type": "code",
   "execution_count": 1,
   "id": "1734dd28",
   "metadata": {},
   "outputs": [
    {
     "name": "stdout",
     "output_type": "stream",
     "text": [
      "Enter the string :Hello World\n",
      "Output : HHeelllloo  WWoorrlldd\n"
     ]
    }
   ],
   "source": [
    "def repeat_string(instr): \n",
    "    \"\"\"\n",
    "    This function that takes a string and returns a string in \n",
    "    which each character is repeated once.\n",
    "    Examples\n",
    "    repeat_string(\"String\") ➞ \"SSttrriinngg\"\n",
    "    \"\"\"\n",
    "    outstring = ''\n",
    "    \n",
    "    for i in instr: \n",
    "        outstring = outstring + i*2\n",
    "        \n",
    "    return outstring\n",
    "\n",
    "\n",
    "instr = input('Enter the string :')\n",
    "\n",
    "print(f'Output : {repeat_string(instr)}')    "
   ]
  },
  {
   "cell_type": "markdown",
   "id": "50ecd796",
   "metadata": {},
   "source": [
    "\n",
    "Question2.  \n",
    "Create a function that reverses a boolean value and returns the string &quot;boolean expected&quot;\n",
    "if another variable type is given.\n",
    "Examples  \n",
    "reverse(True) ➞ False  \n",
    "reverse(False) ➞ True  \n",
    "reverse(0) ➞ &quot;boolean expected&quot;  \n",
    "reverse(None) ➞ &quot;boolean expected&quot;  "
   ]
  },
  {
   "cell_type": "code",
   "execution_count": 2,
   "id": "200223fb",
   "metadata": {},
   "outputs": [
    {
     "name": "stdout",
     "output_type": "stream",
     "text": [
      "Reversed Output:  True\n"
     ]
    }
   ],
   "source": [
    "def reverse(a) :\n",
    "    \"\"\"\n",
    "    This function reverses a boolean value and \n",
    "    returns the string \"boolean expected\" if another variable type is given.\n",
    "    \n",
    "    ## The input variable is of bool type. \n",
    "    \"\"\"\n",
    "    if a == False or a == True : \n",
    "        b = not a\n",
    "        return b\n",
    "\n",
    "    return \"boolean expected\"\n",
    "\n",
    "\n",
    "    \n",
    "ina = False\n",
    "print(f'Reversed Output:  {reverse(ina)}')"
   ]
  },
  {
   "cell_type": "markdown",
   "id": "1f489ed8",
   "metadata": {},
   "source": [
    "\n",
    "Question3.  \n",
    "Create a function that returns the thickness (in meters) of a piece of paper after folding it n\n",
    "number of times. The paper starts off with a thickness of 0.5mm.  \n",
    "Examples    \n",
    "num_layers(1) ➞ &quot;0.001m&quot;  \n",
    " Paper folded once is 1mm (equal to 0.001m)  \n",
    "num_layers(4) ➞ &quot;0.008m&quot;  \n",
    " Paper folded 4 times is 8mm (equal to 0.008m)  \n",
    "num_layers(21) ➞ &quot;1048.576m&quot;  \n",
    " Paper folded 21 times is 1048576mm (equal to 1048.576m)"
   ]
  },
  {
   "cell_type": "code",
   "execution_count": 3,
   "id": "998db92e",
   "metadata": {},
   "outputs": [
    {
     "name": "stdout",
     "output_type": "stream",
     "text": [
      "Enter the thickness of paper in mm : 0.5\n",
      "No of folds : 21\n",
      "Thickness of paper after 21 folds : 1048.576 m\n"
     ]
    }
   ],
   "source": [
    "def paper_fold(no_fold, thickness): \n",
    "    \n",
    "    fold = thickness/1000\n",
    "    for i in range(1, no_fold+1):\n",
    "        fold = fold*2\n",
    "\n",
    "    return fold    \n",
    "    \n",
    "    \n",
    "thickness = float(input('Enter the thickness of paper in mm : '))\n",
    "no_fold = int(input('No of folds : '))\n",
    "print(f'Thickness of paper after {no_fold} folds : {paper_fold(no_fold, thickness)} m')\n"
   ]
  },
  {
   "cell_type": "markdown",
   "id": "7044785d",
   "metadata": {},
   "source": [
    "\n",
    "Question4.\n",
    "\n",
    "Create a function that takes a single string as argument and returns an ordered list containing\n",
    "the indices of all capital letters in the string.\n",
    "Examples  \n",
    "index_of_caps(&quot;eDaBiT&quot;) ➞ [1, 3, 5]  \n",
    "index_of_caps(&quot;eQuINoX&quot;) ➞ [1, 3, 4, 6]  \n",
    "index_of_caps(&quot;determine&quot;) ➞ []  \n",
    "index_of_caps(&quot;STRIKE&quot;) ➞ [0, 1, 2, 3, 4, 5]  \n",
    "index_of_caps(&quot;sUn&quot;) ➞ [1]  "
   ]
  },
  {
   "cell_type": "code",
   "execution_count": 4,
   "id": "6502a4b4",
   "metadata": {},
   "outputs": [
    {
     "name": "stdout",
     "output_type": "stream",
     "text": [
      "Indices of capital letters in the given string eQuINoX : [1, 3, 4, 6]\n"
     ]
    }
   ],
   "source": [
    "def index_of_caps(str1) : \n",
    "    \"\"\"\n",
    "    This function takes a single string as argument and \n",
    "    returns an ordered list containing the indices of all capital letters in the string. \n",
    "    \"\"\"\n",
    "\n",
    "    uplist = list()\n",
    "    for i in str1:\n",
    "        if i.isupper():\n",
    "            uplist.append(str1.index(i))\n",
    "    return uplist\n",
    "\n",
    "\n",
    "mystr = 'eQuINoX'\n",
    "print(f'Indices of capital letters in the given string {mystr} : {index_of_caps(mystr)}')  "
   ]
  },
  {
   "cell_type": "markdown",
   "id": "b0640bef",
   "metadata": {},
   "source": [
    "\n",
    "Question5. \n",
    "Using list comprehensions, create a function that finds all even numbers from 1 to the given\n",
    "number.\n",
    "Examples  \n",
    "find_even_nums(8) ➞ [2, 4, 6, 8]  \n",
    "find_even_nums(4) ➞ [2, 4]  \n",
    "find_even_nums(2) ➞ [2] "
   ]
  },
  {
   "cell_type": "code",
   "execution_count": 5,
   "id": "c7dd0eb6",
   "metadata": {},
   "outputs": [
    {
     "name": "stdout",
     "output_type": "stream",
     "text": [
      "Find the even numbers between 1 and :8\n",
      "Even numbers between 1 and 8 : [2, 4, 6]\n"
     ]
    }
   ],
   "source": [
    "def find_even_nums(n) :\n",
    "    evlist = [i for i in range(1,n) if i%2 ==0]\n",
    "    return evlist\n",
    "      \n",
    "    \n",
    "    \n",
    "evum = int(input('Find the even numbers between 1 and :'))\n",
    "print(f'Even numbers between 1 and {evum} : {find_even_nums(evum)}')\n"
   ]
  },
  {
   "cell_type": "code",
   "execution_count": null,
   "id": "7b437588",
   "metadata": {},
   "outputs": [],
   "source": []
  }
 ],
 "metadata": {
  "kernelspec": {
   "display_name": "Python 3",
   "language": "python",
   "name": "python3"
  },
  "language_info": {
   "codemirror_mode": {
    "name": "ipython",
    "version": 3
   },
   "file_extension": ".py",
   "mimetype": "text/x-python",
   "name": "python",
   "nbconvert_exporter": "python",
   "pygments_lexer": "ipython3",
   "version": "3.8.8"
  }
 },
 "nbformat": 4,
 "nbformat_minor": 5
}
