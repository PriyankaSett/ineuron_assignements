{
 "cells": [
  {
   "cell_type": "markdown",
   "id": "1a04e74e",
   "metadata": {},
   "source": [
    "## Python Basics -Programming Assignment 8"
   ]
  },
  {
   "cell_type": "markdown",
   "id": "6fe2834a",
   "metadata": {},
   "source": [
    "1. Write a Python Program to Add Two Matrices?"
   ]
  },
  {
   "cell_type": "code",
   "execution_count": 1,
   "id": "506bfa25",
   "metadata": {},
   "outputs": [
    {
     "name": "stdout",
     "output_type": "stream",
     "text": [
      "Adding two matrix [[2 4]\n",
      " [5 6]]\n",
      "  and matrix [[5 6]\n",
      " [8 9]] : \n",
      "[[ 7 10]\n",
      " [13 15]]\n"
     ]
    }
   ],
   "source": [
    "import numpy as np \n",
    "\n",
    "def matadd(mat1, mat2) :\n",
    "    mat3 = mat1+mat2\n",
    "    return mat3\n",
    "\n",
    "\n",
    "mat1 = np.array([[2,4], [5,6]])\n",
    "mat2 = np.array([[5,6], [8,9]])\n",
    "\n",
    "print(f'Adding two matrix {mat1}\\n  and matrix {mat2} : \\n{matadd(mat1, mat2)}')\n",
    "        \n",
    "        "
   ]
  },
  {
   "cell_type": "markdown",
   "id": "c4a8ec0f",
   "metadata": {},
   "source": [
    "2. Write a Python Program to Multiply Two Matrices?"
   ]
  },
  {
   "cell_type": "code",
   "execution_count": 2,
   "id": "fb3009ab",
   "metadata": {},
   "outputs": [
    {
     "name": "stdout",
     "output_type": "stream",
     "text": [
      "Multiplication of two matrix [[2 4]\n",
      " [5 6]]\n",
      "  and matrix [[5 6]\n",
      " [8 9]] : \n",
      "[[42 48]\n",
      " [73 84]]\n"
     ]
    }
   ],
   "source": [
    "def matmult(mat1, mat2) :\n",
    "    mat3 = mat1@mat2\n",
    "    return mat3\n",
    "\n",
    "\n",
    "mat1 = np.array([[2,4], [5,6]])\n",
    "mat2 = np.array([[5,6], [8,9]])\n",
    "\n",
    "print(f'Multiplication of two matrix {mat1}\\n  and matrix {mat2} : \\n{matmult(mat1, mat2)}')\n",
    "        "
   ]
  },
  {
   "cell_type": "markdown",
   "id": "39724bbb",
   "metadata": {},
   "source": [
    "3. Write a Python Program to Transpose a Matrix?"
   ]
  },
  {
   "cell_type": "code",
   "execution_count": 3,
   "id": "14213d89",
   "metadata": {},
   "outputs": [
    {
     "name": "stdout",
     "output_type": "stream",
     "text": [
      "Transpose of matrix [[2 4]\n",
      " [5 6]] : \n",
      "[[2 5]\n",
      " [4 6]]\n"
     ]
    }
   ],
   "source": [
    "def matT(mat1) :\n",
    "    mat2 = mat1.T\n",
    "    return mat2\n",
    "\n",
    "mat1 = np.array([[2,4], [5,6]])\n",
    "\n",
    "print(f'Transpose of matrix {mat1} : \\n{matT(mat1)}')\n",
    "        "
   ]
  },
  {
   "cell_type": "markdown",
   "id": "0146b385",
   "metadata": {},
   "source": [
    "4. Write a Python Program to Sort Words in Alphabetic Order?"
   ]
  },
  {
   "cell_type": "code",
   "execution_count": 4,
   "id": "bcd1bcea",
   "metadata": {},
   "outputs": [
    {
     "name": "stdout",
     "output_type": "stream",
     "text": [
      "Output after sorting words in alphabetic order : ['bag', 'fun', 'mango', 'onion', 'pug', 'world']\n"
     ]
    }
   ],
   "source": [
    "#let us take the words input as list. \n",
    "\n",
    "def word_sort(listwords) :\n",
    "    list1 = sorted(listwords)\n",
    "    return list1\n",
    "\n",
    "\n",
    "\n",
    "wordlist = ['world', 'bag', 'onion', 'pug', 'mango', 'fun']\n",
    "\n",
    "print(f'Output after sorting words in alphabetic order : {word_sort(wordlist)}')"
   ]
  },
  {
   "cell_type": "markdown",
   "id": "39f4f9b5",
   "metadata": {},
   "source": [
    "5. Write a Python Program to Remove Punctuation From a String?"
   ]
  },
  {
   "cell_type": "code",
   "execution_count": 5,
   "id": "36fc6b4e",
   "metadata": {},
   "outputs": [
    {
     "name": "stdout",
     "output_type": "stream",
     "text": [
      "Input string : Hi! How are you ? -- I am fine thank you. \n",
      "Removing the punctuation from the input string:\n",
      " Hi How are you   I am fine thank you \n"
     ]
    }
   ],
   "source": [
    "from string import punctuation\n",
    "\n",
    "def remove_punc(instring, punclist) : \n",
    "    \n",
    "    inlist = [i for i in instring]\n",
    "\n",
    "    for ele in instring: \n",
    "        if ele in punclist : \n",
    "            inlist.remove(ele)\n",
    "\n",
    "    list2 = ''.join(inlist)\n",
    "    return list2\n",
    "\n",
    "\n",
    "\n",
    "\n",
    "punclist = [i for i in punctuation]\n",
    "#print(punclist)\n",
    "\n",
    "instring = 'Hi! How are you ? -- I am fine thank you. '\n",
    " \n",
    "print(f'Input string : {instring}')    \n",
    "print(f'Removing the punctuation from the input string:\\n {remove_punc(instring, punclist)}')     \n",
    "\n",
    "\n",
    "\n"
   ]
  },
  {
   "cell_type": "code",
   "execution_count": null,
   "id": "2b795f1b",
   "metadata": {},
   "outputs": [],
   "source": []
  }
 ],
 "metadata": {
  "kernelspec": {
   "display_name": "Python 3",
   "language": "python",
   "name": "python3"
  },
  "language_info": {
   "codemirror_mode": {
    "name": "ipython",
    "version": 3
   },
   "file_extension": ".py",
   "mimetype": "text/x-python",
   "name": "python",
   "nbconvert_exporter": "python",
   "pygments_lexer": "ipython3",
   "version": "3.8.8"
  }
 },
 "nbformat": 4,
 "nbformat_minor": 5
}
