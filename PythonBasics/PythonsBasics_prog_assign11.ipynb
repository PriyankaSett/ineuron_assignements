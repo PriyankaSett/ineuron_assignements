{
 "cells": [
  {
   "cell_type": "markdown",
   "id": "ffd16b2a",
   "metadata": {},
   "source": [
    "## Python Basics - Programming Assignment 11"
   ]
  },
  {
   "cell_type": "markdown",
   "id": "320b245f",
   "metadata": {},
   "source": [
    "1. Write a Python program to find words which are greater than given length k?"
   ]
  },
  {
   "cell_type": "code",
   "execution_count": 1,
   "id": "dad3de08",
   "metadata": {},
   "outputs": [
    {
     "name": "stdout",
     "output_type": "stream",
     "text": [
      "Required Length of the string : 4\n",
      "Enter string : priyanka\n",
      "The length of entered string is greater than required one.\n"
     ]
    }
   ],
   "source": [
    "k = int(input('Required Length of the string : '))\n",
    "\n",
    "mystring = input('Enter string : ')\n",
    "\n",
    "if k > len(mystring) : \n",
    "    print('The length of entered string is lesser then required one.')\n",
    "else :\n",
    "    print('The length of entered string is greater than required one.')\n",
    "    "
   ]
  },
  {
   "cell_type": "markdown",
   "id": "ccc59d70",
   "metadata": {},
   "source": [
    "2. Write a Python program for removing i-th character from a string?"
   ]
  },
  {
   "cell_type": "code",
   "execution_count": 2,
   "id": "5b26282d",
   "metadata": {},
   "outputs": [
    {
     "name": "stdout",
     "output_type": "stream",
     "text": [
      "Enter a string :priyanka\n",
      "Length of the given string : 8\n",
      "Which character you want to remove ? r\n",
      "After removing rth character from the string : piyanka\n"
     ]
    }
   ],
   "source": [
    "mstr1 = input('Enter a string :') \n",
    "\n",
    "print(f'Length of the given string : {len(mstr1)}')\n",
    "# which character to be removed :\n",
    "ith = input('Which character you want to remove ? ')\n",
    "\n",
    "\n",
    "#removing ith character : \n",
    "mstr1l = [ele for ele in mstr1]\n",
    "mstr1_n = \"\".join([ele for ele in mstr1l if ele != ith])\n",
    "\n",
    "print(f'After removing {ith}th character from the string : {mstr1_n}')\n",
    "\n"
   ]
  },
  {
   "cell_type": "code",
   "execution_count": 3,
   "id": "0987c516",
   "metadata": {},
   "outputs": [
    {
     "name": "stdout",
     "output_type": "stream",
     "text": [
      "Enter a string :priyanka\n",
      "Length of the given string : 8\n",
      "Which ith character you want to remove ? 3\n",
      "After removing 3th character from the string : prianka\n"
     ]
    }
   ],
   "source": [
    "mstr1 = input('Enter a string :') \n",
    "\n",
    "print(f'Length of the given string : {len(mstr1)}')\n",
    "# which character to be removed :\n",
    "ith = int(input('Which ith character you want to remove ? '))\n",
    "\n",
    "\n",
    "#removing ith character : \n",
    "mstr1l = [ele for ele in mstr1]\n",
    "#print(mstr1l)\n",
    "mstr1_n = \"\".join(([mstr1l[i] for i in range(len(mstr1l)) if i != ith]))\n",
    "\n",
    "print(f'After removing {ith}th character from the string : {mstr1_n}')\n"
   ]
  },
  {
   "cell_type": "markdown",
   "id": "8f40cdae",
   "metadata": {},
   "source": [
    "3. Write a Python program to split and join a string?"
   ]
  },
  {
   "cell_type": "code",
   "execution_count": 4,
   "id": "49cd4ec2",
   "metadata": {},
   "outputs": [
    {
     "name": "stdout",
     "output_type": "stream",
     "text": [
      "Enter a string :priyanka\n",
      "String after splitting : ['p', 'r', 'i', 'y', 'a', 'n', 'k', 'a']\n",
      "String after joining : priyanka\n"
     ]
    }
   ],
   "source": [
    "instr = input('Enter a string :') \n",
    "\n",
    "inlist = instr.split()\n",
    "#print(inlist)\n",
    "#print(len(inlist))\n",
    "\n",
    "if len(inlist) > 1 :\n",
    "    print(f'String after splitting : {instr.split()}')\n",
    "    print(f'String after joining : {\" \".join(instr.split())}')\n",
    "else :\n",
    "    #str2list = [item for item in instr]\n",
    "    str2list = list()     \n",
    "    for items in instr : \n",
    "        #print(items)\n",
    "        str2list.append(items)\n",
    "    \n",
    "    print(f'String after splitting : {str2list}')\n",
    "    print(f'String after joining : {\"\".join(instr.split())}')"
   ]
  },
  {
   "cell_type": "code",
   "execution_count": 5,
   "id": "42a59c2b",
   "metadata": {},
   "outputs": [
    {
     "name": "stdout",
     "output_type": "stream",
     "text": [
      "Enter a string :I am priyanka\n",
      "String after splitting : ['I', 'am', 'priyanka']\n",
      "String after joining : I am priyanka\n"
     ]
    }
   ],
   "source": [
    "instr = input('Enter a string :') \n",
    "\n",
    "inlist = instr.split()\n",
    "#print(inlist)\n",
    "#print(len(inlist))\n",
    "\n",
    "if len(inlist) > 1 :\n",
    "    print(f'String after splitting : {instr.split()}')\n",
    "    print(f'String after joining : {\" \".join(instr.split())}')\n",
    "else :\n",
    "    #str2list = [item for item in instr]\n",
    "    str2list = list()     \n",
    "    for items in instr : \n",
    "        #print(items)\n",
    "        str2list.append(items)\n",
    "    \n",
    "    print(f'String after splitting : {str2list}')\n",
    "    print(f'String after joining : {\"\".join(instr.split())}')"
   ]
  },
  {
   "cell_type": "markdown",
   "id": "86521e97",
   "metadata": {},
   "source": [
    "4. Write a Python to check if a given string is binary string or not?"
   ]
  },
  {
   "cell_type": "code",
   "execution_count": 6,
   "id": "5bb11d37",
   "metadata": {},
   "outputs": [
    {
     "name": "stdout",
     "output_type": "stream",
     "text": [
      "Enter the string : 10011\n",
      "The input string 10011 is a binary string\n"
     ]
    }
   ],
   "source": [
    "bin_in_string = input('Enter the string : ')\n",
    "bin_in_list = bin_in_string.split()\n",
    "\n",
    "bin_in_list_new = list()\n",
    "for item in bin_in_string :\n",
    "    #print(item)\n",
    "    bin_in_list_new.append(item)\n",
    "    #print(bin_in_list_new)\n",
    "        \n",
    "        \n",
    "bin_in_setlist = sorted(list(set(bin_in_list_new)))  \n",
    "#print(bin_in_setlist)\n",
    "        \n",
    "if (bin_in_setlist == ['1'] or bin_in_setlist == ['0'] or bin_in_setlist == ['0', '1']) : \n",
    "    print(f'The input string {bin_in_string} is a binary string')\n",
    "else :\n",
    "    print(f'The input string {bin_in_string} is not a binary string')"
   ]
  },
  {
   "cell_type": "markdown",
   "id": "d635490d",
   "metadata": {},
   "source": [
    "5. Write a Python program to find uncommon words from two Strings?"
   ]
  },
  {
   "cell_type": "code",
   "execution_count": 10,
   "id": "9e373d99",
   "metadata": {},
   "outputs": [
    {
     "name": "stdout",
     "output_type": "stream",
     "text": [
      "List1 + List 2 : ['I', 'am', 'at', 'home', 'My', 'dog', 'is', 'at', 'home']\n",
      "List with uncommon words :['I', 'am', 'My', 'dog', 'is']\n"
     ]
    }
   ],
   "source": [
    "string1 = 'I am at home'\n",
    "string2 = 'My dog is at home'\n",
    "\n",
    "list1 = string1.split()\n",
    "list2 = string2.split()\n",
    "\n",
    "list3 = list1+list2\n",
    "print(f'List1 + List 2 : {list3}')\n",
    "\n",
    "unclist = list()\n",
    "\n",
    "for el in list3:\n",
    "    if list3.count(el) <= 1 :\n",
    "        unclist.append(el)\n",
    "    else :\n",
    "        continue\n",
    "        \n",
    "print(f'List with uncommon words :{unclist}')"
   ]
  },
  {
   "cell_type": "markdown",
   "id": "5f45d2c1",
   "metadata": {},
   "source": [
    "6. Write a Python to find all duplicate characters in string?"
   ]
  },
  {
   "cell_type": "code",
   "execution_count": 8,
   "id": "f8e9a970",
   "metadata": {},
   "outputs": [
    {
     "name": "stdout",
     "output_type": "stream",
     "text": [
      "List1 + List 2 : ['I', 'am', 'at', 'home', 'My', 'dog', 'is', 'at', 'home']\n",
      "List with duplicate words :['at', 'home']\n"
     ]
    }
   ],
   "source": [
    "string1 = 'I am at home'\n",
    "string2 = 'My dog is at home'\n",
    "\n",
    "list1 = string1.split()\n",
    "list2 = string2.split()\n",
    "\n",
    "list3 = list1+list2\n",
    "print(f'List1 + List 2 : {list3}')\n",
    "\n",
    "clist = list()\n",
    "\n",
    "for el in list3:\n",
    "    if list3.count(el) > 1 :\n",
    "        clist.append(el)\n",
    "    else :\n",
    "        continue\n",
    "        \n",
    "clist = list(set(clist))        \n",
    "print(f'List with duplicate words :{clist}')"
   ]
  },
  {
   "cell_type": "markdown",
   "id": "12906878",
   "metadata": {},
   "source": [
    "7. Write a Python Program to check if a string contains any special character?"
   ]
  },
  {
   "cell_type": "code",
   "execution_count": 9,
   "id": "1262bfa0",
   "metadata": {},
   "outputs": [
    {
     "name": "stdout",
     "output_type": "stream",
     "text": [
      "List of special characters in the given string :['!', '.', '-', '-', '?', '?', '?']\n"
     ]
    }
   ],
   "source": [
    "from string import punctuation\n",
    "\n",
    "listpunc = list(set(punctuation))\n",
    "#print(listpunc)\n",
    "\n",
    "mystring1 = 'Hi! I am nndjwig. -- How ???'\n",
    "#mystring1 = 'Hi i m '\n",
    "mystring1list = list()\n",
    "\n",
    "for i in mystring1: \n",
    "    mystring1list.append(i)\n",
    "\n",
    "#print(mystring1list)\n",
    "\n",
    "spchlist = list()\n",
    "\n",
    "for ele in mystring1list :\n",
    "    if ele  in  listpunc : \n",
    "        #print(ele)\n",
    "        spchlist.append(ele)\n",
    "    else :\n",
    "        continue\n",
    "        \n",
    "#print(len(spchlist))        \n",
    "        \n",
    "if len(spchlist) > 0 : \n",
    "    print(f'List of special characters in the given string :{ spchlist}')        \n",
    "else : \n",
    "    print('No special characters in a given string.')"
   ]
  },
  {
   "cell_type": "code",
   "execution_count": null,
   "id": "eeed5808",
   "metadata": {},
   "outputs": [],
   "source": []
  }
 ],
 "metadata": {
  "kernelspec": {
   "display_name": "Python 3",
   "language": "python",
   "name": "python3"
  },
  "language_info": {
   "codemirror_mode": {
    "name": "ipython",
    "version": 3
   },
   "file_extension": ".py",
   "mimetype": "text/x-python",
   "name": "python",
   "nbconvert_exporter": "python",
   "pygments_lexer": "ipython3",
   "version": "3.8.8"
  }
 },
 "nbformat": 4,
 "nbformat_minor": 5
}
