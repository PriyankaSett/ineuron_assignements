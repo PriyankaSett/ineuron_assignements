{
 "cells": [
  {
   "cell_type": "markdown",
   "id": "52979b7a",
   "metadata": {},
   "source": [
    "## Python Basics - Programming Assignment 18"
   ]
  },
  {
   "cell_type": "markdown",
   "id": "f1b6f324",
   "metadata": {},
   "source": [
    "Question 1\n",
    "Create a function that takes a list of non-negative integers and strings and return a new list\n",
    "without the strings.  \n",
    "Examples  \n",
    "filter_list([1, 2, &quot;a&quot;, &quot;b&quot;]) ➞ [1, 2]  \n",
    "filter_list([1, &quot;a&quot;, &quot;b&quot;, 0, 15]) ➞ [1, 0, 15]  \n",
    "filter_list([1, 2, &quot;aasf&quot;, &quot;1&quot;, &quot;123&quot;, 123]) ➞ [1, 2, 123]  "
   ]
  },
  {
   "cell_type": "code",
   "execution_count": 1,
   "id": "6dc3da60",
   "metadata": {},
   "outputs": [
    {
     "name": "stdout",
     "output_type": "stream",
     "text": [
      "List after removing string [1, 2, 'aasf', '1', '123', 123] is : [1, 2, 123]\n"
     ]
    }
   ],
   "source": [
    "def filter_strings(inlist) :\n",
    "    \"\"\"\n",
    "    This function filter strings in a given list\n",
    "    \n",
    "    \"\"\"\n",
    "    list2 = list()\n",
    "    for ele in inlist: \n",
    "        #print(ele)\n",
    "        if type(ele) == int :\n",
    "            #print(ele)\n",
    "            list2.append(ele)\n",
    "    return list2\n",
    "\n",
    "\n",
    "\n",
    "list1 = [1, 2, \"aasf\", \"1\", \"123\", 123]\n",
    "\n",
    "print(f'List after removing string {list1} is : {filter_strings(list1)}')      "
   ]
  },
  {
   "cell_type": "markdown",
   "id": "35039ea6",
   "metadata": {},
   "source": [
    "\n",
    "Question 2\n",
    "The &quot;Reverser&quot; takes a string as input and returns that string in reverse order, with the\n",
    "opposite case.  \n",
    "Examples  \n",
    "reverse(&quot;Hello World&quot;) ➞ &quot;DLROw OLLEh&quot;  \n",
    "reverse(&quot;ReVeRsE&quot;) ➞ &quot;eSrEvEr&quot;  \n",
    "reverse(&quot;Radar&quot;) ➞ &quot;RADAr&quot;  "
   ]
  },
  {
   "cell_type": "code",
   "execution_count": 2,
   "id": "a17afc66",
   "metadata": {},
   "outputs": [
    {
     "name": "stdout",
     "output_type": "stream",
     "text": [
      "Reverse of Hello World : DLROw OLLEh\n"
     ]
    }
   ],
   "source": [
    "def reverse(instring) :\n",
    "    \n",
    "    \"\"\"\n",
    "    This function takes a string as input and returns that string \n",
    "    in reverse order, with the opposite case.\n",
    "    Examples\n",
    "    reverse(\"Hello World\") ➞ \"DLROw OLLEh\"\n",
    "    \n",
    "    \"\"\"\n",
    "    return instring.swapcase()[::-1]\n",
    "\n",
    "\n",
    "string1 = 'Hello World'\n",
    "print(f'Reverse of {string1} : {reverse(string1)}')  "
   ]
  },
  {
   "cell_type": "markdown",
   "id": "b4c95cce",
   "metadata": {},
   "source": [
    "\n",
    "Question 3  \n",
    "You can assign variables from lists like this:  \n",
    "lst = [1, 2, 3, 4, 5, 6]  \n",
    "first = lst[0]  \n",
    "middle = lst[1:-1]  \n",
    "last = lst[-1]  \n",
    "print(first) ➞ outputs 1  \n",
    "print(middle) ➞ outputs [2, 3, 4, 5]  \n",
    "print(last) ➞ outputs 6  \n",
    "With Python 3, you can assign variables from lists in a much more succinct way. Create\n",
    "variables first, middle and last from the given list using destructuring assignment\n",
    "(check the Resources tab for some examples), where:  \n",
    "first ➞ 1  \n",
    "middle ➞ [2, 3, 4, 5]  \n",
    "last ➞ 6  \n",
    "\n",
    "Your task is to unpack the list write your code here into three variables, being first,\n",
    "middle, and last, with middle being everything in between the first and last element. Then\n",
    "print all three variables."
   ]
  },
  {
   "cell_type": "code",
   "execution_count": 3,
   "id": "33522e92",
   "metadata": {},
   "outputs": [
    {
     "name": "stdout",
     "output_type": "stream",
     "text": [
      "Unpacking the list [1, 2, 3, 4, 5, 6] : (1, [2, 3, 4, 5], 6)\n"
     ]
    }
   ],
   "source": [
    "def list_sampling(list1) : \n",
    "    \"\"\"\n",
    "    This function unpack the list and gives three variables, \n",
    "     first, middle, and last, with middle being everything in \n",
    "     between the first and last element. Then printing all three variables.\n",
    "       \n",
    "    \"\"\"\n",
    "    first, *middle, last = list1\n",
    "    return first, middle, last\n",
    "\n",
    "list3 = [1,2,3,4,5,6]\n",
    "\n",
    "print(f'Unpacking the list {list3} : {list_sampling(list3)}')"
   ]
  },
  {
   "cell_type": "markdown",
   "id": "298455a7",
   "metadata": {},
   "source": [
    "\n",
    "Question 4  \n",
    "Write a function that calculates the factorial of a number recursively.  \n",
    "Examples  \n",
    "factorial(5) ➞ 120  \n",
    "factorial(3) ➞ 6  \n",
    "factorial(1) ➞ 1  \n",
    "factorial(0) ➞ 1  "
   ]
  },
  {
   "cell_type": "code",
   "execution_count": 4,
   "id": "e5a17b8f",
   "metadata": {},
   "outputs": [
    {
     "name": "stdout",
     "output_type": "stream",
     "text": [
      "Enter the number : 5\n",
      "Factorial of 5 : 120\n"
     ]
    }
   ],
   "source": [
    "def factorial_recursive(n) : \n",
    "    \"\"\"\n",
    "    Finding factorial using recursive method    \n",
    "    \"\"\"\n",
    "\n",
    "    if n == 0 or n == 1 : \n",
    "        return n\n",
    "        \n",
    "    else : \n",
    "        return n*factorial_recursive(n-1)    \n",
    "        \n",
    "        \n",
    "num1 = int(input('Enter the number : '))\n",
    "print(f'Factorial of {num1} : {factorial_recursive(num1)}')"
   ]
  },
  {
   "cell_type": "markdown",
   "id": "7496e749",
   "metadata": {},
   "source": [
    "\n",
    "Question 5\n",
    "Write a function that moves all elements of one type to the end of the list.\n",
    "Examples  \n",
    "move_to_end([1, 3, 2, 4, 4, 1], 1) ➞ [3, 2, 4, 4, 1, 1]  \n",
    "Move all the 1s to the end of the array.  \n",
    "move_to_end([7, 8, 9, 1, 2, 3, 4], 9) ➞ [7, 8, 1, 2, 3, 4, 9]  \n",
    "move_to_end([&quot;a&quot;, &quot;a&quot;, &quot;a&quot;, &quot;b&quot;], &quot;a&quot;) ➞ [&quot;b&quot;, &quot;a&quot;, &quot;a&quot;, &quot;a&quot;]  "
   ]
  },
  {
   "cell_type": "code",
   "execution_count": 5,
   "id": "6190be0f",
   "metadata": {},
   "outputs": [
    {
     "name": "stdout",
     "output_type": "stream",
     "text": [
      "['b', 'a', 'a', 'a']\n",
      "['a', 'a', 'a', 'b']\n",
      "['a', 'a', 'a']\n"
     ]
    }
   ],
   "source": [
    "ll = ['a', 'a', 'a', 'b']\n",
    "l2 = sorted(ll)\n",
    "\n",
    "lsame = [i for i in ll if ll.count(i)>1]\n",
    "lsame = sorted(lsame, reverse = True)\n",
    "lnew = list()\n",
    "\n",
    "for i in lsame: \n",
    "    ll.remove(i)\n",
    "\n",
    "    \n",
    "ll.extend(lsame)    \n",
    "print(ll)\n",
    "print(l2)\n",
    "print(lsame)\n"
   ]
  },
  {
   "cell_type": "code",
   "execution_count": 6,
   "id": "7b6bef10",
   "metadata": {},
   "outputs": [
    {
     "name": "stdout",
     "output_type": "stream",
     "text": [
      "Original List : [1, 2, 3, 1, 4, 1, 5, 6], character to be moved : 1\n",
      "Modified list : [2, 3, 4, 5, 6, 1, 1, 1]\n",
      "\n",
      "Original List : [8, 9, 5, 7, 1, 3, 1], character to be moved : 5\n",
      "Modified list : [8, 9, 7, 1, 3, 1, 5]\n"
     ]
    }
   ],
   "source": [
    "def move_to_end(inlist1, char1): \n",
    "    \"\"\"\n",
    "    This function that moves all elements of one type to the end of the list. \n",
    "    Examples : \n",
    "    move_to_end([1, 3, 2, 4, 4, 1], 1) ➞ [3, 2, 4, 4, 1, 1]\n",
    "    Move all the 1s to the end of the array.\n",
    "    \"\"\"\n",
    "      \n",
    "    print(f'Original List : {inlist1}, character to be moved : {char1}')    \n",
    "    count_n = inlist1.count(char1)\n",
    "    #print(count_n)\n",
    "\n",
    "       \n",
    "    if count_n > 1: \n",
    "       \n",
    "        l2 = list()\n",
    "        l2 = [char1]\n",
    "        \n",
    "        for i in range(0, count_n) : \n",
    "            inlist1.remove(char1)\n",
    "            #print('list after removing same', inlist1)\n",
    "        \n",
    "        for i in range(0, count_n) : \n",
    "            inlist1.extend(l2)\n",
    "            #print('main list after removing and modifying', inlist1)       \n",
    "        \n",
    "    \n",
    "    else :\n",
    "        l2 = list()\n",
    "        l2 = [char1]\n",
    "        inlist1.remove(char1)\n",
    "        #print('list after removing same', inlist1)\n",
    "        inlist1.extend(l2)\n",
    "        #print('main list after removing and modifying', inlist1)\n",
    "    \n",
    "    \n",
    "    return inlist1\n",
    "\n",
    "\n",
    "\n",
    "uslist1 = [1,2,3,1,4,1,5,6]\n",
    "uschar1 = 1\n",
    "print(f'Modified list : {move_to_end(uslist1, uschar1)}\\n')\n",
    "\n",
    "uslist2 = [8,9,5,7,1,3,1]\n",
    "uschar2 = 5\n",
    "print(f'Modified list : {move_to_end(uslist2, uschar2)}')\n",
    "\n",
    "\n"
   ]
  },
  {
   "cell_type": "code",
   "execution_count": null,
   "id": "203be13f",
   "metadata": {},
   "outputs": [],
   "source": []
  }
 ],
 "metadata": {
  "kernelspec": {
   "display_name": "Python 3",
   "language": "python",
   "name": "python3"
  },
  "language_info": {
   "codemirror_mode": {
    "name": "ipython",
    "version": 3
   },
   "file_extension": ".py",
   "mimetype": "text/x-python",
   "name": "python",
   "nbconvert_exporter": "python",
   "pygments_lexer": "ipython3",
   "version": "3.8.8"
  }
 },
 "nbformat": 4,
 "nbformat_minor": 5
}
