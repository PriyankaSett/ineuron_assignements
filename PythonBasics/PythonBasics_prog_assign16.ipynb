{
 "cells": [
  {
   "cell_type": "markdown",
   "id": "6c4ae48b",
   "metadata": {},
   "source": [
    "## Python Basics - Assignment 16"
   ]
  },
  {
   "cell_type": "markdown",
   "id": "5e2e4fdd",
   "metadata": {},
   "source": [
    "Question1. Write a function that stutters a word as if someone is struggling to read it. The\n",
    "first two letters are repeated twice with an ellipsis ... and space after each, and then the\n",
    "word is pronounced with a question mark ?.\n",
    "Examples  \n",
    "stutter(&quot;incredible&quot;) ➞ &quot;in... in... incredible?&quot;  \n",
    "stutter(&quot;enthusiastic&quot;) ➞ &quot;en... en... enthusiastic?&quot;  \n",
    "stutter(&quot;outstanding&quot;) ➞ &quot;ou... ou... outstanding?&quot;  \n",
    "\n",
    "Hint :- Assume all input is in lower case and at least two characters long.  "
   ]
  },
  {
   "cell_type": "code",
   "execution_count": 1,
   "id": "a64095a7",
   "metadata": {},
   "outputs": [
    {
     "name": "stdout",
     "output_type": "stream",
     "text": [
      "Please enter the word : outstanding\n",
      "ou... ou... outstanding?\n"
     ]
    }
   ],
   "source": [
    "def stutter(str1): \n",
    "    \"\"\"\n",
    "    This function stutters a word as if someone is struggling to read it. \n",
    "    e.g stutter(\"incredible\") ➞ \"in... in... incredible?\"\n",
    "    \"\"\"\n",
    "    if len(str1)>=2 :\n",
    "        fstr1 = (str1[:2]+'...'+' ')*2 + str1 + '?' \n",
    "        return fstr1\n",
    "    else : \n",
    "        return 'Error : Input words should have more than one character.'\n",
    "\n",
    "instring = input('Please enter the word : ')\n",
    "print(stutter(instring)) "
   ]
  },
  {
   "cell_type": "markdown",
   "id": "0c9feeba",
   "metadata": {},
   "source": [
    "\n",
    "Question 2.Create a function that takes an angle in radians and returns the corresponding\n",
    "angle in degrees rounded to one decimal place.\n",
    "Examples  \n",
    "radians_to_degrees(1) ➞ 57.3  \n",
    "radians_to_degrees(20) ➞ 1145.9  \n",
    "radians_to_degrees(50) ➞ 2864.8  \n"
   ]
  },
  {
   "cell_type": "code",
   "execution_count": 2,
   "id": "2a944402",
   "metadata": {},
   "outputs": [
    {
     "name": "stdout",
     "output_type": "stream",
     "text": [
      "Enter the values in radian : 20\n",
      "20.0 radian is equal to 1146.5 degrees. \n"
     ]
    }
   ],
   "source": [
    "def radian_to_degrees(radn) :\n",
    "    \"\"\"\n",
    "    This function converts radian to degrees. \n",
    "    \"\"\"\n",
    "    deg = round(180*radn/3.14, 1)\n",
    "    return deg\n",
    "    \n",
    "    \n",
    "radianvalue = float(input('Enter the values in radian : '))\n",
    "degreevalue = radian_to_degrees(radianvalue)\n",
    "print(f'{radianvalue} radian is equal to {degreevalue} degrees. ')"
   ]
  },
  {
   "cell_type": "markdown",
   "id": "9c2abbd5",
   "metadata": {},
   "source": [
    "\n",
    "Question 3. In this challenge, establish if a given integer num is a Curzon number. If 1 plus\n",
    "2 elevated to num is exactly divisible by 1 plus 2 multiplied by num, then num is a Curzon\n",
    "number.\n",
    "Given a non-negative integer num, implement a function that returns True if num is a Curzon\n",
    "number, or False otherwise.\n",
    "Examples  \n",
    "is_curzon(5) ➞ True    \n",
    " 2 ** 5 + 1 = 33  \n",
    " 2 * 5 + 1 = 11  \n",
    " 33 is a multiple of 11  \n",
    "is_curzon(10) ➞ False  \n",
    " 2 ** 10 + 1 = 1025  \n",
    " 2 * 10 + 1 = 21  \n",
    " 1025 is not a multiple of 21  \n",
    "is_curzon(14) ➞ True  \n",
    " 2 ** 14 + 1 = 16385  \n",
    " 2 * 14 + 1 = 29  \n",
    " 16385 is a multiple of 29  "
   ]
  },
  {
   "cell_type": "code",
   "execution_count": 3,
   "id": "dea850ef",
   "metadata": {},
   "outputs": [
    {
     "name": "stdout",
     "output_type": "stream",
     "text": [
      "Enter number : 14\n",
      "True\n"
     ]
    }
   ],
   "source": [
    "def is_curzon(n) : \n",
    "    \"\"\"\n",
    "    This function checks if a number is curzon number or not. \n",
    "    \n",
    "    \"\"\"\n",
    "    t1 = 2**num + 1\n",
    "    t2 = 2*num + 1\n",
    "    if (t1%t2 == 0) :\n",
    "        return True\n",
    "    return False\n",
    "\n",
    "num = int(input('Enter number : '))\n",
    "\n",
    "if is_curzon(num) : \n",
    "    print(True)\n",
    "else :\n",
    "    print(False)\n"
   ]
  },
  {
   "cell_type": "markdown",
   "id": "5ef0cbc4",
   "metadata": {},
   "source": [
    "\n",
    "Question 4.Given the side length x find the area of a hexagon.  \n",
    "\n",
    "Examples  \n",
    "area_of_hexagon(1) ➞ 2.6  \n",
    "area_of_hexagon(2) ➞ 10.4  \n",
    "area_of_hexagon(3) ➞ 23.4  \n"
   ]
  },
  {
   "cell_type": "code",
   "execution_count": 4,
   "id": "73e6f7f5",
   "metadata": {},
   "outputs": [
    {
     "name": "stdout",
     "output_type": "stream",
     "text": [
      "Please enter the value of side in cm:  2\n",
      "Area of hexagon with side 2.0 cm is 10.4 cm^2\n"
     ]
    }
   ],
   "source": [
    "def area_hexagon(a) : \n",
    "    \"\"\"\n",
    "    This function finds the area of a hexagon, given the side 'a'. \n",
    "    \"\"\"\n",
    "    area = round(3*np.sqrt(3)*a*a/2, 1)    \n",
    "    return area\n",
    "    \n",
    "    \n",
    "import numpy as np\n",
    "\n",
    "side_a = float(input('Please enter the value of side in cm:  '))\n",
    "print(f'Area of hexagon with side {side_a} cm is {area_hexagon(side_a)} cm^2')\n",
    "\n",
    "\n",
    "    "
   ]
  },
  {
   "cell_type": "markdown",
   "id": "64a575e4",
   "metadata": {},
   "source": [
    "\n",
    "Question 5. Create a function that returns a base-2 (binary) representation of a base-10\n",
    "(decimal) string number. To convert is simple: ((2) means base-2 and (10) means base-10)\n",
    "010101001(2) = 1 + 8 + 32 + 128.\n",
    "Going from right to left, the value of the most right bit is 1, now from that every bit to the left\n",
    "will be x2 the value, value of an 8 bit binary numbers are (256, 128, 64, 32, 16, 8, 4, 2, 1).  \n",
    "Examples  \n",
    "binary(1) ➞ &quot;1&quot;  \n",
    " 1 * 1 = 1  \n",
    "binary(5) ➞ &quot;101&quot;  \n",
    " 1 * 1 + 1 * 4 = 5  \n",
    "binary(10) ➞ &quot;1010&quot;  \n",
    " 1 * 2 + 1 * 8 = 10  "
   ]
  },
  {
   "cell_type": "code",
   "execution_count": 5,
   "id": "2c09ea8f",
   "metadata": {},
   "outputs": [
    {
     "name": "stdout",
     "output_type": "stream",
     "text": [
      "Convert decimal to binary.\n",
      "Enter the decimal number : 100\n",
      "Binary  for 100 : 1100100\n"
     ]
    }
   ],
   "source": [
    "def decimal_to_binary(dnum) : \n",
    "    \"\"\"\n",
    "    This function converts decimal numbers to binary numbers\n",
    "    \"\"\"\n",
    "    binstr = str()\n",
    "    while dnum >= 1:\n",
    "        div = dnum%2\n",
    "        #print('----- ',dnum, \"   \", div, \"  \")\n",
    "        binstr = binstr+str(div)    \n",
    "        dnum = dnum//2\n",
    "        #print(binstr)\n",
    "    \n",
    "    binstr = binstr[::-1]\n",
    "    return binstr\n",
    "    \n",
    "    \n",
    "    \n",
    "\n",
    "print('Convert decimal to binary.')\n",
    "dnum = int(input(\"Enter the decimal number : \"))\n",
    "print(f'Binary  for {dnum} : {decimal_to_binary(dnum)}')\n",
    "\n"
   ]
  },
  {
   "cell_type": "code",
   "execution_count": null,
   "id": "46fa9bba",
   "metadata": {},
   "outputs": [],
   "source": []
  },
  {
   "cell_type": "code",
   "execution_count": null,
   "id": "7f1237f8",
   "metadata": {},
   "outputs": [],
   "source": []
  }
 ],
 "metadata": {
  "kernelspec": {
   "display_name": "Python 3",
   "language": "python",
   "name": "python3"
  },
  "language_info": {
   "codemirror_mode": {
    "name": "ipython",
    "version": 3
   },
   "file_extension": ".py",
   "mimetype": "text/x-python",
   "name": "python",
   "nbconvert_exporter": "python",
   "pygments_lexer": "ipython3",
   "version": "3.8.8"
  }
 },
 "nbformat": 4,
 "nbformat_minor": 5
}
