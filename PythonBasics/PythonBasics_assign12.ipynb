{
 "cells": [
  {
   "cell_type": "markdown",
   "id": "5cf14326",
   "metadata": {},
   "source": [
    "## Python Basics - Assignment 12"
   ]
  },
  {
   "cell_type": "markdown",
   "id": "4e6ab18f",
   "metadata": {},
   "source": [
    "1. In what modes should the PdfFileReader() and PdfFileWriter() File objects will be opened? \n",
    "\n",
    "- Ans : For PdfFileReader() file objects WILL be opened in rb -> read binary mode, Whereas for PdfFileWriter() file objects WILL be opened in wb -> write binary mode."
   ]
  },
  {
   "cell_type": "markdown",
   "id": "c42850af",
   "metadata": {},
   "source": [
    "2. From a PdfFileReader object, how do you get a Page object for page 5? \n",
    "\n",
    "- Ans : Calling pdfReader.getPage(4) will return a Page object , since page 0 is the first page.\n"
   ]
  },
  {
   "cell_type": "markdown",
   "id": "3cd8654f",
   "metadata": {},
   "source": [
    "3. What PdfFileReader variable stores the number of pages in the PDF document? \n",
    "\n",
    "- Ans : The number_of_Pages variable stores an integer of the number of pages in the PdfFileReader object."
   ]
  },
  {
   "cell_type": "markdown",
   "id": "d434f497",
   "metadata": {},
   "source": [
    "4. If a PdfFileReader object’s PDF is encrypted with the password swordfish, what must you do\n",
    "before you can obtain Page objects from it? \n",
    "\n",
    "- Ans : By Calling pdfReader.decrypt('swordfish')\n"
   ]
  },
  {
   "cell_type": "markdown",
   "id": "0dd31799",
   "metadata": {},
   "source": [
    "5. What methods do you use to rotate a page? \n",
    "\n",
    "- Ans : PyPDF2 Package provides 2 methods to rotate a page:\n",
    "\n",
    "    - rotateClockWise() -> For Clockwise rotation\n",
    "    - rotateCounterClockWise() -> For Counter Clockwise rotation\n",
    "\n",
    "The PyPDF2 package only allows you to rotate a page in increments of 90 degrees. You will receive an AssertionError otherwise."
   ]
  },
  {
   "cell_type": "markdown",
   "id": "0249b1cf",
   "metadata": {},
   "source": [
    "6. What is the difference between a Run object and a Paragraph object? \n",
    "\n",
    "- Ans : The structure of a document is represented by three different data types in python-Docx. At the highest level, a Document object represents the entire document. The Document object contains a list of Paragraph objects for the paragraphs in the document. (A new paragraph begins whenever the user presses ENTER or RETURN while typing in a Word document.) Each of these Paragraph objects contains a list of one or more Run objects.\n",
    "\n",
    "The text in a Word document is more than just a string. It has font, size, color, and other styling information associated with it. A style in Word is a collection of these attributes. A Run object is a contiguous run of text with the same style. A new Run object is needed whenever the text style changes."
   ]
  },
  {
   "cell_type": "markdown",
   "id": "2e55af56",
   "metadata": {},
   "source": [
    "7. How do you obtain a list of Paragraph objects for a Document object that’s stored in a variable\n",
    "named doc? \n",
    "\n",
    "- Ans : By using `doc.paragraphs`."
   ]
  },
  {
   "cell_type": "markdown",
   "id": "475e3861",
   "metadata": {},
   "source": [
    "8. What type of object has bold, underline, italic, strike, and outline variables? \n",
    "\n",
    "- Ans : `Run` object has bold, underline, italic, strike, and outline variables. The text in a Word document is more than just a string. It has font, size, color, and other styling information associated with it.\n",
    "\n",
    "A style in Word is a collection of these attributes. A Run object is a contiguous run of text with the same style. A new Run object is needed whenever the text style changes."
   ]
  },
  {
   "cell_type": "markdown",
   "id": "011136f4",
   "metadata": {},
   "source": [
    "9. What is the difference between False, True, and None for the bold variable? \n",
    "\n",
    "- Ans :       \n",
    "        bold = True  # Style Set to Bold\n",
    "        bold = False # Style Not Set to Bold\n",
    "        bold = None # Style is Not Applicable"
   ]
  },
  {
   "cell_type": "markdown",
   "id": "9a51f6b0",
   "metadata": {},
   "source": [
    "10. How do you create a Document object for a new Word document? \n",
    "\n",
    "- Ans : By Calling `docx.Document()`."
   ]
  },
  {
   "cell_type": "markdown",
   "id": "9831bea3",
   "metadata": {},
   "source": [
    "11. How do you add a paragraph with the text &#39;Hello, there!&#39; to a Document object stored in a\n",
    "variable named doc? \n",
    "\n",
    "- Ans \n",
    "            doc.add_paragraph('Hello there!')"
   ]
  },
  {
   "cell_type": "markdown",
   "id": "fc06f989",
   "metadata": {},
   "source": [
    "12. What integers represent the levels of headings available in Word documents? \n",
    "\n",
    "- Ans The levels for a heading in a word document can be specified by using the level attribute inside the add_heading method. There are a total of 5 levels statring for 0 to 4. where level 0 makes a headline with the horizontal line below the text, whereas the heading level 1 is the main heading. Similarly, the other headings are sub-heading with their's font-sizes in decreasing order."
   ]
  },
  {
   "cell_type": "code",
   "execution_count": null,
   "id": "e642d7fb",
   "metadata": {},
   "outputs": [],
   "source": []
  }
 ],
 "metadata": {
  "kernelspec": {
   "display_name": "Python 3",
   "language": "python",
   "name": "python3"
  },
  "language_info": {
   "codemirror_mode": {
    "name": "ipython",
    "version": 3
   },
   "file_extension": ".py",
   "mimetype": "text/x-python",
   "name": "python",
   "nbconvert_exporter": "python",
   "pygments_lexer": "ipython3",
   "version": "3.8.8"
  }
 },
 "nbformat": 4,
 "nbformat_minor": 5
}
