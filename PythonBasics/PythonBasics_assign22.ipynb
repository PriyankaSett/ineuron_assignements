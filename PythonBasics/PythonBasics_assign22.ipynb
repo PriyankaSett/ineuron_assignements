{
 "cells": [
  {
   "cell_type": "markdown",
   "id": "e3cae015",
   "metadata": {},
   "source": [
    "## Python Basics - Assignment 22"
   ]
  },
  {
   "cell_type": "markdown",
   "id": "2a3b08d1",
   "metadata": {},
   "source": [
    "1. What is the result of the code, and explain?\n",
    "\n",
    "&gt;&gt;&gt; X = &#39;iNeuron&#39;   \n",
    "&gt;&gt;&gt; def func():   \n",
    "print(X)   \n",
    "&gt;&gt;&gt; func()  \n"
   ]
  },
  {
   "cell_type": "markdown",
   "id": "24f8e466",
   "metadata": {},
   "source": [
    "- Ans : The Result of this code is iNeuron. it is because the function intially looks for the variable X in its local scope but since there is no local variable X, it returns the value of global variable X i.e iNeuron. "
   ]
  },
  {
   "cell_type": "code",
   "execution_count": 1,
   "id": "e84dddfc",
   "metadata": {},
   "outputs": [
    {
     "name": "stdout",
     "output_type": "stream",
     "text": [
      "iNeuron\n"
     ]
    }
   ],
   "source": [
    " X = 'iNeuron'\n",
    "def func():\n",
    "    print(X)\n",
    "func() "
   ]
  },
  {
   "cell_type": "markdown",
   "id": "bfbfddd0",
   "metadata": {},
   "source": [
    "2. What is the result of the code, and explain?\n",
    "\n",
    "&gt;&gt;&gt; X = &#39;iNeuron&#39;  \n",
    "&gt;&gt;&gt; def func():  \n",
    "X = &#39;NI!&#39;  \n",
    "\n",
    "&gt;&gt;&gt; func()  \n",
    "&gt;&gt;&gt; print(X)  "
   ]
  },
  {
   "cell_type": "markdown",
   "id": "7ed5fcff",
   "metadata": {},
   "source": [
    "- Ans : The Result of this code is iNeuron. Globally X is assigned to 'iNeuron'. Inside the function func, in local scope the value of X is NI!. So, this value is true inside the function func() in local scope. While print(X) will give the global value for X. "
   ]
  },
  {
   "cell_type": "code",
   "execution_count": 2,
   "id": "ce78f762",
   "metadata": {},
   "outputs": [
    {
     "name": "stdout",
     "output_type": "stream",
     "text": [
      "iNeuron\n"
     ]
    }
   ],
   "source": [
    "X = 'iNeuron'\n",
    "def func():\n",
    "    X = 'NI!'\n",
    "    \n",
    "func()\n",
    "print(X) "
   ]
  },
  {
   "cell_type": "markdown",
   "id": "6f5ca599",
   "metadata": {},
   "source": [
    "3. What does this code print, and why?\n",
    "\n",
    "&gt;&gt;&gt; X = &#39;iNeuron&#39; \n",
    "\n",
    "&gt;&gt;&gt;  def func():   \n",
    "X = &#39;NI&#39;   \n",
    "print(X) \n",
    "\n",
    "&gt;&gt;&gt; func() \n",
    "&gt;&gt;&gt; print(X) "
   ]
  },
  {
   "cell_type": "markdown",
   "id": "d1c021ae",
   "metadata": {},
   "source": [
    "- Ans : The ans is NI and iNeuron. X=NI is in the local scope of the function func(). Hence the function prints the x value as NI. X = 'iNeuron' is in the global scope. Hence print(X) prints output as iNeuron"
   ]
  },
  {
   "cell_type": "code",
   "execution_count": 3,
   "id": "c0a85c4d",
   "metadata": {},
   "outputs": [
    {
     "name": "stdout",
     "output_type": "stream",
     "text": [
      "NI\n",
      "iNeuron\n"
     ]
    }
   ],
   "source": [
    " X = 'iNeuron'\n",
    "def func(): \n",
    "    X = 'NI' \n",
    "    print(X)\n",
    "\n",
    "func()\n",
    "print(X) "
   ]
  },
  {
   "cell_type": "markdown",
   "id": "a2343857",
   "metadata": {},
   "source": [
    "\n",
    "4. What output does this code produce? Why?\n",
    "\n",
    "&gt;&gt;&gt; X = &#39;iNeuron&#39;  \n",
    "&gt;&gt;&gt; def func():  \n",
    "global X  \n",
    "X = &#39;NI&#39;  \n",
    "\n",
    "&gt;&gt;&gt; func()  \n",
    "&gt;&gt;&gt; print(X)  "
   ]
  },
  {
   "cell_type": "markdown",
   "id": "90460b09",
   "metadata": {},
   "source": [
    "- Ans : The output of the code is NI. The global keyword allows a variable to be accessible in the current scope. Since we are using global keyword inside the function func, it directly accesses the variable in X in global scope and changes its value to NI. Hence the output of the code is NI."
   ]
  },
  {
   "cell_type": "code",
   "execution_count": 4,
   "id": "263ef7e3",
   "metadata": {},
   "outputs": [
    {
     "name": "stdout",
     "output_type": "stream",
     "text": [
      "NI\n"
     ]
    }
   ],
   "source": [
    "X = 'iNeuron'\n",
    "def func():\n",
    "    global X\n",
    "    X = 'NI'\n",
    "\n",
    "func()\n",
    "print(X) "
   ]
  },
  {
   "cell_type": "markdown",
   "id": "6ae92875",
   "metadata": {},
   "source": [
    "\n",
    "5. What about this code—what’s the output, and why?\n",
    "\n",
    "&gt;&gt;&gt; X = &#39;iNeuron&#39;  \n",
    "&gt;&gt;&gt; def func():  \n",
    "X = &#39;NI&#39;  \n",
    "def nested():  \n",
    "print(X)  \n",
    "nested()  \n",
    "\n",
    "&gt;&gt;&gt; func()  \n",
    "&gt;&gt;&gt; X  "
   ]
  },
  {
   "cell_type": "markdown",
   "id": "436a7445",
   "metadata": {},
   "source": [
    "- Ans : The output of the code is NI and iNeuron. Output of func() is 'NI' because it has a variable X as 'NI' in its local scope whereas Output of X is 'iNeuron' because it refers to variable X that is having global scope instead of referring to a variable having a local scope in a function."
   ]
  },
  {
   "cell_type": "code",
   "execution_count": 5,
   "id": "f79af1fc",
   "metadata": {},
   "outputs": [
    {
     "name": "stdout",
     "output_type": "stream",
     "text": [
      "NI\n"
     ]
    },
    {
     "data": {
      "text/plain": [
       "'iNeuron'"
      ]
     },
     "execution_count": 5,
     "metadata": {},
     "output_type": "execute_result"
    }
   ],
   "source": [
    "X = 'iNeuron'\n",
    "def func():\n",
    "    X = 'NI'\n",
    "    def nested():\n",
    "        print(X)\n",
    "    nested()\n",
    "func()\n",
    "X "
   ]
  },
  {
   "cell_type": "markdown",
   "id": "a23c53eb",
   "metadata": {},
   "source": [
    "6. How about this code: what is its output in Python 3, and explain?\n",
    "\n",
    "&gt;&gt;&gt; def func():  \n",
    "X = &#39;NI&#39;  \n",
    "def nested():   \n",
    "nonlocal X  \n",
    "X = &#39;Spam&#39;  \n",
    "nested()  \n",
    "print(X)  \n",
    "\n",
    "&gt;&gt;&gt; func()  "
   ]
  },
  {
   "cell_type": "markdown",
   "id": "10b6da7e",
   "metadata": {},
   "source": [
    "- Ans : The output of the code is Spam. nonlocal keyword in python is used to declare a variable as not local.Hence the statement X = \"Spam\" is modified in the global scope. Hence the output of print(X) statement is Spam."
   ]
  },
  {
   "cell_type": "code",
   "execution_count": 6,
   "id": "172ee53d",
   "metadata": {},
   "outputs": [
    {
     "name": "stdout",
     "output_type": "stream",
     "text": [
      "Spam\n"
     ]
    }
   ],
   "source": [
    "def func():\n",
    "    X = 'NI'\n",
    "    def nested():\n",
    "        nonlocal X\n",
    "        X = 'Spam'\n",
    "    nested()\n",
    "    print(X)\n",
    "\n",
    "func() "
   ]
  },
  {
   "cell_type": "code",
   "execution_count": null,
   "id": "e1d6101b",
   "metadata": {},
   "outputs": [],
   "source": []
  }
 ],
 "metadata": {
  "kernelspec": {
   "display_name": "Python 3",
   "language": "python",
   "name": "python3"
  },
  "language_info": {
   "codemirror_mode": {
    "name": "ipython",
    "version": 3
   },
   "file_extension": ".py",
   "mimetype": "text/x-python",
   "name": "python",
   "nbconvert_exporter": "python",
   "pygments_lexer": "ipython3",
   "version": "3.8.8"
  }
 },
 "nbformat": 4,
 "nbformat_minor": 5
}
