{
 "cells": [
  {
   "cell_type": "markdown",
   "id": "86373226",
   "metadata": {},
   "source": [
    "## Python Basics - Assignment 3"
   ]
  },
  {
   "cell_type": "markdown",
   "id": "e130063f",
   "metadata": {},
   "source": [
    "1. Why are functions advantageous to have in your programs?\n",
    "\n",
    "- Ans : Functions enhance the reusability of codes."
   ]
  },
  {
   "cell_type": "markdown",
   "id": "7333cf13",
   "metadata": {},
   "source": [
    "2. When does the code in a function run: when it's specified or when it's called?\n",
    "\n",
    "- Ans : The function will run when it is called.      "
   ]
  },
  {
   "cell_type": "markdown",
   "id": "01e1c5bf",
   "metadata": {},
   "source": [
    "3. What statement creates a function?\n",
    "\n",
    "- Ans : 'def'"
   ]
  },
  {
   "cell_type": "markdown",
   "id": "dea2a6bc",
   "metadata": {},
   "source": [
    "4. What is the difference between a function and a function call ?\n",
    "\n",
    "- Ans :  When a function is defined , it is just defined and a set\n",
    "of codes been written for that. Now, unless and until that function is called it is not going to perform any thing. Let us take an example. "
   ]
  },
  {
   "cell_type": "code",
   "execution_count": 1,
   "id": "c7bcb55b",
   "metadata": {},
   "outputs": [],
   "source": [
    "def fsquare(n) :\n",
    "    return n*n\n",
    "\n",
    "# the above written set of codes represents a function which \n",
    "# will be used to calculate a square for a given number. \n",
    "# Now this will not get used or this is not going to perform on \n",
    "#its own unless we use it in a main program and call it. "
   ]
  },
  {
   "cell_type": "code",
   "execution_count": 2,
   "id": "14072c18",
   "metadata": {},
   "outputs": [
    {
     "name": "stdout",
     "output_type": "stream",
     "text": [
      "Square of 1: 1\n",
      "Square of 2: 4\n",
      "Square of 3: 9\n",
      "Square of 4: 16\n"
     ]
    }
   ],
   "source": [
    "# here let us call the above function :\n",
    "\n",
    "mylist = [1,2,3,4]\n",
    "\n",
    "for i in mylist :\n",
    "    print(f'Square of {i}: {fsquare(i)}')\n",
    "    \n",
    "    \n",
    "# this is the main function where the function fsquare is called \n",
    "# to find out the square of the given numbers in the list.   "
   ]
  },
  {
   "cell_type": "markdown",
   "id": "d0b137bc",
   "metadata": {},
   "source": [
    "5. How many global scopes are there in a Python program? How many local scopes?\n",
    "\n",
    "- Ans : \n",
    "- There are two global scopes : built-in scope, global scope.   \n",
    "- There are two local scopes : local scope, enclosing scope."
   ]
  },
  {
   "cell_type": "markdown",
   "id": "794b7847",
   "metadata": {},
   "source": [
    "6. What happens to variables in a local scope when the function call returns?\n",
    "\n",
    "- Ans : The variables in local scopes are not seen/visible outside the function once the function call returns. "
   ]
  },
  {
   "cell_type": "markdown",
   "id": "5fda2cc4",
   "metadata": {},
   "source": [
    "7. What is the concept of a return value? Is it possible to have a return value in an expression?\n",
    "\n",
    "- Ans : \n",
    "\n",
    "- When a function is called, a set of operations are done and ultimately the we need to send back the result to the main function/code. This is done by return() statement. This 'result' is called as return value. The return value can be numbers, objects, strings etc etc. If the return statement does not have any expression 'NONE' value is returned.    \n",
    "\n",
    "- Yes it is possible to have a return value in an expression."
   ]
  },
  {
   "cell_type": "markdown",
   "id": "45596849",
   "metadata": {},
   "source": [
    "8. If a function does not have a return statement, what is the return value of a call to that function?\n",
    "\n",
    "- Ans : 'NONE' value"
   ]
  },
  {
   "cell_type": "markdown",
   "id": "a6f42d7a",
   "metadata": {},
   "source": [
    "9. How do you make a function variable refer to the global variable?\n",
    "\n",
    "- Ans :  \n",
    "- We declare the particular variable before the function is declared."
   ]
  },
  {
   "cell_type": "code",
   "execution_count": 3,
   "id": "644ff9d3",
   "metadata": {},
   "outputs": [
    {
     "name": "stdout",
     "output_type": "stream",
     "text": [
      "The area of circle with radius 9 cm is 254.34 cm^2\n"
     ]
    }
   ],
   "source": [
    "pi = 3.14\n",
    "\n",
    "def cir_area(r) :\n",
    "    area = pi*r*r\n",
    "    return (area)\n",
    "\n",
    "\n",
    "r = 9\n",
    "area = cir_area(r)\n",
    "\n",
    "print(f'The area of circle with radius {r} cm is {area} cm^2')    \n"
   ]
  },
  {
   "cell_type": "markdown",
   "id": "695f2c53",
   "metadata": {},
   "source": [
    "  \n",
    "- If the variable is inside another function then we can declare the variable as 'global' in the first function"
   ]
  },
  {
   "cell_type": "code",
   "execution_count": 4,
   "id": "e56a5025",
   "metadata": {},
   "outputs": [
    {
     "ename": "NameError",
     "evalue": "name 'pi1' is not defined",
     "output_type": "error",
     "traceback": [
      "\u001b[0;31m---------------------------------------------------------------------------\u001b[0m",
      "\u001b[0;31mNameError\u001b[0m                                 Traceback (most recent call last)",
      "\u001b[0;32m<ipython-input-4-865cfc02d6b6>\u001b[0m in \u001b[0;36m<module>\u001b[0;34m\u001b[0m\n\u001b[1;32m     13\u001b[0m \u001b[0;34m\u001b[0m\u001b[0m\n\u001b[1;32m     14\u001b[0m \u001b[0marea1\u001b[0m \u001b[0;34m=\u001b[0m \u001b[0mcir_area\u001b[0m\u001b[0;34m(\u001b[0m\u001b[0mr\u001b[0m\u001b[0;34m)\u001b[0m\u001b[0;34m\u001b[0m\u001b[0;34m\u001b[0m\u001b[0m\n\u001b[0;32m---> 15\u001b[0;31m \u001b[0mvol1\u001b[0m \u001b[0;34m=\u001b[0m \u001b[0mcylinder_volume\u001b[0m\u001b[0;34m(\u001b[0m\u001b[0mr\u001b[0m\u001b[0;34m,\u001b[0m\u001b[0mh\u001b[0m\u001b[0;34m)\u001b[0m\u001b[0;34m\u001b[0m\u001b[0;34m\u001b[0m\u001b[0m\n\u001b[0m\u001b[1;32m     16\u001b[0m \u001b[0mprint\u001b[0m\u001b[0;34m(\u001b[0m\u001b[0;34mf'Area of circle : {area1} cm^2'\u001b[0m\u001b[0;34m)\u001b[0m\u001b[0;34m\u001b[0m\u001b[0;34m\u001b[0m\u001b[0m\n\u001b[1;32m     17\u001b[0m \u001b[0mprint\u001b[0m\u001b[0;34m(\u001b[0m\u001b[0;34mf'Volume of cylinder : {vol1} cm^3'\u001b[0m\u001b[0;34m)\u001b[0m\u001b[0;34m\u001b[0m\u001b[0;34m\u001b[0m\u001b[0m\n",
      "\u001b[0;32m<ipython-input-4-865cfc02d6b6>\u001b[0m in \u001b[0;36mcylinder_volume\u001b[0;34m(r, h)\u001b[0m\n\u001b[1;32m      6\u001b[0m \u001b[0;34m\u001b[0m\u001b[0m\n\u001b[1;32m      7\u001b[0m \u001b[0;32mdef\u001b[0m \u001b[0mcylinder_volume\u001b[0m\u001b[0;34m(\u001b[0m\u001b[0mr\u001b[0m\u001b[0;34m,\u001b[0m\u001b[0mh\u001b[0m\u001b[0;34m)\u001b[0m \u001b[0;34m:\u001b[0m\u001b[0;34m\u001b[0m\u001b[0;34m\u001b[0m\u001b[0m\n\u001b[0;32m----> 8\u001b[0;31m     \u001b[0mvolume\u001b[0m \u001b[0;34m=\u001b[0m \u001b[0mpi1\u001b[0m\u001b[0;34m*\u001b[0m\u001b[0mr\u001b[0m\u001b[0;34m*\u001b[0m\u001b[0mr\u001b[0m\u001b[0;34m*\u001b[0m\u001b[0mh\u001b[0m\u001b[0;34m\u001b[0m\u001b[0;34m\u001b[0m\u001b[0m\n\u001b[0m\u001b[1;32m      9\u001b[0m     \u001b[0;32mreturn\u001b[0m \u001b[0mvolume\u001b[0m\u001b[0;34m\u001b[0m\u001b[0;34m\u001b[0m\u001b[0m\n\u001b[1;32m     10\u001b[0m \u001b[0;34m\u001b[0m\u001b[0m\n",
      "\u001b[0;31mNameError\u001b[0m: name 'pi1' is not defined"
     ]
    }
   ],
   "source": [
    "def cir_area(r) :     \n",
    "    pi1 = 3.14\n",
    "    area = pi1*r*r\n",
    "    a = r\n",
    "    return area\n",
    "\n",
    "def cylinder_volume(r,h) :\n",
    "    volume = pi1*r*r*h\n",
    "    return volume\n",
    "\n",
    "r = 4 \n",
    "h = 3\n",
    "\n",
    "area1 = cir_area(r)\n",
    "vol1 = cylinder_volume(r,h)\n",
    "print(f'Area of circle : {area1} cm^2')\n",
    "print(f'Volume of cylinder : {vol1} cm^3')"
   ]
  },
  {
   "cell_type": "code",
   "execution_count": 5,
   "id": "bf83f0f1",
   "metadata": {},
   "outputs": [
    {
     "name": "stdout",
     "output_type": "stream",
     "text": [
      "Area of circle : 50.24 cm^2\n",
      "Volume of cylinder : 150.72 cm^3\n"
     ]
    }
   ],
   "source": [
    "def cir_area(r) :\n",
    "    global pi1\n",
    "    pi1 = 3.14\n",
    "    area = pi1*r*r\n",
    "    a = r\n",
    "    return area\n",
    "\n",
    "def cylinder_volume(r,h) :\n",
    "    volume = pi1*r*r*h\n",
    "    return volume\n",
    "\n",
    "r = 4 \n",
    "h = 3\n",
    "\n",
    "area1 = cir_area(r)\n",
    "vol1 = cylinder_volume(r,h)\n",
    "print(f'Area of circle : {area1} cm^2')\n",
    "print(f'Volume of cylinder : {vol1} cm^3')"
   ]
  },
  {
   "cell_type": "markdown",
   "id": "2b438e87",
   "metadata": {},
   "source": [
    "10. What is the data type of None ?\n",
    "\n",
    "- Ans : NoneType"
   ]
  },
  {
   "cell_type": "markdown",
   "id": "213172a5",
   "metadata": {},
   "source": [
    "11. What does the sentence import areallyourpetsnamederic do?\n",
    "\n",
    "- Ans : 'import areallyourpetsnamederic' will import the function \n",
    "areallyourpetsnamederic"
   ]
  },
  {
   "cell_type": "markdown",
   "id": "ebd26bc2",
   "metadata": {},
   "source": [
    "12. If you had a bacon() feature in a spam module, what would you call it after importing spam?\n",
    "\n",
    "- Ans : spam.bacon()"
   ]
  },
  {
   "cell_type": "markdown",
   "id": "8212a98c",
   "metadata": {},
   "source": [
    "13. What can you do to save a programme from crashing if it encounters an error?\n",
    "\n",
    "- Ans : Will use 'try' - 'except'. will place the program in \n",
    "the try clause. "
   ]
  },
  {
   "cell_type": "markdown",
   "id": "62e7075c",
   "metadata": {},
   "source": [
    "14. What is the purpose of the try clause? What is the purpose of the except clause?\n",
    "\n",
    "- Ans : In 'try' block, we put the main code (which might have an \n",
    "error) and the exceptions are coded inside 'except' block. In this way the code does not crash and we come to know about the error too."
   ]
  },
  {
   "cell_type": "code",
   "execution_count": null,
   "id": "3f577a51",
   "metadata": {},
   "outputs": [],
   "source": []
  }
 ],
 "metadata": {
  "kernelspec": {
   "display_name": "Python 3",
   "language": "python",
   "name": "python3"
  },
  "language_info": {
   "codemirror_mode": {
    "name": "ipython",
    "version": 3
   },
   "file_extension": ".py",
   "mimetype": "text/x-python",
   "name": "python",
   "nbconvert_exporter": "python",
   "pygments_lexer": "ipython3",
   "version": "3.8.8"
  }
 },
 "nbformat": 4,
 "nbformat_minor": 5
}
