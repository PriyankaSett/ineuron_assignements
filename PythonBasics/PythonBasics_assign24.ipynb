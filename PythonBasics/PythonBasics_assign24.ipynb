{
 "cells": [
  {
   "cell_type": "markdown",
   "id": "7ffb718d",
   "metadata": {},
   "source": [
    "## Python Basics - Assignment 24"
   ]
  },
  {
   "cell_type": "markdown",
   "id": "e7648b8c",
   "metadata": {},
   "source": [
    "1. What is the relationship between def statements and lambda expressions ?"
   ]
  },
  {
   "cell_type": "markdown",
   "id": "ace5b904",
   "metadata": {},
   "source": [
    "- Ans :\n",
    "\n",
    "- In python, def defined functions are commonly used because of their simplicity. The def defined functions do not return anything if not explicitly returned whereas the lambda function does return an object. The def functions must be declared in the namespace. The def functions can perform any python task including multiple conditions, nested conditions or loops of any level, printing, importing libraries, raising Exceptions, etc. \n",
    "\n",
    "- The lambda functions can be used without any declaration in the namespace. The lambda functions defined above are like single-line functions. These functions do not have parenthesis like the def defined functions but instead, take parameters after the lambda keyword as shown above. There is no return keyword defined explicitly because the lambda function does return an object by default.\n"
   ]
  },
  {
   "cell_type": "markdown",
   "id": "f4b23acf",
   "metadata": {},
   "source": [
    "2. What is the benefit of lambda?"
   ]
  },
  {
   "cell_type": "markdown",
   "id": "dfa76231",
   "metadata": {},
   "source": [
    "- Ans : Lambda function has its own benefits : \n",
    "    - It can be used to create Nameless/Anonymous functions inside some complex functions if we are planning to use it only once.\n",
    "    - Moderate to small functions can be created in a single line.\n",
    "    - Fuctions created using lambda expressions can be assigned to a variable and can be used by simply calling the variable."
   ]
  },
  {
   "cell_type": "markdown",
   "id": "416481ce",
   "metadata": {},
   "source": [
    "3. Compare and contrast map, filter, and reduce."
   ]
  },
  {
   "cell_type": "markdown",
   "id": "041b161f",
   "metadata": {},
   "source": [
    "- Ans : \n",
    "\n",
    " - map(): The map() function is a type of higher-order. This function takes another function as a parameter along with a sequence of iterables and returns an output after applying the function to each iterable present in the sequence. \n",
    " - filter(): The filter() function is used to create an output list consisting of values for which the function returns True. \n",
    " - reduce(): The reduce() function, as the name describes, applies a given function to the iterables and returns a single value\n",
    "\n"
   ]
  },
  {
   "cell_type": "code",
   "execution_count": 1,
   "id": "a2b2165d",
   "metadata": {},
   "outputs": [
    {
     "name": "stdout",
     "output_type": "stream",
     "text": [
      "Map Method :  [2, 4, 6, 16]\n",
      "Filter Method :  [1, 3, 9]\n",
      "Reduce Method :  22\n"
     ]
    }
   ],
   "source": [
    "from functools import reduce\n",
    "# map function\n",
    "print('Map Method : ',list(map(lambda x:x+x, [1,2,3,8])))\n",
    "# fitler function\n",
    "print('Filter Method : ',list(filter(lambda x:x%2 !=0, [1,2,3,9])))\n",
    "# reduce function\n",
    "print('Reduce Method : ',reduce(lambda x,y:x+y, [1,2,3,4,5,7]))"
   ]
  },
  {
   "cell_type": "markdown",
   "id": "ebebedd0",
   "metadata": {},
   "source": [
    "4. What are function annotations, and how are they used?"
   ]
  },
  {
   "cell_type": "markdown",
   "id": "114f9659",
   "metadata": {},
   "source": [
    "- Ans : Function annotations are arbitrary python expressions that are associated with various part of functions. These expressions are evaluated at compile time and have no life in python’s runtime environment. Python does not attach any meaning to these annotations. They take life when interpreted by third party libraries, for example, mypy.\n",
    "\n",
    "- Purpose of function annotations:\n",
    "   The benefits from function annotations can only be reaped via third party libraries. The type of benefits depends upon the type of the library, for example \n",
    "\n",
    "    1. Python supports dynamic typing and hence no module is provided for type checking. Annotations like\n",
    "    [def foo(a:”int”, b:”float”=5.0)  -> ”int”]. The syntax can be used to collect information about the type of the parameters and the return type of the function to keep track of the type change occurring in the function. ‘mypy’ is one such library.\n",
    "    2. String based annotations can be used by the libraries to provide better help messages at compile time regarding the functionalities of various methods, classes and modules.\n",
    "\n",
    "   Syntax of function annotations They are like the optional parameters that follow the parameter name."
   ]
  },
  {
   "cell_type": "code",
   "execution_count": 2,
   "id": "1fe8b632",
   "metadata": {},
   "outputs": [
    {
     "name": "stdout",
     "output_type": "stream",
     "text": [
      "[1, 1, 2, 3, 5]\n"
     ]
    }
   ],
   "source": [
    "# Python program to print Fibonacci series\n",
    "def fib(n:'int', output:'list'=[])-> 'list':\n",
    "    if n == 0:\n",
    "        return output\n",
    "    else:\n",
    "        if len(output)< 2:\n",
    "            output.append(1)\n",
    "            fib(n-1, output)\n",
    "        else:\n",
    "            last = output[-1]\n",
    "            second_last = output[-2]\n",
    "            output.append(last + second_last)\n",
    "            fib(n-1, output)\n",
    "        return output\n",
    "print(fib(5))"
   ]
  },
  {
   "cell_type": "markdown",
   "id": "b1c6e38b",
   "metadata": {},
   "source": [
    "5. What are recursive functions, and how are they used?"
   ]
  },
  {
   "cell_type": "markdown",
   "id": "eed14ed5",
   "metadata": {},
   "source": [
    "- Ans : A recursive function is a function that calls itself during its execution. The process may repeat several times, outputting the result and the end of each iteration. An example is mentioned below:"
   ]
  },
  {
   "cell_type": "code",
   "execution_count": 3,
   "id": "f5a13433",
   "metadata": {},
   "outputs": [
    {
     "name": "stdout",
     "output_type": "stream",
     "text": [
      "34\n"
     ]
    }
   ],
   "source": [
    "# Fibonacci series using recursion\n",
    "def fibonacci(n):\n",
    "    if n <= 1:\n",
    "        return n\n",
    "    return fibonacci(n-1) + fibonacci(n-2)\n",
    "\n",
    "\n",
    "if __name__ == \"__main__\":\n",
    "    n = 9\n",
    "    print(fibonacci(n))\n",
    " "
   ]
  },
  {
   "cell_type": "markdown",
   "id": "c94ae3cb",
   "metadata": {},
   "source": [
    "6. What are some general design guidelines for coding functions?"
   ]
  },
  {
   "cell_type": "markdown",
   "id": "548f7342",
   "metadata": {},
   "source": [
    "- Ans : Some of the general design guidelines for coding functions are:\n",
    "\n",
    "    - Always use a docstring to explain the functionality of the function\n",
    "    - Avoid using or limit use of global variables\n",
    "    - Proper Indentation to increase the code readability\n",
    "    - Try to follow a proper naming convention for function names (pascalCase or camelCase) and stick with the same convention throughout the application.\n",
    "    - Avoid using digits while choosing a variable name\n",
    "    - Try to use a name for the function which conveys the purpose of the function\n",
    "    - Local variables should be named using camelCase format (ex: localVariable) whereas Global variables names should be using PascalCase (ex:GlobalVariable).\n",
    "    - Constant should be represented in allcaps (ex:CONSTANT)."
   ]
  },
  {
   "cell_type": "markdown",
   "id": "18cb2ba9",
   "metadata": {},
   "source": [
    "7. Name three or more ways that functions can communicate results to a caller."
   ]
  },
  {
   "cell_type": "markdown",
   "id": "ff5c67f0",
   "metadata": {},
   "source": [
    "- Ans : Some of the ways in which a function can communicate with the calling function is:\n",
    "\n",
    "    - print\n",
    "    - return\n",
    "    - yield"
   ]
  },
  {
   "cell_type": "code",
   "execution_count": null,
   "id": "390f7c93",
   "metadata": {},
   "outputs": [],
   "source": []
  }
 ],
 "metadata": {
  "kernelspec": {
   "display_name": "Python 3",
   "language": "python",
   "name": "python3"
  },
  "language_info": {
   "codemirror_mode": {
    "name": "ipython",
    "version": 3
   },
   "file_extension": ".py",
   "mimetype": "text/x-python",
   "name": "python",
   "nbconvert_exporter": "python",
   "pygments_lexer": "ipython3",
   "version": "3.8.8"
  }
 },
 "nbformat": 4,
 "nbformat_minor": 5
}
