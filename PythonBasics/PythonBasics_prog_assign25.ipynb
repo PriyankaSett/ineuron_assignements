{
 "cells": [
  {
   "cell_type": "markdown",
   "id": "f6e57da4",
   "metadata": {},
   "source": [
    "## Python Basics - Assignment 25"
   ]
  },
  {
   "cell_type": "markdown",
   "id": "6398976f",
   "metadata": {},
   "source": [
    "Question1  \n",
    "Create a function that takes three integer arguments (a, b, c) and returns the amount of\n",
    "integers which are of equal value.  \n",
    "Examples  \n",
    "equal(3, 4, 3) ➞ 2  \n",
    "equal(1, 1, 1) ➞ 3  \n",
    "equal(3, 4, 1) ➞ 0  \n",
    "Notes  \n",
    "Your function must return 0, 2 or 3. "
   ]
  },
  {
   "cell_type": "code",
   "execution_count": 1,
   "id": "b70cf8e3",
   "metadata": {},
   "outputs": [
    {
     "name": "stdout",
     "output_type": "stream",
     "text": [
      "Enter the first number :3\n",
      "Enter the second number :5\n",
      "Enter the third number :2\n",
      "Number of equal digits in ((3, 5, 2)) : 0\n"
     ]
    }
   ],
   "source": [
    "def equal(x,y,z) :\n",
    "    \"\"\"\n",
    "    This function takes three integer arguments (a, b, c) and \n",
    "    returns the amount of integers which are of equal value.\n",
    "    Examples\n",
    "    equal(3, 4, 3) ➞ 2\n",
    "    \"\"\"\n",
    "     \n",
    "    list1 = [x,y,z]\n",
    "    \n",
    "    for i in list1: \n",
    "        numcount = list1.count(i)\n",
    "        #if 2 <= numcount <= 3:\n",
    "        #print(numcount)\n",
    "        if numcount > 1 :\n",
    "            return numcount\n",
    "         \n",
    "    return 0\n",
    "    \n",
    "    \n",
    "a = int(input('Enter the first number :'))\n",
    "b = int(input('Enter the second number :'))\n",
    "c = int(input('Enter the third number :'))\n",
    "\n",
    "print(f'Number of equal digits in ({a, b, c}) : {equal(a,b,c)}')\n"
   ]
  },
  {
   "cell_type": "markdown",
   "id": "824ef36e",
   "metadata": {},
   "source": [
    "\n",
    "Question2  \n",
    "Write a function that converts a dictionary into a list of keys-values tuples.  \n",
    "Examples  \n",
    "dict_to_list({  \n",
    "&quot;D&quot;: 1,  \n",
    "&quot;B&quot;: 2,  \n",
    "&quot;C&quot;: 3  \n",
    "}) ➞ [(&quot;B&quot;, 2), (&quot;C&quot;, 3), (&quot;D&quot;, 1)]  \n",
    "dict_to_list({ \n",
    "&quot;likes&quot;: 2,  \n",
    "&quot;dislikes&quot;: 3,  \n",
    "&quot;followers&quot;: 10  \n",
    "}) ➞ [(&quot;dislikes&quot;, 3), (&quot;followers&quot;, 10), (&quot;likes&quot;, 2)]  \n",
    "Notes  \n",
    "Return the elements in the list in alphabetical order.  \n"
   ]
  },
  {
   "cell_type": "code",
   "execution_count": 2,
   "id": "fb9de042",
   "metadata": {},
   "outputs": [
    {
     "name": "stdout",
     "output_type": "stream",
     "text": [
      "Input : {'D': 1, 'B': 2, 'C': 3}\n",
      "Output : [('B', 2), ('C', 3), ('D', 1)]\n",
      "\n",
      "\n",
      "Input : {'likes': 2, 'dislikes': 3, 'followers': 10}\n",
      "Output : [('dislikes', 3), ('followers', 10), ('likes', 2)]\n"
     ]
    }
   ],
   "source": [
    "def dict_to_list(dictin) : \n",
    "    \"\"\"\n",
    "    This function converts a dictionary into a list of keys-values tuples.\n",
    "    Examples\n",
    "    dict_to_list({\"D\": 1, \"B\": 2, \"C\": 3}) ➞ [(\"B\", 2), (\"C\", 3), (\"D\", 1)]\n",
    "    Notes\n",
    "    Return the elements in the list in alphabetical order. \n",
    "    \"\"\"\n",
    "    dlist = list()\n",
    "    for items in dictin.items(): \n",
    "        dlist.append(items)\n",
    "    \n",
    "    dlist\n",
    "    sdlist = sorted(dlist)\n",
    "    return sdlist\n",
    "       \n",
    "    \n",
    "dict1 = {\"D\": 1, \"B\": 2, \"C\": 3 }\n",
    "dict2 = {\"likes\": 2, \"dislikes\": 3, \"followers\": 10 }\n",
    "\n",
    "\n",
    "print(f'Input : {dict1}\\nOutput : {dict_to_list(dict1)}\\n\\n')\n",
    "\n",
    "print(f'Input : {dict2}\\nOutput : {dict_to_list(dict2)}')\n",
    "\n"
   ]
  },
  {
   "cell_type": "markdown",
   "id": "9644ddf8",
   "metadata": {},
   "source": [
    "\n",
    "Question3  \n",
    "Write a function that creates a dictionary with each (key, value) pair being the (lower case,\n",
    "upper case) versions of a letter, respectively.  \n",
    "Examples  \n",
    "mapping([&quot;p&quot;, &quot;s&quot;]) ➞ { &quot;p&quot;: &quot;P&quot;, &quot;s&quot;: &quot;S&quot; }  \n",
    "\n",
    "mapping([&quot;a&quot;, &quot;b&quot;, &quot;c&quot;]) ➞ { &quot;a&quot;: &quot;A&quot;, &quot;b&quot;:   &quot;B&quot;, &quot;c&quot;: &quot;C&quot; }  \n",
    "mapping([&quot;a&quot;, &quot;v&quot;, &quot;y&quot;, &quot;z&quot;]) ➞ { &quot;a&quot;: &quot;A&quot;, &quot;v&quot;: &quot;V&quot;, &quot;y&quot;: &quot;Y&quot;, &quot;z&quot;: &quot;Z&quot; }  \n",
    "Notes  \n",
    "All of the letters in the input list will always be lowercase.  \n"
   ]
  },
  {
   "cell_type": "code",
   "execution_count": 3,
   "id": "94848317",
   "metadata": {},
   "outputs": [
    {
     "name": "stdout",
     "output_type": "stream",
     "text": [
      "Input : ['a', 'b', 'c'],    Output : {'a': 'A', 'b': 'B', 'c': 'C'} \n",
      "\n",
      "The input given is not string and is of not lower case\n",
      "The input given is not string and is of not lower case\n",
      "The input given is not string and is of not lower case\n",
      "The input given is not string and is of not lower case\n",
      "Input : [1, 2, 3, 4],    Output : {} \n",
      "\n",
      "The input given is not string and is of not lower case\n",
      "The input given is not string and is of not lower case\n",
      "The input given is not string and is of not lower case\n",
      "Input : ['A', 'B', 'C'],    Output : {} \n",
      "\n",
      "Input : ['x', 'y', 'z'],    Output : {'x': 'X', 'y': 'Y', 'z': 'Z'} \n",
      "\n"
     ]
    }
   ],
   "source": [
    "def list_to_dict(alist) :\n",
    "    \"\"\"\n",
    "    This function creates a dictionary with each (key, value) pair being the \n",
    "    (lower case, upper case) versions of a letter, respectively.\n",
    "    Examples\n",
    "    mapping([\"p\", \"s\"]) ➞ { \"p\": \"P\", \"s\": \"S\" }\n",
    "\n",
    "    mapping([\"a\", \"b\", \"c\"]) ➞ { \"a\": \"A\", \"b\": \"B\", \"c\": \"C\" }\n",
    "    Notes\n",
    "    All of the letters in the input list will always be lowercase. \n",
    "    \"\"\"\n",
    "    adict = dict()\n",
    "\n",
    "    for i in alist :\n",
    "        #print(i)\n",
    "        if type(i)== str and i.islower() :\n",
    "            adict[i] = i.upper()\n",
    "        else : \n",
    "            print('The input given is not string and is of not lower case') \n",
    "    \n",
    "    return adict\n",
    "    \n",
    "\n",
    "alist1 = ['a', 'b', 'c']\n",
    "alist2 = [1,2,3,4]\n",
    "alist3 = ['A', 'B', 'C']\n",
    "alist4 = ['x', 'y', 'z']\n",
    "\n",
    "    \n",
    "print(f'Input : {alist1},    Output : {list_to_dict(alist1)} \\n')\n",
    "print(f'Input : {alist2},    Output : {list_to_dict(alist2)} \\n')\n",
    "print(f'Input : {alist3},    Output : {list_to_dict(alist3)} \\n')\n",
    "print(f'Input : {alist4},    Output : {list_to_dict(alist4)} \\n')\n"
   ]
  },
  {
   "cell_type": "markdown",
   "id": "564f509f",
   "metadata": {},
   "source": [
    " \n",
    "Question4  \n",
    "Write a function, that replaces all vowels in a string with a specified vowel.  \n",
    "Examples  \n",
    "vow_replace(&quot;apples and bananas&quot;, &quot;u&quot;) ➞ &quot;upplus und bununus&quot;  \n",
    "vow_replace(&quot;cheese casserole&quot;, &quot;o&quot;) ➞ &quot;chooso cossorolo&quot;  \n",
    "vow_replace(&quot;stuffed jalapeno poppers&quot;, &quot;e&quot;) ➞ &quot;steffed jelepene peppers&quot;  \n",
    "Notes  \n",
    "All words will be lowercase. Y is not considered a vowel.  \n"
   ]
  },
  {
   "cell_type": "code",
   "execution_count": 4,
   "id": "2dc1d146",
   "metadata": {},
   "outputs": [
    {
     "name": "stdout",
     "output_type": "stream",
     "text": [
      "upplus und bununus\n"
     ]
    }
   ],
   "source": [
    "def replace_vowels(str1, char1) :\n",
    "    \"\"\"\n",
    "    This function replaces vowels in a string. \n",
    "    \"\"\"\n",
    "    \n",
    "    vowels = 'aeiou'\n",
    "    for ele in vowels: \n",
    "        if ele in str1:\n",
    "            #print(ele)\n",
    "            str2 =  str1.replace(ele, char1)        \n",
    "            str1 = str2\n",
    "    return str2\n",
    "\n",
    "\n",
    "\n",
    "sent = 'apples and bananas'\n",
    "print(replace_vowels(sent, 'u'))"
   ]
  },
  {
   "cell_type": "code",
   "execution_count": null,
   "id": "84b7b407",
   "metadata": {},
   "outputs": [],
   "source": []
  }
 ],
 "metadata": {
  "kernelspec": {
   "display_name": "Python 3",
   "language": "python",
   "name": "python3"
  },
  "language_info": {
   "codemirror_mode": {
    "name": "ipython",
    "version": 3
   },
   "file_extension": ".py",
   "mimetype": "text/x-python",
   "name": "python",
   "nbconvert_exporter": "python",
   "pygments_lexer": "ipython3",
   "version": "3.8.8"
  }
 },
 "nbformat": 4,
 "nbformat_minor": 5
}
