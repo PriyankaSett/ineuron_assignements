{
 "cells": [
  {
   "cell_type": "markdown",
   "id": "b67ba220",
   "metadata": {},
   "source": [
    "## Python Basics - Programming Assignment 21"
   ]
  },
  {
   "cell_type": "markdown",
   "id": "cd1ae7a6",
   "metadata": {},
   "source": [
    "#Question1  \n",
    "Write a function that takes a list and a number as arguments. Add the number to the end of\n",
    "the list, then remove the first element of the list. The function should then return the updated\n",
    "list.  \n",
    "Examples  \n",
    "next_in_line([5, 6, 7, 8, 9], 1) ➞ [6, 7, 8, 9, 1]  \n",
    "next_in_line([7, 6, 3, 23, 17], 10) ➞ [6, 3, 23, 17, 10]  \n",
    "next_in_line([1, 10, 20, 42 ], 6) ➞ [10, 20, 42, 6]  \n",
    "next_in_line([], 6) ➞ &quot;No list has been selected&quot; \n"
   ]
  },
  {
   "cell_type": "code",
   "execution_count": 1,
   "id": "a504ae7f",
   "metadata": {},
   "outputs": [
    {
     "name": "stdout",
     "output_type": "stream",
     "text": [
      "None\n",
      "Output : None\n"
     ]
    }
   ],
   "source": [
    "def next_in_line(inlist, num) : \n",
    "    \"\"\"\n",
    "    This function takes a list and a number as arguments. \n",
    "    Add the number to the end of the list, then remove the first element \n",
    "    of the list. The function should then return the updated list.\n",
    "    Examples\n",
    "    next_in_line([5, 6, 7, 8, 9], 1) ➞ [6, 7, 8, 9, 1]\n",
    "    \"\"\"\n",
    "    l1 = list()\n",
    "    l1 = inlist\n",
    "    #print(l1, num)\n",
    "    l1 = l1.append(num)\n",
    "    print(l1)\n",
    "    #l2 = l1\n",
    "    #print(l2)\n",
    "    return l1\n",
    "\n",
    "\n",
    "\n",
    "\n",
    "inlist = [5, 6, 7, 8, 9]\n",
    "num = 1\n",
    "\n",
    "print(f'Output : {next_in_line(inlist, num)}')"
   ]
  },
  {
   "cell_type": "markdown",
   "id": "ade8ceab",
   "metadata": {},
   "source": [
    "\n",
    "Question2  \n",
    "Create the function that takes a list of dictionaries and returns the sum of people&#39;s budgets.  \n",
    "Examples  \n",
    "get_budgets([ \n",
    "{ &quot;name&quot;: &quot;John&quot;, &quot;age&quot;: 21, &quot;budget&quot;: 23000 },  \n",
    "{ &quot;name&quot;: &quot;Steve&quot;, &quot;age&quot;: 32, &quot;budget&quot;: 40000 },  \n",
    "{ &quot;name&quot;: &quot;Martin&quot;, &quot;age&quot;: 16, &quot;budget&quot;: 2700 }  \n",
    "]) ➞ 65700  \n",
    "get_budgets([  \n",
    "{ &quot;name&quot;: &quot;John&quot;, &quot;age&quot;: 21, &quot;budget&quot;: 29000 },  \n",
    "{ &quot;name&quot;: &quot;Steve&quot;, &quot;age&quot;: 32, &quot;budget&quot;: 32000 },  \n",
    "{ &quot;name&quot;: &quot;Martin&quot;, &quot;age&quot;: 16, &quot;budget&quot;: 1600 }  \n",
    "]) ➞ 62600  \n"
   ]
  },
  {
   "cell_type": "code",
   "execution_count": 2,
   "id": "fd4a0904",
   "metadata": {},
   "outputs": [
    {
     "name": "stdout",
     "output_type": "stream",
     "text": [
      "Total budgets : 65700\n",
      "Total budgets : 62600\n"
     ]
    }
   ],
   "source": [
    "def get_budgets(list1) : \n",
    "    \"\"\"\n",
    "    This function takes a list of dictionaries and returns the sum of people's budgets.\n",
    "    \n",
    "    \"\"\"\n",
    "\n",
    "    sum1 = 0\n",
    "    for i in list1: \n",
    "        dicti = i\n",
    "        #print(dicti)\n",
    "        #print(dicti.keys())\n",
    "        bdg = dicti['budget']\n",
    "        #print(bdg)\n",
    "        sum1 = sum1 + bdg\n",
    "\n",
    "    return sum1\n",
    "\n",
    "\n",
    "ppldictlist1 = [{ \"name\": \"John\", \"age\": 21, \"budget\": 23000 },\n",
    "           { \"name\": \"Steve\", \"age\": 32, \"budget\": 40000 },\n",
    "           { \"name\": \"Martin\", \"age\": 16, \"budget\": 2700 } ]\n",
    "\n",
    "print(f'Total budgets : {get_budgets(ppldictlist1)}')\n",
    "\n",
    "ppldictlist2 = [{ \"name\": \"John\", \"age\": 21, \"budget\": 29000 },\n",
    "                { \"name\": \"Steve\", \"age\": 32, \"budget\": 32000 },\n",
    "                { \"name\": \"Martin\", \"age\": 16, \"budget\": 1600 }]\n",
    "\n",
    "print(f'Total budgets : {get_budgets(ppldictlist2)}')"
   ]
  },
  {
   "cell_type": "markdown",
   "id": "934c03ad",
   "metadata": {},
   "source": [
    "\n",
    "Question3  \n",
    "Create a function that takes a string and returns a string with its letters in alphabetical order.  \n",
    "Examples  \n",
    "alphabet_soup(&quot;hello&quot;) ➞ &quot;ehllo&quot;  \n",
    "alphabet_soup(&quot;edabit&quot;) ➞ &quot;abdeit&quot;  \n",
    "alphabet_soup(&quot;hacker&quot;) ➞ &quot;acehkr&quot;  \n",
    "alphabet_soup(&quot;geek&quot;) ➞ &quot;eegk&quot; \n",
    "alphabet_soup(&quot;javascript&quot;) ➞ &quot;aacijprstv&quot;  "
   ]
  },
  {
   "cell_type": "code",
   "execution_count": 3,
   "id": "478e6ac6",
   "metadata": {},
   "outputs": [
    {
     "name": "stdout",
     "output_type": "stream",
     "text": [
      "Original string \"hello\" in alphabetical order : \"ehllo\"\n"
     ]
    }
   ],
   "source": [
    "def alphabet_soup(instring):\n",
    "    \n",
    "    \"\"\"\n",
    "    This function takes a string and returns a string with \n",
    "    its letters in alphabetical order.\n",
    "    Examples\n",
    "    alphabet_soup(\"hello\") ➞ \"ehllo\"\n",
    "    \n",
    "    \"\"\"\n",
    "    insl = [i for i in instring]\n",
    "    insl = sorted(insl)\n",
    "    fins = ''.join(insl)\n",
    "    return fins\n",
    "\n",
    "\n",
    "ins = 'hello'\n",
    "print(f'Original string \"{ins}\" in alphabetical order : \"{alphabet_soup(ins)}\"')"
   ]
  },
  {
   "cell_type": "markdown",
   "id": "c40f94e7",
   "metadata": {},
   "source": [
    "\n",
    "Question4  \n",
    "Suppose that you invest $10,000 for 10 years at an interest rate of 6% compounded monthly.  \n",
    "What will be the value of your investment at the end of the 10 year period?  \n",
    "Create a function that accepts the principal p, the term in years t, the interest rate r, and the\n",
    "number of compounding periods per year n. The function returns the value at the end of term\n",
    "rounded to the nearest cent.  \n",
    "For the example above:  \n",
    "compound_interest(10000, 10, 0.06, 12) ➞ 18193.97  \n",
    "Note that the interest rate is given as a decimal and n=12 because with monthly compounding\n",
    "there are 12 periods per year. Compounding can also be done annually, quarterly, weekly, or\n",
    "daily.  \n",
    "Examples  \n",
    "compound_interest(100, 1, 0.05, 1) ➞ 105.0  \n",
    "compound_interest(3500, 15, 0.1, 4) ➞ 15399.26  \n",
    "compound_interest(100000, 20, 0.15, 365) ➞ 2007316.26  \n"
   ]
  },
  {
   "cell_type": "code",
   "execution_count": 4,
   "id": "5d7b08a6",
   "metadata": {},
   "outputs": [
    {
     "name": "stdout",
     "output_type": "stream",
     "text": [
      "18193.97\n",
      "15399.26\n",
      "2007316.26\n"
     ]
    }
   ],
   "source": [
    "def compound_interest(principal, term, rate, period) : \n",
    "    \"\"\"\n",
    "    This function takes in \"principal, term, interest, rate, period\" as input and \n",
    "    returns the compound interest. \n",
    "    Note that the interest rate is given as a decimal and n=12 because with monthly \n",
    "    compounding there are 12 periods per year. \n",
    "    Compounding can also be done annually, quarterly, weekly, or daily.\n",
    "    \"\"\"\n",
    "    ci = principal*((1 + (rate/period)) ** (term*period))\n",
    "    \n",
    "    return round(ci,2)\n",
    "                    \n",
    "    \n",
    "    \n",
    "print(compound_interest(10000, 10, 0.06, 12) )   \n",
    "print(compound_interest(3500, 15, 0.1, 4))\n",
    "print(compound_interest(100000, 20, 0.15, 365) )    \n",
    "    \n",
    "    \n",
    "    "
   ]
  },
  {
   "cell_type": "code",
   "execution_count": null,
   "id": "ba8fdb01",
   "metadata": {},
   "outputs": [],
   "source": []
  }
 ],
 "metadata": {
  "kernelspec": {
   "display_name": "Python 3",
   "language": "python",
   "name": "python3"
  },
  "language_info": {
   "codemirror_mode": {
    "name": "ipython",
    "version": 3
   },
   "file_extension": ".py",
   "mimetype": "text/x-python",
   "name": "python",
   "nbconvert_exporter": "python",
   "pygments_lexer": "ipython3",
   "version": "3.8.8"
  }
 },
 "nbformat": 4,
 "nbformat_minor": 5
}
