{
 "cells": [
  {
   "cell_type": "markdown",
   "id": "476eb003",
   "metadata": {},
   "source": [
    "## Python Basics - Programming Assignment 12"
   ]
  },
  {
   "cell_type": "markdown",
   "id": "9b860066",
   "metadata": {},
   "source": [
    "1. Write a Python program to Extract Unique values dictionary values?"
   ]
  },
  {
   "cell_type": "code",
   "execution_count": 10,
   "id": "499b9cb3",
   "metadata": {},
   "outputs": [
    {
     "name": "stdout",
     "output_type": "stream",
     "text": [
      "Original dictionary : {'A': [5, 6, 7, 8], 'B': [10, 11, 7, 5], 'C': [6, 12, 10, 8], 'D': [1, 2, 5]}\n",
      "Putting all the values in one list : [5, 6, 7, 8, 10, 11, 7, 5, 6, 12, 10, 8, 1, 2, 5]\n",
      "Only unique values : [1, 2, 5, 6, 7, 8, 10, 11, 12]\n"
     ]
    }
   ],
   "source": [
    "test1_dict = {'A': [5, 6, 7, 8], \n",
    "              'B': [10, 11, 7, 5],\n",
    "              'C': [6, 12, 10, 8],\n",
    "              'D': [1, 2, 5]}\n",
    "print(f'Original dictionary : {test1_dict}')\n",
    "dict_list = test1_dict.values()\n",
    "newlist = [items for lst in test1_dict.values() for items in lst]\n",
    "print(f'Putting all the values in one list : {newlist}')\n",
    "print(f'Only unique values : {list(set(newlist))}')"
   ]
  },
  {
   "cell_type": "markdown",
   "id": "1c4cfccc",
   "metadata": {},
   "source": [
    "2. Write a Python program to find the sum of all items in a dictionary?"
   ]
  },
  {
   "cell_type": "code",
   "execution_count": 12,
   "id": "2586d819",
   "metadata": {},
   "outputs": [
    {
     "name": "stdout",
     "output_type": "stream",
     "text": [
      "Sum of all items : 200\n"
     ]
    }
   ],
   "source": [
    "grocery_dict = {'bread': 40, \n",
    "              'butter': 60,\n",
    "              'eggs': 50,\n",
    "              'milk': 50}\n",
    "grocery_list = [items for items in grocery_dict.values()]\n",
    "print(f'Sum of all items : {sum(grocery_list)}')"
   ]
  },
  {
   "cell_type": "markdown",
   "id": "eb416aa7",
   "metadata": {},
   "source": [
    "3. Write a Python program to Merging two Dictionaries?"
   ]
  },
  {
   "cell_type": "code",
   "execution_count": 13,
   "id": "1f08464b",
   "metadata": {},
   "outputs": [
    {
     "name": "stdout",
     "output_type": "stream",
     "text": [
      "Dictionary 1 : {1: 'apple', 2: 'pear', 3: 'cherry'}\n",
      "Dictionary 2 : {4: 'pineapple', 5: 'watermelon', 6: 'mango'}\n",
      "Dictionary final : {1: 'apple', 2: 'pear', 3: 'cherry', 4: 'pineapple', 5: 'watermelon', 6: 'mango'}\n"
     ]
    }
   ],
   "source": [
    "fruit_list1 = {1:'apple', \n",
    "               2 : 'pear', \n",
    "               3 : 'cherry'}\n",
    "    \n",
    "fruit_list2 = {4:'pineapple', \n",
    "               5 : 'watermelon', \n",
    "               6 : 'mango'}\n",
    "\n",
    "\n",
    "fruit_dict = fruit_list1.copy()\n",
    "fruit_dict.update(fruit_list2)\n",
    "\n",
    "print(f'Dictionary 1 : {fruit_list1}')\n",
    "print(f'Dictionary 2 : {fruit_list2}')\n",
    "print(f'Dictionary final : {fruit_dict}')\n",
    "    "
   ]
  },
  {
   "cell_type": "markdown",
   "id": "5f410708",
   "metadata": {},
   "source": [
    "4. Write a Python program to convert key-values list to flat dictionary?"
   ]
  },
  {
   "cell_type": "code",
   "execution_count": 18,
   "id": "c6593229",
   "metadata": {},
   "outputs": [
    {
     "data": {
      "text/plain": [
       "{'English': 40, 'Maths': 50, 'Geography': 60, 'History': 45, 'Science': 35}"
      ]
     },
     "execution_count": 18,
     "metadata": {},
     "output_type": "execute_result"
    }
   ],
   "source": [
    "d_sub = {'subjects':['English', 'Maths', 'Geography', 'History', 'Science']}\n",
    "\n",
    "d_marks = {'marks' : [40, 50, 60, 45, 35]}\n",
    "\n",
    "d1 = dict(zip(d_sub['subjects'], d_marks['marks']))\n",
    "d1"
   ]
  },
  {
   "cell_type": "markdown",
   "id": "f16427f7",
   "metadata": {},
   "source": [
    "5. Write a Python program to insertion at the beginning in OrderedDict?\n"
   ]
  },
  {
   "cell_type": "code",
   "execution_count": 29,
   "id": "53136e6f",
   "metadata": {},
   "outputs": [
    {
     "name": "stdout",
     "output_type": "stream",
     "text": [
      "Inital ordered dictionary : OrderedDict([(1, 'apple'), (2, 'pear'), (3, 'cherry')])\n",
      "Key-value pair to be added : {4: 'lemon'}\n",
      "Inserting the new key-value pair at the beginning :OrderedDict([(4, 'lemon'), (1, 'apple'), (2, 'pear'), (3, 'cherry')])\n"
     ]
    }
   ],
   "source": [
    "from collections import OrderedDict \n",
    "\n",
    "s_fruit = OrderedDict(fruit_list1)\n",
    "print(f'Inital ordered dictionary : {s_fruit}')\n",
    "s_fruit1 = {4:'lemon'}\n",
    "print(f'Key-value pair to be added : {s_fruit1}')\n",
    "s_fruit.update(s_fruit1)\n",
    "s_fruit.move_to_end(4, last=False)\n",
    "\n",
    "print(f'Inserting the new key-value pair at the beginning :{s_fruit}')"
   ]
  },
  {
   "cell_type": "markdown",
   "id": "bc7928a9",
   "metadata": {},
   "source": [
    "6. Write a Python program to check order of character in string using OrderedDict()?"
   ]
  },
  {
   "cell_type": "code",
   "execution_count": null,
   "id": "fc732505",
   "metadata": {},
   "outputs": [],
   "source": []
  },
  {
   "cell_type": "markdown",
   "id": "731ae134",
   "metadata": {},
   "source": [
    "7. Write a Python program to sort Python Dictionaries by Key or Value?"
   ]
  },
  {
   "cell_type": "code",
   "execution_count": 35,
   "id": "d2f828b2",
   "metadata": {},
   "outputs": [
    {
     "name": "stdout",
     "output_type": "stream",
     "text": [
      "Given dictionary : \n",
      " {'C': 40, 'A': 35, 'S': 45, 'P': 32, 'M': 50, 'L': 29}\n",
      "Sorting dictionary by values : [29, 32, 35, 40, 45, 50]\n",
      "Sorting dictionary by keys : ['A', 'C', 'L', 'M', 'P', 'S']\n"
     ]
    }
   ],
   "source": [
    "d_s_m = {'C' : 40, \n",
    "         'A' : 35, \n",
    "         'S' : 45, \n",
    "         'P' : 32,\n",
    "         'M' : 50,\n",
    "         'L' : 29}\n",
    "print(f'Given dictionary : \\n {d_s_m}')\n",
    "print(f'Sorting dictionary by values : {sorted(d_s_m.values())}')\n",
    "print(f'Sorting dictionary by keys : {sorted(d_s_m.keys())}')\n",
    "\n"
   ]
  },
  {
   "cell_type": "code",
   "execution_count": null,
   "id": "6f7980d4",
   "metadata": {},
   "outputs": [],
   "source": []
  }
 ],
 "metadata": {
  "kernelspec": {
   "display_name": "Python 3",
   "language": "python",
   "name": "python3"
  },
  "language_info": {
   "codemirror_mode": {
    "name": "ipython",
    "version": 3
   },
   "file_extension": ".py",
   "mimetype": "text/x-python",
   "name": "python",
   "nbconvert_exporter": "python",
   "pygments_lexer": "ipython3",
   "version": "3.8.8"
  }
 },
 "nbformat": 4,
 "nbformat_minor": 5
}
