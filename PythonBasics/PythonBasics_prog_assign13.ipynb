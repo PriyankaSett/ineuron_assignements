{
 "cells": [
  {
   "cell_type": "markdown",
   "id": "a3b1d979",
   "metadata": {},
   "source": [
    "## Python Basics - Programming Assignment 13"
   ]
  },
  {
   "cell_type": "markdown",
   "id": "050ffced",
   "metadata": {},
   "source": [
    "Question 1:\n",
    "Write a program that calculates and prints the value according to the given formula:\n",
    "Q = Square root of [(2 * C * D)/H]\n",
    "Following are the fixed values of C and H:\n",
    "C is 50. H is 30.\n",
    "D is the variable whose values should be input to your program in a comma-separated\n",
    "sequence.\n",
    "Example\n",
    "Let us assume the following comma separated input sequence is given to the program:\n",
    "100,150,180\n",
    "The output of the program should be:\n",
    "18,22,24"
   ]
  },
  {
   "cell_type": "code",
   "execution_count": 1,
   "id": "f9b5c895",
   "metadata": {},
   "outputs": [
    {
     "name": "stdout",
     "output_type": "stream",
     "text": [
      "Value of C : 50\n",
      "Value of H : 30\n",
      "Enter the D values : \n",
      "100,150,180\n",
      "Output  : \n",
      "18,22,24\n"
     ]
    }
   ],
   "source": [
    "import numpy as np\n",
    "\n",
    "C = 50 \n",
    "H = 30\n",
    "\n",
    "print(f'Value of C : {C}')\n",
    "print(f'Value of H : {H}')\n",
    "\n",
    "print('Enter the D values : ')\n",
    "D_in = list(map(int,input().split(sep=',')))\n",
    "\n",
    "lenD = len(D_in)\n",
    "\n",
    "print('Output  : ')\n",
    "for i in range(0, lenD) : \n",
    "    Q = round(np.sqrt((2*C*D_in[i])/H))\n",
    "    if (i <= (lenD-2)) :\n",
    "        print(Q, end=',')\n",
    "    else :\n",
    "        print(Q)"
   ]
  },
  {
   "cell_type": "code",
   "execution_count": 10,
   "id": "813c834b",
   "metadata": {},
   "outputs": [
    {
     "name": "stdout",
     "output_type": "stream",
     "text": [
      "Value of C : 50\n",
      "Value of H : 30\n",
      "How many D values you want to enter ? 3\n",
      "Enter the D values seprated by commas : a,1,3\n",
      "Entered input is not correct. It has other than numeric and , character.\n"
     ]
    }
   ],
   "source": [
    "import numpy as np\n",
    "\n",
    "C = 50 \n",
    "H = 30\n",
    "\n",
    "print(f'Value of C : {C}')\n",
    "print(f'Value of H : {H}')\n",
    "\n",
    "dn = int(input('How many D values you want to enter ? '))\n",
    "\n",
    "#print('Enter the D values : ')\n",
    "din = input('Enter the D values seprated by commas : ')\n",
    "din_l = [items for items in din]\n",
    "#print(din_l)\n",
    "\n",
    "din_l_set_list = list(set(din_l))\n",
    "#print(din_l_set_list)\n",
    "num_check = all((ele.isnumeric() or ele==',') for ele in din_l_set_list)\n",
    "if num_check : \n",
    "    print('Entered input is correct.')     \n",
    "    \n",
    "    D_in = list(map(int,din.split(sep=',')))\n",
    "    lenD = len(D_in)\n",
    "    if lenD == dn : \n",
    "        print('Output  : ')\n",
    "        for i in range(0, lenD) : \n",
    "            Q = round(np.sqrt((2*C*D_in[i])/H))\n",
    "            if (i <= (lenD-2)) :\n",
    "                print(Q, end=',')\n",
    "            else :\n",
    "                print(Q)\n",
    "    else : \n",
    "        print('Enter correct number of inputs. The number of inputs and the number of D values you want do not match.')\n",
    "              \n",
    "else : \n",
    "    print('Entered input is not correct. It has other than numeric and , character.')\n"
   ]
  },
  {
   "cell_type": "markdown",
   "id": "9c2d8118",
   "metadata": {},
   "source": [
    "Question 2:\n",
    "Write a program which takes 2 digits, X,Y as input and generates a 2-dimensional array. The\n",
    "element value in the i-th row and j-th column of the array should be i*j.\n",
    "Note: i=0,1.., X-1; j=0,1,¡Y-1.\n",
    "Example\n",
    "Suppose the following inputs are given to the program:\n",
    "3,5\n",
    "Then, the output of the program should be:\n",
    "[[0, 0, 0, 0, 0], [0, 1, 2, 3, 4], [0, 2, 4, 6, 8]]"
   ]
  },
  {
   "cell_type": "code",
   "execution_count": 61,
   "id": "3a946401",
   "metadata": {},
   "outputs": [
    {
     "name": "stdout",
     "output_type": "stream",
     "text": [
      "Enter the values for X and Y : 3,5\n",
      "3 5\n",
      "[[0, 0, 0, 0, 0], [0, 1, 2, 3, 4], [0, 2, 4, 6, 8]]\n"
     ]
    }
   ],
   "source": [
    "import numpy as np\n",
    "\n",
    "x,y = input('Enter the values for X and Y : ').split(',')\n",
    "print(x, y)\n",
    "\n",
    "arr1 = np.empty((int(x),int(y)), int)\n",
    "\n",
    "for i in range (0, int(x)) : \n",
    "    for j in range(0, int(y)) : \n",
    "        arr1[i][j] = i*j\n",
    "          \n",
    "        \n",
    "print(arr1.tolist())        "
   ]
  },
  {
   "cell_type": "markdown",
   "id": "88d3545d",
   "metadata": {},
   "source": [
    "Question 3:\n",
    "Write a program that accepts a comma separated sequence of words as input and prints the\n",
    "words in a comma-separated sequence after sorting them alphabetically.\n",
    "Suppose the following input is supplied to the program:\n",
    "without,hello,bag,world\n",
    "Then, the output should be:\n",
    "bag,hello,without,world"
   ]
  },
  {
   "cell_type": "code",
   "execution_count": 3,
   "id": "ac68aa12",
   "metadata": {},
   "outputs": [
    {
     "name": "stdout",
     "output_type": "stream",
     "text": [
      "Enter the input in words : without,hello,bag,world\n",
      "Output  : \n",
      "bag,hello,without,world\n"
     ]
    }
   ],
   "source": [
    "word_input = input('Enter the input in words : ').split(',')\n",
    "#print(f'Sorted output : {sorted(word_input)}')\n",
    "\n",
    "print('Output  : ')\n",
    "for i in range(0, len(word_input)) : \n",
    "    if (i <= (len(word_input)-2)) :\n",
    "        print(sorted(word_input)[i], end=',')\n",
    "    else :\n",
    "        print(sorted(word_input)[i])\n"
   ]
  },
  {
   "cell_type": "code",
   "execution_count": 21,
   "id": "04fee653",
   "metadata": {},
   "outputs": [
    {
     "name": "stdout",
     "output_type": "stream",
     "text": [
      "Enter the words seprated by commas : zip,post,pin,address,email\n",
      "Entered input is correct.\n",
      "Output  : \n",
      "address,email,pin,post,zip\n"
     ]
    }
   ],
   "source": [
    "win = input('Enter the words seprated by commas : ')\n",
    "win_l = [items for items in win]\n",
    "#print(win_l)\n",
    "\n",
    "win_l_set_list = list(set(win_l))\n",
    "#print(din_l_set_list)\n",
    "\n",
    "alp_check = all((ele.isalpha() or ele==',') for ele in win_l_set_list)\n",
    "if alp_check : \n",
    "    print('Entered input is correct.')     \n",
    "    \n",
    "    w_in = win.split(sep=',')\n",
    "    lenw = len(w_in)\n",
    "    \n",
    "    print('Output  : ')\n",
    "    for i in range(0, lenw) : \n",
    "        if (i <= (len(w_in)-2)) :\n",
    "            print(sorted(w_in)[i], end=',')\n",
    "        else :\n",
    "            print(sorted(w_in)[i])\n",
    "    \n",
    "else : \n",
    "    print('Entered input is not correct. It has other than numeric and , character.')\n"
   ]
  },
  {
   "cell_type": "markdown",
   "id": "90625f73",
   "metadata": {},
   "source": [
    "Question 4:\n",
    "Write a program that accepts a sequence of whitespace separated words as input and prints\n",
    "the words after removing all duplicate words and sorting them alphanumerically.\n",
    "Suppose the following input is supplied to the program:\n",
    "hello world and practice makes perfect and hello world again\n",
    "Then, the output should be:\n",
    "again and hello makes perfect practice world"
   ]
  },
  {
   "cell_type": "code",
   "execution_count": 30,
   "id": "6b8be83e",
   "metadata": {},
   "outputs": [
    {
     "name": "stdout",
     "output_type": "stream",
     "text": [
      "Enter the words seprated by white space : hello world and practice makes perfect and hello world again \n",
      "Entered input is correct.\n",
      "Output  : \n",
      "After removing duplicates : ['', 'makes', 'again', 'practice', 'perfect', 'hello', 'and', 'world']\n",
      "Sorted output :  again and hello makes perfect practice world\n"
     ]
    }
   ],
   "source": [
    "win1 = input('Enter the words seprated by white space : ')\n",
    "win1_l = [items for items in win1]\n",
    "#print(win_l)\n",
    "\n",
    "win1_l_set_list = list(set(win1_l))\n",
    "#print(din_l_set_list)\n",
    "\n",
    "alp_check = all((ele.isalpha() or ele==' ') for ele in win1_l_set_list)\n",
    "if alp_check : \n",
    "    print('Entered input is correct.')     \n",
    "    \n",
    "    w_in1 = win1.split(sep=' ')\n",
    "    set_w_in1 = list(set(w_in1))    \n",
    "    sorted_w_in1 = sorted(set_w_in1)\n",
    "    joined_w_in1 = ' '.join(sorted_w_in1)\n",
    "    \n",
    "    print('Output  : ')\n",
    "    print(f'After removing duplicates : {set_w_in1}')\n",
    "    print(f'Sorted output : {joined_w_in1}')\n",
    "    \n",
    "else : \n",
    "    print('Entered input is not correct. It has other than numeric and , character.')\n"
   ]
  },
  {
   "cell_type": "markdown",
   "id": "af937da3",
   "metadata": {},
   "source": [
    "Question 5:\n",
    "Write a program that accepts a sentence and calculate the number of letters and digits.\n",
    "Suppose the following input is supplied to the program:\n",
    "hello world! 123\n",
    "Then, the output should be:\n",
    "LETTERS 10 DIGITS 3"
   ]
  },
  {
   "cell_type": "code",
   "execution_count": 32,
   "id": "669cd372",
   "metadata": {},
   "outputs": [
    {
     "name": "stdout",
     "output_type": "stream",
     "text": [
      "Please enter the sentence : hello world! 123\n",
      "['h', 'e', 'l', 'l', 'o', ' ', 'w', 'o', 'r', 'l', 'd', '!', ' ', '1', '2', '3']\n",
      "Letters : 10\n",
      "Digits : 3\n"
     ]
    }
   ],
   "source": [
    "in_sent = input('Please enter the sentence : ')\n",
    "\n",
    "in_sent_list = [item for item in in_sent]\n",
    "print(in_sent_list)\n",
    "\n",
    "countnum = 0\n",
    "countlet = 0\n",
    "\n",
    "for ele in in_sent_list :\n",
    "    if ele.isalpha() :\n",
    "        countlet = countlet+1\n",
    "    elif ele.isdigit() : \n",
    "        countnum = countnum+1\n",
    "    else :\n",
    "        continue\n",
    "\n",
    "print(f'Letters : {countlet}')\n",
    "print(f'Digits : {countnum}')"
   ]
  },
  {
   "cell_type": "markdown",
   "id": "048829e3",
   "metadata": {},
   "source": [
    "Question 6:\n",
    "A website requires the users to input username and password to register. Write a program to\n",
    "check the validity of password input by users.\n",
    "Following are the criteria for checking the password:\n",
    "1. At least 1 letter between [a-z]\n",
    "2. At least 1 number between [0-9]\n",
    "1. At least 1 letter between [A-Z]\n",
    "3. At least 1 character from [$#@]\n",
    "4. Minimum length of transaction password: 6\n",
    "5. Maximum length of transaction password: 12\n",
    "Your program should accept a sequence of comma separated passwords and will check them\n",
    "according to the above criteria. Passwords that match the criteria are to be printed, each\n",
    "separated by a comma.\n",
    "Example\n",
    "If the following passwords are given as input to the program:\n",
    "ABd1234@1,a F1#,2w3E*,2We3345\n",
    "Then, the output of the program should be:\n",
    "ABd1234@1"
   ]
  },
  {
   "cell_type": "code",
   "execution_count": 27,
   "id": "cf008cae",
   "metadata": {},
   "outputs": [
    {
     "name": "stdout",
     "output_type": "stream",
     "text": [
      "Enter sample paswords : ABd1234@1,a F1#,2w3E*,2We3345\n",
      "Accepted password :ABd1234@1\n"
     ]
    }
   ],
   "source": [
    "import re \n",
    "\n",
    "pswd_in = input('Enter sample paswords : ')\n",
    "pswd_in_list = pswd_in.split(',')\n",
    "pattern = re.compile(r'(?=\\w{6,12})(?=[^a-z]*[a-z])(?=[^\\d]*[\\d])(?=[^A-Z]*[A-Z])(?=[^$#@]*[$#@]).*')\n",
    "\n",
    "for ele in pswd_in_list: \n",
    "    match = re.findall(pattern, ele) \n",
    "    #print(match)\n",
    "    if match : \n",
    "        print(f'Accepted password :{ele}')\n",
    "    #else : \n",
    "    #    print('Password not accepted ')"
   ]
  },
  {
   "cell_type": "code",
   "execution_count": null,
   "id": "714685cb",
   "metadata": {},
   "outputs": [],
   "source": []
  }
 ],
 "metadata": {
  "kernelspec": {
   "display_name": "Python 3",
   "language": "python",
   "name": "python3"
  },
  "language_info": {
   "codemirror_mode": {
    "name": "ipython",
    "version": 3
   },
   "file_extension": ".py",
   "mimetype": "text/x-python",
   "name": "python",
   "nbconvert_exporter": "python",
   "pygments_lexer": "ipython3",
   "version": "3.8.8"
  }
 },
 "nbformat": 4,
 "nbformat_minor": 5
}
