{
 "cells": [
  {
   "cell_type": "markdown",
   "id": "03437dc9",
   "metadata": {},
   "source": [
    "## Python Basics - Assignment 7"
   ]
  },
  {
   "cell_type": "markdown",
   "id": "624e5827",
   "metadata": {},
   "source": [
    "1. What is the name of the feature responsible for generating Regex objects ?\n",
    "\n",
    "- Ans : re.compile()"
   ]
  },
  {
   "cell_type": "markdown",
   "id": "6ad45664",
   "metadata": {},
   "source": [
    "2. Why do raw strings oftern appear in Regex objects ? \n",
    "\n",
    "- Ans : Regular expressions use the backslash character ('\\') to indicate special forms (Metacharacters) or to allow special characters (speical sequences) to be used without invoking their special meaning. This collides with Python’s usage of the same character for the same purpose in string literals. Hence, Raw strings are used (e.g. r\"\\n\") so that backslashes do not have to be escaped."
   ]
  },
  {
   "cell_type": "markdown",
   "id": "049ea708",
   "metadata": {},
   "source": [
    "3. What is the return value of search() method ? \n",
    "\n",
    "- Ans : The return value of re.search(pattern,string) method is a match object if the pattern is observed in the string else it returns a None."
   ]
  },
  {
   "cell_type": "markdown",
   "id": "9dfd42ce",
   "metadata": {},
   "source": [
    "4. From a Match item, how do you get the actual strings that match the pattern ?\n",
    "\n",
    "- Ans : For Matched items group() methods returns actual strings that match the pattern."
   ]
  },
  {
   "cell_type": "markdown",
   "id": "40beba75",
   "metadata": {},
   "source": [
    "5. In the regex which created from the \n",
    "r'(\\d\\d\\d)-(\\d\\d\\d-\\d\\d\\d\\d)' what does group zero cover ? \n",
    "Group 2 ? Group 1? \n",
    "\n",
    "- Ans : Group zero will cover the entire pattern.  \n",
    "    Group 1 will cover -  (\\d\\d\\d)   \n",
    "    Group 2 will cover - (\\d\\d\\d-\\d\\d\\d\\d)"
   ]
  },
  {
   "cell_type": "code",
   "execution_count": 1,
   "id": "61c2a43e",
   "metadata": {},
   "outputs": [
    {
     "name": "stdout",
     "output_type": "stream",
     "text": [
      "Whole string My number is 993-023-2321\n",
      "All groups :  ('993', '023-2321')\n",
      "Group zero :  993-023-2321\n",
      "Group 1 : 993\n",
      "Group 2 :  023-2321\n"
     ]
    }
   ],
   "source": [
    "import re\n",
    "mystring = 'My number is 993-023-2321'\n",
    "phoneNumRegex = re.compile(r'(\\d\\d\\d)-(\\d\\d\\d-\\d\\d\\d\\d)')\n",
    "match = phoneNumRegex.search(mystring)\n",
    "print('Whole string', mystring)\n",
    "print('All groups : ',match.groups()) # Prints all groups in a tuple format\n",
    "print('Group zero : ', match.group()) # Always returns the fully matched string \n",
    "print('Group 1 :', match.group(1)) # Returns the first group\n",
    "print('Group 2 : ', match.group(2)) # Returns the second group\n"
   ]
  },
  {
   "cell_type": "markdown",
   "id": "308333ef",
   "metadata": {},
   "source": [
    "6. In standard expression syntax, parentheses and intervals have distinct meanings. How can you tell\n",
    "a regex that you want it to fit real parentheses and periods?\n",
    "\n",
    "- Ans : In regex we use backslash (\\) character before a period or a parentheses to distinguish it from regular regex syntax. \n",
    "\n",
    "\n",
    "The '$\\.$',  '$\\($' and '$\\)$' escape characters in the raw string passed to re.compile() will match actual parenthesis characters."
   ]
  },
  {
   "cell_type": "code",
   "execution_count": 2,
   "id": "16c14bd9",
   "metadata": {},
   "outputs": [
    {
     "name": "stdout",
     "output_type": "stream",
     "text": [
      "Whole string My number is (+91)993-023-2321\n",
      "('(+91)', '993', '023', '2321')\n"
     ]
    }
   ],
   "source": [
    "import re\n",
    "mystring = 'My number is (+91)993-023-2321'\n",
    "phoneNumRegex = re.compile(r'(\\(\\+\\d\\d\\))(\\d\\d\\d)-(\\d\\d\\d)-(\\d\\d\\d\\d)')\n",
    "match = phoneNumRegex.search(mystring)\n",
    "print('Whole string', mystring)\n",
    "if match: \n",
    "    print(match.groups())"
   ]
  },
  {
   "cell_type": "markdown",
   "id": "61e8c293",
   "metadata": {},
   "source": [
    "7. The findall() method returns a string list or a list of string tuples. What causes it to return one of\n",
    "the two options?\n",
    "\n",
    "- Ans :  If the regex pattern has no groups, a list of strings matched is returned. if the regex pattern has groups, a list of tuple of strings is returned."
   ]
  },
  {
   "cell_type": "code",
   "execution_count": 3,
   "id": "c4c71a17",
   "metadata": {},
   "outputs": [
    {
     "name": "stdout",
     "output_type": "stream",
     "text": [
      "Output for the string in which Regex pattern has groups.\n",
      "[('(+91)', '993', '023', '2321')]\n",
      "Output for the string in which Regex pattern has no groups.\n",
      "['(+91)993-023-2321']\n"
     ]
    }
   ],
   "source": [
    "import re\n",
    "pattern1 = re.compile(r'(\\(\\+\\d\\d\\))(\\d\\d\\d)-(\\d\\d\\d)-(\\d\\d\\d\\d)')\n",
    "match1 = pattern1.findall(mystring)\n",
    "print('Output for the string in which Regex pattern has groups.')\n",
    "print(match1)\n",
    "\n",
    "pattern2 = re.compile(r'\\(\\+\\d{2}\\)\\d{3}-\\d{3}-\\d{4}')\n",
    "print('Output for the string in which Regex pattern has no groups.')\n",
    "match2 = pattern2.findall(mystring)\n",
    "print(match2)\n"
   ]
  },
  {
   "cell_type": "markdown",
   "id": "e97425e4",
   "metadata": {},
   "source": [
    "8. In standard expressions, what does the | character mean?\n",
    "\n",
    "- Ans : In standard expressions $|$ character means $OR$."
   ]
  },
  {
   "cell_type": "markdown",
   "id": "e3fddc06",
   "metadata": {},
   "source": [
    "9. In regular expressions, what does '?' the character stand for?\n",
    "\n",
    "\n",
    "- Ans : In regular Expressions, '?' characters represents zero or one match of the preceeding group."
   ]
  },
  {
   "cell_type": "code",
   "execution_count": 4,
   "id": "89b357d6",
   "metadata": {},
   "outputs": [
    {
     "name": "stdout",
     "output_type": "stream",
     "text": [
      "<re.Match object; span=(0, 3), match='man'>\n",
      "<re.Match object; span=(6, 9), match='man'>\n",
      "None\n"
     ]
    }
   ],
   "source": [
    "import re \n",
    "pat1 = re.search(r'ma?n', 'man')\n",
    "print(pat1)\n",
    "pat2 = re.search(r'ma?n', 'spiderman' )\n",
    "print(pat2)\n",
    "pat3 = re.search(r'ma?n', 'main')\n",
    "print(pat3)"
   ]
  },
  {
   "cell_type": "markdown",
   "id": "662b9087",
   "metadata": {},
   "source": [
    "10.In regular expressions, what is the difference between the + and * characters?\n",
    "\n",
    "- Ans : The * symbol matches 0 or more repetations as many repetitions as are possible. ab* will match ‘a’, ‘ab’, or ‘a’ followed by any number of ‘b’s. But + symbol matches 1 or more repetitions of the preceding RE. ab+ will match ‘a’ followed by any non-zero number of ‘b’s; it will not match just ‘a’."
   ]
  },
  {
   "cell_type": "code",
   "execution_count": 5,
   "id": "67c57982",
   "metadata": {},
   "outputs": [
    {
     "name": "stdout",
     "output_type": "stream",
     "text": [
      "['ab', 'ab', 'a', 'ab']\n",
      "['ab', 'ab', 'ab']\n"
     ]
    }
   ],
   "source": [
    "p1 = re.findall(r'ab*', 'bababaab')\n",
    "print(p1)\n",
    "p2 = re.findall(r'ab+', 'bababaab')\n",
    "print(p2)"
   ]
  },
  {
   "cell_type": "markdown",
   "id": "4c601f35",
   "metadata": {},
   "source": [
    "11. What is the difference between {4} and {4,5} in regular expression?\n",
    "\n",
    "- Ans : {4} means that its preceeding group should repeat 4 times. where as {4,5} means that its preceeding group should repeat mininum 4 times and maximum 5 times inclusively."
   ]
  },
  {
   "cell_type": "code",
   "execution_count": 6,
   "id": "ada07392",
   "metadata": {},
   "outputs": [
    {
     "name": "stdout",
     "output_type": "stream",
     "text": [
      "<re.Match object; span=(0, 2), match='aa'>\n",
      "<re.Match object; span=(6, 9), match='aaa'>\n",
      "No match found.\n"
     ]
    }
   ],
   "source": [
    "import re\n",
    "\n",
    "p1 = re.compile(r'a{2}')\n",
    "match1 = p1.search('aabc daaat')\n",
    "if match1: \n",
    "    print(match1)\n",
    "else :\n",
    "    print('No match found.')\n",
    "\n",
    "p2 = re.compile(r'a{3,5}')\n",
    "match2 = p2.search('aabc daaat')\n",
    "if match2: \n",
    "    print(match2)\n",
    "else :\n",
    "    print('No match found.')\n",
    "\n",
    "p3 = re.compile(r'a{5}')\n",
    "match3 = p3.search('aabc daaat')\n",
    "if match3: \n",
    "    print(match3)\n",
    "else :\n",
    "    print('No match found.')\n",
    "        \n",
    "    "
   ]
  },
  {
   "cell_type": "markdown",
   "id": "2ca5c9f8",
   "metadata": {},
   "source": [
    "12. What do you mean by the \\d, \\w, and \\s shorthand character classes signify in regular\n",
    "expressions?\n",
    "\n",
    "- Ans :  \\d, \\w and \\s are special sequences in regular expresssions in python:\n",
    "\n",
    "    - \\w – Matches a word character equivalent to [a-zA-Z0-9_]\n",
    "    - \\d – Matches digit character equivalent to [0-9]\n",
    "    - \\s – Matches whitespace character (space, tab, newline, etc.)\n"
   ]
  },
  {
   "cell_type": "markdown",
   "id": "955ed48d",
   "metadata": {},
   "source": [
    "13. What do means by \\D, \\W, and \\S shorthand character classes signify in regular expressions? \n",
    "\n",
    "- Ans :\\D, \\W and \\S are special sequences in regular expresssions in python:\n",
    "\n",
    "     - \\W – Matches any non-alphanumeric character equivalent to [^a-zA-Z0-9_]\n",
    "     - \\D – Matches any non-digit character, this is equivalent to the set class [^0-9]\n",
    "     - \\S – Matches any non-whitespace character\n"
   ]
  },
  {
   "cell_type": "markdown",
   "id": "a7efd2ea",
   "metadata": {},
   "source": [
    "14. What is the difference between `.*?` and `.*` ?\n",
    "\n",
    "- Ans : `.*` is a Greedy mode, which returns the longest string that meets the condition. Whereas `.*?` is a non greedy mode which returns the shortest string that meets the condition."
   ]
  },
  {
   "cell_type": "code",
   "execution_count": 7,
   "id": "14d4abcc",
   "metadata": {},
   "outputs": [
    {
     "name": "stdout",
     "output_type": "stream",
     "text": [
      "<re.Match object; span=(0, 9), match='aabc daaa'>\n",
      "<re.Match object; span=(0, 2), match='aa'>\n"
     ]
    }
   ],
   "source": [
    "p1 = re.compile(r'.*a{2}')\n",
    "match1 = p1.search('aabc daaat')\n",
    "if match1: \n",
    "    print(match1)\n",
    "else :\n",
    "    print('No match found.')\n",
    "\n",
    "p2 = re.compile(r'.*?a{2}')\n",
    "match2 = p2.search('aabc daaat')\n",
    "if match2: \n",
    "    print(match2)\n",
    "else :\n",
    "    print('No match found.')"
   ]
  },
  {
   "cell_type": "markdown",
   "id": "497999af",
   "metadata": {},
   "source": [
    "15. What is the syntax for matching both numbers and lowercase letters with a character class?\n",
    "\n",
    "- Ans : The Synatax is :  [a-z0-9] or [0-9a-z]"
   ]
  },
  {
   "cell_type": "markdown",
   "id": "81408f3c",
   "metadata": {},
   "source": [
    "16. What is the procedure for making a normal expression in regax case insensitive?\n",
    "\n",
    "- Ans : We can pass re.IGNORECASE as a flag to make a normal expression case insensitive."
   ]
  },
  {
   "cell_type": "markdown",
   "id": "be09139e",
   "metadata": {},
   "source": [
    "17. What does the . character normally match? What does it match if re.DOTALL is passed as 2nd argument in re.compile()?\n",
    "\n",
    "- Ans : In the default mode `.` character matches any character except a newline. If the DOTALL flag has been specified, this matches any character including a newline."
   ]
  },
  {
   "cell_type": "code",
   "execution_count": 8,
   "id": "d6864b40",
   "metadata": {},
   "outputs": [
    {
     "name": "stdout",
     "output_type": "stream",
     "text": [
      "['F', 'r', 'u', 'i', 't', 's', '.', ' ', ' ', 'V', 'e', 'g', 'e', 't', 'a', 'b', 'l', 'e', 's', '.', ' ', ' ', 'D', 'a', 'i', 'r', 'y']\n",
      "['F', 'r', 'u', 'i', 't', 's', '.', ' ', '\\n', ' ', 'V', 'e', 'g', 'e', 't', 'a', 'b', 'l', 'e', 's', '.', ' ', '\\n', ' ', 'D', 'a', 'i', 'r', 'y']\n"
     ]
    }
   ],
   "source": [
    "mystr = 'Fruits. \\n Vegetables. \\n Dairy'\n",
    "\n",
    "p1 = re.compile('.')\n",
    "match1 = p1.findall(mystr)\n",
    "if match1: \n",
    "    print(match1)\n",
    "    \n",
    "#p2 = re.compile('.')\n",
    "match2 = re.findall(r'.', mystr, re.DOTALL)\n",
    "if match2:\n",
    "    print(match2)"
   ]
  },
  {
   "cell_type": "markdown",
   "id": "550d6dc8",
   "metadata": {},
   "source": [
    "18. If numReg = re.compile(r'\\d+'), what will numRegex.sub('X','11 drummers, 10 pipers, five rings, 4 hen') return? \n",
    "             \n",
    "- Ans : X drummers, X pipers, five rings, X hen"
   ]
  },
  {
   "cell_type": "code",
   "execution_count": 9,
   "id": "87ca6095",
   "metadata": {},
   "outputs": [
    {
     "data": {
      "text/plain": [
       "'X drummers, X pipers, five rings, X hen'"
      ]
     },
     "execution_count": 9,
     "metadata": {},
     "output_type": "execute_result"
    }
   ],
   "source": [
    "numReg = re.compile(r'\\d+')\n",
    "numReg.sub('X', '11 drummers, 10 pipers, five rings, 4 hen')\n"
   ]
  },
  {
   "cell_type": "markdown",
   "id": "aa45a589",
   "metadata": {},
   "source": [
    "19. What does passing re.VERBOSE as the 2nd argument to re.compile() allow to do?\n",
    "\n",
    "- Ans : `re.VERBOSE` will allow to add whitespace and comments to string passed to `re.compile()`."
   ]
  },
  {
   "cell_type": "code",
   "execution_count": 10,
   "id": "87ad30d4",
   "metadata": {},
   "outputs": [
    {
     "name": "stdout",
     "output_type": "stream",
     "text": [
      "['1.234']\n",
      "['1.234']\n"
     ]
    }
   ],
   "source": [
    "mystr = '1.234'\n",
    "\n",
    "\n",
    "a = re.compile(r\"\"\"\\d+  # the integral part\n",
    "                   \\.    # the decimal point\n",
    "                   \\d*  # some fractional digits\"\"\",re.VERBOSE)\n",
    "b = re.compile(r\"\\d+\\.\\d*\")\n",
    "\n",
    "mat1 = a.findall(mystr)\n",
    "\n",
    "if mat1: \n",
    "    print(mat1)\n",
    "\n",
    "mat2 = b.findall(mystr)\n",
    "if mat2: \n",
    "    print(mat2)\n"
   ]
  },
  {
   "cell_type": "markdown",
   "id": "20d1c697",
   "metadata": {},
   "source": [
    "20. How would you write a regex that match a number with comma for every three digits? It must match the given following:  '42', '1,234', '6,368,745', but not the following: '12, 34, 567' (which has only two digits between the commas) '1234' (which lacks commas)."
   ]
  },
  {
   "cell_type": "code",
   "execution_count": 11,
   "id": "e34ae89f",
   "metadata": {},
   "outputs": [
    {
     "name": "stdout",
     "output_type": "stream",
     "text": [
      "42    <re.Match object; span=(0, 2), match='42'>\n",
      "1,234    <re.Match object; span=(0, 5), match='1,234'>\n",
      "6,368,745    <re.Match object; span=(0, 9), match='6,368,745'>\n",
      "12, 34, 567    None\n",
      "1234    None\n"
     ]
    }
   ],
   "source": [
    "list_digits = [ '42', '1,234', '6,368,745', '12, 34, 567', '1234']\n",
    "pat = re.compile(r'^\\d{1,3}(,\\d{3})*$')\n",
    "for items in list_digits: \n",
    "    mat = pat.search(items)\n",
    "    if mat : \n",
    "        print(items, \"  \", mat)\n",
    "    else :\n",
    "        print(items, \"  \", None)"
   ]
  },
  {
   "cell_type": "markdown",
   "id": "12c648b2",
   "metadata": {},
   "source": [
    "21. How would you write a regex that matches the full name of someone whose last name is\n",
    "Watanabe? You can assume that the first name that comes before it will always be one word that\n",
    "begins with a capital letter. The regex must match the following:  \n",
    " \n",
    "'Haruto Watanabe'  \n",
    "'Alice Watanabe'\n",
    "'RoboCop Watanabe' \n",
    "but not the following :  \n",
    "'haruto Watanabe' (where the first name is not capitalized)  \n",
    "'Mr. Watanabe' (where the preceeding word has a non letter character) \n",
    "'Watanabe' (which has no first name)  \n",
    "'Haruto watanabe' (where Watanabe is not capitalized)\n",
    "\n",
    "\n",
    "- Ans : \n",
    "\n",
    "    \n",
    "    \n",
    "    "
   ]
  },
  {
   "cell_type": "code",
   "execution_count": 12,
   "id": "f9a1a7fe",
   "metadata": {},
   "outputs": [
    {
     "name": "stdout",
     "output_type": "stream",
     "text": [
      "Haruto Watanabe    <re.Match object; span=(0, 15), match='Haruto Watanabe'>\n",
      "Alice Watanabe    <re.Match object; span=(0, 14), match='Alice Watanabe'>\n",
      "RoboCop Watanabe    <re.Match object; span=(4, 16), match='Cop Watanabe'>\n",
      "haruto Watanabe None\n",
      "Mr. Watanabe None\n",
      "Watanabe None\n",
      "Haruto watanabe None\n"
     ]
    }
   ],
   "source": [
    "names = ['Haruto Watanabe', 'Alice Watanabe', 'RoboCop Watanabe', 'haruto Watanabe', \n",
    "         'Mr. Watanabe', 'Watanabe', 'Haruto watanabe']\n",
    "\n",
    "pat = re.compile(r'[A-Z]{1}[a-z]*\\sWatanabe')\n",
    "\n",
    "for items in names: \n",
    "    match = pat.search(items)\n",
    "    if match:\n",
    "        print(items, \"  \" , match)\n",
    "    else :\n",
    "        print(items, None)"
   ]
  },
  {
   "cell_type": "markdown",
   "id": "b68eae5b",
   "metadata": {},
   "source": [
    "How would you write a regex that matches a sentence where the first word is either Alice, Bob,\n",
    "or Carol; the second word is either eats, pets, or throws; the third word is apples, cats, or baseballs;\n",
    "and the sentence ends with a period? This regex should be case-insensitive. It must match the\n",
    "following:  \n",
    "    \n",
    "'Alice eats apples.'  \n",
    "'Bob pets cats.'  \n",
    "'Carol throws baseballs.'  \n",
    "'BOB EATS CATS.'  \n",
    "\n",
    "but not the following : \n",
    "    \n",
    "'RoboCop eats apples.'  \n",
    "'ALICE THROWS FOOTBALLS.'  \n",
    "'Carol eats 7 cats. '  \n",
    "\n",
    "\n",
    "- Ans : \n",
    "    \n",
    "    "
   ]
  },
  {
   "cell_type": "code",
   "execution_count": 13,
   "id": "934e2191",
   "metadata": {},
   "outputs": [
    {
     "name": "stdout",
     "output_type": "stream",
     "text": [
      "Alice eats apples.    <re.Match object; span=(0, 18), match='Alice eats apples.'>\n",
      "Bob pets cats.    <re.Match object; span=(0, 14), match='Bob pets cats.'>\n",
      "Carol throws baseballs.    <re.Match object; span=(0, 23), match='Carol throws baseballs.'>\n",
      "BOB EATS CATS.    <re.Match object; span=(0, 14), match='BOB EATS CATS.'>\n",
      "RoboCop eats apples.    None\n",
      "ALICE THROWS FOOTBALLS.    None\n",
      "Carol eats 7 cats.    None\n"
     ]
    }
   ],
   "source": [
    "sents = ['Alice eats apples.', 'Bob pets cats.', 'Carol throws baseballs.', 'BOB EATS CATS.', \n",
    "         'RoboCop eats apples.', 'ALICE THROWS FOOTBALLS.', 'Carol eats 7 cats.']\n",
    "\n",
    "\n",
    "\n",
    "pattern = r'(Alice|Bob|Carol)\\s(eats|pets|throws)\\s(apples|cats|baseballs)\\.'\n",
    "mat1 = re.compile(pattern,re.IGNORECASE)\n",
    "for items in sents:\n",
    "    mat = mat1.search(items)\n",
    "    if mat: \n",
    "        print(items, \"  \", mat)\n",
    "    else :\n",
    "        print(items, \"  \", 'None')\n"
   ]
  },
  {
   "cell_type": "code",
   "execution_count": null,
   "id": "6f5fcbbd",
   "metadata": {},
   "outputs": [],
   "source": []
  }
 ],
 "metadata": {
  "kernelspec": {
   "display_name": "Python 3",
   "language": "python",
   "name": "python3"
  },
  "language_info": {
   "codemirror_mode": {
    "name": "ipython",
    "version": 3
   },
   "file_extension": ".py",
   "mimetype": "text/x-python",
   "name": "python",
   "nbconvert_exporter": "python",
   "pygments_lexer": "ipython3",
   "version": "3.8.8"
  }
 },
 "nbformat": 4,
 "nbformat_minor": 5
}
