{
 "cells": [
  {
   "cell_type": "code",
   "execution_count": 9,
   "id": "37b5a122",
   "metadata": {},
   "outputs": [
    {
     "name": "stdout",
     "output_type": "stream",
     "text": [
      "The entry is : a\n",
      "oops <class 'ValueError'> occured\n",
      "next entry\n",
      "The entry is : 0\n",
      "oops <class 'ZeroDivisionError'> occured\n",
      "next entry\n",
      "The entry is : 2\n",
      "The reciprocal is : 0.5\n"
     ]
    }
   ],
   "source": [
    "import sys \n",
    "\n",
    "ranlist = ['a', 0, 2]\n",
    "\n",
    "for en in ranlist : \n",
    "    try: \n",
    "        print(f'The entry is : {en}')\n",
    "        r = 1/int(en)\n",
    "        \n",
    "    except : \n",
    "        print('oops', sys.exc_info()[0], 'occured')\n",
    "        print('next entry')\n",
    "        \n",
    "print(f'The reciprocal is : {r}')        "
   ]
  },
  {
   "cell_type": "code",
   "execution_count": 6,
   "id": "a37f0725",
   "metadata": {},
   "outputs": [
    {
     "name": "stdout",
     "output_type": "stream",
     "text": [
      "None\n"
     ]
    }
   ],
   "source": [
    "print(sys.exc_info()[0])"
   ]
  },
  {
   "cell_type": "code",
   "execution_count": null,
   "id": "9ec9eab6",
   "metadata": {},
   "outputs": [],
   "source": []
  }
 ],
 "metadata": {
  "kernelspec": {
   "display_name": "Python 3",
   "language": "python",
   "name": "python3"
  },
  "language_info": {
   "codemirror_mode": {
    "name": "ipython",
    "version": 3
   },
   "file_extension": ".py",
   "mimetype": "text/x-python",
   "name": "python",
   "nbconvert_exporter": "python",
   "pygments_lexer": "ipython3",
   "version": "3.8.8"
  }
 },
 "nbformat": 4,
 "nbformat_minor": 5
}
