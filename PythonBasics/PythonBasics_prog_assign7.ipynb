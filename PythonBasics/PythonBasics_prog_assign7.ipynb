{
 "cells": [
  {
   "cell_type": "markdown",
   "id": "f69fc0c8",
   "metadata": {},
   "source": [
    "## Python Basics - Programming Assignment 7"
   ]
  },
  {
   "cell_type": "markdown",
   "id": "c3a14c2a",
   "metadata": {},
   "source": [
    "1. Write a Python Program to find sum of array?"
   ]
  },
  {
   "cell_type": "code",
   "execution_count": 1,
   "id": "f680ebbc",
   "metadata": {},
   "outputs": [
    {
     "name": "stdout",
     "output_type": "stream",
     "text": [
      "Sum of given array [41  7 52 89 37] : 226\n"
     ]
    }
   ],
   "source": [
    "import numpy as np\n",
    "\n",
    "a_arr = np.array([41, 7, 52, 89, 37])\n",
    "\n",
    "print(f'Sum of given array {a_arr} : {np.sum(a_arr)}')"
   ]
  },
  {
   "cell_type": "markdown",
   "id": "5a03f731",
   "metadata": {},
   "source": [
    "2. Write a Python Program to find largest element in an array?"
   ]
  },
  {
   "cell_type": "code",
   "execution_count": 2,
   "id": "be0f6aac",
   "metadata": {},
   "outputs": [
    {
     "name": "stdout",
     "output_type": "stream",
     "text": [
      "Largest element in the given array [41  7 52 89 37] : 89\n"
     ]
    }
   ],
   "source": [
    "a_arr = np.array([41, 7, 52, 89, 37])\n",
    "\n",
    "print(f'Largest element in the given array {a_arr} : {max(a_arr)}')"
   ]
  },
  {
   "cell_type": "markdown",
   "id": "81a8361e",
   "metadata": {},
   "source": [
    "3. Write a Python Program for array rotation?"
   ]
  },
  {
   "cell_type": "code",
   "execution_count": 3,
   "id": "6601697b",
   "metadata": {},
   "outputs": [
    {
     "name": "stdout",
     "output_type": "stream",
     "text": [
      "Original array : [41  7 52 89 37]\n",
      "Rotated array : [37. 41.  7. 52. 89.]\n"
     ]
    }
   ],
   "source": [
    "def rotation_array(arr) :\n",
    "    a_arr2 = np.zeros(shape = (1,len(a_arr)))\n",
    "    a_arr2 = a_arr2.flatten()\n",
    "    #print(a_arr2)\n",
    "    for i in range(0, len(a_arr)) :\n",
    "        #print(a_arr1[i]) \n",
    "        a_arr2[i] = a_arr[i-1]\n",
    "    \n",
    "    return a_arr2\n",
    "    \n",
    "    \n",
    "    \n",
    "    \n",
    "arr1 = np.array([41, 7, 52, 89, 37])\n",
    "print(f'Original array : {arr1}')\n",
    "print(f'Rotated array : {rotation_array(arr1)}')"
   ]
  },
  {
   "cell_type": "markdown",
   "id": "5ef61ac7",
   "metadata": {},
   "source": [
    "4. Write a Python Program to Split the array and add the first part to the end?"
   ]
  },
  {
   "cell_type": "code",
   "execution_count": 4,
   "id": "c95bb69f",
   "metadata": {},
   "outputs": [
    {
     "name": "stdout",
     "output_type": "stream",
     "text": [
      "Original array : [41  7 52 89 37]\n",
      "After modifying : [7, 52, 89, 37, 41]\n"
     ]
    }
   ],
   "source": [
    "def split_add(arr, pos) :\n",
    "    artolist = arr.tolist()\n",
    "    l1 = artolist[pos:]\n",
    "    l2 = artolist[:pos]\n",
    "    l1.extend(l2)\n",
    "    return l1    \n",
    "    \n",
    "\n",
    "    \n",
    "arr1 = np.array([41, 7, 52, 89, 37])\n",
    "pos = 1 # position of splitting, in this case first\n",
    "print(f'Original array : {arr1}')\n",
    "print(f'After modifying : {split_add(arr1, pos)}')"
   ]
  },
  {
   "cell_type": "markdown",
   "id": "7c2da0f6",
   "metadata": {},
   "source": [
    "5. Write a Python Program to check if given array is Monotonic?"
   ]
  },
  {
   "cell_type": "code",
   "execution_count": 5,
   "id": "44773c4f",
   "metadata": {},
   "outputs": [
    {
     "name": "stdout",
     "output_type": "stream",
     "text": [
      "The given array [41  7 52 89 37] is not monotonic.\n"
     ]
    }
   ],
   "source": [
    "def if_monotonic(arr):\n",
    "    artolist = arr.tolist()\n",
    "    l1 = sorted(artolist)\n",
    "    l2 = sorted(artolist, reverse=True)\n",
    "    if(all(l1==arr) or all(l2 == arr)) :\n",
    "        return True\n",
    "    \n",
    "    return False\n",
    "\n",
    "    \n",
    "    \n",
    "    \n",
    "arr1 = np.array([41, 7, 52, 89, 37])\n",
    "\n",
    "if if_monotonic(arr1) is True :\n",
    "    print(f'The given array {arr1} is monotonic.')\n",
    "else :\n",
    "    print(f'The given array {arr1} is not monotonic.')\n"
   ]
  },
  {
   "cell_type": "code",
   "execution_count": null,
   "id": "1cf22211",
   "metadata": {},
   "outputs": [],
   "source": []
  }
 ],
 "metadata": {
  "kernelspec": {
   "display_name": "Python 3",
   "language": "python",
   "name": "python3"
  },
  "language_info": {
   "codemirror_mode": {
    "name": "ipython",
    "version": 3
   },
   "file_extension": ".py",
   "mimetype": "text/x-python",
   "name": "python",
   "nbconvert_exporter": "python",
   "pygments_lexer": "ipython3",
   "version": "3.8.8"
  }
 },
 "nbformat": 4,
 "nbformat_minor": 5
}
