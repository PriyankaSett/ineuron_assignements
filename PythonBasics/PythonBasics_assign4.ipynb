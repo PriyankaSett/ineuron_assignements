{
 "cells": [
  {
   "cell_type": "markdown",
   "id": "df2f818c",
   "metadata": {},
   "source": [
    "## Python Basics - Assignment 4"
   ]
  },
  {
   "cell_type": "markdown",
   "id": "920093ab",
   "metadata": {},
   "source": [
    "1. What exactly is []?\n",
    "\n",
    "- Ans: This is empty list."
   ]
  },
  {
   "cell_type": "markdown",
   "id": "fba6a921",
   "metadata": {},
   "source": [
    "2. In a list of values stored in a variable called spam, how would you assign the value &#39;hello&#39; as the\n",
    "third value? (Assume [2, 4, 6, 8, 10] are in spam.)\n",
    "\n",
    "\n",
    "- Ans : spam[2] = 'hello'"
   ]
  },
  {
   "cell_type": "markdown",
   "id": "9d1c40ba",
   "metadata": {},
   "source": [
    "Let's pretend the spam includes the list ['a', 'b', 'c', 'd'] for the next three queries."
   ]
  },
  {
   "cell_type": "markdown",
   "id": "6751fc87",
   "metadata": {},
   "source": [
    "3. What is the value of spam[int(int('3' * 2) / 11)]?\n",
    "\n",
    "- Ans : 'd'"
   ]
  },
  {
   "cell_type": "markdown",
   "id": "68eb9df3",
   "metadata": {},
   "source": [
    "4. What is the value of spam[-1] ?\n",
    "\n",
    "- Ans :'d'"
   ]
  },
  {
   "cell_type": "markdown",
   "id": "4fdf1468",
   "metadata": {},
   "source": [
    "5. What is the value of spam[:2]?  \n",
    "\n",
    "- Ans : ['a','b']"
   ]
  },
  {
   "cell_type": "markdown",
   "id": "4b2f389f",
   "metadata": {},
   "source": [
    "- Let's pretend bacon has the list [3.14, 'cat', 11, 'cat', True]\n",
    "for the next three questions.\n",
    "\n",
    "\n",
    "6. What is the value of bacon.index('cat')?\n",
    "\n",
    "- Ans : 1"
   ]
  },
  {
   "cell_type": "markdown",
   "id": "b6ca4807",
   "metadata": {},
   "source": [
    "7. How does bacon.append(99) change the look of the \n",
    "list value in bacon?\n",
    "\n",
    "- Ans : [3.14, 'cat', 11, 'cat', True, 99]"
   ]
  },
  {
   "cell_type": "markdown",
   "id": "958334f3",
   "metadata": {},
   "source": [
    "8. How does bacon.remove(&#39;cat&#39;) change the look of the list in bacon?\n",
    "                        \n",
    "- Ans : bacon.remove(&#39;cat&#39;) will remove the first 'cat' in the list.                         "
   ]
  },
  {
   "cell_type": "markdown",
   "id": "f2348c5b",
   "metadata": {},
   "source": [
    "9. What are the list concatenation and list replication operators?\n",
    "\n",
    "- Ans: \n",
    "- List concatenation operator - '+'\n",
    "- List replication operator - '*'"
   ]
  },
  {
   "cell_type": "markdown",
   "id": "c009f609",
   "metadata": {},
   "source": [
    "10. What is difference between the list methods append() and insert()?\n",
    "\n",
    "- Ans : list.append() appends or adds the required value/object at the end of the current list, list.insert() adds required value/object at the defined position. Lets take an example: "
   ]
  },
  {
   "cell_type": "code",
   "execution_count": 13,
   "id": "aaf60a3c",
   "metadata": {},
   "outputs": [
    {
     "data": {
      "text/plain": [
       "['a', 't', 'b', 'c', 'd', 'e']"
      ]
     },
     "execution_count": 13,
     "metadata": {},
     "output_type": "execute_result"
    }
   ],
   "source": [
    "mylist = ['a', 'b', 'c', 'd']\n",
    "\n",
    "mylist.append('e')\n",
    "mylist.insert(1, 't')\n",
    "mylist"
   ]
  },
  {
   "cell_type": "markdown",
   "id": "7574e1c6",
   "metadata": {},
   "source": [
    "11. What are the two methods for removing items from a list?\n",
    "\n",
    "- Ans : The two methods are 'del' and 'remove'. In case of 'del', the index is passed and in 'remove' the value is passed in argument. Let us take an example. "
   ]
  },
  {
   "cell_type": "code",
   "execution_count": 17,
   "id": "fa282697",
   "metadata": {},
   "outputs": [
    {
     "data": {
      "text/plain": [
       "[1, 3, 4, 5, 6]"
      ]
     },
     "execution_count": 17,
     "metadata": {},
     "output_type": "execute_result"
    }
   ],
   "source": [
    "mylist1 = [1,2,3,4,5,6,7]\n",
    "del mylist1[1]\n",
    "mylist1.remove(7)\n",
    "mylist1"
   ]
  },
  {
   "cell_type": "markdown",
   "id": "24125f02",
   "metadata": {},
   "source": [
    "12. Describe how list values and string values are identical.\n",
    "\n",
    "- Ans : Both list and strings can be concatenated, sliced in a similar manner. The len() function is used to find the length or string. For both of them in for loop, 'in' and 'not in' operators can be used. "
   ]
  },
  {
   "cell_type": "markdown",
   "id": "abaaa279",
   "metadata": {},
   "source": [
    "13. What's the difference between tuples and lists?\n",
    "\n",
    "- Ans : Lists are mutable whereas tuples are immutable. Lists are written as [1,2,3,4] where as tuples are written as (1,2,3,4). \n"
   ]
  },
  {
   "cell_type": "markdown",
   "id": "b420fd00",
   "metadata": {},
   "source": [
    "14. How do you type a tuple value that only contains the integer 42?\n",
    "\n",
    "- Ans : mytuple = (42,)\n",
    "The trailing  comma is important. It is only required for single-item tuples to disambiguate defining a tuple or an expression surrounded by parentheses. For more than one item, it is no longer necessary since it is perfectly clear it is a tuple. However, the trailing comma is allowed to make defining them using multiple lines easier."
   ]
  },
  {
   "cell_type": "markdown",
   "id": "f3cd642a",
   "metadata": {},
   "source": [
    "15. How do you get a list value's tuple form? How do you get a tuple value's list form?\n",
    "\n",
    "- Ans : One can convert list to tuple using tuple() and one can \n",
    "coonvert tuple to list using list(). Let us consider the example given below."
   ]
  },
  {
   "cell_type": "code",
   "execution_count": 20,
   "id": "22c68d3e",
   "metadata": {},
   "outputs": [
    {
     "name": "stdout",
     "output_type": "stream",
     "text": [
      "<class 'list'>\n",
      "(1, 2, 3, 4)\n",
      "<class 'tuple'>\n",
      "[1, 2, 3, 4]\n",
      "<class 'list'>\n"
     ]
    }
   ],
   "source": [
    "list1 = [1,2,3,4]\n",
    "print(type(list1))\n",
    "tuple1 = tuple(list1)\n",
    "print(tuple1)\n",
    "print(type(tuple1))\n",
    "list2 = list(tuple1)\n",
    "print(list2)\n",
    "print(type(list2))"
   ]
  },
  {
   "cell_type": "markdown",
   "id": "83bd8122",
   "metadata": {},
   "source": [
    "16. Variables that \"contain\" list values are not necessarily lists themselves. Instead, what do they\n",
    "contain?\n",
    "\n",
    "- Ans : They contains the references to the list values. "
   ]
  },
  {
   "cell_type": "markdown",
   "id": "f801d5b4",
   "metadata": {},
   "source": [
    "17. How do you distinguish between copy.copy() and copy.deepcopy()?\n",
    "\n",
    "- Ans : copy.copy() is known as shallow copy and copy.deepcopy is known as deep copy. \n",
    "\n",
    "In case of shallow copy, if anything is changed in the shallow copy object, it will change the value in the original. In case of deep copy, any change done in the deep copy object, it does not alter anything in \n",
    "the original one. Deep copy is a different entity. It is no more related to the original one. So any change in \n",
    "deep copy object does not effect in the original one. "
   ]
  },
  {
   "cell_type": "code",
   "execution_count": 2,
   "id": "40076354",
   "metadata": {},
   "outputs": [
    {
     "name": "stdout",
     "output_type": "stream",
     "text": [
      "Original : [1, 2, 3, ['A', 'B', 'C'], 4, 5]\n",
      "After copying by shallow copy : [1, 2, 3, ['A', 'B', 'C'], 4, 5]\n",
      "After modifying shallow copy object : ([1, 2, 3, ['A', 7, 'C'], 4, 5], [1, 2, 3, ['A', 7, 'C'], 4, 5])\n",
      "Now the original list becomes : [1, 2, 3, ['A', 7, 'C'], 4, 5]\n",
      "After  copying by deep copy : [1, 2, 3, ['A', 7, 'C'], 4, 5]\n",
      "After modifying deep copy object: ([1, 2, 3, ['A', 'T', 'C'], 4, 5], [1, 2, 3, ['A', 7, 'C'], 4, 5])\n"
     ]
    }
   ],
   "source": [
    "import copy \n",
    "\n",
    "or_list = [1,2,3,['A', 'B', 'C'], 4,5]\n",
    "\n",
    "print(f'Original : {or_list}')\n",
    "\n",
    "\n",
    "s_copy = copy.copy(or_list) # shallow copy \n",
    "\n",
    "print(f'After copying by shallow copy : {s_copy}')\n",
    "\n",
    "s_copy[3][1] = 7\n",
    "\n",
    "print(f'After modifying shallow copy object : {s_copy, or_list}')\n",
    "\n",
    "\n",
    "print(f'Now the original list becomes : {or_list}')\n",
    "\n",
    "d_copy = copy.deepcopy(or_list)\n",
    "\n",
    "print(f'After  copying by deep copy : {d_copy}')\n",
    "\n",
    "d_copy[3][1] = 'T'\n",
    "print(f'After modifying deep copy object: {d_copy, or_list}')"
   ]
  },
  {
   "cell_type": "code",
   "execution_count": null,
   "id": "57d64740",
   "metadata": {},
   "outputs": [],
   "source": []
  },
  {
   "cell_type": "code",
   "execution_count": null,
   "id": "7dbf48f7",
   "metadata": {},
   "outputs": [],
   "source": []
  }
 ],
 "metadata": {
  "kernelspec": {
   "display_name": "Python 3",
   "language": "python",
   "name": "python3"
  },
  "language_info": {
   "codemirror_mode": {
    "name": "ipython",
    "version": 3
   },
   "file_extension": ".py",
   "mimetype": "text/x-python",
   "name": "python",
   "nbconvert_exporter": "python",
   "pygments_lexer": "ipython3",
   "version": "3.8.8"
  }
 },
 "nbformat": 4,
 "nbformat_minor": 5
}
