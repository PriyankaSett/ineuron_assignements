{
 "cells": [
  {
   "cell_type": "markdown",
   "id": "03c46b89",
   "metadata": {},
   "source": [
    "## Python Basics - Programming Aassignment 2"
   ]
  },
  {
   "cell_type": "markdown",
   "id": "34c5f4be",
   "metadata": {},
   "source": [
    "1. Write a Python program to convert kilometers to miles?"
   ]
  },
  {
   "cell_type": "code",
   "execution_count": 1,
   "id": "e38d4885",
   "metadata": {},
   "outputs": [
    {
     "name": "stdout",
     "output_type": "stream",
     "text": [
      "6.7\n",
      "6.7 km in miles = 4.16539 miles.\n"
     ]
    }
   ],
   "source": [
    "# km to miles  : 1 km = 0.62137 miles\n",
    "\n",
    "km = float(input())\n",
    "convfac = 0.6217 \n",
    "\n",
    "print(f'{km} km in miles = {km*convfac} miles.')\n"
   ]
  },
  {
   "cell_type": "markdown",
   "id": "4b685d33",
   "metadata": {},
   "source": [
    "2. Write a Python program to convert Celsius to Fahrenheit? "
   ]
  },
  {
   "cell_type": "code",
   "execution_count": 12,
   "id": "15f1dedf",
   "metadata": {},
   "outputs": [
    {
     "name": "stdout",
     "output_type": "stream",
     "text": [
      "0\n",
      "0.0 degree in Celsius in Farenhite = 32.0 F\n"
     ]
    }
   ],
   "source": [
    "celsius_in = float(input())\n",
    "ctof = (celsius_in * 9/5) + 32 \n",
    "print(f'{celsius_in} degree in Celsius in Farenhite = {ctof} F')"
   ]
  },
  {
   "cell_type": "markdown",
   "id": "8ad353f2",
   "metadata": {},
   "source": [
    "3. Write a Python program to display calendar?"
   ]
  },
  {
   "cell_type": "code",
   "execution_count": 23,
   "id": "693640b5",
   "metadata": {},
   "outputs": [
    {
     "name": "stdout",
     "output_type": "stream",
     "text": [
      "2018\n",
      "9\n",
      "Name of the month 9 and year 2018\n",
      "Calendar for 9 month :    September 2018\n",
      "Mo Tu We Th Fr Sa Su\n",
      "                1  2\n",
      " 3  4  5  6  7  8  9\n",
      "10 11 12 13 14 15 16\n",
      "17 18 19 20 21 22 23\n",
      "24 25 26 27 28 29 30\n",
      "\n",
      "---------------------------------------\n",
      "Calendar for 2018 year :                                   2018\n",
      "\n",
      "      January                   February                   March\n",
      "Mo Tu We Th Fr Sa Su      Mo Tu We Th Fr Sa Su      Mo Tu We Th Fr Sa Su\n",
      " 1  2  3  4  5  6  7                1  2  3  4                1  2  3  4\n",
      " 8  9 10 11 12 13 14       5  6  7  8  9 10 11       5  6  7  8  9 10 11\n",
      "15 16 17 18 19 20 21      12 13 14 15 16 17 18      12 13 14 15 16 17 18\n",
      "22 23 24 25 26 27 28      19 20 21 22 23 24 25      19 20 21 22 23 24 25\n",
      "29 30 31                  26 27 28                  26 27 28 29 30 31\n",
      "\n",
      "       April                      May                       June\n",
      "Mo Tu We Th Fr Sa Su      Mo Tu We Th Fr Sa Su      Mo Tu We Th Fr Sa Su\n",
      "                   1          1  2  3  4  5  6                   1  2  3\n",
      " 2  3  4  5  6  7  8       7  8  9 10 11 12 13       4  5  6  7  8  9 10\n",
      " 9 10 11 12 13 14 15      14 15 16 17 18 19 20      11 12 13 14 15 16 17\n",
      "16 17 18 19 20 21 22      21 22 23 24 25 26 27      18 19 20 21 22 23 24\n",
      "23 24 25 26 27 28 29      28 29 30 31               25 26 27 28 29 30\n",
      "30\n",
      "\n",
      "        July                     August                  September\n",
      "Mo Tu We Th Fr Sa Su      Mo Tu We Th Fr Sa Su      Mo Tu We Th Fr Sa Su\n",
      "                   1             1  2  3  4  5                      1  2\n",
      " 2  3  4  5  6  7  8       6  7  8  9 10 11 12       3  4  5  6  7  8  9\n",
      " 9 10 11 12 13 14 15      13 14 15 16 17 18 19      10 11 12 13 14 15 16\n",
      "16 17 18 19 20 21 22      20 21 22 23 24 25 26      17 18 19 20 21 22 23\n",
      "23 24 25 26 27 28 29      27 28 29 30 31            24 25 26 27 28 29 30\n",
      "30 31\n",
      "\n",
      "      October                   November                  December\n",
      "Mo Tu We Th Fr Sa Su      Mo Tu We Th Fr Sa Su      Mo Tu We Th Fr Sa Su\n",
      " 1  2  3  4  5  6  7                1  2  3  4                      1  2\n",
      " 8  9 10 11 12 13 14       5  6  7  8  9 10 11       3  4  5  6  7  8  9\n",
      "15 16 17 18 19 20 21      12 13 14 15 16 17 18      10 11 12 13 14 15 16\n",
      "22 23 24 25 26 27 28      19 20 21 22 23 24 25      17 18 19 20 21 22 23\n",
      "29 30 31                  26 27 28 29 30            24 25 26 27 28 29 30\n",
      "                                                    31\n",
      "\n"
     ]
    }
   ],
   "source": [
    "import calendar \n",
    "yy = int(input())\n",
    "mm = int(input())\n",
    "print(f'Name of the month {mm} and year {yy}')\n",
    "print(f'Calendar for {mm} month : {calendar.month(yy, mm)}')\n",
    "print('---------------------------------------')\n",
    "print(f'Calendar for {yy} year : {calendar.calendar(yy)}')\n"
   ]
  },
  {
   "cell_type": "markdown",
   "id": "2eac0395",
   "metadata": {},
   "source": [
    "4. Write a Python program to solve quadratic equation?"
   ]
  },
  {
   "cell_type": "code",
   "execution_count": 28,
   "id": "f10f4c10",
   "metadata": {},
   "outputs": [
    {
     "name": "stdout",
     "output_type": "stream",
     "text": [
      "1\n",
      "5\n",
      "6\n",
      "Print the coeffs : a = 1.0, b = 5.0, c = 6.0\n",
      "Roots are: (-2+0j) and (-3+0j)\n"
     ]
    }
   ],
   "source": [
    "# quadratic eqn : a x**2 + b*x + c = 0\n",
    "\n",
    "import cmath\n",
    "\n",
    "a, b, c = float(input()), float(input()), float(input())\n",
    "\n",
    "print(f'Print the coeffs : a = {a}, b = {b}, c = {c}')\n",
    "\n",
    "if (a == 0):\n",
    "    print('a = 0. Please enter different value of a')\n",
    "else : \n",
    "    disc = b * b - 4 *a * c\n",
    "    root1 = (-b + cmath.sqrt(disc))/(2*a)\n",
    "    root2 = (-b - cmath.sqrt(disc))/(2*a)\n",
    "    print(f'Roots are: {root1} and {root2}')\n",
    "    "
   ]
  },
  {
   "cell_type": "markdown",
   "id": "15e2f4e7",
   "metadata": {},
   "source": [
    "5. Write a Python program to swap two variables without temp variable?"
   ]
  },
  {
   "cell_type": "code",
   "execution_count": 24,
   "id": "7f18fdd2",
   "metadata": {},
   "outputs": [
    {
     "name": "stdout",
     "output_type": "stream",
     "text": [
      "8\n",
      "10\n",
      "Before swapping, a = 8, b = 10\n",
      "After swapping, a = 10, b = 8\n"
     ]
    }
   ],
   "source": [
    "a = int(input())\n",
    "b = int(input())\n",
    "print(f'Before swapping, a = {a}, b = {b}')\n",
    "\n",
    "a,b = b,a \n",
    "print(f'After swapping, a = {a}, b = {b}')\n"
   ]
  },
  {
   "cell_type": "code",
   "execution_count": null,
   "id": "88df1a42",
   "metadata": {},
   "outputs": [],
   "source": []
  }
 ],
 "metadata": {
  "kernelspec": {
   "display_name": "Python 3",
   "language": "python",
   "name": "python3"
  },
  "language_info": {
   "codemirror_mode": {
    "name": "ipython",
    "version": 3
   },
   "file_extension": ".py",
   "mimetype": "text/x-python",
   "name": "python",
   "nbconvert_exporter": "python",
   "pygments_lexer": "ipython3",
   "version": "3.8.8"
  }
 },
 "nbformat": 4,
 "nbformat_minor": 5
}
