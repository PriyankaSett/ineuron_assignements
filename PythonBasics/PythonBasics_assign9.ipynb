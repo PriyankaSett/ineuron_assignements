{
 "cells": [
  {
   "cell_type": "markdown",
   "id": "827cf35c",
   "metadata": {},
   "source": [
    "## Python Basics - Assignment 9"
   ]
  },
  {
   "cell_type": "markdown",
   "id": "86557fc8",
   "metadata": {},
   "source": [
    "1. To what does a relative path refer?\n",
    "\n",
    "- Ans : The relative path is the path to some file with respect to your current working directory (PWD).\n",
    "PWD + relative path = absolute path\n",
    "\n",
    "absolute : `/home/chinmay/priyanka/ineuron/ineuron_assignemnts/Python_basic/PythonBasics_assign9.ipynb`  \n",
    "pwd : `/home/chinmay/priyanka/ineuron/ineuron_assignemnts/Python_basic/`\n",
    "relative path for `PythonBasics_assign9.ipynb` is `Python_basic`"
   ]
  },
  {
   "cell_type": "markdown",
   "id": "16c3d69a",
   "metadata": {},
   "source": [
    "2. Where does an absolute path start with your operating system? \n",
    "\n",
    "- Ans : In Linux based Operating systems the absolute path starts with `/` where as in Windows based Operating systems absolute path starts with `C:`"
   ]
  },
  {
   "cell_type": "markdown",
   "id": "6364df9b",
   "metadata": {},
   "source": [
    "3. What do the functions os.getcwd() and os.chdir() do? \n",
    "\n",
    "- Ans : `os.getcwd()` method tells us the location of current working directory (CWD) whereas `os.chdir()` method in Python used to change the current working directory to specified path. These functions are similar to linux commands `pwd` and `cd`."
   ]
  },
  {
   "cell_type": "markdown",
   "id": "6839e81f",
   "metadata": {},
   "source": [
    "4. What are the . and .. folders? \n",
    "\n",
    "- Ans : `.` represents the current directory whereas `..` represents the parent directory of the current directory."
   ]
  },
  {
   "cell_type": "markdown",
   "id": "8e95ae0d",
   "metadata": {},
   "source": [
    "5. In C:\\bacon\\eggs\\spam.txt, which part is the dir name, and which part is the base name?\n",
    "    \n",
    "- Ans :   \n",
    "        dir name : `eggs`\n",
    "        dir path : `C:\\bacon\\eggs`  \n",
    "        base name : `spam.txt`"
   ]
  },
  {
   "cell_type": "markdown",
   "id": "f3a9b90c",
   "metadata": {},
   "source": [
    "6. What are the three “mode” arguments that can be passed to the open() function?\n",
    "\n",
    "- Ans : A file can be Accessed in python using open() function. Open function takes two arguments filename and mode of operation (optional). If mode is not provided, the default mode of opening is Read mode. So, the syntax is: open(filename, mode)\n",
    "\n",
    "    - ‘r’ – Read Mode: This is the default mode for open(). The file is opened and a pointer is positioned at the beginning of the file’s content.\n",
    "    - ‘w’ – Write Mode: Using this mode will overwrite any existing content in a file. If the given file does not exist, a new one will be created.\n",
    "    - ‘r+’ – Read/Write Mode: Use this mode if you need to simultaneously read and write to a file.\n",
    "    - ‘a’ – Append Mode: With this mode the user can append the data without overwriting any already existing data in the file.\n",
    "    - ‘a+’ – Append and Read Mode: In this mode you can read and append the data without overwriting the original file.\n",
    "    - ‘x’ – Exclusive Creating Mode: This mode is for the sole purpose of creating new files. Use this mode if you know the file to be written doesn’t exist beforehand.\n"
   ]
  },
  {
   "cell_type": "markdown",
   "id": "b7550c31",
   "metadata": {},
   "source": [
    "7. What happens if an existing file is opened in write mode?\n",
    "\n",
    "- Ans : Using this mode, we can overwrite any existing content in a file. If the given file does not exist then a new one will be created."
   ]
  },
  {
   "cell_type": "markdown",
   "id": "380ab567",
   "metadata": {},
   "source": [
    "8. How do you tell the difference between read() and readlines()? \n",
    "\n",
    "- Ans : The main difference is that read() will read the whole file at once and then print out the first characters that take up as many bytes as we specify in the parenthesis whereas the readline() that will read and print out only the first characters that take up as many bytes as we specify in the parenthesis. We may want to use readline() when we are reading files that are too big for our RAM.\n",
    "    - The read() would treat each character in the file separately, meaning that the iteration would happen for every character.\n",
    "    - The readline() function, on the other hand, only reads a single line of the file. This means that if the first line of the file were three lines long, the readline() function would only parse (or iterate/operate) on the first line of the file.\n"
   ]
  },
  {
   "cell_type": "markdown",
   "id": "8d7f5565",
   "metadata": {},
   "source": [
    "9. What data structure does a shelf value resemble? \n",
    "\n",
    "- Ans : It contains key and values it represents dictionary. The Shelve Module of Python is a very popular module of Python which works like an effective tool for persistent data storage inside files using a Python program. As the name of this module suggests, i.e., Shelve, we can easily interpret that it will work as a shelf object to keep all our data inside a file and save all the necessary information. In the Shelve Module, a shelf object is defined, which acts like a dictionary-type object, and it is persistently stored in the disk file of our computer. That's how we can save all the data and information through Python Shelve Module in our system and keep it till whenever we want."
   ]
  },
  {
   "cell_type": "code",
   "execution_count": 1,
   "id": "fe558ca0",
   "metadata": {},
   "outputs": [
    {
     "name": "stdout",
     "output_type": "stream",
     "text": [
      "A Shelve file with SampleFile name is successfully created\n",
      "All entries are successfully made inside the sample shelve file\n"
     ]
    }
   ],
   "source": [
    "# Importing the Shelve Module  \n",
    "import shelve  \n",
    "# Creating a shelve file with open() function  \n",
    "shelveVariable = shelve.open(\"SampleFile\")  \n",
    "print(\"A Shelve file with SampleFile name is successfully created\")  \n",
    "# Making entries inside the shelve file  \n",
    "shelveVariable['Employee Name'] = 'Jackie Chan'  \n",
    "shelveVariable['Employee Age'] = 27  \n",
    "shelveVariable['Employee department'] = 'Management'  \n",
    "shelveVariable['Employee Performance'] = 'Excellent'  \n",
    "shelveVariable['Employee Score'] = 9.2  \n",
    "shelveVariable.close()  \n",
    "print(\"All entries are successfully made inside the sample shelve file\")  "
   ]
  },
  {
   "cell_type": "code",
   "execution_count": 2,
   "id": "4ec8b50c",
   "metadata": {},
   "outputs": [
    {
     "name": "stdout",
     "output_type": "stream",
     "text": [
      "Jackie Chan 27 Management Excellent 9.2\n"
     ]
    }
   ],
   "source": [
    "infile = shelve.open('SampleFile', 'r')\n",
    "print(infile['Employee Name'], infile['Employee Age'], infile['Employee department'], \n",
    "      infile['Employee Performance'], infile['Employee Score'])"
   ]
  },
  {
   "cell_type": "code",
   "execution_count": null,
   "id": "07435813",
   "metadata": {},
   "outputs": [],
   "source": []
  }
 ],
 "metadata": {
  "kernelspec": {
   "display_name": "Python 3",
   "language": "python",
   "name": "python3"
  },
  "language_info": {
   "codemirror_mode": {
    "name": "ipython",
    "version": 3
   },
   "file_extension": ".py",
   "mimetype": "text/x-python",
   "name": "python",
   "nbconvert_exporter": "python",
   "pygments_lexer": "ipython3",
   "version": "3.8.8"
  }
 },
 "nbformat": 4,
 "nbformat_minor": 5
}
