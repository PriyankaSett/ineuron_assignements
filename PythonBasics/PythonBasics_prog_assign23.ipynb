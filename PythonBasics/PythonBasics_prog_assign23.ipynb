{
 "cells": [
  {
   "cell_type": "markdown",
   "id": "d1fef491",
   "metadata": {},
   "source": [
    "## Python Basics - Assignment 23"
   ]
  },
  {
   "cell_type": "markdown",
   "id": "9d380eb6",
   "metadata": {},
   "source": [
    "Question 1 \n",
    "Create a function that takes a number as an argument and returns True or False depending\n",
    "on whether the number is symmetrical or not. A number is symmetrical when it is the same as\n",
    "its reverse.  \n",
    "Examples  \n",
    "is_symmetrical(7227) ➞ True  \n",
    "is_symmetrical(12567) ➞ False  \n",
    "is_symmetrical(44444444) ➞ True  \n",
    "is_symmetrical(9939) ➞ False  \n",
    "is_symmetrical(1112111) ➞ True  "
   ]
  },
  {
   "cell_type": "code",
   "execution_count": 1,
   "id": "04df6401",
   "metadata": {},
   "outputs": [
    {
     "name": "stdout",
     "output_type": "stream",
     "text": [
      "Input number : 7227, Output : True\n",
      "Input number : 12567, Output : False\n",
      "Input number : 9939, Output : False\n",
      "Input number : 1112111, Output : True\n"
     ]
    }
   ],
   "source": [
    "def is_symmetrical(num) : \n",
    "    \"\"\"\n",
    "    This function takes a number as an argument and returns True or \n",
    "    False depending on whether the number is symmetrical or not. A number is \n",
    "    symmetrical when it is the same as its reverse.\n",
    "    Examples\n",
    "    is_symmetrical(7227) ➞ True\n",
    "    is_symmetrical(12567) ➞ False\n",
    "    is_symmetrical(44444444) ➞ True\n",
    "    \n",
    "    \"\"\"\n",
    "    numstr = str(num)\n",
    "    numlist = [i for i in numstr]\n",
    "    numlist_rev = numlist[::-1]\n",
    "    \n",
    "    if numlist == numlist_rev : \n",
    "        return True\n",
    "    \n",
    "    return False\n",
    "    pass\n",
    "\n",
    "\n",
    "\n",
    "num1 = 7227\n",
    "num2 = 12567\n",
    "num3 = 9939\n",
    "num4 = 1112111\n",
    "\n",
    "print(f'Input number : {num1}, Output : {is_symmetrical(num1)}')\n",
    "print(f'Input number : {num2}, Output : {is_symmetrical(num2)}')\n",
    "print(f'Input number : {num3}, Output : {is_symmetrical(num3)}')\n",
    "print(f'Input number : {num4}, Output : {is_symmetrical(num4)}')\n"
   ]
  },
  {
   "cell_type": "markdown",
   "id": "22670416",
   "metadata": {},
   "source": [
    "\n",
    "Question 2  \n",
    "Given a string of numbers separated by a comma and space, return the product of the\n",
    "numbers.  \n",
    "Examples  \n",
    "multiply_nums(&quot;2, 3&quot;) ➞ 6  \n",
    "multiply_nums(&quot;1, 2, 3, 4&quot;) ➞ 24  \n",
    "multiply_nums(&quot;54, 75, 453, 0&quot;) ➞ 0  \n",
    "multiply_nums(&quot;10, -2&quot;) ➞ -20  \n"
   ]
  },
  {
   "cell_type": "code",
   "execution_count": 2,
   "id": "d853e7c2",
   "metadata": {},
   "outputs": [
    {
     "name": "stdout",
     "output_type": "stream",
     "text": [
      "Multiplication for 2, 3 : 6\n",
      "Multiplication for 1, 2, 3, 4 : 24\n"
     ]
    }
   ],
   "source": [
    "import numpy as np\n",
    "\n",
    "def multiply_nums(numstr) :\n",
    "    \"\"\"\n",
    "    This function takes a string of numbers separated by a comma and space, \n",
    "    return the product of the numbers.\n",
    "    Examples\n",
    "    multiply_nums(\"2, 3\") ➞ 6\n",
    "    multiply_nums(\"1, 2, 3, 4\") ➞ 24\n",
    "    \"\"\"\n",
    "    numlist = list(map(int, numstr.split(',')))\n",
    "    #print(numlist)\n",
    "    \n",
    "    prod = np.product(numlist)\n",
    "    \n",
    "    return prod\n",
    "\n",
    "\n",
    "nstr1 = \"2, 3\"\n",
    "print(f'Multiplication for {nstr1} : {multiply_nums(nstr1)}')\n",
    "nstr2 = \"1, 2, 3, 4\"\n",
    "print(f'Multiplication for {nstr2} : {multiply_nums(nstr2)}')\n"
   ]
  },
  {
   "cell_type": "markdown",
   "id": "4ccda33e",
   "metadata": {},
   "source": [
    "\n",
    "Question 3  \n",
    "Create a function that squares every digit of a number.  \n",
    "Examples  \n",
    "square_digits(9119) ➞ 811181 \n",
    "square_digits(2483) ➞ 416649  \n",
    "square_digits(3212) ➞ 9414  \n",
    "Notes  \n",
    "The function receives an integer and must return an integer.  \n"
   ]
  },
  {
   "cell_type": "code",
   "execution_count": 3,
   "id": "83ebd316",
   "metadata": {},
   "outputs": [
    {
     "name": "stdout",
     "output_type": "stream",
     "text": [
      "811181\n",
      "416649\n"
     ]
    }
   ],
   "source": [
    "def square_digits(num) : \n",
    "    \"\"\"\n",
    "    This function squares every digit of a number.\n",
    "    Examples\n",
    "    square_digits(9119) ➞ 811181 square_digits(2483) ➞ 416649\n",
    "    square_digits(3212) ➞ 9414\n",
    "    Notes\n",
    "    The function receives an integer and must return an integer. \n",
    "    \"\"\"\n",
    "    nstr = str()\n",
    "    numstr = str(num)\n",
    "    numlist = [str(int(i)**2) for i in numstr]\n",
    "    nstr = ''.join(numlist)\n",
    "    return int(nstr)\n",
    "\n",
    "\n",
    "print(square_digits(9119))\n",
    "print(square_digits(2483))\n",
    "    \n",
    "    "
   ]
  },
  {
   "cell_type": "markdown",
   "id": "1e2ce368",
   "metadata": {},
   "source": [
    "\n",
    "Question 4  \n",
    "Create a function that sorts a list and removes all duplicate items from it.  \n",
    "Examples  \n",
    "setify([1, 3, 3, 5, 5]) ➞ [1, 3, 5]  \n",
    "setify([4, 4, 4, 4]) ➞ [4]  \n",
    "setify([5, 7, 8, 9, 10, 15]) ➞ [5, 7, 8, 9, 10, 15]  \n",
    "setify([3, 3, 3, 2, 1]) ➞ [1, 2, 3]  \n"
   ]
  },
  {
   "cell_type": "code",
   "execution_count": 4,
   "id": "943f70d0",
   "metadata": {},
   "outputs": [
    {
     "name": "stdout",
     "output_type": "stream",
     "text": [
      "[1, 3, 5]\n",
      "[4]\n",
      "[5, 7, 8, 9, 10, 15]\n",
      "[1, 2, 3]\n"
     ]
    }
   ],
   "source": [
    "def setify(innl) : \n",
    "    \"\"\"\n",
    "    This function sorts a list and removes all duplicate items from it.\n",
    "    Examples\n",
    "    setify([1, 3, 3, 5, 5]) ➞ [1, 3, 5]\n",
    "    setify([4, 4, 4, 4]) ➞ [4]\n",
    "    setify([5, 7, 8, 9, 10, 15]) ➞ [5, 7, 8, 9, 10, 15]\n",
    "    setify([3, 3, 3, 2, 1]) ➞ [1, 2, 3] \n",
    "    \n",
    "    \"\"\"\n",
    "    \n",
    "    setlist = list(set(sorted(innl)))\n",
    "    \n",
    "    return setlist            \n",
    "                   \n",
    "       \n",
    "print(setify([1, 3, 3, 5, 5]))   \n",
    "print(setify([4, 4, 4, 4])) \n",
    "print(setify([5, 7, 8, 9, 10, 15]))\n",
    "print(setify([3, 3, 3, 2, 1]))\n",
    "    "
   ]
  },
  {
   "cell_type": "markdown",
   "id": "4bcf489e",
   "metadata": {},
   "source": [
    "\n",
    "Question 5  \n",
    "Create a function that returns the mean of all digits.  \n",
    "Examples  \n",
    "mean(42) ➞ 3  \n",
    "mean(12345) ➞ 3  \n",
    "mean(666) ➞ 6  \n",
    "Notes  \n",
    "- The mean of all digits is the sum of digits / how many digits there are (e.g. mean of digits in\n",
    "512 is (5+1+2)/3(number of digits) = 8/3=2).  \n",
    "- The mean will always be an integer."
   ]
  },
  {
   "cell_type": "code",
   "execution_count": 5,
   "id": "bb775705",
   "metadata": {},
   "outputs": [
    {
     "name": "stdout",
     "output_type": "stream",
     "text": [
      "3.0\n",
      "3.0\n",
      "6.0\n"
     ]
    }
   ],
   "source": [
    "def mean(num) : \n",
    "    \"\"\"\n",
    "    This function  returns the mean of all digits.\n",
    "    \"\"\"\n",
    "    nstr = str(num)\n",
    "    nlist = [int(i) for i in nstr]\n",
    "    nsum = sum(nlist)\n",
    "    nmean = nsum/len(nstr)\n",
    "    return nmean   \n",
    "    \n",
    "    \n",
    "print(mean(42))\n",
    "print(mean(12345))\n",
    "print(mean(666))"
   ]
  },
  {
   "cell_type": "code",
   "execution_count": null,
   "id": "9604db20",
   "metadata": {},
   "outputs": [],
   "source": []
  }
 ],
 "metadata": {
  "kernelspec": {
   "display_name": "Python 3",
   "language": "python",
   "name": "python3"
  },
  "language_info": {
   "codemirror_mode": {
    "name": "ipython",
    "version": 3
   },
   "file_extension": ".py",
   "mimetype": "text/x-python",
   "name": "python",
   "nbconvert_exporter": "python",
   "pygments_lexer": "ipython3",
   "version": "3.8.8"
  }
 },
 "nbformat": 4,
 "nbformat_minor": 5
}
