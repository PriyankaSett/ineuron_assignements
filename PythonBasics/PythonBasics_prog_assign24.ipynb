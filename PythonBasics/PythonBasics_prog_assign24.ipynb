{
 "cells": [
  {
   "cell_type": "markdown",
   "id": "ac628026",
   "metadata": {},
   "source": [
    "## Python Basics - Programming Assignment 24"
   ]
  },
  {
   "cell_type": "markdown",
   "id": "aea21f16",
   "metadata": {},
   "source": [
    "Question1    \n",
    "Create a function that takes an integer and returns a list from 1 to the given number, where:\n",
    "1. If the number can be divided evenly by 4, amplify it by 10 (i.e. return 10 times the\n",
    "number).  \n",
    "2. If the number cannot be divided evenly by 4, simply return the number.  \n",
    "Examples  \n",
    "amplify(4) ➞ [1, 2, 3, 40]  \n",
    "amplify(3) ➞ [1, 2, 3]  \n",
    "amplify(25) ➞ [1, 2, 3, 40, 5, 6, 7, 80, 9, 10, 11, 120, 13, 14, 15, 160,\n",
    "17, 18, 19, 200, 21, 22, 23, 240, 25]  \n",
    "Notes  \n",
    "- The given integer will always be equal to or greater than 1.  \n",
    "- Include the number (see example above).  \n",
    "- To perform this problem with its intended purpose, try doing it with list\n",
    "comprehensions. If that&#39;s too difficult, just solve the challenge any way you can.  \n"
   ]
  },
  {
   "cell_type": "code",
   "execution_count": 1,
   "id": "cc307abe",
   "metadata": {},
   "outputs": [
    {
     "name": "stdout",
     "output_type": "stream",
     "text": [
      "Output: [1, 2, 3, 40, 5, 6, 7, 80, 9, 10]\n"
     ]
    }
   ],
   "source": [
    "def amplify(num) :\n",
    "    \"\"\"\n",
    "    This function  takes an integer and returns a list from 1 to the given number, where:\n",
    "\n",
    "    If the number can be divided evenly by 4, amplify it by 10 (i.e. return 10 times the number).\n",
    "    If the number cannot be divided evenly by 4, simply return the number.\n",
    "    Examples\n",
    "    amplify(4) ➞ [1, 2, 3, 40]\n",
    "    amplify(3) ➞ [1, 2, 3]\n",
    "    amplify(25) ➞ [1, 2, 3, 40, 5, 6, 7, 80, 9, 10, 11, 120, 13, 14, 15, 160, 17, 18, 19, 200, 21, 22, 23, 240, 25]\n",
    "    Notes\n",
    "\n",
    "    The given integer will always be equal to or greater than 1. \n",
    "    \"\"\"\n",
    "\n",
    "    ll = [i*10 if i%4 == 0 else i for i in range(1, num+1)]\n",
    "    return ll\n",
    "    \n",
    "    \n",
    "\n",
    "num = 10\n",
    "print(f'Output: {amplify(num)}')\n"
   ]
  },
  {
   "cell_type": "markdown",
   "id": "13cf7a02",
   "metadata": {},
   "source": [
    "\n",
    "Question2  \n",
    "Create a function that takes a list of numbers and return the number that&#39;s unique.  \n",
    "Examples  \n",
    "unique([3, 3, 3, 7, 3, 3]) ➞ 7  \n",
    "unique([0, 0, 0.77, 0, 0]) ➞ 0.77  \n",
    "unique([0, 1, 1, 1, 1, 1, 1, 1]) ➞ 0  \n",
    "Notes  \n",
    "Test cases will always have exactly one unique number while all others are the same.  \n"
   ]
  },
  {
   "cell_type": "code",
   "execution_count": 2,
   "id": "5bb7aa3d",
   "metadata": {},
   "outputs": [
    {
     "name": "stdout",
     "output_type": "stream",
     "text": [
      "Unique number in [3, 3, 3, 7, 3, 3] : 7\n"
     ]
    }
   ],
   "source": [
    "def unique(ll) : \n",
    "    \"\"\"\n",
    "    This function takes a list of numbers and return \n",
    "    the number that's unique.\n",
    "    Examples\n",
    "    unique([3, 3, 3, 7, 3, 3]) ➞ 7\n",
    "    \"\"\"\n",
    "        \n",
    "    for i in ll : \n",
    "        ncount = ll.count(i)\n",
    "        if ncount == 1: \n",
    "            return i\n",
    "      \n",
    "    \n",
    "inlist = [3, 3, 3, 7, 3, 3]\n",
    "print(f'Unique number in {inlist} : {unique(inlist)}')"
   ]
  },
  {
   "cell_type": "markdown",
   "id": "8e7730b4",
   "metadata": {},
   "source": [
    "\n",
    "Question3  \n",
    "Your task is to create a Circle constructor that creates a circle with a radius provided by an\n",
    "argument. The circles constructed must have two getters getArea() (PIr^2) and\n",
    "getPerimeter() (2PI*r) which give both respective areas and perimeter (circumference).  \n",
    "\n",
    "For help with this class, I have provided you with a Rectangle constructor which you can use\n",
    "as a base example.  \n",
    "Examples  \n",
    "circy = Circle(11)  \n",
    "circy.getArea()  \n",
    "Should return 380.132711084365  \n",
    "circy = Circle(4.44)  \n",
    "circy.getPerimeter()  \n",
    "Should return 27.897342763877365  \n",
    "Notes  \n",
    "Round results up to the nearest integer.  \n"
   ]
  },
  {
   "cell_type": "code",
   "execution_count": 3,
   "id": "732391d3",
   "metadata": {},
   "outputs": [
    {
     "name": "stdout",
     "output_type": "stream",
     "text": [
      "380\n",
      "28\n"
     ]
    }
   ],
   "source": [
    "class Circle: \n",
    "    \"\"\"\n",
    "    This is Circle Class. It takes radius as input. \n",
    "    This class has two functions which returns area and perimeter of circle.\n",
    "    \n",
    "    \"\"\"\n",
    "    def __init__(self, r): \n",
    "        self.r = r # radius \n",
    "        \n",
    "    def getArea(self): \n",
    "        \"\"\"\n",
    "        This function return area of a circle for a given radius\n",
    "        \"\"\"\n",
    "        area = (22/7) * self.r * self.r\n",
    "        return round(area)\n",
    "    \n",
    "    def getPerimeter(self):\n",
    "        \"\"\"\n",
    "        This function return perimeter of a cirlce for a given radius\n",
    "        \"\"\"\n",
    "        peri = 2 * 3.14 * self.r\n",
    "        return round(peri)\n",
    "    \n",
    "    \n",
    "circy = Circle(11)\n",
    "print(circy.getArea())\n",
    "\n",
    "cir1 = Circle(4.4)\n",
    "print(cir1.getPerimeter())\n",
    "    \n",
    "    "
   ]
  },
  {
   "cell_type": "markdown",
   "id": "0cc8396f",
   "metadata": {},
   "source": [
    "\n",
    "Question4  \n",
    "Create a function that takes a list of strings and return a list, sorted from shortest to longest.  \n",
    "Examples  \n",
    "sort_by_length([&quot;Google&quot;, &quot;Apple&quot;, &quot;Microsoft&quot;])  \n",
    "➞ [&quot;Apple&quot;, &quot;Google&quot;, &quot;Microsoft&quot;]  \n",
    "sort_by_length([&quot;Leonardo&quot;, &quot;Michelangelo&quot;, &quot;Raphael&quot;, &quot;Donatello&quot;])  \n",
    "➞ [&quot;Raphael&quot;, &quot;Leonardo&quot;, &quot;Donatello&quot;, &quot;Michelangelo&quot;]  \n",
    "sort_by_length([&quot;Turing&quot;, &quot;Einstein&quot;, &quot;Jung&quot;])  \n",
    "➞ [&quot;Jung&quot;, &quot;Turing&quot;, &quot;Einstein&quot;]  \n",
    "Notes  \n",
    "All test cases contain lists with strings of different lengths, so you won&#39;t have to deal with\n",
    "multiple strings of the same length.  \n"
   ]
  },
  {
   "cell_type": "code",
   "execution_count": 4,
   "id": "5551eb19",
   "metadata": {},
   "outputs": [
    {
     "name": "stdout",
     "output_type": "stream",
     "text": [
      "Input : ['Turing', 'Einstein', 'Jung'], Output : ['Jung', 'Turing', 'Einstein'] \n",
      "\n",
      "Input : ['Google', 'Apple', 'Microsoft'], Output : ['Apple', 'Google', 'Microsoft'] \n",
      "\n",
      "Input : ['Leonardo', 'Michelangelo', 'Raphael', 'Donatello'], Output : ['Raphael', 'Leonardo', 'Donatello', 'Michelangelo'] \n",
      "\n"
     ]
    }
   ],
   "source": [
    "def sort_by_length(ll1):\n",
    "    \"\"\"\n",
    "    This function  takes a list of strings and return a list, sorted from shortest to longest.\n",
    "    Examples\n",
    "    sort_by_length([\"Google\", \"Apple\", \"Microsoft\"]) ➞ [\"Apple\", \"Google\", \"Microsoft\"]\n",
    "    \"\"\"\n",
    "    dict_len = dict()\n",
    "\n",
    "    for i in ll1: \n",
    "        dict_len[i] = len(i)\n",
    "        \n",
    "    dict_len1 = sorted(dict_len.items(), key=lambda x : x[1])\n",
    "    \n",
    "    dict_len2 = dict(dict_len1)\n",
    "    \n",
    "    olist = list()\n",
    "    \n",
    "    for keys in dict_len2: \n",
    "        olist.append(keys)\n",
    "       \n",
    "    return olist \n",
    "\n",
    "\n",
    "lis1 = [\"Turing\", \"Einstein\", \"Jung\"]\n",
    "lis2 = [\"Google\", \"Apple\", \"Microsoft\"]\n",
    "lis3 = [\"Leonardo\", \"Michelangelo\", \"Raphael\", \"Donatello\"]\n",
    "\n",
    "print(f'Input : {lis1}, Output : {sort_by_length(lis1)} \\n')\n",
    "print(f'Input : {lis2}, Output : {sort_by_length(lis2)} \\n')\n",
    "print(f'Input : {lis3}, Output : {sort_by_length(lis3)} \\n')\n"
   ]
  },
  {
   "cell_type": "markdown",
   "id": "43aa4f89",
   "metadata": {},
   "source": [
    "\n",
    "Question5  \n",
    "Create a function that validates whether three given integers form a Pythagorean triplet. The\n",
    "sum of the squares of the two smallest integers must equal the square of the largest number to\n",
    "be validated.  \n",
    "\n",
    "Examples  \n",
    "is_triplet(3, 4, 5) ➞ True  \n",
    " 3² + 4² = 25  \n",
    " 5² = 25  \n",
    "is_triplet(13, 5, 12) ➞ True  \n",
    " 5² + 12² = 169  \n",
    " 13² = 169  \n",
    "is_triplet(1, 2, 3) ➞ False  \n",
    " 1² + 2² = 5  \n",
    " 3² = 9  \n",
    "Notes  \n",
    "Numbers may not be given in a sorted order.  "
   ]
  },
  {
   "cell_type": "code",
   "execution_count": 5,
   "id": "e97996e6",
   "metadata": {},
   "outputs": [
    {
     "name": "stdout",
     "output_type": "stream",
     "text": [
      "Enter first number : 4\n",
      "Enter second number : 3\n",
      "Enter third number : 5\n",
      "Output : True\n"
     ]
    }
   ],
   "source": [
    "def pyth(l2):\n",
    "    \"\"\"\n",
    "    This function validates whether three given integers form a Pythagorean triplet. \n",
    "    The sum of the squares of the two smallest \n",
    "    integers must equal the square of the largest number to be validated. \n",
    "    \"\"\"\n",
    "    \n",
    "    if (l2[0]*l2[0] + l2[1]*l2[1]) == l2[2]*l2[2]: \n",
    "        return True\n",
    "    \n",
    "    return False\n",
    "\n",
    "\n",
    "a1 = int(input('Enter first number : '))\n",
    "b1 = int(input('Enter second number : '))\n",
    "c1 = int(input('Enter third number : '))\n",
    "    \n",
    "l1 = [a1,b1,c1]\n",
    "l2 = sorted(l1)\n",
    "\n",
    "print(f'Output : {pyth(l2)}')"
   ]
  },
  {
   "cell_type": "code",
   "execution_count": null,
   "id": "19cacac0",
   "metadata": {},
   "outputs": [],
   "source": []
  }
 ],
 "metadata": {
  "kernelspec": {
   "display_name": "Python 3",
   "language": "python",
   "name": "python3"
  },
  "language_info": {
   "codemirror_mode": {
    "name": "ipython",
    "version": 3
   },
   "file_extension": ".py",
   "mimetype": "text/x-python",
   "name": "python",
   "nbconvert_exporter": "python",
   "pygments_lexer": "ipython3",
   "version": "3.8.8"
  }
 },
 "nbformat": 4,
 "nbformat_minor": 5
}
