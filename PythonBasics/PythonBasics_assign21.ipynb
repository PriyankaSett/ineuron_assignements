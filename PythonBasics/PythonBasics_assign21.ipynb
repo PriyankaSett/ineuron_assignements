{
 "cells": [
  {
   "cell_type": "markdown",
   "id": "c6360fb0",
   "metadata": {},
   "source": [
    "## Python Basics - Assignment 21"
   ]
  },
  {
   "cell_type": "markdown",
   "id": "983d4a87",
   "metadata": {},
   "source": [
    "1. Add the current date to the text file today.txt as a string."
   ]
  },
  {
   "cell_type": "code",
   "execution_count": 1,
   "id": "0a53a64a",
   "metadata": {},
   "outputs": [],
   "source": [
    "import datetime \n",
    "\n",
    "with open('today.txt', 'w') as f : \n",
    "    f.write(datetime.datetime.now().strftime(\"%d-%m-%Y\"))"
   ]
  },
  {
   "cell_type": "markdown",
   "id": "451c2197",
   "metadata": {},
   "source": [
    "2. Read the text file today.txt into the string today_string"
   ]
  },
  {
   "cell_type": "code",
   "execution_count": 2,
   "id": "cbaeafbc",
   "metadata": {},
   "outputs": [
    {
     "name": "stdout",
     "output_type": "stream",
     "text": [
      "16-05-2023\n",
      "<class 'str'>\n"
     ]
    }
   ],
   "source": [
    "with open('today.txt') as f1: \n",
    "    today_string = f1.read()\n",
    "    \n",
    "print(today_string)\n",
    "print(type(today_string))"
   ]
  },
  {
   "cell_type": "markdown",
   "id": "b55dbc48",
   "metadata": {},
   "source": [
    "3. Parse the date from today_string."
   ]
  },
  {
   "cell_type": "code",
   "execution_count": 3,
   "id": "cb95e977",
   "metadata": {},
   "outputs": [
    {
     "data": {
      "text/plain": [
       "'16'"
      ]
     },
     "execution_count": 3,
     "metadata": {},
     "output_type": "execute_result"
    }
   ],
   "source": [
    "date = today_string.split('-')[0]\n",
    "date"
   ]
  },
  {
   "cell_type": "markdown",
   "id": "c1b2fbc6",
   "metadata": {},
   "source": [
    "4. List the files in your current directory"
   ]
  },
  {
   "cell_type": "code",
   "execution_count": 4,
   "id": "3003a968",
   "metadata": {},
   "outputs": [
    {
     "name": "stdout",
     "output_type": "stream",
     "text": [
      "PythonBasic_assign1.ipynb\n",
      "PythonBasic_assign14.ipynb\n",
      "PythonBasic_assign15.ipynb\n",
      "PythonBasics_aasign2.ipynb\n",
      "PythonBasics_assign10.ipynb\n",
      "PythonBasics_assign11.ipynb\n",
      "PythonBasics_assign12.ipynb\n",
      "PythonBasics_assign13.ipynb\n",
      "PythonBasics_assign16.ipynb\n",
      "PythonBasics_assign17.ipynb\n",
      "PythonBasics_assign18.ipynb\n",
      "PythonBasics_assign19.ipynb\n",
      "PythonBasics_assign20.ipynb\n",
      "PythonBasics_assign21.ipynb\n",
      "PythonBasics_assign22.ipynb\n",
      "PythonBasics_assign23.ipynb\n",
      "PythonBasics_assign24.ipynb\n",
      "PythonBasics_assign25.ipynb\n",
      "PythonBasics_assign3.ipynb\n",
      "PythonBasics_assign4.ipynb\n",
      "PythonBasics_assign5.ipynb\n",
      "PythonBasics_assign6.ipynb\n",
      "PythonBasics_assign7.ipynb\n",
      "PythonBasics_assign8.ipynb\n",
      "PythonBasics_assign9.ipynb\n",
      "PythonBasics_prog_assign1.ipynb\n",
      "PythonBasics_prog_assign10.ipynb\n",
      "PythonBasics_prog_assign12.ipynb\n",
      "PythonBasics_prog_assign13.ipynb\n",
      "PythonBasics_prog_assign14.ipynb\n",
      "PythonBasics_prog_assign15.ipynb\n",
      "PythonBasics_prog_assign16.ipynb\n",
      "PythonBasics_prog_assign17.ipynb\n",
      "PythonBasics_prog_assign18.ipynb\n",
      "PythonBasics_prog_assign19.ipynb\n",
      "PythonBasics_prog_assign2.ipynb\n",
      "PythonBasics_prog_assign20.ipynb\n",
      "PythonBasics_prog_assign21.ipynb\n",
      "PythonBasics_prog_assign22.ipynb\n",
      "PythonBasics_prog_assign23.ipynb\n",
      "PythonBasics_prog_assign24.ipynb\n",
      "PythonBasics_prog_assign25.ipynb\n",
      "PythonBasics_prog_assign3.ipynb\n",
      "PythonBasics_prog_assign4.ipynb\n",
      "PythonBasics_prog_assign5.ipynb\n",
      "PythonBasics_prog_assign7.ipynb\n",
      "PythonBasics_prog_assign8.ipynb\n",
      "PythonBasics_prog_assign9.ipynb\n",
      "PythonsBasics_prog_assign11.ipynb\n",
      "PythonsBasics_prog_assign6.ipynb\n",
      "SampleFile.bak\n",
      "SampleFile.dat\n",
      "SampleFile.dir\n",
      "Untitled.ipynb\n",
      "__pycache__\n",
      "books.csv\n",
      "books.db\n",
      "programLog.txt\n",
      "test.txt\n",
      "today.txt\n",
      "zoo.py\n"
     ]
    }
   ],
   "source": [
    "import os \n",
    "import glob\n",
    "\n",
    "current_path = os.getcwd()\n",
    "filelist = list()\n",
    "for files in glob.glob(current_path + '/**'): \n",
    "    filelist.append(files.split('/')[-1])\n",
    "    \n",
    "    \n",
    "filelist = list(sorted(filelist))\n",
    "\n",
    "for files in filelist: \n",
    "    print(files)"
   ]
  },
  {
   "cell_type": "markdown",
   "id": "bec3e4b9",
   "metadata": {},
   "source": [
    "5. Create a list of all of the files in your parent directory (minimum five files should be available)."
   ]
  },
  {
   "cell_type": "code",
   "execution_count": 5,
   "id": "5c1716e8",
   "metadata": {},
   "outputs": [
    {
     "name": "stdout",
     "output_type": "stream",
     "text": [
      "Parent directory :  /home/chinmay/priyanka/ineuron/ineuron_assignemnts\n",
      "List of files in parent directory :  ['Python_basic', 'ML_practical', 'ML_assignments_theory']\n"
     ]
    }
   ],
   "source": [
    "import os \n",
    "import glob\n",
    "\n",
    "\n",
    "parent_dir = os.path.dirname(current_path)\n",
    "print('Parent directory : ' ,parent_dir)\n",
    "\n",
    "filelist = list()\n",
    "\n",
    "for files in glob.glob(parent_dir+'/*'): \n",
    "    filelist.append(files.split('/')[-1])\n",
    "\n",
    "print('List of files in parent directory : ', filelist)    "
   ]
  },
  {
   "cell_type": "markdown",
   "id": "aa1e0348",
   "metadata": {},
   "source": [
    "6. Use multiprocessing to create three separate processes. Make each one wait a random number of\n",
    "seconds between one and five, print the current time, and then exit."
   ]
  },
  {
   "cell_type": "code",
   "execution_count": 6,
   "id": "8a110e87",
   "metadata": {},
   "outputs": [
    {
     "name": "stdout",
     "output_type": "stream",
     "text": [
      "Process 1 Starttime : 2023-05-16 18:27:34.456078\n",
      "Process 1 Endtime : 2023-05-16 18:27:39.470816\n",
      "--------------\n",
      "Process 2 Starttime : 2023-05-16 18:27:39.531928\n",
      "Process 2 Endtime : 2023-05-16 18:27:40.545131\n",
      "----------------\n",
      "Process 3 Starttime : 2023-05-16 18:27:40.599610\n",
      "Process 3 Endtime : 2023-05-16 18:27:43.634779\n"
     ]
    }
   ],
   "source": [
    "import multiprocessing\n",
    "import time \n",
    "import random\n",
    "import datetime\n",
    "\n",
    "def process1():\n",
    "    print(f'Process 1 Starttime : {datetime.datetime.now()}')\n",
    "    time.sleep(random.randint(1,5))\n",
    "    print(f'Process 1 Endtime : {datetime.datetime.now()}')\n",
    "    \n",
    "def process2():\n",
    "    print(f'Process 2 Starttime : {datetime.datetime.now()}')\n",
    "    time.sleep(random.randint(1,5))\n",
    "    print(f'Process 2 Endtime : {datetime.datetime.now()}')\n",
    "\n",
    "def process3():\n",
    "    print(f'Process 3 Starttime : {datetime.datetime.now()}')\n",
    "    time.sleep(random.randint(1,5))\n",
    "    print(f'Process 3 Endtime : {datetime.datetime.now()}')\n",
    "    \n",
    "if __name__ == \"__main__\":    \n",
    "    p1 = multiprocessing.Process(target=process1)\n",
    "    p2 = multiprocessing.Process(target=process2)\n",
    "    p3 = multiprocessing.Process(target=process3)\n",
    "\n",
    "    p1.start()\n",
    "    p1.join()\n",
    "    print('--------------')\n",
    "    p2.start()\n",
    "    p2.join()\n",
    "    print('----------------')\n",
    "    p3.start()\n",
    "    p3.join()"
   ]
  },
  {
   "cell_type": "markdown",
   "id": "f8e05bb0",
   "metadata": {},
   "source": [
    "7. Create a date object of your day of birth."
   ]
  },
  {
   "cell_type": "code",
   "execution_count": 7,
   "id": "6bff1dbe",
   "metadata": {},
   "outputs": [
    {
     "name": "stdout",
     "output_type": "stream",
     "text": [
      "1970-08-11 00:00:00 <class 'datetime.datetime'>\n"
     ]
    }
   ],
   "source": [
    "from datetime import datetime\n",
    "my_dob = datetime.strptime('11/8/1970','%d/%m/%Y')\n",
    "print(my_dob, type(my_dob))\n"
   ]
  },
  {
   "cell_type": "markdown",
   "id": "d7543ad9",
   "metadata": {},
   "source": [
    "8. What day of the week was your day of birth?"
   ]
  },
  {
   "cell_type": "code",
   "execution_count": 8,
   "id": "26dc5a8e",
   "metadata": {},
   "outputs": [
    {
     "data": {
      "text/plain": [
       "'Tuesday'"
      ]
     },
     "execution_count": 8,
     "metadata": {},
     "output_type": "execute_result"
    }
   ],
   "source": [
    "my_dob.strftime(\"%A\")"
   ]
  },
  {
   "cell_type": "markdown",
   "id": "898331bb",
   "metadata": {},
   "source": [
    "9. When will you be (or when were you) 10,000 days old?"
   ]
  },
  {
   "cell_type": "code",
   "execution_count": 9,
   "id": "0c358c1f",
   "metadata": {},
   "outputs": [
    {
     "data": {
      "text/plain": [
       "datetime.datetime(1997, 12, 27, 0, 0)"
      ]
     },
     "execution_count": 9,
     "metadata": {},
     "output_type": "execute_result"
    }
   ],
   "source": [
    "from datetime import datetime, timedelta\n",
    "future_date = my_dob+timedelta(10000)\n",
    "future_date"
   ]
  },
  {
   "cell_type": "code",
   "execution_count": null,
   "id": "dceaf98b",
   "metadata": {},
   "outputs": [],
   "source": []
  }
 ],
 "metadata": {
  "kernelspec": {
   "display_name": "Python 3",
   "language": "python",
   "name": "python3"
  },
  "language_info": {
   "codemirror_mode": {
    "name": "ipython",
    "version": 3
   },
   "file_extension": ".py",
   "mimetype": "text/x-python",
   "name": "python",
   "nbconvert_exporter": "python",
   "pygments_lexer": "ipython3",
   "version": "3.8.8"
  }
 },
 "nbformat": 4,
 "nbformat_minor": 5
}
