{
 "cells": [
  {
   "cell_type": "markdown",
   "id": "96ab75a5",
   "metadata": {},
   "source": [
    "## Python Basics - Programming Assignment 14"
   ]
  },
  {
   "cell_type": "markdown",
   "id": "6acd2517",
   "metadata": {},
   "source": [
    "Question 1:\n",
    "Define a class with a generator which can iterate the numbers, which are divisible by\n",
    "7, between a given range 0 and n."
   ]
  },
  {
   "cell_type": "code",
   "execution_count": 29,
   "id": "1a86ca2a",
   "metadata": {},
   "outputs": [
    {
     "name": "stdout",
     "output_type": "stream",
     "text": [
      "Enter start range : 10\n",
      "Enter end range :100\n",
      "Numbers that are divisible by 7 in range: 10 to 100 is/are -[14, 21, 28, 35, 42, 49, 56, 63, 70, 77, 84, 91, 98]\n"
     ]
    }
   ],
   "source": [
    "class N_iterate_division : \n",
    "    \"\"\"\n",
    "    class with a generator which can iterate the numbers\n",
    "    which are divisible by 7, between a given range 0 and n    \n",
    "    \"\"\"\n",
    "    \n",
    "    def __init__(self, n1, n2):\n",
    "        \"\"\"\n",
    "        initializing range\n",
    "        n1 --> start range\n",
    "        n2 --> end range\n",
    "        \"\"\"\n",
    "        self.n1 = n1\n",
    "        self.n2 = n2\n",
    "        \n",
    "    \n",
    "    def checkdivby7(self): \n",
    "        \"\"\"\n",
    "        checking if the input number is divisible by 7\n",
    "        \"\"\"\n",
    "        divlist = list()\n",
    "        for i in range(self.n1, self.n2) :\n",
    "            if i%7 == 0:\n",
    "                divlist.append(i)\n",
    "        yield divlist\n",
    "\n",
    "                         \n",
    "                _\n",
    "                \n",
    "num1 = int(input('Enter start range : '))\n",
    "num2 = int(input('Enter end range :'))\n",
    "\n",
    "it_div = N_iterate_division(num1, num2)\n",
    "\n",
    "for num in it_div.checkdivby7():\n",
    "    print(f'Numbers that are divisible by 7 in range: {num1} to {num2} is/are -{num}')\n",
    "\n",
    "\n",
    "    "
   ]
  },
  {
   "cell_type": "markdown",
   "id": "9486c8fc",
   "metadata": {},
   "source": [
    "\n",
    "Question 2:\n",
    "Write a program to compute the frequency of the words from the input. The output\n",
    "should output after sorting the key alphanumerically.\n",
    "Suppose the following input is supplied to the program:\n",
    "New to Python or choosing between Python 2 and Python 3? Read Python 2 or\n",
    "Python 3.\n",
    "Then, the output should be:\n",
    "2:2\n",
    "3.:1\n",
    "3?:1\n",
    "New:1\n",
    "Python:5\n",
    "Read:1\n",
    "and:1\n",
    "between:1\n",
    "choosing:1\n",
    "or:2\n",
    "to:1\n"
   ]
  },
  {
   "cell_type": "code",
   "execution_count": 62,
   "id": "99b28d6d",
   "metadata": {},
   "outputs": [
    {
     "name": "stdout",
     "output_type": "stream",
     "text": [
      "Frequency of words in the input string \n",
      "New to Python or choosing between Python 2 and Python 3? Read Python 2 or Python 3:\n",
      "[('2', 2), ('3', 1), ('3?', 1), ('New', 1), ('Python', 5), ('Read', 1), ('and', 1), ('between', 1), ('choosing', 1), ('or', 2), ('to', 1)]\n",
      "These early galaxies are identified using surveys and deep field images, which use Webb to look at large patches of the sky which might look empty at first glance. These areas don’t have bright objects like solar system planets and are located away from the center of our galaxy, allowing astronomers to look out into the depths of space to spot these extremely far-off objects.\n",
      "[('These', 2), ('Webb', 1), ('allowing', 1), ('and', 2), ('are', 2), ('areas', 1), ('astronomers', 1), ('at', 2), ('away', 1), ('bright', 1), ('center', 1), ('deep', 1), ('depths', 1), ('don’t', 1), ('early', 1), ('empty', 1), ('extremely', 1), ('far-off', 1), ('field', 1), ('first', 1), ('from', 1), ('galaxies', 1), ('galaxy,', 1), ('glance.', 1), ('have', 1), ('identified', 1), ('images,', 1), ('into', 1), ('large', 1), ('like', 1), ('located', 1), ('look', 3), ('might', 1), ('objects', 1), ('objects.', 1), ('of', 3), ('our', 1), ('out', 1), ('patches', 1), ('planets', 1), ('sky', 1), ('solar', 1), ('space', 1), ('spot', 1), ('surveys', 1), ('system', 1), ('the', 3), ('these', 1), ('to', 3), ('use', 1), ('using', 1), ('which', 2)]\n"
     ]
    }
   ],
   "source": [
    "def word_freq(instring):\n",
    "    \n",
    "    \"\"\"\n",
    "    This function finds the frequency of the words from an input string.    \n",
    "    \"\"\"\n",
    "        \n",
    "    inlist = instring.split()\n",
    "    dict_freq = dict()\n",
    "\n",
    "    for ele in inlist : \n",
    "        dict_freq[ele] = inlist.count(ele)\n",
    "\n",
    "    #print(dict_freq)\n",
    "    sorted_dict = sorted(dict_freq.items(), key=lambda x:x[0])\n",
    "    #print(type(sorted_dict))\n",
    "    return sorted_dict\n",
    "\n",
    "\n",
    "\n",
    "instring = 'New to Python or choosing between Python 2 and Python 3? Read Python 2 or Python 3'\n",
    "print(f'Frequency of words in the input string \\n{instring}:\\n{word_freq(instring)}')\n",
    "\n",
    "instring1 = input()\n",
    "print(word_freq(instring1))\n",
    "\n",
    "# https://www.theverge.com/2023/1/2/23536193/james-webb-space-telescope-jwst-nasa\n"
   ]
  },
  {
   "cell_type": "markdown",
   "id": "fbe767bf",
   "metadata": {},
   "source": [
    "\n",
    "Question 3:\n",
    "\n",
    "Define a class Person and its two child classes: Male and Female. All classes have a\n",
    "method &quot;getGender&quot; which can print &quot;Male&quot; for Male class and &quot;Female&quot; for Female\n",
    "class.\n"
   ]
  },
  {
   "cell_type": "code",
   "execution_count": 12,
   "id": "db5a9cad",
   "metadata": {},
   "outputs": [
    {
     "name": "stdout",
     "output_type": "stream",
     "text": [
      "Male\n",
      "Female\n"
     ]
    }
   ],
   "source": [
    "# Parent class\n",
    "class Person():\n",
    "    # Constructor\n",
    "    def __init__(self):\n",
    "        self.gender = None\n",
    "    \n",
    "    def getGender(self): \n",
    "        print(self.gender)\n",
    "        \n",
    "        \n",
    "# child classes \n",
    "\n",
    "class Male(Person):\n",
    "    def __init__(self): \n",
    "        self.gender = 'Male'\n",
    "    \n",
    "\n",
    "class Female(Person):\n",
    "    def __init__(self):\n",
    "        self.gender = 'Female'\n",
    "        \n",
    "m = Male()\n",
    "m.getGender()\n",
    "f = Female()\n",
    "f.getGender()"
   ]
  },
  {
   "cell_type": "markdown",
   "id": "c57d0b57",
   "metadata": {},
   "source": [
    "\n",
    "Question 4:\n",
    "Please write a program to generate all sentences where subject is in [&quot;I&quot;, &quot;You&quot;] and\n",
    "verb is in [&quot;Play&quot;, &quot;Love&quot;] and the object is in [&quot;Hockey&quot;,&quot;Football&quot;].\n"
   ]
  },
  {
   "cell_type": "code",
   "execution_count": 14,
   "id": "56de8de0",
   "metadata": {},
   "outputs": [
    {
     "name": "stdout",
     "output_type": "stream",
     "text": [
      "I Play Hockey\n",
      "I Play Football\n",
      "I Love Hockey\n",
      "I Love Football\n",
      "You Play Hockey\n",
      "You Play Football\n",
      "You Love Hockey\n",
      "You Love Football\n"
     ]
    }
   ],
   "source": [
    "subject = ['I', 'You']\n",
    "verbs = ['Play', 'Love']\n",
    "objects = ['Hockey', 'Football']\n",
    "\n",
    "\n",
    "for sub in subject: \n",
    "    for verb in verbs: \n",
    "        for obj in objects: \n",
    "            print(sub + \" \" + verb + \" \" + obj)"
   ]
  },
  {
   "cell_type": "markdown",
   "id": "23ec83c8",
   "metadata": {},
   "source": [
    "\n",
    "Question 5:\n",
    "Please write a program to compress and decompress the string &quot;hello world!hello\n",
    "world!hello world!hello world!&quot;.\n"
   ]
  },
  {
   "cell_type": "code",
   "execution_count": 22,
   "id": "435cb0bf",
   "metadata": {},
   "outputs": [
    {
     "name": "stdout",
     "output_type": "stream",
     "text": [
      "Compressed one : b'\\x1f\\x8b\\x08\\x00\\xb87Ud\\x02\\xff\\xcbH\\xcd\\xc9\\xc9W(\\xcf/\\xcaIQ\\xcc \\x82\\r\\x00\\xd3\\xe6\\xcf\\xae0\\x00\\x00\\x00'\n",
      "Decompressed one : b'hello world!hello world!hello world!hello world!'\n"
     ]
    }
   ],
   "source": [
    "import gzip \n",
    "\n",
    "mystr = b'hello world!hello world!hello world!hello world!'\n",
    "comp = gzip.compress(mystr)\n",
    "print(f'Compressed one : {comp}')\n",
    "decomp = gzip.decompress(comp)\n",
    "print(f'Decompressed one : {decomp}')"
   ]
  },
  {
   "cell_type": "markdown",
   "id": "9bc1fdd9",
   "metadata": {},
   "source": [
    "\n",
    "Question 6:\n",
    "Please write a binary search function which searches an item in a sorted list. The\n",
    "function should return the index of element to be searched in the list."
   ]
  },
  {
   "cell_type": "code",
   "execution_count": 24,
   "id": "1e1b7b65",
   "metadata": {},
   "outputs": [
    {
     "name": "stdout",
     "output_type": "stream",
     "text": [
      "[1, 8, 9, 27, 32, 35, 52, 66, 89, 90]\n"
     ]
    }
   ],
   "source": [
    "mylist = [8, 9, 52, 1 , 90, 35, 27, 89, 66, 32]\n",
    "mylist_sorted = sorted(mylist)\n",
    "print(mylist_sorted)\n",
    "\n",
    "find_num = 32\n",
    "xlow = 0\n",
    "xhigh = len(mylist_sorted)\n",
    "\n",
    "mid = (xlow+xhigh)/2\n",
    "\n",
    "if mylist_sorted[mid] == find_num: \n",
    "    print(mid)\n",
    "elif mylist_sorted[mid] > find_num: \n",
    "    \n",
    "\n"
   ]
  },
  {
   "cell_type": "code",
   "execution_count": null,
   "id": "9cc45a25",
   "metadata": {},
   "outputs": [],
   "source": []
  }
 ],
 "metadata": {
  "kernelspec": {
   "display_name": "Python 3",
   "language": "python",
   "name": "python3"
  },
  "language_info": {
   "codemirror_mode": {
    "name": "ipython",
    "version": 3
   },
   "file_extension": ".py",
   "mimetype": "text/x-python",
   "name": "python",
   "nbconvert_exporter": "python",
   "pygments_lexer": "ipython3",
   "version": "3.8.8"
  }
 },
 "nbformat": 4,
 "nbformat_minor": 5
}
