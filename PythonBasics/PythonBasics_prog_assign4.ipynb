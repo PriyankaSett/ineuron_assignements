{
 "cells": [
  {
   "cell_type": "markdown",
   "id": "fa896bc5",
   "metadata": {},
   "source": [
    "## Python Basics - Progamming Assignment 4"
   ]
  },
  {
   "cell_type": "markdown",
   "id": "bf446b4d",
   "metadata": {},
   "source": [
    "1. Write a Python Program to Find the Factorial of a Number?\n",
    "\n"
   ]
  },
  {
   "cell_type": "code",
   "execution_count": 1,
   "id": "638728d0",
   "metadata": {},
   "outputs": [
    {
     "name": "stdout",
     "output_type": "stream",
     "text": [
      "Finding factorial\n",
      "Enter the no :9\n",
      "Factorial for 9 is : 362880\n"
     ]
    }
   ],
   "source": [
    "print('Finding factorial')\n",
    "n = int(input('Enter the no :'))\n",
    "\n",
    "prod = n\n",
    "for i in range (1, n) :\n",
    "    prod = prod * (n-i)\n",
    "print(f'Factorial for {n} is : {prod}')    \n",
    "    \n",
    "    \n"
   ]
  },
  {
   "cell_type": "markdown",
   "id": "80380fdd",
   "metadata": {},
   "source": [
    "2. Write a Python Program to Display the multiplication Table?\n"
   ]
  },
  {
   "cell_type": "code",
   "execution_count": 2,
   "id": "ff45dc6a",
   "metadata": {},
   "outputs": [
    {
     "name": "stdout",
     "output_type": "stream",
     "text": [
      "Multiplication Table\n",
      "1 2 3 4 5 6 7 8 9 10\n",
      "2 4 6 8 10 12 14 16 18 20\n",
      "3 6 9 12 15 18 21 24 27 30\n",
      "4 8 12 16 20 24 28 32 36 40\n",
      "5 10 15 20 25 30 35 40 45 50\n",
      "6 12 18 24 30 36 42 48 54 60\n",
      "7 14 21 28 35 42 49 56 63 70\n",
      "8 16 24 32 40 48 56 64 72 80\n",
      "9 18 27 36 45 54 63 72 81 90\n",
      "10 20 30 40 50 60 70 80 90 100\n"
     ]
    }
   ],
   "source": [
    "print(\"Multiplication Table\")\n",
    "\n",
    "mullist = [1,2,3,4,5,6,7,8,9,10]\n",
    "\n",
    "for elem in mullist :\n",
    "    for i in range (1, 11) : \n",
    "        if i < 10 :\n",
    "            print(elem*i, end=' ')\n",
    "        else :\n",
    "            print(elem*i)"
   ]
  },
  {
   "cell_type": "markdown",
   "id": "04879a33",
   "metadata": {},
   "source": [
    "3. Write a Python Program to Print the Fibonacci sequence?\n"
   ]
  },
  {
   "cell_type": "code",
   "execution_count": 3,
   "id": "f4c2fb84",
   "metadata": {},
   "outputs": [
    {
     "name": "stdout",
     "output_type": "stream",
     "text": [
      "Fibonacci Sequence for : 8\n"
     ]
    },
    {
     "data": {
      "text/plain": [
       "[0, 1, 1, 2, 3, 5, 8, 13]"
      ]
     },
     "execution_count": 3,
     "metadata": {},
     "output_type": "execute_result"
    }
   ],
   "source": [
    "# The numbers in Fibonacci sequence ; 0, 1, 1, 2, 3, 5, 8, 13, 21, 34\n",
    "\n",
    "n1 = int(input('Fibonacci Sequence for : '))\n",
    "\n",
    "fiblist = list()\n",
    "\n",
    "for i in range(0, n1) :\n",
    "    if (i < 2) : \n",
    "        fiblist.append(i)\n",
    "    else : \n",
    "        fiblist.append(fiblist[i-2]+fiblist[i-1])\n",
    "    \n",
    "fiblist    \n"
   ]
  },
  {
   "cell_type": "code",
   "execution_count": 4,
   "id": "ef7c9b03",
   "metadata": {},
   "outputs": [
    {
     "name": "stdout",
     "output_type": "stream",
     "text": [
      "Fibonacci Sequence for no of terms : 6\n",
      "0\n",
      "1\n",
      "1\n",
      "2\n",
      "3\n",
      "5\n"
     ]
    }
   ],
   "source": [
    "# The numbers in Fibonacci sequence ; 0, 1, 1, 2, 3, 5, 8, 13, 21, 34\n",
    "\n",
    "n1 = int(input('Fibonacci Sequence for no of terms : '))\n",
    "\n",
    "t0 = 0\n",
    "t1 = 1\n",
    "print(t0)\n",
    "print(t1)\n",
    "for i in range(2, n1) :    \n",
    "    t = t0 + t1     \n",
    "    print(t)     \n",
    "    t0 = t1\n",
    "    t1 = t "
   ]
  },
  {
   "cell_type": "markdown",
   "id": "4229db35",
   "metadata": {},
   "source": [
    "4. Write a Python Program to Check Armstrong Number?"
   ]
  },
  {
   "cell_type": "code",
   "execution_count": 5,
   "id": "1451c190",
   "metadata": {},
   "outputs": [
    {
     "name": "stdout",
     "output_type": "stream",
     "text": [
      "The input number is : 153\n",
      "['1', '5', '3']\n",
      "1 1\n",
      "5 126\n",
      "3 153\n",
      "Number 153 is a Armstrong number.\n"
     ]
    }
   ],
   "source": [
    "# armstrong no : 1, 2, 3, 4, 5, 6, 7, 8, 9, 153, 370, 371, 407, 1634, 8208, 9474, 54748, ...\n",
    "\n",
    "\n",
    "armno = input('The input number is : ')\n",
    "lenno = len(armno) # to count how many digits\n",
    "\n",
    "nolist = [ele for ele in armno]\n",
    "print(nolist)\n",
    "armno = int(armno)\n",
    "\n",
    "sum1 = 0\n",
    "for item in nolist : \n",
    "    sum1 = int(item)**lenno + sum1\n",
    "    print(item, sum1)\n",
    "\n",
    "if (sum1 == armno) :\n",
    "    print(f'Number {armno} is a Armstrong number.')\n",
    "else : \n",
    "    print(f'Number {armno} is not a Armstrong number.')\n",
    "\n",
    "\n"
   ]
  },
  {
   "cell_type": "markdown",
   "id": "d05bf7d3",
   "metadata": {},
   "source": [
    "5. Write a Python Program to Find Armstrong Number in an Interval?\n"
   ]
  },
  {
   "cell_type": "code",
   "execution_count": 8,
   "id": "03f9139e",
   "metadata": {},
   "outputs": [
    {
     "name": "stdout",
     "output_type": "stream",
     "text": [
      "Interval from : 1\n",
      "to : 1000000\n",
      "Number 1 is a Armstrong number.\n",
      "Number 2 is a Armstrong number.\n",
      "Number 3 is a Armstrong number.\n",
      "Number 4 is a Armstrong number.\n",
      "Number 5 is a Armstrong number.\n",
      "Number 6 is a Armstrong number.\n",
      "Number 7 is a Armstrong number.\n",
      "Number 8 is a Armstrong number.\n",
      "Number 9 is a Armstrong number.\n",
      "Number 153 is a Armstrong number.\n",
      "Number 370 is a Armstrong number.\n",
      "Number 370 is a Armstrong number.\n",
      "Number 371 is a Armstrong number.\n",
      "Number 407 is a Armstrong number.\n",
      "Number 1634 is a Armstrong number.\n",
      "Number 6688 is a Armstrong number.\n",
      "Number 8208 is a Armstrong number.\n",
      "Number 9474 is a Armstrong number.\n",
      "Number 33286 is a Armstrong number.\n",
      "Number 54748 is a Armstrong number.\n",
      "Number 91818 is a Armstrong number.\n",
      "Number 91819 is a Armstrong number.\n",
      "Number 92727 is a Armstrong number.\n",
      "Number 93084 is a Armstrong number.\n",
      "Number 117651 is a Armstrong number.\n",
      "Number 548834 is a Armstrong number.\n"
     ]
    }
   ],
   "source": [
    "# considering interval from 100 to 999 - 3 digits\n",
    "\n",
    "startrange = int(input('Interval from : '))\n",
    "endrange = int(input('to : '))\n",
    "\n",
    "for num in range(startrange, endrange) :\n",
    "    nlist = [ele for ele in str(num)]\n",
    "    #print(nlist)\n",
    "    #print(type(nlist))\n",
    "    ll = len(nlist)\n",
    "    sum1 = 0\n",
    "    for item in nlist : \n",
    "        sum1 = int(item)**ll + sum1\n",
    "        #print(item, sum1)\n",
    "\n",
    "        if (sum1 == num) :\n",
    "            print(f'Number {num} is a Armstrong number.')\n",
    "        #else : \n",
    "        #    print(f'Number {num} is not a Armstrong number.')"
   ]
  },
  {
   "cell_type": "markdown",
   "id": "cf668a5f",
   "metadata": {},
   "source": [
    "6. Write a Python Program to Find the Sum of Natural Numbers?"
   ]
  },
  {
   "cell_type": "code",
   "execution_count": 5,
   "id": "49479929",
   "metadata": {},
   "outputs": [
    {
     "name": "stdout",
     "output_type": "stream",
     "text": [
      "Enter the inital number of series : 30\n",
      "Enter the final number of series : 50\n",
      "Sum of first 20 numbers : 790.0\n"
     ]
    }
   ],
   "source": [
    "# Let us consider a series in arithmatic progression. \n",
    "\n",
    "a0 = int(input('Enter the inital number of series : '))\n",
    "an = int(input('Enter the final number of series : '))\n",
    "n = an - a0\n",
    "d = 1 #(we are taking d = 1, one can change that also)\n",
    "\n",
    "sumn = (n/2)*(2*a0 + (n-1)*d)\n",
    "print(f'Sum of first {n} numbers : {sumn}')\n"
   ]
  }
 ],
 "metadata": {
  "kernelspec": {
   "display_name": "Python 3",
   "language": "python",
   "name": "python3"
  },
  "language_info": {
   "codemirror_mode": {
    "name": "ipython",
    "version": 3
   },
   "file_extension": ".py",
   "mimetype": "text/x-python",
   "name": "python",
   "nbconvert_exporter": "python",
   "pygments_lexer": "ipython3",
   "version": "3.8.8"
  }
 },
 "nbformat": 4,
 "nbformat_minor": 5
}
