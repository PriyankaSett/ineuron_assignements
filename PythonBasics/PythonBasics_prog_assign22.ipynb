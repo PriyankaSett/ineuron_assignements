{
 "cells": [
  {
   "cell_type": "markdown",
   "id": "b6248f67",
   "metadata": {},
   "source": [
    "## Python Basics - Programming Assignment 22"
   ]
  },
  {
   "cell_type": "markdown",
   "id": "df3e5253",
   "metadata": {},
   "source": [
    "Question1\n",
    "Create a function that takes three parameters where:   \n",
    "x is the start of the range (inclusive).  \n",
    "y is the end of the range (inclusive).  \n",
    "n is the divisor to be checked against.  \n",
    "Return an ordered list with numbers in the range that are divisible by the third parameter n.\n",
    "Return an empty list if there are no numbers that are divisible by n.\n",
    "Examples  \n",
    "list_operation(1, 10, 3) ➞ [3, 6, 9]  \n",
    "list_operation(7, 9, 2) ➞ [8]  \n",
    "list_operation(15, 20, 7) ➞ []  \n"
   ]
  },
  {
   "cell_type": "code",
   "execution_count": 1,
   "id": "e8d9324b",
   "metadata": {},
   "outputs": [
    {
     "name": "stdout",
     "output_type": "stream",
     "text": [
      "Enter the first number \"a\" : 1\n",
      "Enter the second number \"b\" :10\n",
      "Enter the third number \"c\" :2\n",
      "Sum of numbers in the range  1 - 10 which are divided by 2 : [2, 4, 6, 8, 10] \n"
     ]
    }
   ],
   "source": [
    "def list_operation(a,b,c) :\n",
    "    \"\"\"\n",
    "    This function that takes three parameters where:\n",
    "    x is the start of the range (inclusive).\n",
    "    y is the end of the range (inclusive).\n",
    "    n is the divisor to be checked against.\n",
    "    Return an ordered list with numbers in the range that are divisible by the third parameter n. Return an empty list if there are no numbers that are divisible by n. Examples\n",
    "    list_operation(1, 10, 3) ➞ [3, 6, 9]\n",
    "    list_operation(7, 9, 2) ➞ [8]\n",
    "    list_operation(15, 20, 7) ➞ [] \n",
    "    \"\"\"\n",
    "    nlist = list()\n",
    "    for i in range(a,b+1) :\n",
    "        if(i%c == 0) : \n",
    "            #print(i)\n",
    "            nlist.append(i)    \n",
    "        \n",
    "    return nlist\n",
    "\n",
    "\n",
    "a = int(input('Enter the first number \"a\" : '))\n",
    "b = int(input('Enter the second number \"b\" :'))\n",
    "c = int(input('Enter the third number \"c\" :'))\n",
    "\n",
    "evdiv = list_operation(a,b,c)\n",
    "print(f'Sum of numbers in the range  {a} - {b} which are divided by {c} : {evdiv} ')"
   ]
  },
  {
   "cell_type": "markdown",
   "id": "6ecdd3bd",
   "metadata": {},
   "source": [
    "\n",
    "Question2\n",
    "Create a function that takes in two lists and returns True if the second list follows the first list\n",
    "by one element, and False otherwise. In other words, determine if the second list is the first\n",
    "list shifted to the right by 1.  \n",
    "Examples  \n",
    "simon_says([1, 2], [5, 1]) ➞ True  \n",
    "simon_says([1, 2], [5, 5]) ➞ False  \n",
    "simon_says([1, 2, 3, 4, 5], [0, 1, 2, 3, 4]) ➞ True  \n",
    "simon_says([1, 2, 3, 4, 5], [5, 5, 1, 2, 3]) ➞ False  \n",
    "Notes  \n",
    "- Both input lists will be of the same length, and will have a minimum length of 2.\n",
    "- The values of the 0-indexed element in the second list and the n-1th indexed element\n",
    "in the first list do not matter.\n"
   ]
  },
  {
   "cell_type": "code",
   "execution_count": 2,
   "id": "7f1a6998",
   "metadata": {},
   "outputs": [
    {
     "name": "stdout",
     "output_type": "stream",
     "text": [
      "Input lists :([1, 2, 3, 4], [5, 1, 2, 3])\n",
      "False\n",
      "Input lists :([1, 2, 3, 4], [6, 8, 1, 9])\n",
      "False\n"
     ]
    }
   ],
   "source": [
    "def is_shifting_element(list1, list2): \n",
    "    \"\"\"\n",
    "    This function takes in two lists and returns True if the second list follows the \n",
    "    first list by one element, and False otherwise. \n",
    "    In other words, determine if the second list is the first list shifted to the right by 1.\n",
    "    \"\"\"\n",
    "    l_1 = list1\n",
    "    l_2 = list2\n",
    "    \n",
    "    for i in range(len(l2)-1): \n",
    "        if l2[i+1] != l2[i]: \n",
    "            return False\n",
    "        \n",
    "    return True        \n",
    "\n",
    "l1 = [1,2,3,4]\n",
    "l2 = [5,1,2,3]\n",
    "print(f'Input lists :{l1, l2}')\n",
    "print(is_shifting_element(l1,l2))\n",
    "\n",
    "l3 = [1,2,3,4]\n",
    "l4 = [6,8,1,9]\n",
    "print(f'Input lists :{l3, l4}')\n",
    "print(is_shifting_element(l3,l4))\n",
    "\n",
    "    \n",
    "    "
   ]
  },
  {
   "cell_type": "markdown",
   "id": "89889780",
   "metadata": {},
   "source": [
    "\n",
    "Question3\n",
    "A group of friends have decided to start a secret society. The name will be the first letter of\n",
    "each of their names, sorted in alphabetical order.  \n",
    "Create a function that takes in a list of names and returns the name of the secret society.  \n",
    "\n",
    "Examples  \n",
    "society_name([&quot;Adam&quot;, &quot;Sarah&quot;, &quot;Malcolm&quot;]) ➞ &quot;AMS&quot;  \n",
    "society_name([&quot;Harry&quot;, &quot;Newt&quot;, &quot;Luna&quot;, &quot;Cho&quot;]) ➞ &quot;CHLN&quot;  \n",
    "society_name([&quot;Phoebe&quot;, &quot;Chandler&quot;, &quot;Rachel&quot;, &quot;Ross&quot;,   &quot;Monica&quot;, &quot;Joey&quot;])  "
   ]
  },
  {
   "cell_type": "code",
   "execution_count": 3,
   "id": "6d504934",
   "metadata": {},
   "outputs": [
    {
     "name": "stdout",
     "output_type": "stream",
     "text": [
      "Name of members :  ['Adam', 'Sarah', 'Malcolm']\n",
      "Name of society : AMS\n",
      "\n",
      "Name of members :  ['Harry', 'Newt', 'Luna', 'Cho']\n",
      "Name of Society : CHLN\n",
      "\n",
      "\n",
      "Name of members : ['Phoebe', 'Chandler', 'Rachel', 'Ross', 'Monica', 'Joey']\n",
      "Name of Society : CJMPRR\n"
     ]
    }
   ],
   "source": [
    "def society_name(namelist) : \n",
    "    \"\"\"\n",
    "    This function takes in a list of names and returns the name of the secret society. \n",
    "    The name will be the first letter of each of their names, sorted in alphabetical order.   \n",
    "    \n",
    "    \"\"\"\n",
    "    namestring = str()\n",
    "    nlist = list()\n",
    "    \n",
    "    for i in range(0, len(namelist)) : \n",
    "        #print(namelist[i], namelist[i][0])\n",
    "        nlist.append(namelist[i][0])\n",
    "    \n",
    "    nlist = sorted(nlist)\n",
    "    namestring = ''.join(nlist)\n",
    "    \n",
    "    return namestring    \n",
    "\n",
    "\n",
    "\n",
    "namlist1 = [\"Adam\", \"Sarah\", \"Malcolm\"] \n",
    "print('Name of members : ', namlist1)\n",
    "print(f'Name of society : {society_name(namlist1)}\\n')\n",
    "\n",
    "\n",
    "print('Name of members : ', [\"Harry\", \"Newt\", \"Luna\", \"Cho\"])\n",
    "print('Name of Society :', society_name([\"Harry\", \"Newt\", \"Luna\", \"Cho\"] ))\n",
    "\n",
    "print('\\n')\n",
    "\n",
    "print('Name of members :', [\"Phoebe\", \"Chandler\", \"Rachel\", \"Ross\", \"Monica\", \"Joey\"])\n",
    "print('Name of Society :', society_name([\"Phoebe\", \"Chandler\", \"Rachel\", \"Ross\", \"Monica\", \"Joey\"]))\n"
   ]
  },
  {
   "cell_type": "markdown",
   "id": "e9415deb",
   "metadata": {},
   "source": [
    "\n",
    "Question4\n",
    "An isogram is a word that has no duplicate letters. Create a function that takes a string and\n",
    "returns either True or False depending on whether or not it&#39;s an &quot;isogram&quot;.  \n",
    "Examples  \n",
    "is_isogram(&quot;Algorism&quot;) ➞ True  \n",
    "is_isogram(&quot;PasSword&quot;) ➞ False  \n",
    " Not case sensitive. \n",
    "is_isogram(&quot;Consecutive&quot;) ➞ False  \n",
    "Notes  \n",
    "- Ignore letter case (should not be case sensitive).  \n",
    "- All test cases contain valid one word strings.  \n"
   ]
  },
  {
   "cell_type": "code",
   "execution_count": 4,
   "id": "23b63772",
   "metadata": {},
   "outputs": [
    {
     "name": "stdout",
     "output_type": "stream",
     "text": [
      "PasSWord is not isogram. \n"
     ]
    }
   ],
   "source": [
    "def is_isogram(word) : \n",
    "    \"\"\"\n",
    "    This function  takes a string and returns either True or False depending on \n",
    "    whether or not it's an \"isogram\".\n",
    "    Examples\n",
    "    is_isogram(\"Algorism\") ➞ True\n",
    "    is_isogram(\"PasSword\") ➞ False\n",
    "    \"\"\"\n",
    "    word = word.lower()\n",
    "    wlist = [i for i in word] \n",
    "    #print(wlist)\n",
    "    \n",
    "    for ele in wlist: \n",
    "        if wlist.count(ele) > 1 : \n",
    "            return False\n",
    "    \n",
    "    return True\n",
    "\n",
    "\n",
    "inword = 'PasSWord'\n",
    "\n",
    "if is_isogram(inword) is True :\n",
    "    print(f'{inword} is isogram. ')\n",
    "else :\n",
    "    print(f'{inword} is not isogram. ')\n"
   ]
  },
  {
   "cell_type": "markdown",
   "id": "3cd03bb2",
   "metadata": {},
   "source": [
    "\n",
    "Question5\n",
    "Create a function that takes a string and returns True or False, depending on whether the\n",
    "characters are in order or not.  \n",
    "Examples  \n",
    "is_in_order(&quot;abc&quot;) ➞ True  \n",
    "is_in_order(&quot;edabit&quot;) ➞ False  \n",
    "is_in_order(&quot;123&quot;) ➞ True  \n",
    "is_in_order(&quot;xyzz&quot;) ➞ True  \n",
    "Notes  \n",
    "You don&#39;t have to handle empty strings.  "
   ]
  },
  {
   "cell_type": "code",
   "execution_count": 5,
   "id": "c3dce75c",
   "metadata": {},
   "outputs": [
    {
     "name": "stdout",
     "output_type": "stream",
     "text": [
      "Input String :  edabit ,   Output : False\n",
      "Input String :  abc ,  Output :  True\n"
     ]
    }
   ],
   "source": [
    "def is_in_order(word1) :\n",
    "    \"\"\"\n",
    "    This function  takes a string and returns True or False, depending on \n",
    "    whether the characters are in order or not.\n",
    "    Examples\n",
    "    is_in_order(\"abc\") ➞ True\n",
    "    is_in_order(\"edabit\") ➞ False\n",
    "    is_in_order(\"123\") ➞ True\n",
    "    \"\"\"\n",
    "    wlis1 = [i for i in word1]\n",
    "    #print(wlis1)\n",
    "    wlis2 = sorted(wlis1)\n",
    "    #print(wlis2)\n",
    "    \n",
    "    if wlis1 == wlis2 : \n",
    "        return True\n",
    "    \n",
    "    return False\n",
    "\n",
    "\n",
    "\n",
    "inword1 = 'edabit'\n",
    "inword2 = 'abc'\n",
    "  \n",
    "    \n",
    "print('Input String : ', inword1, ',   Output :', is_in_order(inword1))\n",
    "print('Input String : ', inword2, ',  Output : ', is_in_order(inword2))"
   ]
  },
  {
   "cell_type": "code",
   "execution_count": null,
   "id": "afc4bf74",
   "metadata": {},
   "outputs": [],
   "source": []
  }
 ],
 "metadata": {
  "kernelspec": {
   "display_name": "Python 3",
   "language": "python",
   "name": "python3"
  },
  "language_info": {
   "codemirror_mode": {
    "name": "ipython",
    "version": 3
   },
   "file_extension": ".py",
   "mimetype": "text/x-python",
   "name": "python",
   "nbconvert_exporter": "python",
   "pygments_lexer": "ipython3",
   "version": "3.8.8"
  }
 },
 "nbformat": 4,
 "nbformat_minor": 5
}
