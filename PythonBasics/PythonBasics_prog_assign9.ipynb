{
 "cells": [
  {
   "cell_type": "markdown",
   "id": "14d82524",
   "metadata": {},
   "source": [
    "## Python Basics - Programming Assignment 9"
   ]
  },
  {
   "cell_type": "markdown",
   "id": "a4dd23b4",
   "metadata": {},
   "source": [
    "1. Write a Python program to check if the given number is a Disarium Number?"
   ]
  },
  {
   "cell_type": "code",
   "execution_count": 1,
   "id": "8cfe4aef",
   "metadata": {},
   "outputs": [
    {
     "name": "stdout",
     "output_type": "stream",
     "text": [
      "Enter the number : 7\n",
      "7 is Disarium Number.\n"
     ]
    }
   ],
   "source": [
    "# example of disarium number : 175, 89 etc \n",
    "\n",
    "def if_disarium(num) : \n",
    "    \"\"\"\n",
    "    This function checks if a given number is a disarium number    \n",
    "    \"\"\"\n",
    "    sum1 = 0\n",
    "    for i in range(len(str(num))) : \n",
    "        sum1 = sum1 + int(str(num)[i])**(i+1)\n",
    "        #print(num[i], i+1)\n",
    "    \n",
    "    if(int(num) == sum1) : \n",
    "        return True\n",
    "\n",
    "    return False\n",
    "\n",
    "\n",
    "num1 = int(input('Enter the number : '))\n",
    "\n",
    "if if_disarium(num1) is True: \n",
    "    print(f'{num1} is Disarium Number.')\n",
    "else :\n",
    "    print(f'{num1} is not a Disarium Number.')"
   ]
  },
  {
   "cell_type": "markdown",
   "id": "47a54099",
   "metadata": {},
   "source": [
    "2. Write a Python program to print all disarium numbers between 1 to 100?"
   ]
  },
  {
   "cell_type": "code",
   "execution_count": 2,
   "id": "a7287a2a",
   "metadata": {},
   "outputs": [
    {
     "name": "stdout",
     "output_type": "stream",
     "text": [
      "All disarium numbers between 1 to 100 : [1, 2, 3, 4, 5, 6, 7, 8, 9, 89]\n"
     ]
    }
   ],
   "source": [
    "dislist = list()\n",
    "\n",
    "for i in range(1,100) : \n",
    "    if if_disarium(i): \n",
    "        dislist.append(i)\n",
    "    else : \n",
    "        continue\n",
    "        \n",
    "print(f'All disarium numbers between 1 to 100 : {dislist}')        "
   ]
  },
  {
   "cell_type": "markdown",
   "id": "eeb1a0d0",
   "metadata": {},
   "source": [
    "3. Write a Python program to check if the given number is Happy Number?\n"
   ]
  },
  {
   "cell_type": "code",
   "execution_count": 3,
   "id": "1206d461",
   "metadata": {},
   "outputs": [
    {
     "name": "stdout",
     "output_type": "stream",
     "text": [
      "49 is happy number\n"
     ]
    }
   ],
   "source": [
    "def num_sum2(num) :\n",
    "    \n",
    "    sum1 = 0\n",
    "    for i in range(len(str(num2))) : \n",
    "        #print(num2)\n",
    "        sum1 = sum1+ int(str(num2)[i])**2\n",
    "        #print(int(str(num2)[i]), i, sum1)\n",
    "        return sum1\n",
    "\n",
    "givennum = 49    \n",
    "num2 = givennum\n",
    "setnum = list()\n",
    "sum2 = num_sum2(num2)\n",
    "#print(sum2)\n",
    "\n",
    "while sum2 != 1 :\n",
    "    sum2 = num_sum2(num2)\n",
    "    #print(sum2)\n",
    "    if sum2 in setnum: \n",
    "        print(f'{num2} is not happy number')\n",
    "        break\n",
    "    else : \n",
    "        setnum.append(num_sum2(num2))\n",
    "        num2 = sum2\n",
    "    \n",
    "    \n",
    "else :\n",
    "    print(f'{givennum} is happy number')\n",
    "#print(setnum)\n",
    "       \n",
    "   "
   ]
  },
  {
   "cell_type": "code",
   "execution_count": 9,
   "id": "de0bcb71",
   "metadata": {},
   "outputs": [
    {
     "ename": "SyntaxError",
     "evalue": "f-string: empty expression not allowed (<ipython-input-9-587c346f5f42>, line 20)",
     "output_type": "error",
     "traceback": [
      "\u001b[0;36m  File \u001b[0;32m\"<ipython-input-9-587c346f5f42>\"\u001b[0;36m, line \u001b[0;32m20\u001b[0m\n\u001b[0;31m    print(f'{} is happy number')\u001b[0m\n\u001b[0m          ^\u001b[0m\n\u001b[0;31mSyntaxError\u001b[0m\u001b[0;31m:\u001b[0m f-string: empty expression not allowed\n"
     ]
    }
   ],
   "source": [
    "num_g = 13 \n",
    "\n",
    "def num_sum(num): \n",
    "    \"\"\"\n",
    "    this function gives the sum of square of numbers\n",
    "    \"\"\"\n",
    "    no1 = num%10 # remainder\n",
    "    no2 = num//10 \n",
    "    \n",
    "    sum1 = no1**2 + no2**2 \n",
    "    \n",
    "    return sum1\n",
    "\n",
    "\n",
    "if num_g > 10 : \n",
    "    s1 = num_sum(num_g)\n",
    "    if s1 > 10 : \n",
    "        s1 = num_sum(s1)\n",
    "    else : \n",
    "        print(f'{num_g} is not a happy number')\n",
    "        \n",
    "else :  \n",
    "    s1 = num_sum(num_g * num_g)\n",
    "    if s1 > 10 : \n",
    "        s1 = num_sum(s1)\n",
    "    else : \n",
    "        print(f'{num_g} is happy number')"
   ]
  },
  {
   "cell_type": "code",
   "execution_count": null,
   "id": "d4da84c2",
   "metadata": {},
   "outputs": [],
   "source": []
  },
  {
   "cell_type": "code",
   "execution_count": null,
   "id": "6634d498",
   "metadata": {},
   "outputs": [],
   "source": []
  },
  {
   "cell_type": "markdown",
   "id": "f7ff3545",
   "metadata": {},
   "source": [
    "4. Write a Python program to print all happy numbers between 1 and 100?\n"
   ]
  },
  {
   "cell_type": "code",
   "execution_count": 4,
   "id": "7bed2809",
   "metadata": {},
   "outputs": [
    {
     "name": "stdout",
     "output_type": "stream",
     "text": [
      "1\n",
      "1 is happy number\n",
      "[]\n",
      "4\n",
      "4 is not happy number\n",
      "9\n",
      "9 is not happy number\n",
      "16\n",
      "16 is not happy number\n",
      "25\n",
      "25 is not happy number\n",
      "36\n",
      "36 is not happy number\n",
      "49\n",
      "49 is not happy number\n",
      "64\n",
      "64 is not happy number\n",
      "81\n",
      "81 is not happy number\n",
      "1\n",
      "10 is happy number\n",
      "[]\n",
      "1\n",
      "11 is happy number\n",
      "[]\n",
      "1\n",
      "12 is happy number\n",
      "[]\n",
      "1\n",
      "13 is happy number\n",
      "[]\n",
      "1\n",
      "14 is happy number\n",
      "[]\n",
      "1\n",
      "15 is happy number\n",
      "[]\n",
      "1\n",
      "16 is happy number\n",
      "[]\n",
      "1\n",
      "17 is happy number\n",
      "[]\n",
      "1\n",
      "18 is happy number\n",
      "[]\n",
      "1\n",
      "19 is happy number\n",
      "[]\n",
      "Happy numbers between 1 and 100 : [1, 10, 11, 12, 13, 14, 15, 16, 17, 18, 19]\n"
     ]
    }
   ],
   "source": [
    "def num_sum2(num) :\n",
    "    sum1 = 0\n",
    "    for i in range(len(str(num2))) : \n",
    "        sum1 = sum1+ int(str(num2)[i])**2\n",
    "        return sum1\n",
    "\n",
    "    \n",
    "def ishappy(num2):\n",
    "    \"\"\"\n",
    "    This function checks if a given number is a happy number\n",
    "    \"\"\"\n",
    "    setnum = list()\n",
    "    sum2 = num_sum2(num2)\n",
    "    print(sum2)\n",
    "    \n",
    "    while sum2 != 1 :\n",
    "        #sum2 = num_sum2(num2)\n",
    "        #print(sum2)\n",
    "        if sum2 in setnum: \n",
    "            print(f'{num2} is not happy number')\n",
    "            return False\n",
    "            break\n",
    "        else : \n",
    "            setnum.append(num_sum2(num2))\n",
    "            num2 = sum2   \n",
    "    \n",
    "    else :\n",
    "        print(f'{num2} is happy number')\n",
    "    print(setnum)    \n",
    "    return True    \n",
    "#print(setnum)\n",
    "       \n",
    "    \n",
    "    \n",
    "hlist = list()    \n",
    "    \n",
    "for i in range(1, 20) :\n",
    "    givennum = i   \n",
    "    num2 = givennum\n",
    "    #sum2 = num_sum2(num2)    \n",
    "    #happy = ishappy(sum2, num2)\n",
    "    happy = ishappy(num2)\n",
    "    if happy:\n",
    "        hlist.append(givennum)\n",
    "        \n",
    "print(f'Happy numbers between 1 and 100 : {hlist}')        "
   ]
  },
  {
   "cell_type": "markdown",
   "id": "88ebbc99",
   "metadata": {},
   "source": [
    "5. Write a Python program to determine whether the given number is a Harshad Number?"
   ]
  },
  {
   "cell_type": "code",
   "execution_count": 5,
   "id": "b6c98f78",
   "metadata": {},
   "outputs": [
    {
     "name": "stdout",
     "output_type": "stream",
     "text": [
      "yes\n"
     ]
    }
   ],
   "source": [
    "hnum = 18\n",
    "strhnum = str(hnum)\n",
    "\n",
    "hnumsum = 0\n",
    "for i in range(0, len(str(hnum))) :\n",
    "    hnumsum = int(strhnum[i])+hnumsum\n",
    "if(hnumsum%hnum) : \n",
    "    print('yes')\n",
    "else :\n",
    "    print('no')\n",
    "    "
   ]
  },
  {
   "cell_type": "markdown",
   "id": "3c86c01f",
   "metadata": {},
   "source": [
    "6. Write a Python program to print all pronic numbers between 1 and 100?"
   ]
  },
  {
   "cell_type": "code",
   "execution_count": 6,
   "id": "e7d46e59",
   "metadata": {},
   "outputs": [
    {
     "name": "stdout",
     "output_type": "stream",
     "text": [
      "pronic numbers between 1 and 100 : [2, 6, 12, 20, 30, 42, 56, 72, 90]\n"
     ]
    }
   ],
   "source": [
    "pronic=list()\n",
    "\n",
    "for i in range(1,100) :\n",
    "    for j in range(1,100) :\n",
    "        k = j*(j+1)\n",
    "        if(k == i):\n",
    "            #print(k)\n",
    "            pronic.append(k)\n",
    "            \n",
    "            \n",
    "print(f'pronic numbers between 1 and 100 : {pronic}')            \n",
    "        "
   ]
  },
  {
   "cell_type": "code",
   "execution_count": null,
   "id": "6471a9e8",
   "metadata": {},
   "outputs": [],
   "source": []
  }
 ],
 "metadata": {
  "kernelspec": {
   "display_name": "Python 3",
   "language": "python",
   "name": "python3"
  },
  "language_info": {
   "codemirror_mode": {
    "name": "ipython",
    "version": 3
   },
   "file_extension": ".py",
   "mimetype": "text/x-python",
   "name": "python",
   "nbconvert_exporter": "python",
   "pygments_lexer": "ipython3",
   "version": "3.8.8"
  }
 },
 "nbformat": 4,
 "nbformat_minor": 5
}
