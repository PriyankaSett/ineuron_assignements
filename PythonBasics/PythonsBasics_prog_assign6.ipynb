{
 "cells": [
  {
   "cell_type": "markdown",
   "id": "492538c5",
   "metadata": {},
   "source": [
    "## Python Basics - Programming Assignment 6"
   ]
  },
  {
   "cell_type": "markdown",
   "id": "87142b1d",
   "metadata": {},
   "source": [
    "1. Write a Python Program to Display Fibonacci Sequence Using Recursion?"
   ]
  },
  {
   "cell_type": "code",
   "execution_count": 1,
   "id": "5c53aecd",
   "metadata": {},
   "outputs": [
    {
     "name": "stdout",
     "output_type": "stream",
     "text": [
      "In this program we will find Fibonacci Sequence using Recursion.\n",
      "How many terms  : 8\n",
      "Fibonacci Sequence for 8 terms  : [0, 1, 1, 2, 3, 5, 8, 13]\n"
     ]
    }
   ],
   "source": [
    "def fibo(n) :\n",
    "    if n<=1 :\n",
    "        return n        \n",
    "    else : \n",
    "        return (fibo(n-1) + fibo(n-2))\n",
    "\n",
    "print('In this program we will find Fibonacci Sequence using Recursion.')\n",
    "num = int(input('How many terms  : '))\n",
    "\n",
    "fl = list()\n",
    "\n",
    "for i in range(0, num) :\n",
    "    fl.append(fibo(i))\n",
    "        \n",
    "print(f'Fibonacci Sequence for {num} terms  : {fl}')\n"
   ]
  },
  {
   "cell_type": "markdown",
   "id": "5b1c8832",
   "metadata": {},
   "source": [
    "2. Write a Python Program to Find Factorial of Number Using Recursion?"
   ]
  },
  {
   "cell_type": "code",
   "execution_count": 2,
   "id": "e9e04e67",
   "metadata": {},
   "outputs": [
    {
     "name": "stdout",
     "output_type": "stream",
     "text": [
      "In this program we will find factorial using Recursion.\n",
      "Enter the number : 6\n",
      "Factorial of 6 : 720\n"
     ]
    }
   ],
   "source": [
    "def factorial(num) :\n",
    "    if num == 1 or num == 0 : \n",
    "        return 1\n",
    "    else :\n",
    "        return (num*factorial(num-1))\n",
    "\n",
    "\n",
    "\n",
    "print('In this program we will find factorial using Recursion.')\n",
    "num = int(input('Enter the number : '))\n",
    "print(f'Factorial of {num} : {factorial(num)}')\n",
    "\n"
   ]
  },
  {
   "cell_type": "markdown",
   "id": "e0608540",
   "metadata": {},
   "source": [
    "3. Write a Python Program to calculate your Body Mass Index?"
   ]
  },
  {
   "cell_type": "code",
   "execution_count": 3,
   "id": "e8a514be",
   "metadata": {},
   "outputs": [
    {
     "name": "stdout",
     "output_type": "stream",
     "text": [
      "Welcome to find your BMI. Please enter the values in US(pound,inches) units or Metric(kg,cm) units.\n",
      "Which unit system you will be using ? US or Metric : Metric\n",
      "Enter your body mass in Metric system: 69\n",
      "Enter your height in Metric system: 157\n",
      "Your bmi is : 27.99\n"
     ]
    }
   ],
   "source": [
    "print('Welcome to find your BMI. Please enter the values in US(pound,inches) units or Metric(kg,cm) units.')\n",
    "usys = input('Which unit system you will be using ? US or Metric : ')\n",
    "\n",
    "mass = float(input(f'Enter your body mass in {usys} system: '))\n",
    "height = float(input(f'Enter your height in {usys} system: ' ))\n",
    "\n",
    "if usys == 'US' :\n",
    "    mass = 0.453592 * mass\n",
    "    height = 0.0254 * height\n",
    "else : \n",
    "    mass = mass\n",
    "    height = height/100\n",
    "\n",
    "\n",
    "bmi = mass/(height*height)\n",
    "print(f'Your bmi is : {bmi:.2f}')"
   ]
  },
  {
   "cell_type": "markdown",
   "id": "df4eb112",
   "metadata": {},
   "source": [
    "4. Write a Python Program to calculate the natural logarithm of any number?"
   ]
  },
  {
   "cell_type": "code",
   "execution_count": 4,
   "id": "28a5abfd",
   "metadata": {},
   "outputs": [
    {
     "name": "stdout",
     "output_type": "stream",
     "text": [
      "Enter number : 7.8\n",
      "Ans : 2.0541237336955462\n"
     ]
    }
   ],
   "source": [
    "import math \n",
    "\n",
    "num1 = float(input(f'Enter number : '))\n",
    "if num1<=0 : \n",
    "    print('Please provide correct input.')\n",
    "else :\n",
    "    print(f'Ans : {math.log(num1)}')"
   ]
  },
  {
   "cell_type": "markdown",
   "id": "84c55fbc",
   "metadata": {},
   "source": [
    "5. Write a Python Program forsum of cube of first n natural numbers?"
   ]
  },
  {
   "cell_type": "code",
   "execution_count": 5,
   "id": "62809c64",
   "metadata": {},
   "outputs": [
    {
     "name": "stdout",
     "output_type": "stream",
     "text": [
      "Finding out the sum of cube of first n natural numbers.\n",
      "Enter n : 8\n",
      "Sum : 1296.0\n"
     ]
    }
   ],
   "source": [
    "print('Finding out the sum of cube of first n natural numbers.')\n",
    "num2 = int(input('Enter n : '))\n",
    "print(f'Sum : {((num2*(num2+1)/2))**2}')"
   ]
  }
 ],
 "metadata": {
  "kernelspec": {
   "display_name": "Python 3",
   "language": "python",
   "name": "python3"
  },
  "language_info": {
   "codemirror_mode": {
    "name": "ipython",
    "version": 3
   },
   "file_extension": ".py",
   "mimetype": "text/x-python",
   "name": "python",
   "nbconvert_exporter": "python",
   "pygments_lexer": "ipython3",
   "version": "3.8.8"
  }
 },
 "nbformat": 4,
 "nbformat_minor": 5
}
