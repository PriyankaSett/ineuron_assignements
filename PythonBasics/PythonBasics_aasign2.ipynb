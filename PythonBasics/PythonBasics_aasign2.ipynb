{
 "cells": [
  {
   "cell_type": "markdown",
   "id": "a0b2aeaf",
   "metadata": {},
   "source": [
    "## Python Basics -  Assignment 2"
   ]
  },
  {
   "cell_type": "markdown",
   "id": "fed6c970",
   "metadata": {},
   "source": [
    "1. What are the two values of the Boolean data type? How do you write them?\n",
    "\n",
    "\n",
    "- Ans. \n",
    "Two value of Boolean data type is 0 and 1. \n",
    "0 is written as False\n",
    "1 is written as True"
   ]
  },
  {
   "cell_type": "markdown",
   "id": "aad54f72",
   "metadata": {},
   "source": [
    "2. What are the three different types of Boolean operators?\n",
    "\n",
    "- Ans. \n",
    "AND, OR and NOT"
   ]
  },
  {
   "cell_type": "markdown",
   "id": "e410f6fb",
   "metadata": {},
   "source": [
    "3. Make a list of each Boolean operator's truth tables (i.e. every possible combination of Boolean\n",
    "values for the operator and what it evaluate).\n",
    "\n",
    "- Ans. \n",
    "Let A and B be the inputs which can True (1) or False (0). Now \n",
    "\n",
    "\n",
    "| -- | OR | -- |          | -- | AND | -- |        | -- | NOT | -- | \n",
    "|:-| :- |:-|              |:-| :- |:-|             |:-| :- |:-| \n",
    "| A | B |Output |        | A | B |Output |       | A |Output |  \n",
    "| 0 | 0 | 0 |              | 0 | 0 | 0 |           | 0 | 1 |\n",
    "| 1 | 0 | 1 |              | 0 | 1 | 0 |           | 1 | 0 |  \n",
    "| 0 | 1 | 1 |              | 1 | 0 | 0 | \n",
    "| 1 | 1 | 1 |              | 1 | 1 | 1 |\n",
    "\n"
   ]
  },
  {
   "cell_type": "markdown",
   "id": "9f6037eb",
   "metadata": {},
   "source": [
    "4. What are the values of the following expressions?\n",
    " - (5 > 4) and (3 == 5)\n",
    " - not (5 > 4)\n",
    " - (5 > 4) or (3 == 5)\n",
    " - not ((5 > 4) or (3 == 5))\n",
    " - (True and True) and (True == False)\n",
    " - (not False) or (not True)\n",
    " \n",
    " \n",
    "- Ans : \n",
    "- (5 > 4) and (3 == 5) : False\n",
    "- not (5 > 4) : False\n",
    "- (5 > 4) or (3 == 5) : True\n",
    "- not ((5 > 4) or (3 == 5)) : False\n",
    "- (True and True) and (True == False) : False\n",
    "- (not False) or (not True) : True\n",
    " "
   ]
  },
  {
   "cell_type": "markdown",
   "id": "89e35e88",
   "metadata": {},
   "source": [
    "5. What are the six comparison operators?\n",
    "\n",
    "- Ans : They are : '==', '!=', '>', '<', '>=', '<='  \n"
   ]
  },
  {
   "cell_type": "markdown",
   "id": "8923e272",
   "metadata": {},
   "source": [
    "6. How do you tell the difference between the equal to and assignment operators?Describe a\n",
    "condition and when you would use one.\n",
    "\n",
    "- Ans : Equal to operator is '==' which compares the values of left hand side and right hand side. \n",
    "Assignement operator is '=' which is used to assign the value to a variable\n",
    "\n",
    "- \n",
    "Let 'A = 5' , here we use assignement operator '='\n",
    "Let, we have a condition where the value of A should be 8. We need check that. In that case \n",
    "we will write 'A == 8'. If this is true True will be returned. Else False will be returned. Here\n",
    "'==' operator compares the value of A to 8 and return the True and False value accordingly."
   ]
  },
  {
   "cell_type": "markdown",
   "id": "251b6097",
   "metadata": {},
   "source": [
    "7. Identify the three blocks in this code:\n",
    "spam = 0\n",
    "if spam == 10:\n",
    "print('eggs')\n",
    "if spam > 5:\n",
    "print('bacon')\n",
    "else:\n",
    "print('ham')\n",
    "print('spam')\n",
    "print('spam')\n",
    "\n",
    "- Ans : As spam = 0 (initially assigned), so, the first and \n",
    "second if statements will return False values and the else \n",
    "statement will be executed. Hence, it will print - ham. \n",
    "The last two print statements are outside the if-else loop. \n",
    "Hence these two statements will be printed always.\n",
    "\n",
    "\n",
    "- ham  \n",
    "spam  \n",
    "spam\n"
   ]
  },
  {
   "cell_type": "markdown",
   "id": "01c79c6a",
   "metadata": {},
   "source": [
    "8. Write a code that prints Hello if 1 is stored in spam, prints \n",
    "Howdy if 2 is stored in spam, and prints Greetings! if anything\n",
    "else is stored in spam."
   ]
  },
  {
   "cell_type": "code",
   "execution_count": 2,
   "id": "39321642",
   "metadata": {},
   "outputs": [
    {
     "name": "stdout",
     "output_type": "stream",
     "text": [
      "9\n",
      "Spam = 9\n",
      "Greetings !\n"
     ]
    }
   ],
   "source": [
    "spam = int(input())\n",
    "print(f'Spam = {spam}')\n",
    "if spam == 1 :\n",
    "    print('Hello')\n",
    "elif spam == 2 :\n",
    "    print('Howdy')\n",
    "else :\n",
    "    print('Greetings !')"
   ]
  },
  {
   "cell_type": "markdown",
   "id": "a983d02a",
   "metadata": {},
   "source": [
    "9. If your programme is stuck in \n",
    "an endless loop, what keys you’ll press?\n",
    "\n",
    "- Ans : Ctrlr+C "
   ]
  },
  {
   "cell_type": "markdown",
   "id": "c0bc7448",
   "metadata": {},
   "source": [
    "10. How can you tell the difference between break and \n",
    "continue. \n",
    "\n",
    "- Ans : 'break' statement will 'break' the loop and come \n",
    "    out of the loop if a certain \n",
    "    condition satisfies. In case of 'continue' the loop will \n",
    "    skip the current loop statements and will run the loop from the next iteration for the given conditions."
   ]
  },
  {
   "cell_type": "markdown",
   "id": "780f1904",
   "metadata": {},
   "source": [
    "11. In a for loop, what is the difference between \n",
    "range(10), range(0, 10), and range(0, 10, 1)?\n",
    "\n",
    "Ans : The above statement when executed will give same results. \n",
    "The difference is :   \n",
    "- In 'range(10)' - by default the start index is 0 and last is \n",
    "(10-1) = 9. And incremental value by default is 1. \n",
    "- In 'range(0, 10)' - the start index is specified as 0 and \n",
    "it will run upto index 9. Default increment is 1. \n",
    "- In 'range(0, 10, 1)', the start, last and incremental values \n",
    "are specified. "
   ]
  },
  {
   "cell_type": "markdown",
   "id": "36da8c58",
   "metadata": {},
   "source": [
    "12. Write a short program that prints the numbers 1 to 10 using a for loop. Then write an equivalent\n",
    "program that prints the numbers 1 to 10 using a while loop."
   ]
  },
  {
   "cell_type": "code",
   "execution_count": 3,
   "id": "5a286d7f",
   "metadata": {},
   "outputs": [
    {
     "name": "stdout",
     "output_type": "stream",
     "text": [
      "1\n",
      "2\n",
      "3\n",
      "4\n",
      "5\n",
      "6\n",
      "7\n",
      "8\n",
      "9\n",
      "10\n"
     ]
    }
   ],
   "source": [
    "for i in range(1,11) :\n",
    "    print(i)"
   ]
  },
  {
   "cell_type": "code",
   "execution_count": 4,
   "id": "852d08fe",
   "metadata": {},
   "outputs": [
    {
     "name": "stdout",
     "output_type": "stream",
     "text": [
      "1\n",
      "2\n",
      "3\n",
      "4\n",
      "5\n",
      "6\n",
      "7\n",
      "8\n",
      "9\n",
      "10\n"
     ]
    }
   ],
   "source": [
    "i = 1\n",
    "while i < 11:\n",
    "    print (i)\n",
    "    i = i+1"
   ]
  },
  {
   "cell_type": "markdown",
   "id": "54f2b157",
   "metadata": {},
   "source": [
    "13. If you had a function named bacon() inside a module named spam, how would you call it after\n",
    "importing spam?\n",
    "\n",
    "- Ans : spam.bacon()"
   ]
  }
 ],
 "metadata": {
  "kernelspec": {
   "display_name": "Python 3",
   "language": "python",
   "name": "python3"
  },
  "language_info": {
   "codemirror_mode": {
    "name": "ipython",
    "version": 3
   },
   "file_extension": ".py",
   "mimetype": "text/x-python",
   "name": "python",
   "nbconvert_exporter": "python",
   "pygments_lexer": "ipython3",
   "version": "3.8.8"
  }
 },
 "nbformat": 4,
 "nbformat_minor": 5
}
