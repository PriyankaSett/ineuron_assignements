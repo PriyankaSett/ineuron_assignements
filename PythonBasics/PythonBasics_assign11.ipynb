{
 "cells": [
  {
   "cell_type": "markdown",
   "id": "93996581",
   "metadata": {},
   "source": [
    "## Python Basics - Assignment 11"
   ]
  },
  {
   "cell_type": "markdown",
   "id": "38bf5474",
   "metadata": {},
   "source": [
    "1. Create an assert statement that throws an AssertionError if the variable spam is a negative\n",
    "integer. \n",
    "\n",
    "- Ans : "
   ]
  },
  {
   "cell_type": "code",
   "execution_count": 1,
   "id": "c52f6369",
   "metadata": {},
   "outputs": [
    {
     "ename": "AssertionError",
     "evalue": "Variable spam should be greater than zero.",
     "output_type": "error",
     "traceback": [
      "\u001b[0;31m---------------------------------------------------------------------------\u001b[0m",
      "\u001b[0;31mAssertionError\u001b[0m                            Traceback (most recent call last)",
      "\u001b[0;32m<ipython-input-1-c2fab22fded2>\u001b[0m in \u001b[0;36m<module>\u001b[0;34m\u001b[0m\n\u001b[1;32m      1\u001b[0m \u001b[0mspam\u001b[0m \u001b[0;34m=\u001b[0m \u001b[0;34m-\u001b[0m\u001b[0;36m2\u001b[0m\u001b[0;34m\u001b[0m\u001b[0;34m\u001b[0m\u001b[0m\n\u001b[0;32m----> 2\u001b[0;31m \u001b[0;32massert\u001b[0m \u001b[0mspam\u001b[0m \u001b[0;34m>=\u001b[0m \u001b[0;36m0\u001b[0m\u001b[0;34m,\u001b[0m \u001b[0;34m'Variable spam should be greater than zero.'\u001b[0m\u001b[0;34m\u001b[0m\u001b[0;34m\u001b[0m\u001b[0m\n\u001b[0m",
      "\u001b[0;31mAssertionError\u001b[0m: Variable spam should be greater than zero."
     ]
    }
   ],
   "source": [
    "spam = -2\n",
    "assert spam >= 0, 'Variable spam should be greater than zero.'"
   ]
  },
  {
   "cell_type": "markdown",
   "id": "797598d9",
   "metadata": {},
   "source": [
    "2. Write an assert statement that triggers an \n",
    "AssertionError if the variables \n",
    "eggs and bacon contain\n",
    "strings that are the same as each other, even \n",
    "if their cases are different \n",
    "(that is, 'hello' and 'hello'; are\n",
    "considered the same, and 'goodbye' \n",
    " and 'GOODbye'; are also considered the same).\n",
    " \n",
    "- Ans :  "
   ]
  },
  {
   "cell_type": "code",
   "execution_count": 2,
   "id": "b35f134a",
   "metadata": {},
   "outputs": [
    {
     "ename": "AssertionError",
     "evalue": "eggs and bacon should not be the same",
     "output_type": "error",
     "traceback": [
      "\u001b[0;31m---------------------------------------------------------------------------\u001b[0m",
      "\u001b[0;31mAssertionError\u001b[0m                            Traceback (most recent call last)",
      "\u001b[0;32m<ipython-input-2-77a9b755c802>\u001b[0m in \u001b[0;36m<module>\u001b[0;34m\u001b[0m\n\u001b[1;32m      5\u001b[0m \u001b[0mbacon\u001b[0m \u001b[0;34m=\u001b[0m \u001b[0mstr2\u001b[0m\u001b[0;34m.\u001b[0m\u001b[0mlower\u001b[0m\u001b[0;34m(\u001b[0m\u001b[0;34m)\u001b[0m\u001b[0;34m\u001b[0m\u001b[0;34m\u001b[0m\u001b[0m\n\u001b[1;32m      6\u001b[0m \u001b[0;34m\u001b[0m\u001b[0m\n\u001b[0;32m----> 7\u001b[0;31m \u001b[0;32massert\u001b[0m \u001b[0meggs\u001b[0m\u001b[0;34m!=\u001b[0m\u001b[0mbacon\u001b[0m\u001b[0;34m,\u001b[0m \u001b[0;34m'eggs and bacon should not be the same'\u001b[0m\u001b[0;34m\u001b[0m\u001b[0;34m\u001b[0m\u001b[0m\n\u001b[0m",
      "\u001b[0;31mAssertionError\u001b[0m: eggs and bacon should not be the same"
     ]
    }
   ],
   "source": [
    "str1 = 'hello'\n",
    "str2 = 'Hello'\n",
    "\n",
    "eggs = str1.lower()\n",
    "bacon = str2.lower()\n",
    "\n",
    "assert eggs!=bacon, 'eggs and bacon should not be the same'\n"
   ]
  },
  {
   "cell_type": "markdown",
   "id": "c21aea9d",
   "metadata": {},
   "source": [
    "3. Create an assert statement that throws an AssertionError every time.\n",
    "\n",
    "- Ans : "
   ]
  },
  {
   "cell_type": "code",
   "execution_count": 3,
   "id": "4e040f38",
   "metadata": {},
   "outputs": [
    {
     "ename": "AssertionError",
     "evalue": "Always Shows Assertion Error",
     "output_type": "error",
     "traceback": [
      "\u001b[0;31m---------------------------------------------------------------------------\u001b[0m",
      "\u001b[0;31mAssertionError\u001b[0m                            Traceback (most recent call last)",
      "\u001b[0;32m<ipython-input-3-b25c0da8a33f>\u001b[0m in \u001b[0;36m<module>\u001b[0;34m\u001b[0m\n\u001b[1;32m      1\u001b[0m \u001b[0;32mdef\u001b[0m \u001b[0massert_always\u001b[0m\u001b[0;34m(\u001b[0m\u001b[0;34m)\u001b[0m\u001b[0;34m:\u001b[0m\u001b[0;34m\u001b[0m\u001b[0;34m\u001b[0m\u001b[0m\n\u001b[1;32m      2\u001b[0m     \u001b[0;32massert\u001b[0m \u001b[0;32mFalse\u001b[0m\u001b[0;34m,\u001b[0m \u001b[0;34m'Always Shows Assertion Error'\u001b[0m\u001b[0;34m\u001b[0m\u001b[0;34m\u001b[0m\u001b[0m\n\u001b[0;32m----> 3\u001b[0;31m \u001b[0massert_always\u001b[0m\u001b[0;34m(\u001b[0m\u001b[0;34m)\u001b[0m\u001b[0;34m\u001b[0m\u001b[0;34m\u001b[0m\u001b[0m\n\u001b[0m",
      "\u001b[0;32m<ipython-input-3-b25c0da8a33f>\u001b[0m in \u001b[0;36massert_always\u001b[0;34m()\u001b[0m\n\u001b[1;32m      1\u001b[0m \u001b[0;32mdef\u001b[0m \u001b[0massert_always\u001b[0m\u001b[0;34m(\u001b[0m\u001b[0;34m)\u001b[0m\u001b[0;34m:\u001b[0m\u001b[0;34m\u001b[0m\u001b[0;34m\u001b[0m\u001b[0m\n\u001b[0;32m----> 2\u001b[0;31m     \u001b[0;32massert\u001b[0m \u001b[0;32mFalse\u001b[0m\u001b[0;34m,\u001b[0m \u001b[0;34m'Always Shows Assertion Error'\u001b[0m\u001b[0;34m\u001b[0m\u001b[0;34m\u001b[0m\u001b[0m\n\u001b[0m\u001b[1;32m      3\u001b[0m \u001b[0massert_always\u001b[0m\u001b[0;34m(\u001b[0m\u001b[0;34m)\u001b[0m\u001b[0;34m\u001b[0m\u001b[0;34m\u001b[0m\u001b[0m\n",
      "\u001b[0;31mAssertionError\u001b[0m: Always Shows Assertion Error"
     ]
    }
   ],
   "source": [
    "def assert_always():\n",
    "    assert False, 'Always Shows Assertion Error'\n",
    "assert_always()"
   ]
  },
  {
   "cell_type": "markdown",
   "id": "24433edd",
   "metadata": {},
   "source": [
    "4. What are the two lines that must be present in your software in order to call logging.debug()? \n",
    "\n",
    "- Ans : "
   ]
  },
  {
   "cell_type": "markdown",
   "id": "483461ce",
   "metadata": {},
   "source": [
    "`import logging`  \n",
    "`logging.basicConfig(filename = 'application_log.txt',level=logging.DEBUG, format=' %(asctime)s - %(levelname)s - %(message)s')`"
   ]
  },
  {
   "cell_type": "markdown",
   "id": "70cadfb8",
   "metadata": {},
   "source": [
    "5. What are the two lines that your program must have in order to have logging.debug() send a\n",
    "logging message to a file named programLog.txt? \n",
    "\n",
    "- Ans : "
   ]
  },
  {
   "cell_type": "code",
   "execution_count": 4,
   "id": "05e6c483",
   "metadata": {},
   "outputs": [],
   "source": [
    "import logging\n",
    "logging.basicConfig(filename = 'programLog.txt',level=logging.DEBUG, format=' %(asctime)s - %(levelname)s - %(message)s')\n",
    "logging.debug(\"Data Inserted Successfully\")\n",
    "logging.debug('Connection Closed Successfully')\n"
   ]
  },
  {
   "cell_type": "code",
   "execution_count": 5,
   "id": "acc161e0",
   "metadata": {},
   "outputs": [
    {
     "name": "stdout",
     "output_type": "stream",
     "text": [
      " 2023-05-15 14:45:45,257 - DEBUG - Data Inserted Successfully\n",
      "\n",
      " 2023-05-15 14:45:45,258 - DEBUG - Connection Closed Successfully\n",
      "\n"
     ]
    }
   ],
   "source": [
    "infile = open('programLog.txt', 'r')\n",
    "for lines in infile.readlines(): \n",
    "    print(lines)"
   ]
  },
  {
   "cell_type": "markdown",
   "id": "0e61cbe4",
   "metadata": {},
   "source": [
    "6. What are the five levels of logging? \n",
    "\n",
    "- Ans : The Five levels of Logging provided by Python's Logging Module are CRITICAL(50), ERROR(40), WARNING(30), INFO(20, DEBUG(10), NOTSET(0)."
   ]
  },
  {
   "cell_type": "markdown",
   "id": "db52810d",
   "metadata": {},
   "source": [
    "7. What line of code would you add to your software to disable all logging messages? \n",
    "\n",
    "- Ans : `logging.disable = True`\n"
   ]
  },
  {
   "cell_type": "markdown",
   "id": "52deddc1",
   "metadata": {},
   "source": [
    "8.Why is using logging messages better than using print() to display the same message? \n",
    "\n",
    "- Ans : Post devlopment of our code, we can disable logging messages without removing the logging function, whereas we need to manually remove print() statements, which would become a tedious activity. Also, print is used when we want to display any particular message or help whereas logging is used to record all events such as error, info, debug messages, timestamps."
   ]
  },
  {
   "cell_type": "markdown",
   "id": "d5c991e6",
   "metadata": {},
   "source": [
    "9. What are the differences between the Step Over, Step In, and Step Out buttons in the debugger? \n",
    "\n",
    "- Ans : \n",
    "    - Step in - Step In button will cause the debugger to execute the next line of code and then pause again.\n",
    "    - Step Over - Step Over button will execute the next line of code, similar to the Step In button. However, if the next line of code is a function call, the Step Over button will “step over” the code in the function. The function’s code will be executed at full speed, and the debugger will pause as soon as the function call returns.\n",
    "    - Step out - Step Out button will cause the debugger to execute lines of code at full speed until it returns from the current function.\n"
   ]
  },
  {
   "cell_type": "markdown",
   "id": "e103c77c",
   "metadata": {},
   "source": [
    "10.After you click Continue, when will the debugger stop ? \n",
    "\n",
    "- Ans : This will cause the program to continue running normally, without pausing for debugging untill it terminates or reaches a breakpoint."
   ]
  },
  {
   "cell_type": "markdown",
   "id": "02dc6e2e",
   "metadata": {},
   "source": [
    "11. What is the concept of a breakpoint? \n",
    "\n",
    "- Ans : Breakpoint is a setting on a line of code that causes the debugger to pause when the program execution reaches the line."
   ]
  },
  {
   "cell_type": "code",
   "execution_count": null,
   "id": "6c9488f8",
   "metadata": {},
   "outputs": [],
   "source": []
  }
 ],
 "metadata": {
  "kernelspec": {
   "display_name": "Python 3",
   "language": "python",
   "name": "python3"
  },
  "language_info": {
   "codemirror_mode": {
    "name": "ipython",
    "version": 3
   },
   "file_extension": ".py",
   "mimetype": "text/x-python",
   "name": "python",
   "nbconvert_exporter": "python",
   "pygments_lexer": "ipython3",
   "version": "3.8.8"
  }
 },
 "nbformat": 4,
 "nbformat_minor": 5
}
