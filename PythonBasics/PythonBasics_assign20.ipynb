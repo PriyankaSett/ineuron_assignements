{
 "cells": [
  {
   "cell_type": "markdown",
   "id": "86d0c5a5",
   "metadata": {},
   "source": [
    "## Python Basics - Assignment 20"
   ]
  },
  {
   "cell_type": "markdown",
   "id": "c2c176ea",
   "metadata": {},
   "source": [
    "1. Set the variable test1 to the string &#39;This is a test of the emergency text system,&#39; and save test1 to a file named test.txt."
   ]
  },
  {
   "cell_type": "code",
   "execution_count": 1,
   "id": "67978d38",
   "metadata": {},
   "outputs": [],
   "source": [
    "test1 = 'This a test of the emergency text system'\n",
    "with open('test.txt', 'w') as ofile: \n",
    "    ofile.write(test1)"
   ]
  },
  {
   "cell_type": "markdown",
   "id": "f483e70a",
   "metadata": {},
   "source": [
    "2. Read the contents of the file test.txt into the variable test2. Is there a difference between test 1\n",
    "and test 2?"
   ]
  },
  {
   "cell_type": "code",
   "execution_count": 2,
   "id": "6c1d4f19",
   "metadata": {},
   "outputs": [
    {
     "name": "stdout",
     "output_type": "stream",
     "text": [
      "This a test of the emergency text system\n"
     ]
    }
   ],
   "source": [
    "with open('test.txt', 'r') as f: \n",
    "    test2 = f.read()\n",
    "print(test2)    "
   ]
  },
  {
   "cell_type": "markdown",
   "id": "b2c575db",
   "metadata": {},
   "source": [
    "3. Create a CSV file called books.csv by using these lines:\n",
    "title,author,year\n",
    "The Weirdstone of Brisingamen,Alan Garner,1960\n",
    "Perdido Street Station,China Miéville,2000\n",
    "Thud!,Terry Pratchett,2005\n",
    "The Spellman Files,Lisa Lutz,2007\n",
    "Small Gods,Terry Pratchett,1992"
   ]
  },
  {
   "cell_type": "code",
   "execution_count": 3,
   "id": "0536d8f4",
   "metadata": {},
   "outputs": [],
   "source": [
    "text_file=\"\"\"title,author,year\n",
    "The Weirdstone of Brisingamen,Alan Garner,1960\n",
    "Perdido Street Station,China Miéville,2000\n",
    "Thud!,Terry Pratchett,2005\n",
    "The Spellman Files,Lisa Lutz,2007\n",
    "Small Gods,Terry Pratchett,1992\"\"\"\n",
    "\n",
    "with open('books.csv',mode='w',encoding='UTF-8') as f:\n",
    "    f.write(text_file)    "
   ]
  },
  {
   "cell_type": "code",
   "execution_count": 4,
   "id": "31b03e5d",
   "metadata": {},
   "outputs": [
    {
     "name": "stdout",
     "output_type": "stream",
     "text": [
      "title,author,year\n",
      "The Weirdstone of Brisingamen,Alan Garner,1960\n",
      "Perdido Street Station,China Miéville,2000\n",
      "Thud!,Terry Pratchett,2005\n",
      "The Spellman Files,Lisa Lutz,2007\n",
      "Small Gods,Terry Pratchett,1992\n"
     ]
    }
   ],
   "source": [
    "with open('books.csv', 'r') as f: \n",
    "    text = f.read()\n",
    "print(text)    "
   ]
  },
  {
   "cell_type": "markdown",
   "id": "2482b147",
   "metadata": {},
   "source": [
    "4. Use the sqlite3 module to create a SQLite database called books.db, and a table called books with\n",
    "these fields: title (text), author (text), and year (integer)."
   ]
  },
  {
   "cell_type": "code",
   "execution_count": 5,
   "id": "bd19eac9",
   "metadata": {},
   "outputs": [
    {
     "name": "stdout",
     "output_type": "stream",
     "text": [
      "Connection Established !! \n",
      "table books already exists\n"
     ]
    }
   ],
   "source": [
    "import sqlite3\n",
    "con = sqlite3.connect(\"books.db\")  # connection has been created\n",
    "print(\"Connection Established !! \")\n",
    "try:\n",
    "    cur =con.cursor()\n",
    "    \n",
    "    query=\"\"\" CREATE TABLE books(\n",
    "    name text, author text, year integer\n",
    "    )\n",
    "    \"\"\"  # Table create\n",
    "    cur.execute(query)\n",
    "    con.commit()\n",
    "    con.close()\n",
    "\n",
    "\n",
    "except Exception as e:\n",
    "    print(e)"
   ]
  },
  {
   "cell_type": "markdown",
   "id": "a4d38af3",
   "metadata": {},
   "source": [
    "5. Read books.csv and insert its data into the book table."
   ]
  },
  {
   "cell_type": "code",
   "execution_count": 6,
   "id": "2c8dae84",
   "metadata": {},
   "outputs": [
    {
     "name": "stdout",
     "output_type": "stream",
     "text": [
      "Connection Established !! \n",
      "Sucessfully insert \n"
     ]
    }
   ],
   "source": [
    "import csv\n",
    "import sqlite3\n",
    "con = sqlite3.connect(\"books.db\")  # connection has been created\n",
    "print(\"Connection Established !! \")\n",
    "try:\n",
    "    with open('books.csv', 'rt') as f:\n",
    "        books = csv.DictReader(f)\n",
    "        \n",
    "        for book in books:\n",
    "            query = f\"INSERT INTO books VALUES ('{book['title']}','{book['author']}',{book['year']})\"\n",
    "            cur = con.cursor()\n",
    "            cur.execute(query)\n",
    "            con.commit()    \n",
    "    con.close()\n",
    "    print(\"Sucessfully insert \")\n",
    "except Exception as e:\n",
    "    print(e)"
   ]
  },
  {
   "cell_type": "markdown",
   "id": "a5a9e97f",
   "metadata": {},
   "source": [
    "6. Select and print the title column from the book table in alphabetical order."
   ]
  },
  {
   "cell_type": "code",
   "execution_count": 7,
   "id": "aa1a2cb0",
   "metadata": {},
   "outputs": [
    {
     "name": "stdout",
     "output_type": "stream",
     "text": [
      "Connection Established !! \n",
      "Perdido Street Station\n",
      "Perdido Street Station\n",
      "Perdido Street Station\n",
      "Perdido Street Station\n",
      "Small Gods\n",
      "Small Gods\n",
      "Small Gods\n",
      "Small Gods\n",
      "The Spellman Files\n",
      "The Spellman Files\n",
      "The Spellman Files\n",
      "The Spellman Files\n",
      "The Weirdstone of Brisingamen\n",
      "The Weirdstone of Brisingamen\n",
      "The Weirdstone of Brisingamen\n",
      "The Weirdstone of Brisingamen\n",
      "Thud!\n",
      "Thud!\n",
      "Thud!\n",
      "Thud!\n"
     ]
    }
   ],
   "source": [
    "con = sqlite3.connect(\"books.db\")  # connection has been created\n",
    "print(\"Connection Established !! \")\n",
    "try:\n",
    "    query = 'SELECT name FROM books order by name asc;'\n",
    "    cur = con.cursor()\n",
    "    cur.execute(query)\n",
    "    for i in cur.fetchall():\n",
    "        print(i[0])\n",
    "    \n",
    "                \n",
    "    con.close()\n",
    "    \n",
    "except Exception as e:\n",
    "    print(e)"
   ]
  },
  {
   "cell_type": "markdown",
   "id": "997c1da7",
   "metadata": {},
   "source": [
    "7. From the book table, select and print all columns in the order of publication."
   ]
  },
  {
   "cell_type": "code",
   "execution_count": 8,
   "id": "7908c671",
   "metadata": {},
   "outputs": [
    {
     "name": "stdout",
     "output_type": "stream",
     "text": [
      "Connection Established !! \n",
      "The Weirdstone of Brisingamen , Alan Garner , 1960\n",
      "The Weirdstone of Brisingamen , Alan Garner , 1960\n",
      "The Weirdstone of Brisingamen , Alan Garner , 1960\n",
      "The Weirdstone of Brisingamen , Alan Garner , 1960\n",
      "Small Gods , Terry Pratchett , 1992\n",
      "Small Gods , Terry Pratchett , 1992\n",
      "Small Gods , Terry Pratchett , 1992\n",
      "Small Gods , Terry Pratchett , 1992\n",
      "Perdido Street Station , China Miéville , 2000\n",
      "Perdido Street Station , China Miéville , 2000\n",
      "Perdido Street Station , China Miéville , 2000\n",
      "Perdido Street Station , China Miéville , 2000\n",
      "Thud! , Terry Pratchett , 2005\n",
      "Thud! , Terry Pratchett , 2005\n",
      "Thud! , Terry Pratchett , 2005\n",
      "Thud! , Terry Pratchett , 2005\n",
      "The Spellman Files , Lisa Lutz , 2007\n",
      "The Spellman Files , Lisa Lutz , 2007\n",
      "The Spellman Files , Lisa Lutz , 2007\n",
      "The Spellman Files , Lisa Lutz , 2007\n"
     ]
    }
   ],
   "source": [
    "con = sqlite3.connect(\"books.db\")  # connection has been created\n",
    "print(\"Connection Established !! \")\n",
    "try:\n",
    "    query = 'SELECT * FROM books order by year ;'\n",
    "    cur = con.cursor()\n",
    "    cur.execute(query)\n",
    "    for i in cur.fetchall():\n",
    "        print(*i,sep=' , ')\n",
    "                \n",
    "    con.close()\n",
    "    \n",
    "except Exception as e:\n",
    "    print(e)"
   ]
  },
  {
   "cell_type": "markdown",
   "id": "59e14cf5",
   "metadata": {},
   "source": [
    "8. Use the sqlalchemy module to connect to the sqlite3 database books.db that you just made in\n",
    "exercise 6."
   ]
  },
  {
   "cell_type": "code",
   "execution_count": 9,
   "id": "b4624873",
   "metadata": {},
   "outputs": [
    {
     "name": "stdout",
     "output_type": "stream",
     "text": [
      "Perdido Street Station\n",
      "Perdido Street Station\n",
      "Perdido Street Station\n",
      "Perdido Street Station\n",
      "Small Gods\n",
      "Small Gods\n",
      "Small Gods\n",
      "Small Gods\n",
      "The Spellman Files\n",
      "The Spellman Files\n",
      "The Spellman Files\n",
      "The Spellman Files\n",
      "The Weirdstone of Brisingamen\n",
      "The Weirdstone of Brisingamen\n",
      "The Weirdstone of Brisingamen\n",
      "The Weirdstone of Brisingamen\n",
      "Thud!\n",
      "Thud!\n",
      "Thud!\n",
      "Thud!\n"
     ]
    }
   ],
   "source": [
    "import sqlalchemy\n",
    "conn = sqlalchemy.create_engine('sqlite:///books.db')\n",
    "query = 'select name from books order by name asc' \n",
    "for row in conn.execute(query):\n",
    "    print(row[0])\n"
   ]
  },
  {
   "cell_type": "markdown",
   "id": "84f54f80",
   "metadata": {},
   "source": [
    "9. Install the Redis server and the Python redis library (pip install redis) on your computer. Create a\n",
    "Redis hash called test with the fields count (1) and name (&#39;Fester Bestertester&#39;). Print all the fields for\n",
    "test."
   ]
  },
  {
   "cell_type": "code",
   "execution_count": 10,
   "id": "71c93a14",
   "metadata": {},
   "outputs": [
    {
     "name": "stdout",
     "output_type": "stream",
     "text": [
      "Requirement already satisfied: redis in /home/chinmay/anaconda3/lib/python3.8/site-packages (4.5.5)\n",
      "Requirement already satisfied: async-timeout>=4.0.2 in /home/chinmay/anaconda3/lib/python3.8/site-packages (from redis) (4.0.2)\n",
      "Note: you may need to restart the kernel to use updated packages.\n"
     ]
    }
   ],
   "source": [
    "pip install redis"
   ]
  },
  {
   "cell_type": "code",
   "execution_count": 11,
   "id": "196b6198",
   "metadata": {},
   "outputs": [
    {
     "name": "stderr",
     "output_type": "stream",
     "text": [
      "<ipython-input-11-c05998fbf204>:4: DeprecationWarning: Redis.hmset() is deprecated. Use Redis.hset() instead.\n",
      "  conn.hmset('test', {'count': 1, 'name': 'Fester Bestertester'})\n"
     ]
    },
    {
     "data": {
      "text/plain": [
       "{b'count': b'1', b'name': b'Fester Bestertester'}"
      ]
     },
     "execution_count": 11,
     "metadata": {},
     "output_type": "execute_result"
    }
   ],
   "source": [
    "import redis\n",
    "conn = redis.Redis()\n",
    "conn.delete('test')\n",
    "conn.hmset('test', {'count': 1, 'name': 'Fester Bestertester'})\n",
    "conn.hgetall('test')"
   ]
  },
  {
   "cell_type": "markdown",
   "id": "eca8adf4",
   "metadata": {},
   "source": [
    "10. Increment the count field of test and print it."
   ]
  },
  {
   "cell_type": "code",
   "execution_count": 12,
   "id": "0862a389",
   "metadata": {},
   "outputs": [
    {
     "data": {
      "text/plain": [
       "b'4'"
      ]
     },
     "execution_count": 12,
     "metadata": {},
     "output_type": "execute_result"
    }
   ],
   "source": [
    "conn.hincrby('test', 'count', 3)\n",
    "conn.hget('test', 'count')"
   ]
  },
  {
   "cell_type": "code",
   "execution_count": null,
   "id": "2dc44f2c",
   "metadata": {},
   "outputs": [],
   "source": []
  }
 ],
 "metadata": {
  "kernelspec": {
   "display_name": "Python 3",
   "language": "python",
   "name": "python3"
  },
  "language_info": {
   "codemirror_mode": {
    "name": "ipython",
    "version": 3
   },
   "file_extension": ".py",
   "mimetype": "text/x-python",
   "name": "python",
   "nbconvert_exporter": "python",
   "pygments_lexer": "ipython3",
   "version": "3.8.8"
  }
 },
 "nbformat": 4,
 "nbformat_minor": 5
}
