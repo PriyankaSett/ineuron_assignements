{
 "cells": [
  {
   "cell_type": "markdown",
   "id": "37ea6404",
   "metadata": {},
   "source": [
    "## Python Basics - Programming Assignment 10"
   ]
  },
  {
   "cell_type": "markdown",
   "id": "ea161bbd",
   "metadata": {},
   "source": [
    "1. Write a Python program to find sum of elements in list?"
   ]
  },
  {
   "cell_type": "code",
   "execution_count": 1,
   "id": "67de5062",
   "metadata": {},
   "outputs": [
    {
     "name": "stdout",
     "output_type": "stream",
     "text": [
      "Sum of list [49, 23, 75, 89, 100, 26, 78] is : 440\n"
     ]
    }
   ],
   "source": [
    "import numpy as np\n",
    "\n",
    "list1 = [49, 23, 75, 89, 100, 26, 78]\n",
    "\n",
    "print(f'Sum of list {list1} is : {sum(list1)}')"
   ]
  },
  {
   "cell_type": "markdown",
   "id": "4e7fdc12",
   "metadata": {},
   "source": [
    "2. Write a Python program to Multiply all numbers in the list?"
   ]
  },
  {
   "cell_type": "code",
   "execution_count": 2,
   "id": "f0a04872",
   "metadata": {},
   "outputs": [
    {
     "name": "stdout",
     "output_type": "stream",
     "text": [
      "Multiplying all the elements in the list [49, 23, 75, 89, 100, 26, 78]  : 1525608630000\n"
     ]
    }
   ],
   "source": [
    "list1 = [49, 23, 75, 89, 100, 26, 78]\n",
    "print(f'Multiplying all the elements in the list {list1}  : {np.prod(list1)}')"
   ]
  },
  {
   "cell_type": "markdown",
   "id": "2e1e9319",
   "metadata": {},
   "source": [
    "3. Write a Python program to find smallest number in a list?"
   ]
  },
  {
   "cell_type": "code",
   "execution_count": 3,
   "id": "bd884da4",
   "metadata": {},
   "outputs": [
    {
     "name": "stdout",
     "output_type": "stream",
     "text": [
      "Smallest number in the list [49, 23, 75, 89, 100, 26, 78] : 23\n"
     ]
    }
   ],
   "source": [
    "print(f'Smallest number in the list {list1} : {min(list1)}')"
   ]
  },
  {
   "cell_type": "markdown",
   "id": "1c060dca",
   "metadata": {},
   "source": [
    "4. Write a Python program to find largest number in a list?"
   ]
  },
  {
   "cell_type": "code",
   "execution_count": 4,
   "id": "f119f485",
   "metadata": {},
   "outputs": [
    {
     "name": "stdout",
     "output_type": "stream",
     "text": [
      "Largest number in the list [49, 23, 75, 89, 100, 26, 78] : 100\n"
     ]
    }
   ],
   "source": [
    "print(f'Largest number in the list {list1} : {max(list1)}')"
   ]
  },
  {
   "cell_type": "markdown",
   "id": "7b2c43fa",
   "metadata": {},
   "source": [
    "5. Write a Python program to find second largest number in a list?"
   ]
  },
  {
   "cell_type": "code",
   "execution_count": 5,
   "id": "09cbc80b",
   "metadata": {},
   "outputs": [
    {
     "name": "stdout",
     "output_type": "stream",
     "text": [
      "Second largest number in the list [49, 23, 75, 89, 100, 26, 78] : 89\n"
     ]
    }
   ],
   "source": [
    "list2 = list(sorted(list1))\n",
    "list2\n",
    "print(f'Second largest number in the list {list1} : {list2[-2]}')"
   ]
  },
  {
   "cell_type": "markdown",
   "id": "fabea86a",
   "metadata": {},
   "source": [
    "6. Write a Python program to find N largest elements from a list?"
   ]
  },
  {
   "cell_type": "code",
   "execution_count": 6,
   "id": "5c395271",
   "metadata": {},
   "outputs": [
    {
     "name": "stdout",
     "output_type": "stream",
     "text": [
      "Enter the number of largest elements required :5\n",
      "5 largest elements in list [34, 89, 67, 23, 45, 12, 90, 109, 65, 78] is : [109, 90, 89, 78, 67]\n"
     ]
    }
   ],
   "source": [
    "list3 = [34, 89, 67, 23, 45, 12, 90, 109, 65, 78]\n",
    "\n",
    "N = int(input('Enter the number of largest elements required :' ))\n",
    "\n",
    "list3_1 = sorted(list3, reverse=True)\n",
    "\n",
    "print(f'{N} largest elements in list {list3} is : {list3_1[:N]}')\n"
   ]
  },
  {
   "cell_type": "markdown",
   "id": "ce2e6835",
   "metadata": {},
   "source": [
    "7. Write a Python program to print even numbers in a list?"
   ]
  },
  {
   "cell_type": "code",
   "execution_count": 7,
   "id": "7848cf8f",
   "metadata": {},
   "outputs": [
    {
     "name": "stdout",
     "output_type": "stream",
     "text": [
      "Printing even elements in list [49, 23, 75, 89, 100, 26, 78] : [100, 26, 78]\n"
     ]
    }
   ],
   "source": [
    "leven = [ele for ele in list1 if ele%2 == 0]\n",
    "leven\n",
    "print(f'Printing even elements in list {list1} : {leven}')"
   ]
  },
  {
   "cell_type": "markdown",
   "id": "c4ac16f3",
   "metadata": {},
   "source": [
    "8. Write a Python program to print odd numbers in a List?"
   ]
  },
  {
   "cell_type": "code",
   "execution_count": 8,
   "id": "c76e0f7a",
   "metadata": {},
   "outputs": [
    {
     "name": "stdout",
     "output_type": "stream",
     "text": [
      "Printing even elements in list [49, 23, 75, 89, 100, 26, 78] : [49, 23, 75, 89]\n"
     ]
    }
   ],
   "source": [
    "lodd = [ele for ele in list1 if ele%2 != 0]\n",
    "lodd\n",
    "print(f'Printing even elements in list {list1} : {lodd}')"
   ]
  },
  {
   "cell_type": "markdown",
   "id": "5323ca7c",
   "metadata": {},
   "source": [
    "9. Write a Python program to Remove empty List from List?"
   ]
  },
  {
   "cell_type": "code",
   "execution_count": 9,
   "id": "11f56d4d",
   "metadata": {},
   "outputs": [
    {
     "name": "stdout",
     "output_type": "stream",
     "text": [
      "List with empty list : [4, 6, 7, [], 8, 9, 1, [], 4, 3, []]\n",
      "List after removing empty list : [4, 6, 7, 8, 9, 1, 4, 3]\n"
     ]
    }
   ],
   "source": [
    "list_with_emptylist = [4, 6, 7, [], 8, 9, 1, [], 4, 3, []]\n",
    "\n",
    "list_wo_emptylist = [ele for ele in list_with_emptylist if ele!=[]]\n",
    "\n",
    "print(f'List with empty list : {list_with_emptylist}')\n",
    "print(f'List after removing empty list : {list_wo_emptylist}')"
   ]
  },
  {
   "cell_type": "markdown",
   "id": "e92cd2aa",
   "metadata": {},
   "source": [
    "10. Write a Python program to Cloning or Copying a list?"
   ]
  },
  {
   "cell_type": "code",
   "execution_count": 10,
   "id": "48366069",
   "metadata": {},
   "outputs": [
    {
     "name": "stdout",
     "output_type": "stream",
     "text": [
      "Original List : [49, 23, 75, 89, 100, 26, 78]\n",
      "Copied list : [49, 23, 75, 89, 100, 26, 78]\n"
     ]
    }
   ],
   "source": [
    "print(f'Original List : {list1}')\n",
    "list_copy = list1.copy()\n",
    "print(f'Copied list : {list_copy}')"
   ]
  },
  {
   "cell_type": "markdown",
   "id": "30d87714",
   "metadata": {},
   "source": [
    "11. Write a Python program to Count occurrences of an element in a list?"
   ]
  },
  {
   "cell_type": "code",
   "execution_count": 11,
   "id": "8449da89",
   "metadata": {},
   "outputs": [
    {
     "name": "stdout",
     "output_type": "stream",
     "text": [
      "The list is : [1, 2, 4, 5, 6, 1, 5, 1, 3, 4, 7, 1, 3, 5, 6, 8]\n",
      "Find the no of occurances for : 3\n",
      "The number 3 occur 2 times in the list [1, 2, 4, 5, 6, 1, 5, 1, 3, 4, 7, 1, 3, 5, 6, 8].\n"
     ]
    }
   ],
   "source": [
    "lcount = [1,2,4,5,6,1,5,1,3,4,7,1,3,5,6,8]\n",
    "\n",
    "print(f'The list is : {lcount}')\n",
    "num_occur = int(input('Find the no of occurances for : '))\n",
    "\n",
    "print(f'The number {num_occur} occur {lcount.count(num_occur)} times in the list {lcount}.')"
   ]
  },
  {
   "cell_type": "code",
   "execution_count": null,
   "id": "4175d270",
   "metadata": {},
   "outputs": [],
   "source": []
  }
 ],
 "metadata": {
  "kernelspec": {
   "display_name": "Python 3",
   "language": "python",
   "name": "python3"
  },
  "language_info": {
   "codemirror_mode": {
    "name": "ipython",
    "version": 3
   },
   "file_extension": ".py",
   "mimetype": "text/x-python",
   "name": "python",
   "nbconvert_exporter": "python",
   "pygments_lexer": "ipython3",
   "version": "3.8.8"
  }
 },
 "nbformat": 4,
 "nbformat_minor": 5
}
