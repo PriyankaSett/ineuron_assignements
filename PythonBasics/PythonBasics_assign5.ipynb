{
 "cells": [
  {
   "cell_type": "markdown",
   "id": "c37795ee",
   "metadata": {},
   "source": [
    "## Python Basics - Assignment 5"
   ]
  },
  {
   "cell_type": "markdown",
   "id": "7842dbc9",
   "metadata": {},
   "source": [
    "1. What does an empty dictionary's code look like?\n",
    "\n",
    "- Ans : empty dictionary's code look like : {}"
   ]
  },
  {
   "cell_type": "markdown",
   "id": "32ac7fd4",
   "metadata": {},
   "source": [
    "2. What is the value of a dictionary value with the key 'foo'; and the value 42?\n",
    "\n",
    "- Ans : dict1 = {'foo' : 42}"
   ]
  },
  {
   "cell_type": "markdown",
   "id": "813e9856",
   "metadata": {},
   "source": [
    "3. What is the most significant distinction between a dictionary and a list?\n",
    "\n",
    "- Ans : List have only values. It may be integer, float, string, list, tuple etc. \n",
    "Dictionaries have key, value pair. This used to store data values like map. "
   ]
  },
  {
   "cell_type": "markdown",
   "id": "117a3c8c",
   "metadata": {},
   "source": [
    "4. What happens if you try to access spam['foo'] if spam is {'bar': 100}?\n",
    "                                          \n",
    "- Ans : This will give KeyError as spam does not have any key 'foo'.                                            "
   ]
  },
  {
   "cell_type": "code",
   "execution_count": 2,
   "id": "2b85745e",
   "metadata": {},
   "outputs": [
    {
     "ename": "KeyError",
     "evalue": "'foo'",
     "output_type": "error",
     "traceback": [
      "\u001b[0;31m---------------------------------------------------------------------------\u001b[0m",
      "\u001b[0;31mKeyError\u001b[0m                                  Traceback (most recent call last)",
      "\u001b[0;32m<ipython-input-2-cea1cd791e68>\u001b[0m in \u001b[0;36m<module>\u001b[0;34m\u001b[0m\n\u001b[1;32m      1\u001b[0m \u001b[0mspam\u001b[0m \u001b[0;34m=\u001b[0m \u001b[0;34m{\u001b[0m\u001b[0;34m'bar'\u001b[0m\u001b[0;34m:\u001b[0m\u001b[0;36m100\u001b[0m\u001b[0;34m}\u001b[0m\u001b[0;34m\u001b[0m\u001b[0;34m\u001b[0m\u001b[0m\n\u001b[0;32m----> 2\u001b[0;31m \u001b[0mspam\u001b[0m\u001b[0;34m[\u001b[0m\u001b[0;34m'foo'\u001b[0m\u001b[0;34m]\u001b[0m\u001b[0;34m\u001b[0m\u001b[0;34m\u001b[0m\u001b[0m\n\u001b[0m",
      "\u001b[0;31mKeyError\u001b[0m: 'foo'"
     ]
    }
   ],
   "source": [
    "spam = {'bar':100}\n",
    "spam['foo']"
   ]
  },
  {
   "cell_type": "markdown",
   "id": "b064cbcb",
   "metadata": {},
   "source": [
    "5. If a dictionary is stored in spam, what is the \n",
    "difference between the expressions 'cat' in spam and\n",
    "'cat' in spam.keys()?\n",
    "\n",
    "- Ans : This has no difference. In both the cases the 'in' operator checks if the value is there\n",
    "in the dictionary."
   ]
  },
  {
   "cell_type": "markdown",
   "id": "c0a4babb",
   "metadata": {},
   "source": [
    "6. If a dictionary is stored in spam, what is the difference \n",
    "between the expressions 'cat' in spam and\n",
    "'cat' in spam.values()?\n",
    "\n",
    "- Ans : In case: 'cat' in spam will give True if 'cat' is in the key value. \n",
    "In case : 'cat' in spam.values() it will check if 'cat' is present as key.values() in the given dictionary. In the second case it will give False. "
   ]
  },
  {
   "cell_type": "markdown",
   "id": "779168a2",
   "metadata": {},
   "source": [
    "7. What is a shortcut for the following code ?  \n",
    "\n",
    "if 'color' not in spam :  \n",
    "    spam['color'] = 'black'  \n",
    "    \n",
    "- Ans :    "
   ]
  },
  {
   "cell_type": "code",
   "execution_count": 12,
   "id": "0ddf156b",
   "metadata": {},
   "outputs": [
    {
     "data": {
      "text/plain": [
       "'black'"
      ]
     },
     "execution_count": 12,
     "metadata": {},
     "output_type": "execute_result"
    }
   ],
   "source": [
    "spam.setdefault('color', 'black')\n"
   ]
  },
  {
   "cell_type": "markdown",
   "id": "ced215a5",
   "metadata": {},
   "source": [
    "8. How do you \"pretty print\" dictionary values using module and\n",
    "which module ?\n",
    "\n",
    "- Ans : One can import pprint. Example given below"
   ]
  },
  {
   "cell_type": "code",
   "execution_count": 21,
   "id": "2d4a018f",
   "metadata": {},
   "outputs": [
    {
     "name": "stdout",
     "output_type": "stream",
     "text": [
      "{'foods': {'dislikes': ['ham', 'zucchini'], 'likes': ['tuna', 'catnip']},\n",
      " 'name': 'Meowsy',\n",
      " 'species': 'cat'}\n"
     ]
    }
   ],
   "source": [
    "import pprint\n",
    "\n",
    "sampl_dict = {\"name\": \"Meowsy\", \"species\" : \"cat\", \"foods\": {\"likes\": [\"tuna\", \"catnip\"], \"dislikes\": [\"ham\", \"zucchini\"]}}\n",
    "\n",
    "pp = pprint.PrettyPrinter()\n",
    "\n",
    "pp.pprint(sampl_dict)\n",
    "#sampl_dict\n"
   ]
  },
  {
   "cell_type": "code",
   "execution_count": 22,
   "id": "1ceb4a09",
   "metadata": {},
   "outputs": [
    {
     "data": {
      "text/plain": [
       "{'name': 'Meowsy',\n",
       " 'species': 'cat',\n",
       " 'foods': {'likes': ['tuna', 'catnip'], 'dislikes': ['ham', 'zucchini']}}"
      ]
     },
     "execution_count": 22,
     "metadata": {},
     "output_type": "execute_result"
    }
   ],
   "source": [
    "sampl_dict"
   ]
  },
  {
   "cell_type": "code",
   "execution_count": 23,
   "id": "629dc517",
   "metadata": {},
   "outputs": [
    {
     "data": {
      "text/plain": [
       "{1: {'name': 'John', 'age': '27', 'sex': 'Male'},\n",
       " 2: {'name': 'Marie', 'age': '22', 'sex': 'Female'}}"
      ]
     },
     "execution_count": 23,
     "metadata": {},
     "output_type": "execute_result"
    }
   ],
   "source": [
    "people = {1: {'name': 'John', 'age': '27', 'sex': 'Male'},\n",
    "          2: {'name': 'Marie', 'age': '22', 'sex': 'Female'}}\n",
    "people"
   ]
  },
  {
   "cell_type": "code",
   "execution_count": 24,
   "id": "64253c2f",
   "metadata": {},
   "outputs": [
    {
     "name": "stdout",
     "output_type": "stream",
     "text": [
      "{1: {'age': '27', 'name': 'John', 'sex': 'Male'},\n",
      " 2: {'age': '22', 'name': 'Marie', 'sex': 'Female'}}\n"
     ]
    }
   ],
   "source": [
    "pp.pprint(people)"
   ]
  },
  {
   "cell_type": "code",
   "execution_count": null,
   "id": "74c09248",
   "metadata": {},
   "outputs": [],
   "source": []
  }
 ],
 "metadata": {
  "kernelspec": {
   "display_name": "Python 3",
   "language": "python",
   "name": "python3"
  },
  "language_info": {
   "codemirror_mode": {
    "name": "ipython",
    "version": 3
   },
   "file_extension": ".py",
   "mimetype": "text/x-python",
   "name": "python",
   "nbconvert_exporter": "python",
   "pygments_lexer": "ipython3",
   "version": "3.8.8"
  }
 },
 "nbformat": 4,
 "nbformat_minor": 5
}
