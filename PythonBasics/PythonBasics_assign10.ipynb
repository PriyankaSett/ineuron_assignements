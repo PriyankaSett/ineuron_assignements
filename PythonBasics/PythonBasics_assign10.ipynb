{
 "cells": [
  {
   "cell_type": "markdown",
   "id": "04a933c6",
   "metadata": {},
   "source": [
    "## Python Basics - Assignment 10"
   ]
  },
  {
   "cell_type": "markdown",
   "id": "a7b5e8ff",
   "metadata": {},
   "source": [
    "1. How do you distinguish between shutil.copy() and shutil.copytree()?\n",
    "\n",
    "- Ans : `shutil.copy()` method is used to copy the contents of a file from one file to another file/folder. It primarily takes two arguments `src` and `dest`. `src` represents the file to be copied where as `dest` refers to the file/folder to where the `src` data should be copied. If `dest` is a folder name the `src` with exact name will be copied to the `dest` folder whereas if its a file then the contents of `src` will be copied to `dest` where `dest` retains it name.\n",
    "\n",
    "`shutil.copytree()` function is used to copy the entire contents of a folder to other folder. It also takes two arguments `src` & `dest`. It copies all the content recursively and stores it in `dest`. The important point to note here is that `dest` must not exist prior to this and it will be created during the copy operation. Permissions and times of directories are copied with `shutil.copystat()` and individual files are copied using `shutil.copy2()` by default which can be modified using `copy_function` attribute."
   ]
  },
  {
   "cell_type": "markdown",
   "id": "fde54e93",
   "metadata": {},
   "source": [
    "2. What function is used to rename files?? \n",
    "\n",
    "- Ans : `os.rename()` function is used to rename files or directories using a python program. this function takes two arguments `src` and `dest`. `src` represents the name file/directory which we want to rename, whereas `dest` represents the new name of the file/directory."
   ]
  },
  {
   "cell_type": "markdown",
   "id": "f49c6e10",
   "metadata": {},
   "source": [
    "3. What is the difference between the delete functions in the send2trash and shutil modules? \n",
    "\n",
    "- Ans : `Shutil` module provides a funciton called as `shutil.rmtree()` which deletes a directory and all of its contents. The other functions with similar functionality are `os.remove()` which removes a file. `os.rmdir()` removes a empty directory. The problem with these functions is once a file is deleted. it will be lost permanently and if a file is deleted accidentally using these methods there is no way we can recover the deleted file.\n",
    "\n",
    "  Where as `send2trash` module provides a function called `send2trash.send2trash()` to delete a file/directory. These methods moves the files/directories to trash folder instead of permanently deleting them. Hence if a file/folder is deleted accidentally using the `send2trash.send2trash()` it can be still recovered from trash folder. `send2trash` is not included with python standard libary like os & shutil modules. So, it needs to be installed explicitly using the command `!pip install send2trash`."
   ]
  },
  {
   "cell_type": "markdown",
   "id": "8b52deae",
   "metadata": {},
   "source": [
    "4. ZipFile objects have a close() method just like File objects’ close() method. What ZipFile method is\n",
    "equivalent to File objects’ open() method?\n",
    "\n",
    "- Ans : ZipFile Module provides a method called as `zipfile.ZipFile()` to read and write to zipFiles. it takes arugments such as filename and mode etc `zipfile.ZipFile('filename', mode = 'r')`.\n"
   ]
  },
  {
   "cell_type": "markdown",
   "id": "ab1c18b4",
   "metadata": {},
   "source": [
    "5. Create a programme that searches a folder tree for files with a certain file extension (such as .pdf\n",
    "or .jpg). Copy these files from whatever location they are in to a new folder. \n",
    "\n",
    "- Ans : "
   ]
  },
  {
   "cell_type": "code",
   "execution_count": 1,
   "id": "441de6f6",
   "metadata": {},
   "outputs": [
    {
     "name": "stdout",
     "output_type": "stream",
     "text": [
      "/home/chinmay/priyanka/ineuron/ineuron_assignemnts/Python_basic\n",
      "/home/chinmay/priyanka/ineuron/ineuron_assignemnts/Python_basic/copiedfile\n",
      "/home/chinmay/priyanka/ineuron/ineuron_assignemnts/Python_basic/copiedfile\n",
      "Looking in /home/chinmay/priyanka/ineuron/ineuron_assignemnts/Python_basic for files with extensions of pdf, py\n",
      "Coping /home/chinmay/priyanka/ineuron/ineuron_assignemnts/Python_basic/machine_learning_tutorial.pdf to /home/chinmay/priyanka/ineuron/ineuron_assignemnts/Python_basic/copiedfile\n",
      "Coping /home/chinmay/priyanka/ineuron/ineuron_assignemnts/Python_basic/zoo.py to /home/chinmay/priyanka/ineuron/ineuron_assignemnts/Python_basic/copiedfile\n"
     ]
    }
   ],
   "source": [
    "import os, shutil\n",
    "import glob\n",
    "\n",
    "def selectiveCopy(folder, extensions, destFolder):\n",
    "    folder = os.path.abspath(folder)\n",
    "    newfolder_path = os.path.join(folder, destFolder)\n",
    "    newfolder = os.makedirs(newfolder_path, exist_ok=True)\n",
    "    destFolder = os.path.abspath(newfolder_path)\n",
    "    print('Looking in', folder, 'for files with extensions of', ', '.join(extensions))\n",
    "    \n",
    "    flist = list()\n",
    "    \n",
    "    for filenames in glob.glob(folder + '/*'):\n",
    "        flist.append(filenames)\n",
    "        \n",
    "    for filename in flist:\n",
    "        extension = filename.split('/')[-1].split('.')[-1]\n",
    "        if extension in extensions:\n",
    "            fileAbsPath = filename\n",
    "            print('Coping', fileAbsPath, 'to', destFolder)\n",
    "            shutil.copy(fileAbsPath, destFolder)\n",
    "        else :\n",
    "            continue\n",
    "\n",
    "extensions = ['pdf', 'py']\n",
    "folder = os.getcwd()\n",
    "destFolder = 'copiedfile'\n",
    "selectiveCopy(folder, extensions, destFolder)"
   ]
  },
  {
   "cell_type": "code",
   "execution_count": 2,
   "id": "55eada37",
   "metadata": {},
   "outputs": [
    {
     "name": "stdout",
     "output_type": "stream",
     "text": [
      "copiedfile/machine_learning_tutorial.pdf\n",
      "copiedfile/zoo.py\n"
     ]
    }
   ],
   "source": [
    "for files in glob.glob('copiedfile/*'):\n",
    "    print(files)"
   ]
  },
  {
   "cell_type": "code",
   "execution_count": null,
   "id": "e1e79124",
   "metadata": {},
   "outputs": [],
   "source": []
  }
 ],
 "metadata": {
  "kernelspec": {
   "display_name": "Python 3",
   "language": "python",
   "name": "python3"
  },
  "language_info": {
   "codemirror_mode": {
    "name": "ipython",
    "version": 3
   },
   "file_extension": ".py",
   "mimetype": "text/x-python",
   "name": "python",
   "nbconvert_exporter": "python",
   "pygments_lexer": "ipython3",
   "version": "3.8.8"
  }
 },
 "nbformat": 4,
 "nbformat_minor": 5
}
