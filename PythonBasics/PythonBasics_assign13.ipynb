{
 "cells": [
  {
   "cell_type": "markdown",
   "id": "7e5b8e9c",
   "metadata": {},
   "source": [
    "## Python Basics - Assignment 13"
   ]
  },
  {
   "cell_type": "markdown",
   "id": "91dc52a7",
   "metadata": {},
   "source": [
    "1. What advantages do Excel spreadsheets have over CSV spreadsheets?\n",
    "\n",
    "- Ans : Excel sheets have : \n",
    "    - types for their values—everything is a string.\n",
    "    - settings for font size or color.\n",
    "    - multiple worksheets.\n",
    "    - They can specify cell widths and heights.\n",
    "    - They can have merged cells.\n",
    "    - They can have images or charts embedded in them."
   ]
  },
  {
   "cell_type": "markdown",
   "id": "799afccc",
   "metadata": {},
   "source": [
    "2.What do you pass to csv.reader() and csv.writer() to create reader and writer objects?\n",
    "\n",
    "- Ans : To write a CSV file with the csv module, First, `call open()` and pass it `'w'` to open a file in write mode, and it create a object .That object pass in `csv.writer()`\n",
    "\n",
    "`write_file = open('filename.csv','w')`  \n",
    "`Writer = csv.writer(write_file)`  \n",
    "\n",
    "To read a CSV file with the csv module, first open it using the `open()` function and it create a object .That object pass in `csv.reader()`\n",
    "\n",
    "`read_file = open('filename.csv')`  \n",
    "`Reader = csv.reader(read_file)`"
   ]
  },
  {
   "cell_type": "markdown",
   "id": "f90247bf",
   "metadata": {},
   "source": [
    "3. What modes do File objects for reader and writer objects need to be opened in?\n",
    "\n",
    "- Ans : For `csv.reader(iterable_file_object)`, the file objects needed to be opened in read mode `mode='r'` Whereas for `csv.writer(iterable_file_object)` the file objects needed to be opened in write mode `mode='w'`."
   ]
  },
  {
   "cell_type": "markdown",
   "id": "5556353c",
   "metadata": {},
   "source": [
    "4. What method takes a list argument and writes it to a CSV file?\n",
    "\n",
    "- Ans : The `writerow()` method : \n",
    "\n",
    "    `write_file = open('filename.csv','w')  \n",
    "    Writer = csv.writer(write_file)  \n",
    "    Writer.writerow(['hello', 'hi', 'Hello'])`"
   ]
  },
  {
   "cell_type": "markdown",
   "id": "4a01f5ee",
   "metadata": {},
   "source": [
    "5. What do the keyword arguments delimiter and line terminator do?\n",
    "\n",
    "- Ans : Lets take the example of a csv file:\n",
    "\n",
    "Item, Price, Quanity  \n",
    "Carrot, 26, 1 kg   \n",
    "Peas, 30, 1 kg   \n",
    "Here ',' is Delimiter. We can use any Character as per our needs if required. Similarly Line Terminator comes at end of line by default it is newline and can be changed accourding to Requirement."
   ]
  },
  {
   "cell_type": "markdown",
   "id": "21a6de45",
   "metadata": {},
   "source": [
    "6. What function takes a string of JSON data and returns a Python data structure?\n",
    "\n",
    "- Ans : json.loads() method takes a string of JSON data and returns a Python data structure\n"
   ]
  },
  {
   "cell_type": "markdown",
   "id": "1082aa32",
   "metadata": {},
   "source": [
    "7. What function takes a Python data structure and returns a string of JSON data?\n",
    "\n",
    "- Ans : json.dumps() method takes a python data structure and returns a string of JSON data. "
   ]
  },
  {
   "cell_type": "code",
   "execution_count": null,
   "id": "6750063b",
   "metadata": {},
   "outputs": [],
   "source": []
  }
 ],
 "metadata": {
  "kernelspec": {
   "display_name": "Python 3",
   "language": "python",
   "name": "python3"
  },
  "language_info": {
   "codemirror_mode": {
    "name": "ipython",
    "version": 3
   },
   "file_extension": ".py",
   "mimetype": "text/x-python",
   "name": "python",
   "nbconvert_exporter": "python",
   "pygments_lexer": "ipython3",
   "version": "3.8.8"
  }
 },
 "nbformat": 4,
 "nbformat_minor": 5
}
