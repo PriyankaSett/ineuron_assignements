{
 "cells": [
  {
   "cell_type": "markdown",
   "id": "0c9d918d",
   "metadata": {},
   "source": [
    "## Python Basics - Assignment 6"
   ]
  },
  {
   "cell_type": "markdown",
   "id": "20ee0ce6",
   "metadata": {},
   "source": [
    "1. What are escape characters and how do you use them?\n",
    "\n",
    "- Ans : Escape characters are those which have non-literal interpretation when used inside a string. \n",
    "Example : \\n, \\t, \\', \\\", \\\\ and many more. Let us take an example : "
   ]
  },
  {
   "cell_type": "code",
   "execution_count": 13,
   "id": "13ba5cde",
   "metadata": {},
   "outputs": [
    {
     "name": "stdout",
     "output_type": "stream",
     "text": [
      "Hi. \t hello\n",
      "Hi \n",
      " hello\n",
      "Hi \\m hello\n"
     ]
    }
   ],
   "source": [
    "print('Hi. \\t hello') # \\t is escape character which is interpreted to allow tab space\n",
    "print('Hi \\n hello') # \\n is an escape character which is interpreted as new line.\n",
    "print('Hi \\m hello') # \\m do not have any relevant meaning, hence is not an escape character"
   ]
  },
  {
   "cell_type": "markdown",
   "id": "07a247ab",
   "metadata": {},
   "source": [
    "2. What do the escape characters n and t stand for ?\n",
    "\n",
    "- Ans : \\n is for newline, \\t is for tab"
   ]
  },
  {
   "cell_type": "markdown",
   "id": "819fd778",
   "metadata": {},
   "source": [
    "3. What is the way to include the backslash characters in a string ?\n",
    "\n",
    "- Ans : backslash -> \\\\"
   ]
  },
  {
   "cell_type": "markdown",
   "id": "bf9f1650",
   "metadata": {},
   "source": [
    "4. The string \"Howl's Moving Castle\" is a correct value. \n",
    "Why isn't the single quote character in the word Howl's \n",
    "not escaped a problem ?\n",
    "\n",
    "- Ans :As ' is inside \" \" quotes. "
   ]
  },
  {
   "cell_type": "markdown",
   "id": "996dfd04",
   "metadata": {},
   "source": [
    "5. How do you write a string of newslines if you don't \n",
    "want to use the n character ?\n",
    "\n",
    "- Ans : Using multiline strings. "
   ]
  },
  {
   "cell_type": "code",
   "execution_count": 4,
   "id": "efe97282",
   "metadata": {},
   "outputs": [
    {
     "name": "stdout",
     "output_type": "stream",
     "text": [
      "\n",
      "hello. \n",
      "world.\n",
      "I am fine.\n",
      "\n"
     ]
    }
   ],
   "source": [
    "print(\"\"\"\n",
    "hello. \n",
    "world.\n",
    "I am fine.\n",
    "\"\"\")"
   ]
  },
  {
   "cell_type": "markdown",
   "id": "d8e6c129",
   "metadata": {},
   "source": [
    "6. What are the values of the given expressions ?   \n",
    "'Hello, world!'[1]  \n",
    "'Hello, world!'[0:5]  \n",
    "'Hello, world!'[:5]  \n",
    "'Hello, world'[3:]    \n",
    "\n",
    "- Ans : \n",
    "- 'Hello, world!'[1]  -> 'e'\n",
    "- 'Hello, world!'[0:5]  -> 'Hello'\n",
    "- 'Hello, world!'[:5]  -> 'Hello'\n",
    "- 'Hello, world'[3:] -> 'lo, world!'\n",
    "    "
   ]
  },
  {
   "cell_type": "markdown",
   "id": "a0b18bdf",
   "metadata": {},
   "source": [
    "7. What are the values of the following expressions ?  \n",
    "'Hello'. upper()  \n",
    "'Hello'.upper().islower()  \n",
    "'Hello'.upper().lower() \n",
    "\n",
    "- Ans : \n",
    "- 'Hello'. upper()  -> 'HELLO'\n",
    "- 'Hello'.upper().islower()  -> False\n",
    "- 'Hello'.upper().lower() -> 'hello'\n"
   ]
  },
  {
   "cell_type": "markdown",
   "id": "ab63b77e",
   "metadata": {},
   "source": [
    "8. What are the values of the following expressions ?  \n",
    "'Remember, remember, fifth of July.'.split() \n",
    "'-'.join('There can only one.'.split())  \n",
    "\n",
    "- Ans : \n",
    "- 'Remember, remember, fifth of July.'.split() -> ['Remember,', 'remember,', 'fifth', 'of', 'July.']\n",
    "- '-'.join('There can only one.'.split()) -> 'There-can-only-one.'"
   ]
  },
  {
   "cell_type": "markdown",
   "id": "03c8e725",
   "metadata": {},
   "source": [
    "9. What are the methods for right-justifying, \n",
    "left-justifying and \n",
    "centering a string ? \n",
    "\n",
    "- Ans : \n",
    "- right-justifying -> rjust()\n",
    "- left-justifying -> ljust()\n",
    "- centering -> center()"
   ]
  },
  {
   "cell_type": "markdown",
   "id": "427cb821",
   "metadata": {},
   "source": [
    "10. What is the best way to remove whitespace \n",
    "characters from the start or end ?\n",
    "\n",
    "- Ans : \n",
    "- from start -> lstrip()\n",
    "- from end -> rstrip()\n"
   ]
  },
  {
   "cell_type": "code",
   "execution_count": null,
   "id": "99d83d02",
   "metadata": {},
   "outputs": [],
   "source": []
  }
 ],
 "metadata": {
  "kernelspec": {
   "display_name": "Python 3",
   "language": "python",
   "name": "python3"
  },
  "language_info": {
   "codemirror_mode": {
    "name": "ipython",
    "version": 3
   },
   "file_extension": ".py",
   "mimetype": "text/x-python",
   "name": "python",
   "nbconvert_exporter": "python",
   "pygments_lexer": "ipython3",
   "version": "3.8.8"
  }
 },
 "nbformat": 4,
 "nbformat_minor": 5
}
