{
 "cells": [
  {
   "cell_type": "markdown",
   "id": "37491665",
   "metadata": {},
   "source": [
    "## Python Basics - Assignment 20"
   ]
  },
  {
   "cell_type": "markdown",
   "id": "abb52bf4",
   "metadata": {},
   "source": [
    "Question1  \n",
    "Create a function that takes a list of strings and integers, and filters out the list so that it\n",
    "returns a list of integers only.  \n",
    "Examples  \n",
    "filter_list([1, 2, 3, &quot;a&quot;, &quot;b&quot;, 4]) ➞ [1, 2, 3, 4]  \n",
    "filter_list([&quot;A&quot;, 0, &quot;Edabit&quot;, 1729, &quot;Python&quot;, &quot;1729&quot;]) ➞ [0, 1729]  \n",
    "filter_list([&quot;Nothing&quot;, &quot;here&quot;]) ➞ []  "
   ]
  },
  {
   "cell_type": "code",
   "execution_count": 1,
   "id": "8addf5fd",
   "metadata": {},
   "outputs": [
    {
     "name": "stdout",
     "output_type": "stream",
     "text": [
      "List after removing string ['A', 0, 'Edabit', 1729, 'Python', '1729'] is : [0, 1729]\n",
      "List after removing string ['Nothing', 'here'] is : []\n"
     ]
    }
   ],
   "source": [
    "def filter_integers(inlist) :\n",
    "    \"\"\"\n",
    "    This function filter strings in a given list\n",
    "    \n",
    "    \"\"\"\n",
    "    list2 = list()\n",
    "    for ele in inlist: \n",
    "        #print(ele)\n",
    "        if type(ele) == int :\n",
    "            #print(ele)\n",
    "            list2.append(ele)\n",
    "    return list2\n",
    "\n",
    "\n",
    "\n",
    "list1 = [\"A\", 0, \"Edabit\", 1729, \"Python\", \"1729\"]\n",
    "print(f'List after removing string {list1} is : {filter_integers(list1)}') \n",
    "\n",
    "list2 = [\"Nothing\", \"here\"]\n",
    "print(f'List after removing string {list2} is : {filter_integers(list2)}') \n",
    "   "
   ]
  },
  {
   "cell_type": "markdown",
   "id": "806880f3",
   "metadata": {},
   "source": [
    "\n",
    "Question2  \n",
    "Given a list of numbers, create a function which returns the list but with each element&#39;s\n",
    "index in the list added to itself. This means you add 0 to the number at index 0, add 1 to the\n",
    "number at index 1, etc...  \n",
    "Examples  \n",
    "add_indexes([0, 0, 0, 0, 0]) ➞ [0, 1, 2, 3, 4]  \n",
    "add_indexes([1, 2, 3, 4, 5]) ➞ [1, 3, 5, 7, 9]  \n",
    "add_indexes([5, 4, 3, 2, 1]) ➞ [5, 5, 5, 5, 5]  \n"
   ]
  },
  {
   "cell_type": "code",
   "execution_count": 2,
   "id": "b845d9bf",
   "metadata": {},
   "outputs": [
    {
     "name": "stdout",
     "output_type": "stream",
     "text": [
      "Output : [1, 3, 5, 7, 9]\n"
     ]
    }
   ],
   "source": [
    "def add_indexes(list1): \n",
    "    \"\"\"\n",
    "    This function returns the list but with each element's index in the list added to itself. \n",
    "    Examples\n",
    "    add_indexes([0, 0, 0, 0, 0]) ➞ [0, 1, 2, 3, 4]\n",
    "    add_indexes([1, 2, 3, 4, 5]) ➞ [1, 3, 5, 7, 9]\n",
    "    \"\"\"\n",
    "    \n",
    "    list2 = list()\n",
    "    for i in range(0, len(list1)) : \n",
    "        list2.append(i+list1[i])\n",
    "    \n",
    "    return list2\n",
    "    \n",
    "    \n",
    "    \n",
    "ll = [1,2,3,4,5]    \n",
    "print(f'Output : {add_indexes(ll)}')    "
   ]
  },
  {
   "cell_type": "markdown",
   "id": "cf592d01",
   "metadata": {},
   "source": [
    "\n",
    "Question3\n",
    "Create a function that takes the height and radius of a cone as arguments and returns the\n",
    "volume of the cone rounded to the nearest hundredth. See the resources tab for the formula.  \n",
    "\n",
    "Examples  \n",
    "cone_volume(3, 2) ➞ 12.57  \n",
    "\n",
    "cone_volume(15, 6) ➞ 565.49  \n",
    "cone_volume(18, 0) ➞ 0  \n"
   ]
  },
  {
   "cell_type": "code",
   "execution_count": 3,
   "id": "197427fd",
   "metadata": {},
   "outputs": [
    {
     "name": "stdout",
     "output_type": "stream",
     "text": [
      "Finding the volume of cone. \n",
      "Enter the height : 3\n",
      "Enter the radius : 2\n",
      "Volume of cone with radius 2.0 and height 3.0 : 12.56 cm^3\n"
     ]
    }
   ],
   "source": [
    "def cone_volume(h,r) :\n",
    "    \n",
    "    \"\"\"\n",
    "    This function return the volume of a cone. \n",
    "    r = radius, h = height\n",
    "    \"\"\"\n",
    "    vol = 3.14 *r * r * h/3\n",
    "    return vol\n",
    "    \n",
    "print('Finding the volume of cone. ')    \n",
    "h = float(input('Enter the height : '))\n",
    "r = float(input('Enter the radius : '))\n",
    "volume = cone_volume(r,h)\n",
    "print(f'Volume of cone with radius {r} and height {h} : {cone_volume(h,r)} cm^3')\n",
    "    "
   ]
  },
  {
   "cell_type": "markdown",
   "id": "a6430654",
   "metadata": {},
   "source": [
    "\n",
    "Question4  \n",
    "This Triangular Number Sequence is generated from a pattern of dots that form a triangle.\n",
    "The first 5 numbers of the sequence, or dots, are:  \n",
    "1, 3, 6, 10, 15  \n",
    "This means that the first triangle has just one dot, the second one has three dots, the third one\n",
    "has 6 dots and so on.  \n",
    "Write a function that gives the number of dots with its corresponding triangle number of the\n",
    "sequence.  \n",
    "Examples  \n",
    "triangle(1) ➞ 1  \n",
    "triangle(6) ➞ 21  \n",
    "triangle(215) ➞ 23220  \n"
   ]
  },
  {
   "cell_type": "code",
   "execution_count": 4,
   "id": "7661fe86",
   "metadata": {},
   "outputs": [
    {
     "name": "stdout",
     "output_type": "stream",
     "text": [
      "Enter the number : 6\n",
      "The triangular number corresponding to 6 is : 21.0\n"
     ]
    }
   ],
   "source": [
    "def triangular_number_sequence(n) :\n",
    "    \"\"\"\n",
    "    This function generates no of dots/traingular sequence for a given number n. \n",
    "    \n",
    "    \"\"\"\n",
    "    \n",
    "    s_n = n*(n+1)/2\n",
    "    return s_n\n",
    "    \n",
    "    \n",
    "tn = int(input('Enter the number : '))\n",
    "print(f'The triangular number corresponding to {tn} is : {triangular_number_sequence(tn)}')"
   ]
  },
  {
   "cell_type": "markdown",
   "id": "c68db36d",
   "metadata": {},
   "source": [
    "\n",
    "Question5  \n",
    "Create a function that takes a list of numbers between 1 and 10 (excluding one number) and\n",
    "returns the missing number.  \n",
    "Examples  \n",
    "missing_num([1, 2, 3, 4, 6, 7, 8, 9, 10]) ➞ 5  \n",
    "missing_num([7, 2, 3, 6, 5, 9, 1, 4, 8]) ➞ 10  \n",
    "missing_num([10, 5, 1, 2, 4, 6, 8, 3, 9]) ➞ 7  "
   ]
  },
  {
   "cell_type": "code",
   "execution_count": 5,
   "id": "b42ef0b5",
   "metadata": {},
   "outputs": [
    {
     "name": "stdout",
     "output_type": "stream",
     "text": [
      "Missing number : 7.0\n"
     ]
    }
   ],
   "source": [
    "def missing_number(inlist) :\n",
    "    \"\"\"\n",
    "    This function  list of numbers between 1 and 10 (excluding one number) and returns the missing number.\n",
    "    \"\"\"\n",
    "    inlist = sorted(inlist)\n",
    "    for i in range(0, len(inlist)-1) : \n",
    "        diff = inlist[i+1] - inlist[i]\n",
    "        #print(diff)\n",
    "        if diff!=1 :\n",
    "            missing_num = (inlist[i] + inlist[i+1])/2\n",
    "    \n",
    "    return missing_num\n",
    "    \n",
    "\n",
    "#numlist = [7, 2, 3, 6, 5, 9, 1, 8]\n",
    "numlist = [10, 5, 1, 2, 4, 6, 8, 3, 9]\n",
    "print(f'Missing number : {missing_number(numlist)}')\n",
    "\n",
    "\n",
    "    \n",
    "    "
   ]
  },
  {
   "cell_type": "code",
   "execution_count": null,
   "id": "ded59fdc",
   "metadata": {},
   "outputs": [],
   "source": []
  }
 ],
 "metadata": {
  "kernelspec": {
   "display_name": "Python 3",
   "language": "python",
   "name": "python3"
  },
  "language_info": {
   "codemirror_mode": {
    "name": "ipython",
    "version": 3
   },
   "file_extension": ".py",
   "mimetype": "text/x-python",
   "name": "python",
   "nbconvert_exporter": "python",
   "pygments_lexer": "ipython3",
   "version": "3.8.8"
  }
 },
 "nbformat": 4,
 "nbformat_minor": 5
}
